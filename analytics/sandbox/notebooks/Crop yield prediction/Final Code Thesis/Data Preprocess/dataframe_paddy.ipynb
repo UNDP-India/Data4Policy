{
 "cells": [
  {
   "cell_type": "code",
   "execution_count": 1,
   "metadata": {},
   "outputs": [],
   "source": [
    "# Import packages\n",
    "import geopandas as gpd\n",
    "import numpy as np\n",
    "import pandas as pd\n",
    "import os\n",
    "import re\n",
    "from shapely.geometry import Polygon, MultiPolygon\n",
    "from fuzzywuzzy import process\n",
    "from fuzzywuzzy import fuzz\n",
    "from rasterstats import zonal_stats\n",
    "from osgeo import gdal\n",
    "import rasterio\n",
    "import rasterstats\n",
    "import time\n",
    "sys.path.append(os.path.abspath(\"D:/other_thesis/clean_sheet/codes/functions/\"))\n",
    "import functions_model #import python file containing the functions"
   ]
  },
  {
   "cell_type": "code",
   "execution_count": 2,
   "metadata": {},
   "outputs": [
    {
     "data": {
      "text/plain": [
       "<module 'functions_model' from 'D:\\\\other_thesis\\\\clean_sheet\\\\codes\\\\functions\\\\functions_model.py'>"
      ]
     },
     "execution_count": 2,
     "metadata": {},
     "output_type": "execute_result"
    }
   ],
   "source": [
    "# For updates\n",
    "import importlib\n",
    "importlib.reload(functions_model)"
   ]
  },
  {
   "cell_type": "code",
   "execution_count": 3,
   "metadata": {},
   "outputs": [],
   "source": [
    "# Import files related to yields and insurance units\n",
    "yields = gpd.read_file(r'D:\\other_thesis\\codes_latestversion\\general\\files\\yields_geometry_largestarea.geojson')\n",
    "district_yield = pd.read_excel('D:/Data_download/Other/yield_district/district_yields.xlsx')"
   ]
  },
  {
   "cell_type": "markdown",
   "metadata": {},
   "source": [
    "## PADDY"
   ]
  },
  {
   "cell_type": "code",
   "execution_count": 4,
   "metadata": {},
   "outputs": [],
   "source": [
    "# Create dataframes per season per year such that we can calculate statistics based on this information (e.g. parameter value differs per year, season)\n",
    "yields_paddy_2016_kharif_gp = yields[(yields['Year'] == 2016) & (yields['Season'] == 'Kharif') & (yields['Crop'] == 'paddy') & (yields['Gram Panchayat/Hobli'] == 'gp')] # 2306\n",
    "yields_paddy_2017_kharif_gp = yields[(yields['Year'] == 2017) & (yields['Season'] == 'Kharif') & (yields['Crop'] == 'paddy') & (yields['Gram Panchayat/Hobli'] == 'gp')] # 1956\n",
    "yields_paddy_2018_kharif_gp = yields[(yields['Year'] == 2018) & (yields['Season'] == 'Kharif') & (yields['Crop'] == 'paddy') & (yields['Gram Panchayat/Hobli'] == 'gp')] # 2078"
   ]
  },
  {
   "cell_type": "code",
   "execution_count": 5,
   "metadata": {},
   "outputs": [
    {
     "data": {
      "text/html": [
       "<div>\n",
       "<style scoped>\n",
       "    .dataframe tbody tr th:only-of-type {\n",
       "        vertical-align: middle;\n",
       "    }\n",
       "\n",
       "    .dataframe tbody tr th {\n",
       "        vertical-align: top;\n",
       "    }\n",
       "\n",
       "    .dataframe thead th {\n",
       "        text-align: right;\n",
       "    }\n",
       "</style>\n",
       "<table border=\"1\" class=\"dataframe\">\n",
       "  <thead>\n",
       "    <tr style=\"text-align: right;\">\n",
       "      <th></th>\n",
       "      <th>Year</th>\n",
       "      <th>Season</th>\n",
       "      <th>Insurance Unit</th>\n",
       "      <th>shapeName</th>\n",
       "      <th>Gram Panchayat/Hobli</th>\n",
       "      <th>District</th>\n",
       "      <th>Taluk</th>\n",
       "      <th>Crop</th>\n",
       "      <th>IRR_RF</th>\n",
       "      <th>Average Yield(Kg/Ha)</th>\n",
       "      <th>geometry</th>\n",
       "    </tr>\n",
       "  </thead>\n",
       "  <tbody>\n",
       "    <tr>\n",
       "      <th>160</th>\n",
       "      <td>2016</td>\n",
       "      <td>Kharif</td>\n",
       "      <td>amarapura</td>\n",
       "      <td>amarapura</td>\n",
       "      <td>gp</td>\n",
       "      <td>ballari</td>\n",
       "      <td>ballari</td>\n",
       "      <td>paddy</td>\n",
       "      <td>irr</td>\n",
       "      <td>6157.78</td>\n",
       "      <td>POLYGON ((77.04634 15.15551, 77.04628 15.15518...</td>\n",
       "    </tr>\n",
       "  </tbody>\n",
       "</table>\n",
       "</div>"
      ],
      "text/plain": [
       "     Year  Season Insurance Unit  shapeName Gram Panchayat/Hobli District  \\\n",
       "160  2016  Kharif      amarapura  amarapura                   gp  ballari   \n",
       "\n",
       "       Taluk   Crop IRR_RF  Average Yield(Kg/Ha)  \\\n",
       "160  ballari  paddy    irr               6157.78   \n",
       "\n",
       "                                              geometry  \n",
       "160  POLYGON ((77.04634 15.15551, 77.04628 15.15518...  "
      ]
     },
     "execution_count": 5,
     "metadata": {},
     "output_type": "execute_result"
    }
   ],
   "source": [
    "yields_paddy_2016_kharif_gp.head(1)"
   ]
  },
  {
   "cell_type": "code",
   "execution_count": 6,
   "metadata": {},
   "outputs": [
    {
     "data": {
      "text/plain": [
       "775"
      ]
     },
     "execution_count": 6,
     "metadata": {},
     "output_type": "execute_result"
    }
   ],
   "source": [
    "7115-(2306+1956+2078)"
   ]
  },
  {
   "cell_type": "code",
   "execution_count": 7,
   "metadata": {},
   "outputs": [],
   "source": [
    "# unique_paddy_2016kgp = yields_paddy_2016_kharif_gp.drop_duplicates(subset = ['Year', 'Season', 'Insurance Unit', 'shapeName', 'Gram Panchayat/Hobli', 'District', 'Taluk', 'Crop', 'geometry']) # 2134\n",
    "# unique_paddy_2017kgp = yields_paddy_2017_kharif_gp.drop_duplicates(subset = ['Year', 'Season', 'Insurance Unit', 'shapeName', 'Gram Panchayat/Hobli', 'District', 'Taluk', 'Crop', 'geometry']) # 1792\n",
    "# unique_paddy_2018kgp = yields_paddy_2018_kharif_gp.drop_duplicates(subset = ['Year', 'Season', 'Insurance Unit', 'shapeName', 'Gram Panchayat/Hobli', 'District', 'Taluk', 'Crop', 'geometry']) # 1909"
   ]
  },
  {
   "cell_type": "markdown",
   "metadata": {},
   "source": [
    "# PADDY UNTOUCHED"
   ]
  },
  {
   "cell_type": "code",
   "execution_count": 8,
   "metadata": {},
   "outputs": [],
   "source": [
    "# This cell sets values for the parameters we use for function time_observations within the next cell\n",
    "paths = ['D:/other_thesis/clean_sheet/Data/monthly_images2/NDVI/', 'D:/other_thesis/clean_sheet/Data/monthly_images2/EVI/', 'D:/other_thesis/clean_sheet/Data/monthly_images2/FAPAR/', 'D:/other_thesis/clean_sheet/Data/monthly_images2/LAI/', 'D:/other_thesis/clean_sheet/Data/monthly_images2/SIF/', 'D:/other_thesis/clean_sheet/Data/monthly_images2/SSM/', 'D:/other_thesis/clean_sheet/Data/monthly_images2/SUSM/', 'D:/other_thesis/clean_sheet/Data/monthly_images2/LSTd/', 'D:/other_thesis/clean_sheet/Data/monthly_images2/LSTn/', 'D:/other_thesis/clean_sheet/Data/monthly_images2/PCPN/']\n",
    "methods = [False, False, False, False, True, True, True, False, False, True]\n",
    "statistic = ['median', 'mean', 'percentile_10', 'percentile_90', 'min', 'max']\n",
    "parameters = ['NDVI', 'EVI', 'FAPAR', 'LAI', 'SIF', 'SSM', 'SUSM', 'LSTd', 'LSTn', 'PCPN']"
   ]
  },
  {
   "cell_type": "code",
   "execution_count": 9,
   "metadata": {},
   "outputs": [
    {
     "name": "stdout",
     "output_type": "stream",
     "text": [
      "Parameter NDVI finished.\n",
      "Parameter EVI finished.\n",
      "Parameter FAPAR finished.\n",
      "Parameter LAI finished.\n",
      "Parameter SIF finished.\n",
      "Parameter SSM finished.\n",
      "Parameter SUSM finished.\n",
      "Parameter LSTd finished.\n",
      "Parameter LSTn finished.\n",
      "Parameter PCPN finished.\n"
     ]
    }
   ],
   "source": [
    "df_paddy_2016k = yields_paddy_2016_kharif_gp.copy()\n",
    "df_paddy_2017k = yields_paddy_2017_kharif_gp.copy()\n",
    "df_paddy_2018k = yields_paddy_2018_kharif_gp.copy()\n",
    "for i in range(len(parameters)):\n",
    "       df_paddy_2016k = functions_model.time_observations(df_paddy_2016k, parameters[i], paths[i], statistic, methods[i])\n",
    "       df_paddy_2017k = functions_model.time_observations(df_paddy_2017k, parameters[i], paths[i], statistic, methods[i])\n",
    "       df_paddy_2018k = functions_model.time_observations(df_paddy_2018k, parameters[i], paths[i], statistic, methods[i])\n",
    "       print('Parameter ' + parameters[i] + ' finished.')\n",
    "paddy_kharif = pd.concat([df_paddy_2016k, df_paddy_2017k, df_paddy_2018k], ignore_index=True)\n",
    "# Time: 25 min (maize), 40 min (both),  min (paddy)"
   ]
  },
  {
   "cell_type": "code",
   "execution_count": 10,
   "metadata": {},
   "outputs": [],
   "source": [
    "paddy_kharif = functions_model.soiltype_one(paddy_kharif, 'Soiltype', 'D:/Data_download/Other/Soiltype/soiltype_Karnataka.tif', ['majority'], False) # Add soiltype majority for each observation"
   ]
  },
  {
   "cell_type": "code",
   "execution_count": 11,
   "metadata": {},
   "outputs": [],
   "source": [
    "# Add the district yield(kg/ha) of the previous year to the dataframe\n",
    "paddy_kharif['Previous District Yield(Kg/Ha)'] = np.nan\n",
    "for i in paddy_kharif.index:\n",
    "    paddy_kharif.loc[i,'Previous District Yield(Kg/Ha)'] = float(district_yield[(district_yield['District'] == paddy_kharif.loc[i,'District']) & (district_yield['Crop'] == paddy_kharif.loc[i,'Crop']) & (district_yield['Year'] == paddy_kharif.loc[i,'Year'] - 1) & (district_yield['Season'] == paddy_kharif.loc[i,'Season'])]['Yield(Kg/Ha)'])"
   ]
  },
  {
   "cell_type": "code",
   "execution_count": 12,
   "metadata": {},
   "outputs": [
    {
     "name": "stderr",
     "output_type": "stream",
     "text": [
      "pandas.Int64Index is deprecated and will be removed from pandas in a future version. Use pandas.Index with the appropriate dtype instead.\n"
     ]
    }
   ],
   "source": [
    "paddy_kharif.to_file(r'D:\\other_thesis\\clean_sheet\\files\\df_pre\\paddy_kharif_params_untouched_large2.geojson', driver=\"GeoJSON\")# 6337, 371"
   ]
  },
  {
   "cell_type": "markdown",
   "metadata": {},
   "source": [
    "# PADDY TOUCHED"
   ]
  },
  {
   "cell_type": "code",
   "execution_count": 13,
   "metadata": {},
   "outputs": [],
   "source": [
    "# This cell sets values for the parameters we use for function time_observations within the next cell\n",
    "paths = ['D:/other_thesis/clean_sheet/Data/monthly_images2/NDVI/', 'D:/other_thesis/clean_sheet/Data/monthly_images2/EVI/', 'D:/other_thesis/clean_sheet/Data/monthly_images2/FAPAR/', 'D:/other_thesis/clean_sheet/Data/monthly_images2/LAI/', 'D:/other_thesis/clean_sheet/Data/monthly_images2/SIF/', 'D:/other_thesis/clean_sheet/Data/monthly_images2/SSM/', 'D:/other_thesis/clean_sheet/Data/monthly_images2/SUSM/', 'D:/other_thesis/clean_sheet/Data/monthly_images2/LSTd/', 'D:/other_thesis/clean_sheet/Data/monthly_images2/LSTn/', 'D:/other_thesis/clean_sheet/Data/monthly_images2/PCPN/']\n",
    "methods = [False, False, False, False, True, True, True, True, True, True]\n",
    "statistic = ['median', 'mean', 'percentile_10', 'percentile_90', 'min', 'max']\n",
    "parameters = ['NDVI', 'EVI', 'FAPAR', 'LAI', 'SIF', 'SSM', 'SUSM', 'LSTd', 'LSTn', 'PCPN']"
   ]
  },
  {
   "cell_type": "code",
   "execution_count": 14,
   "metadata": {},
   "outputs": [
    {
     "name": "stdout",
     "output_type": "stream",
     "text": [
      "Parameter NDVI finished.\n",
      "Parameter EVI finished.\n",
      "Parameter FAPAR finished.\n",
      "Parameter LAI finished.\n",
      "Parameter SIF finished.\n",
      "Parameter SSM finished.\n",
      "Parameter SUSM finished.\n",
      "Parameter LSTd finished.\n",
      "Parameter LSTn finished.\n",
      "Parameter PCPN finished.\n"
     ]
    }
   ],
   "source": [
    "df_paddy_2016k_t = yields_paddy_2016_kharif_gp.copy()\n",
    "df_paddy_2017k_t = yields_paddy_2017_kharif_gp.copy()\n",
    "df_paddy_2018k_t = yields_paddy_2018_kharif_gp.copy()\n",
    "for i in range(len(parameters)):\n",
    "       df_paddy_2016k_t = functions_model.time_observations(df_paddy_2016k_t, parameters[i], paths[i], statistic, methods[i])\n",
    "       df_paddy_2017k_t = functions_model.time_observations(df_paddy_2017k_t, parameters[i], paths[i], statistic, methods[i])\n",
    "       df_paddy_2018k_t = functions_model.time_observations(df_paddy_2018k_t, parameters[i], paths[i], statistic, methods[i])\n",
    "       print('Parameter ' + parameters[i] + ' finished.')\n",
    "paddy_kharif_t = pd.concat([df_paddy_2016k_t, df_paddy_2017k_t, df_paddy_2018k_t], ignore_index=True)\n",
    "# Time: 25 min (maize), 40 min (both),  min (paddy)"
   ]
  },
  {
   "cell_type": "code",
   "execution_count": 15,
   "metadata": {},
   "outputs": [],
   "source": [
    "paddy_kharif_t = functions_model.soiltype_one(paddy_kharif_t, 'Soiltype', 'D:/Data_download/Other/Soiltype/soiltype_Karnataka.tif', ['majority'], False) # Add soiltype majority for each observation"
   ]
  },
  {
   "cell_type": "code",
   "execution_count": 16,
   "metadata": {},
   "outputs": [],
   "source": [
    "# Add the district yield(kg/ha) of the previous year to the dataframe\n",
    "paddy_kharif_t['Previous District Yield(Kg/Ha)'] = np.nan\n",
    "for i in paddy_kharif_t.index:\n",
    "    paddy_kharif_t.loc[i,'Previous District Yield(Kg/Ha)'] = float(district_yield[(district_yield['District'] == paddy_kharif_t.loc[i,'District']) & (district_yield['Crop'] == paddy_kharif_t.loc[i,'Crop']) & (district_yield['Year'] == paddy_kharif_t.loc[i,'Year'] - 1) & (district_yield['Season'] == paddy_kharif_t.loc[i,'Season'])]['Yield(Kg/Ha)'])"
   ]
  },
  {
   "cell_type": "code",
   "execution_count": 17,
   "metadata": {},
   "outputs": [
    {
     "name": "stderr",
     "output_type": "stream",
     "text": [
      "pandas.Int64Index is deprecated and will be removed from pandas in a future version. Use pandas.Index with the appropriate dtype instead.\n"
     ]
    }
   ],
   "source": [
    "paddy_kharif_t.to_file(r'D:\\other_thesis\\clean_sheet\\files\\df_pre\\paddy_kharif_params_touched_large2.geojson', driver=\"GeoJSON\")# 6337, 371"
   ]
  }
 ],
 "metadata": {
  "kernelspec": {
   "display_name": "Python 3.10.4 ('thesis_extra')",
   "language": "python",
   "name": "python3"
  },
  "language_info": {
   "codemirror_mode": {
    "name": "ipython",
    "version": 3
   },
   "file_extension": ".py",
   "mimetype": "text/x-python",
   "name": "python",
   "nbconvert_exporter": "python",
   "pygments_lexer": "ipython3",
   "version": "3.10.4"
  },
  "orig_nbformat": 4,
  "vscode": {
   "interpreter": {
    "hash": "81444115bf5134d652cb0934bc3588e9c8f699d324d403bb5d7116b585090fae"
   }
  }
 },
 "nbformat": 4,
 "nbformat_minor": 2
}
