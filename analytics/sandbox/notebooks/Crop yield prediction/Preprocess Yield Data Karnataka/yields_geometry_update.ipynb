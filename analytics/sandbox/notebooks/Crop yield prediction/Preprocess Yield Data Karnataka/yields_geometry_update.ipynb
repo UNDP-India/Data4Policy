{
 "cells": [
  {
   "cell_type": "code",
   "execution_count": 1,
   "metadata": {},
   "outputs": [],
   "source": [
    "# Import packages\n",
    "import geopandas as gpd\n",
    "import numpy as np\n",
    "import pandas as pd\n",
    "import os\n",
    "import re\n",
    "from shapely.geometry import Polygon, MultiPolygon\n",
    "from fuzzywuzzy import process\n",
    "from fuzzywuzzy import fuzz"
   ]
  },
  {
   "cell_type": "code",
   "execution_count": 2,
   "metadata": {},
   "outputs": [],
   "source": [
    "# Create a shapeName column containing the names of each Insurance Unit in lowercase and stripped\n",
    "insurance_names = pd.read_excel(r'C:\\Users\\mieke\\Documents\\Msc Thesis\\Datasets\\Yield data\\Karnataka\\insurance_names.xlsx', index_col = 0)\n",
    "insurance_names['shapeName'] = insurance_names['Insurance Unit'].copy()\n",
    "insurance_names.shapeName = insurance_names.shapeName.str.lower()\n",
    "insurance_names.shapeName = insurance_names.shapeName.str.strip()"
   ]
  },
  {
   "cell_type": "code",
   "execution_count": 3,
   "metadata": {},
   "outputs": [],
   "source": [
    "# Import files related to yields and insurance units\n",
    "yields = pd.read_excel(r'C:\\Users\\mieke\\Documents\\Msc Thesis\\Datasets\\Yield data\\Karnataka\\yields.xlsx', index_col = 0)"
   ]
  },
  {
   "cell_type": "code",
   "execution_count": 4,
   "metadata": {},
   "outputs": [],
   "source": [
    "# Het valt op dat harapanahalli vanaf 2018 bij ballari behoort en daarvoor bij davanagere. Als ik naar de administrative boundaries kijk, dan behoort harapanahalli wel tot ballari en niet tot davanagere\n",
    "# Daarom veranderen we in de yield dataset voor alle datapunten waar Taluk = harapanahalli is gegeven, het district naar Ballari (eerst was dat Davanagere). Op internet lees je dat dit\n",
    "# Taluk deel is van Vijayanagara\n",
    "# Aangezien insurance_names gebasseerd is op yields, moeten we het ook daar aanpassen\n",
    "yields['District'] = np.where(yields['Taluk'] == 'harapanahalli', 'ballari', yields['District'])\n",
    "insurance_names['District'] = np.where(insurance_names['Taluk'] == 'harapanahalli', 'ballari', insurance_names['District'])"
   ]
  },
  {
   "cell_type": "code",
   "execution_count": 5,
   "metadata": {},
   "outputs": [],
   "source": [
    "bound_types = ['gp', 'h'] # Different bound types\n",
    "column_names = ['KGISGPName', 'KGISHobliN'] # Column names containing the name of the Insurance Unit\n",
    "path_types = ['C:/Users/mieke/Documents/Msc Thesis/Datasets/Shapefiles/Karnataka_gp_shp/', 'C:/Users/mieke/Documents/Msc Thesis/Datasets/Shapefiles/Karnataka_h_shp/'] # Different paths\n",
    "#non_indices = [[28, 23, 18, 4], [28, 26, 10]] # District names which do not occur in the yields dataframe (descending order is important) (eg 28:vijayanagara)"
   ]
  },
  {
   "cell_type": "code",
   "execution_count": 6,
   "metadata": {},
   "outputs": [],
   "source": [
    "path = 'C:/Users/mieke/Documents/Msc Thesis/Datasets/Shapefiles/Taluk/Taluk.shp'\n",
    "df_t = gpd.read_file(path)\n",
    "\n",
    "path = 'C:/Users/mieke/Documents/Msc Thesis/Datasets/Shapefiles/District_2016/District_2016.shp'\n",
    "df_d = gpd.read_file(path)\n",
    "df_d['KGISDist_1'] = df_d['KGISDist_1'].str.lower()\n",
    "df_district = df_d[['KGISDistri', 'KGISDist_1', 'geometry']]\n",
    "# Because the district vijayanagara exists since 2020 and was part of ballari in the past, we join these polygons and call the joined polygon ballari\n",
    "# We do this via QGIS: https://freegistutorial.com/how-to-export-layer-to-shapefile-on-qgis/, https://www.igismap.com/merge-two-polygons-points-polyline-shapefile/\n",
    "# We should also make sure that we set 31 (vijayanagara) to 12 (ballari) in the other files"
   ]
  },
  {
   "cell_type": "code",
   "execution_count": 7,
   "metadata": {},
   "outputs": [],
   "source": [
    "## BOUNDARY DATA\n",
    "df_gp = pd.DataFrame() # create empty dataframe\n",
    "df_h = pd.DataFrame() # create empty dataframe\n",
    "\n",
    "# Loop over each of the bound types separately\n",
    "for t in range(len(bound_types)):\n",
    "    path = path_types[t] # Set path\n",
    "    folder_names = os.listdir(path) # contains all foldernames within the folder\n",
    "\n",
    "    district_names = [] # create list to include all unique district names within the bounds geodatframe\n",
    "\n",
    "    # This for loop creates one big geodataframe out of all separate district wise geodataframes\n",
    "    for i in folder_names:\n",
    "        input_shp = gpd.read_file(path + i + '/' + i + '.shp')\n",
    "        district_name = i[3:].lower() # district name as used within the bounds geodataframe\n",
    "        district_names.append(district_name)\n",
    "        input_shp['District'] = district_name\n",
    "        input_shp['KGISDistri'] = i[:2]\n",
    "        if t == 0:\n",
    "            df_gp = pd.concat([df_gp, input_shp], ignore_index=True)\n",
    "        elif t == 1:\n",
    "            df_h = pd.concat([df_h, input_shp], ignore_index=True)"
   ]
  },
  {
   "cell_type": "code",
   "execution_count": 8,
   "metadata": {},
   "outputs": [],
   "source": [
    "# Set Vijayanagara to ballari and, hence, 31 to 12. We merged them and called it ballari\n",
    "df_h['District'] = np.where(df_h['District'] == 'vijayanagara', 'ballari', df_h['District'])\n",
    "df_h['KGISDistri'] = np.where(df_h['KGISDistri'] == '31', '12', df_h['KGISDistri'])\n",
    "df_t['KGISDistri'] = np.where(df_t['KGISDistri'] == '31', '12', df_t['KGISDistri'])\n",
    "df_gp['KGISDistri'] = np.where(df_gp['KGISDistri'] == '31', '12', df_gp['KGISDistri'])\n",
    "df_gp['District'] = np.where(df_gp['District'] == 'vijayanagara', 'ballari', df_gp['District'])"
   ]
  },
  {
   "cell_type": "code",
   "execution_count": 9,
   "metadata": {},
   "outputs": [],
   "source": [
    "# Create dataframe which combines all taluks with its corresponding district\n",
    "taluk_district = df_t.merge(df_district, how = 'left', on = 'KGISDistri')\n",
    "taluk_district = taluk_district[['KGISTalukC', 'KGISTalukN', 'KGISDistri', 'KGISDist_1', 'geometry_x']]\n",
    "taluk_district['KGISTalukN'] = taluk_district['KGISTalukN'].str.lower().drop_duplicates()\n",
    "taluk_district = taluk_district.sort_values(['KGISTalukN', 'KGISDist_1'], ascending = [True, True], ignore_index=True)\n",
    "taluk_district = taluk_district.rename(columns = {'KGISDist_1': 'District', 'geometry_x': 'geometry'})\n",
    "taluk_names = taluk_district['KGISTalukN'] # List of all taluk names"
   ]
  },
  {
   "cell_type": "markdown",
   "metadata": {},
   "source": [
    "We zetten nu in df_grampan, df_hobli, insurance_names en taluk_district dezelfde namen voor de districts en passen alles aan, zodat vijayanagara onder ballari valt."
   ]
  },
  {
   "cell_type": "code",
   "execution_count": 10,
   "metadata": {},
   "outputs": [
    {
     "name": "stderr",
     "output_type": "stream",
     "text": [
      "c:\\Users\\mieke\\anaconda3\\envs\\thesis_base\\lib\\site-packages\\geopandas\\geodataframe.py:1351: SettingWithCopyWarning: \n",
      "A value is trying to be set on a copy of a slice from a DataFrame.\n",
      "Try using .loc[row_indexer,col_indexer] = value instead\n",
      "\n",
      "See the caveats in the documentation: https://pandas.pydata.org/pandas-docs/stable/user_guide/indexing.html#returning-a-view-versus-a-copy\n",
      "  super().__setitem__(key, value)\n",
      "c:\\Users\\mieke\\anaconda3\\envs\\thesis_base\\lib\\site-packages\\geopandas\\geodataframe.py:1351: SettingWithCopyWarning: \n",
      "A value is trying to be set on a copy of a slice from a DataFrame.\n",
      "Try using .loc[row_indexer,col_indexer] = value instead\n",
      "\n",
      "See the caveats in the documentation: https://pandas.pydata.org/pandas-docs/stable/user_guide/indexing.html#returning-a-view-versus-a-copy\n",
      "  super().__setitem__(key, value)\n"
     ]
    }
   ],
   "source": [
    "# Create shapeName column containing the Hobli/Gram Panchayat name in lower case\n",
    "# Create a geodataframe for Hobli/Gram Panchayat with solely the columns of interest\n",
    "\n",
    "df_hobli = df_h[['KGISHobliN', 'KGISTalukC', 'District', 'SHAPE_STAr', 'geometry']]\n",
    "df_hobli['shapeName'] = df_hobli['KGISHobliN'].str.lower()\n",
    "\n",
    "df_grampan = df_gp[['KGISGPName', 'KGISDistri', 'District', 'SHAPE_STAr', 'geometry']]\n",
    "df_grampan['shapeName'] = df_grampan['KGISGPName'].str.lower()\n",
    "df_grampan = df_grampan[~df_grampan['shapeName'].isna()] # drop NaN shapeNames"
   ]
  },
  {
   "cell_type": "code",
   "execution_count": 11,
   "metadata": {},
   "outputs": [
    {
     "name": "stderr",
     "output_type": "stream",
     "text": [
      "c:\\Users\\mieke\\anaconda3\\envs\\thesis_base\\lib\\site-packages\\geopandas\\geodataframe.py:1351: SettingWithCopyWarning: \n",
      "A value is trying to be set on a copy of a slice from a DataFrame.\n",
      "Try using .loc[row_indexer,col_indexer] = value instead\n",
      "\n",
      "See the caveats in the documentation: https://pandas.pydata.org/pandas-docs/stable/user_guide/indexing.html#returning-a-view-versus-a-copy\n",
      "  super().__setitem__(key, value)\n"
     ]
    }
   ],
   "source": [
    "## We would like to set all district names equal to the names used within the taluk_district gdf (containing administrative district names)\n",
    "district_names = taluk_district['District'].unique() # list of all unique district names within the yields dataframe\n",
    "district_names = sorted(district_names) # sort the district names in ascending order\n",
    "\n",
    "## For insurance_names\n",
    "unique_districts = insurance_names['District'].unique() # list of all unique district names within the yields dataframe\n",
    "unique_districts = sorted(unique_districts) # sort the district names in ascending order\n",
    "\n",
    "# Make sure that the district names within the yields dataframe are equal to the spelling of the district names within the bounds geodataframe\n",
    "for i in range(len(unique_districts)):\n",
    "    insurance_names['District'] = np.where(insurance_names['District'] == unique_districts[i], district_names[i], insurance_names['District'])\n",
    "\n",
    "## For yields\n",
    "unique_districts = yields['District'].unique() # list of all unique district names within the yields dataframe\n",
    "unique_districts = sorted(unique_districts) # sort the district names in ascending order\n",
    "\n",
    "# Make sure that the district names within the yields dataframe are equal to the spelling of the district names within the bounds geodataframe\n",
    "for i in range(len(unique_districts)):\n",
    "    yields['District'] = np.where(yields['District'] == unique_districts[i], district_names[i], yields['District'])\n",
    "\n",
    "## For df_hobli\n",
    "unique_districts = df_hobli['District'].unique() # list of all unique district names within the yields dataframe\n",
    "unique_districts = sorted(unique_districts) # sort the district names in ascending order\n",
    "\n",
    "# Make sure that the district names within the yields dataframe are equal to the spelling of the district names within the bounds geodataframe\n",
    "for i in range(len(unique_districts)):\n",
    "    df_hobli['District'] = np.where(df_hobli['District'] == unique_districts[i], district_names[i], df_hobli['District'])\n",
    "\n",
    "\n",
    "## For df_grampan\n",
    "unique_districts = df_grampan['District'].unique() # list of all unique district names within the yields dataframe\n",
    "unique_districts = sorted(unique_districts) # sort the district names in ascending order\n",
    "\n",
    "# Make sure that the district names within the yields dataframe are equal to the spelling of the district names within the bounds geodataframe\n",
    "for i in range(len(unique_districts)):\n",
    "    df_grampan['District'] = np.where(df_grampan['District'] == unique_districts[i], district_names[i], df_grampan['District'])"
   ]
  },
  {
   "cell_type": "code",
   "execution_count": 12,
   "metadata": {},
   "outputs": [
    {
     "data": {
      "text/plain": [
       "235"
      ]
     },
     "execution_count": 12,
     "metadata": {},
     "output_type": "execute_result"
    }
   ],
   "source": [
    "# This cell checks whether each taluk intersects the corresponding district\n",
    "# Note: we also used contains instead of intersects, but this did not give the desired result\n",
    "num_intersects = []\n",
    "for i in taluk_district.index:\n",
    "    polya = np.array(df_district[df_district['KGISDist_1'] == taluk_district.loc[i, 'District']]['geometry'])[0] # District polygon\n",
    "    polyb = np.array(taluk_district[taluk_district['KGISTalukN'] == taluk_district.loc[i, 'KGISTalukN']]['geometry'])[0] # Taluk polygon\n",
    "    num_intersects.append(polya.intersects(polyb))\n",
    "sum(num_intersects) # Counts the number of True"
   ]
  },
  {
   "cell_type": "markdown",
   "metadata": {},
   "source": [
    "We hebben nu de taluk dataset samengevoegd met de district names van 2016. Nu willen we ook dat in beide bestanden dezelfde namen voor de taluks wordt gebruikt. Hiervoor kijken we dus naar insurance_names en taluk_district."
   ]
  },
  {
   "cell_type": "code",
   "execution_count": 13,
   "metadata": {},
   "outputs": [],
   "source": [
    "## We now check whether the same Taluk names are used within the yield and boundary files\n",
    "taluk_yield = insurance_names[['Taluk', 'District']].sort_values(['Taluk', 'District'], ignore_index=True).drop_duplicates()\n",
    "taluk_admin = taluk_district[['KGISTalukN', 'District']].sort_values(['KGISTalukN', 'District'], ignore_index=True).drop_duplicates()\n",
    "\n",
    "taluk_yield['Taluk_name'] = np.nan\n",
    "taluk_yield['Similarity'] = np.nan\n",
    "\n",
    "for i in taluk_yield.index:\n",
    "    indices = []\n",
    "    df_temp = taluk_admin[taluk_admin['District'] == taluk_yield['District'].loc[i]]\n",
    "    for j in df_temp.index:\n",
    "       indices.append(fuzz.token_set_ratio(taluk_yield.loc[i, 'Taluk'],df_temp.loc[j, 'KGISTalukN'])) # in this case, better than sort_ratio\n",
    "    taluk_yield.loc[i,'Taluk_name'] = df_temp.loc[df_temp.index[np.argmax(indices)],'KGISTalukN'] # the shapeName corresponding to the highest similarity bound\n",
    "    taluk_yield.loc[i,'District_name'] = df_temp.loc[df_temp.index[np.argmax(indices)],'District'] # the shapeName corresponding to the highest similarity bound\n",
    "    taluk_yield.loc[i,'Similarity'] = np.max(indices) # the highest similarity found for the current insurance name"
   ]
  },
  {
   "cell_type": "code",
   "execution_count": 14,
   "metadata": {},
   "outputs": [
    {
     "data": {
      "text/html": [
       "<div>\n",
       "<style scoped>\n",
       "    .dataframe tbody tr th:only-of-type {\n",
       "        vertical-align: middle;\n",
       "    }\n",
       "\n",
       "    .dataframe tbody tr th {\n",
       "        vertical-align: top;\n",
       "    }\n",
       "\n",
       "    .dataframe thead th {\n",
       "        text-align: right;\n",
       "    }\n",
       "</style>\n",
       "<table border=\"1\" class=\"dataframe\">\n",
       "  <thead>\n",
       "    <tr style=\"text-align: right;\">\n",
       "      <th></th>\n",
       "      <th>Insurance Unit</th>\n",
       "      <th>Gram Panchayat/Hobli</th>\n",
       "      <th>District</th>\n",
       "      <th>Taluk</th>\n",
       "      <th>shapeName</th>\n",
       "    </tr>\n",
       "  </thead>\n",
       "  <tbody>\n",
       "    <tr>\n",
       "      <th>58</th>\n",
       "      <td>agrahara</td>\n",
       "      <td>gp</td>\n",
       "      <td>ballari</td>\n",
       "      <td>sandur</td>\n",
       "      <td>agrahara</td>\n",
       "    </tr>\n",
       "    <tr>\n",
       "      <th>254</th>\n",
       "      <td>anthapura</td>\n",
       "      <td>gp</td>\n",
       "      <td>ballari</td>\n",
       "      <td>sandur</td>\n",
       "      <td>anthapura</td>\n",
       "    </tr>\n",
       "    <tr>\n",
       "      <th>544</th>\n",
       "      <td>bandri</td>\n",
       "      <td>gp</td>\n",
       "      <td>ballari</td>\n",
       "      <td>sandur</td>\n",
       "      <td>bandri</td>\n",
       "    </tr>\n",
       "    <tr>\n",
       "      <th>824</th>\n",
       "      <td>bhujanganagara</td>\n",
       "      <td>gp</td>\n",
       "      <td>ballari</td>\n",
       "      <td>sandur</td>\n",
       "      <td>bhujanganagara</td>\n",
       "    </tr>\n",
       "    <tr>\n",
       "      <th>911</th>\n",
       "      <td>bommagatta</td>\n",
       "      <td>gp</td>\n",
       "      <td>ballari</td>\n",
       "      <td>sandur</td>\n",
       "      <td>bommagatta</td>\n",
       "    </tr>\n",
       "    <tr>\n",
       "      <th>1160</th>\n",
       "      <td>choranuru</td>\n",
       "      <td>h</td>\n",
       "      <td>ballari</td>\n",
       "      <td>sandur</td>\n",
       "      <td>choranuru</td>\n",
       "    </tr>\n",
       "    <tr>\n",
       "      <th>1161</th>\n",
       "      <td>choranuru</td>\n",
       "      <td>gp</td>\n",
       "      <td>ballari</td>\n",
       "      <td>sandur</td>\n",
       "      <td>choranuru</td>\n",
       "    </tr>\n",
       "    <tr>\n",
       "      <th>1239</th>\n",
       "      <td>devagiri</td>\n",
       "      <td>gp</td>\n",
       "      <td>ballari</td>\n",
       "      <td>sandur</td>\n",
       "      <td>devagiri</td>\n",
       "    </tr>\n",
       "    <tr>\n",
       "      <th>1517</th>\n",
       "      <td>gollalingamanahalli</td>\n",
       "      <td>gp</td>\n",
       "      <td>ballari</td>\n",
       "      <td>sandur</td>\n",
       "      <td>gollalingamanahalli</td>\n",
       "    </tr>\n",
       "    <tr>\n",
       "      <th>1665</th>\n",
       "      <td>h.k.halli</td>\n",
       "      <td>gp</td>\n",
       "      <td>ballari</td>\n",
       "      <td>sandur</td>\n",
       "      <td>h.k.halli</td>\n",
       "    </tr>\n",
       "    <tr>\n",
       "      <th>2666</th>\n",
       "      <td>kalingere</td>\n",
       "      <td>gp</td>\n",
       "      <td>ballari</td>\n",
       "      <td>sandur</td>\n",
       "      <td>kalingere</td>\n",
       "    </tr>\n",
       "    <tr>\n",
       "      <th>3298</th>\n",
       "      <td>krishnanagara</td>\n",
       "      <td>gp</td>\n",
       "      <td>ballari</td>\n",
       "      <td>sandur</td>\n",
       "      <td>krishnanagara</td>\n",
       "    </tr>\n",
       "    <tr>\n",
       "      <th>3899</th>\n",
       "      <td>metriki</td>\n",
       "      <td>gp</td>\n",
       "      <td>ballari</td>\n",
       "      <td>sandur</td>\n",
       "      <td>metriki</td>\n",
       "    </tr>\n",
       "    <tr>\n",
       "      <th>4203</th>\n",
       "      <td>narasingapura</td>\n",
       "      <td>gp</td>\n",
       "      <td>ballari</td>\n",
       "      <td>sandur</td>\n",
       "      <td>narasingapura</td>\n",
       "    </tr>\n",
       "    <tr>\n",
       "      <th>4306</th>\n",
       "      <td>nidugurthi</td>\n",
       "      <td>gp</td>\n",
       "      <td>ballari</td>\n",
       "      <td>sandur</td>\n",
       "      <td>nidugurthi</td>\n",
       "    </tr>\n",
       "    <tr>\n",
       "      <th>4641</th>\n",
       "      <td>sandoor</td>\n",
       "      <td>gp</td>\n",
       "      <td>ballari</td>\n",
       "      <td>sandur</td>\n",
       "      <td>sandoor</td>\n",
       "    </tr>\n",
       "    <tr>\n",
       "      <th>4642</th>\n",
       "      <td>sanduru</td>\n",
       "      <td>h</td>\n",
       "      <td>ballari</td>\n",
       "      <td>sandur</td>\n",
       "      <td>sanduru</td>\n",
       "    </tr>\n",
       "    <tr>\n",
       "      <th>4867</th>\n",
       "      <td>shuseelanagara</td>\n",
       "      <td>gp</td>\n",
       "      <td>ballari</td>\n",
       "      <td>sandur</td>\n",
       "      <td>shuseelanagara</td>\n",
       "    </tr>\n",
       "    <tr>\n",
       "      <th>4963</th>\n",
       "      <td>sovenahalli</td>\n",
       "      <td>gp</td>\n",
       "      <td>ballari</td>\n",
       "      <td>sandur</td>\n",
       "      <td>sovenahalli</td>\n",
       "    </tr>\n",
       "    <tr>\n",
       "      <th>5155</th>\n",
       "      <td>tharanagara</td>\n",
       "      <td>gp</td>\n",
       "      <td>ballari</td>\n",
       "      <td>sandur</td>\n",
       "      <td>tharanagara</td>\n",
       "    </tr>\n",
       "    <tr>\n",
       "      <th>5223</th>\n",
       "      <td>toranagallu</td>\n",
       "      <td>h</td>\n",
       "      <td>ballari</td>\n",
       "      <td>sandur</td>\n",
       "      <td>toranagallu</td>\n",
       "    </tr>\n",
       "    <tr>\n",
       "      <th>5359</th>\n",
       "      <td>vaddu</td>\n",
       "      <td>gp</td>\n",
       "      <td>ballari</td>\n",
       "      <td>sandur</td>\n",
       "      <td>vaddu</td>\n",
       "    </tr>\n",
       "    <tr>\n",
       "      <th>5427</th>\n",
       "      <td>vittalapura</td>\n",
       "      <td>gp</td>\n",
       "      <td>ballari</td>\n",
       "      <td>sandur</td>\n",
       "      <td>vittalapura</td>\n",
       "    </tr>\n",
       "    <tr>\n",
       "      <th>5522</th>\n",
       "      <td>yashwanthnagara</td>\n",
       "      <td>gp</td>\n",
       "      <td>ballari</td>\n",
       "      <td>sandur</td>\n",
       "      <td>yashwanthnagara</td>\n",
       "    </tr>\n",
       "  </tbody>\n",
       "</table>\n",
       "</div>"
      ],
      "text/plain": [
       "           Insurance Unit Gram Panchayat/Hobli District   Taluk  \\\n",
       "58               agrahara                   gp  ballari  sandur   \n",
       "254             anthapura                   gp  ballari  sandur   \n",
       "544                bandri                   gp  ballari  sandur   \n",
       "824        bhujanganagara                   gp  ballari  sandur   \n",
       "911            bommagatta                   gp  ballari  sandur   \n",
       "1160            choranuru                    h  ballari  sandur   \n",
       "1161            choranuru                   gp  ballari  sandur   \n",
       "1239             devagiri                   gp  ballari  sandur   \n",
       "1517  gollalingamanahalli                   gp  ballari  sandur   \n",
       "1665            h.k.halli                   gp  ballari  sandur   \n",
       "2666            kalingere                   gp  ballari  sandur   \n",
       "3298        krishnanagara                   gp  ballari  sandur   \n",
       "3899              metriki                   gp  ballari  sandur   \n",
       "4203        narasingapura                   gp  ballari  sandur   \n",
       "4306           nidugurthi                   gp  ballari  sandur   \n",
       "4641              sandoor                   gp  ballari  sandur   \n",
       "4642              sanduru                    h  ballari  sandur   \n",
       "4867       shuseelanagara                   gp  ballari  sandur   \n",
       "4963          sovenahalli                   gp  ballari  sandur   \n",
       "5155          tharanagara                   gp  ballari  sandur   \n",
       "5223          toranagallu                    h  ballari  sandur   \n",
       "5359                vaddu                   gp  ballari  sandur   \n",
       "5427          vittalapura                   gp  ballari  sandur   \n",
       "5522      yashwanthnagara                   gp  ballari  sandur   \n",
       "\n",
       "                shapeName  \n",
       "58               agrahara  \n",
       "254             anthapura  \n",
       "544                bandri  \n",
       "824        bhujanganagara  \n",
       "911            bommagatta  \n",
       "1160            choranuru  \n",
       "1161            choranuru  \n",
       "1239             devagiri  \n",
       "1517  gollalingamanahalli  \n",
       "1665            h.k.halli  \n",
       "2666            kalingere  \n",
       "3298        krishnanagara  \n",
       "3899              metriki  \n",
       "4203        narasingapura  \n",
       "4306           nidugurthi  \n",
       "4641              sandoor  \n",
       "4642              sanduru  \n",
       "4867       shuseelanagara  \n",
       "4963          sovenahalli  \n",
       "5155          tharanagara  \n",
       "5223          toranagallu  \n",
       "5359                vaddu  \n",
       "5427          vittalapura  \n",
       "5522      yashwanthnagara  "
      ]
     },
     "execution_count": 14,
     "metadata": {},
     "output_type": "execute_result"
    }
   ],
   "source": [
    "## This cell checks the datapoints for which the taluk names from the yield data are not exactly equal to the matched taluk names within the administrative boundary files  \n",
    "to_check = taluk_yield[taluk_yield['Taluk'] != taluk_yield['Taluk_name']]\n",
    "\n",
    "## The taluks are maybe not correctly matched are: hanur (64), hubballi (80), kalaburgi (95), kalaburgi north (96), sandur (156) \n",
    "# We use the following website to check which match is correct/most plausible\n",
    "# https://karnataka.gov.in/district/en\n",
    "# Besides, we also checked taluk_names to see whether a taluk name within another district is very much alike the taluk name of interest\n",
    "\n",
    "# hanur (64/1897):\n",
    "taluk_district[taluk_district['District'] == 'chamarajanagara']\n",
    "insurance_names[insurance_names['Taluk'] == 'hanur']\n",
    "# The match does not need to change: hanur == kollegala(hanur) 100% sure\n",
    "\n",
    "# # hubballi (80/2398) (nagara means city)\n",
    "taluk_district[taluk_district['District'] == 'dharwad']\n",
    "insurance_names[insurance_names['Taluk'] == 'hubballi']\n",
    "# # The match needs to change: hubballi == hubli 100% sure\n",
    "# https://en.wikipedia.org/wiki/Hubli_Taluk\n",
    "taluk_yield.loc[2398, 'Taluk_name'] = 'hubli'\n",
    "\n",
    "# # kalaburgi (95/2878)\n",
    "taluk_district[taluk_district['District'] == 'kalburgi']\n",
    "insurance_names[insurance_names['Taluk'] == 'kalaburgi']\n",
    "# # The match needs to change: kalaburgi == gulbarga 100% sure\n",
    "# https://vlist.in/sub-district/05582.html\n",
    "taluk_yield.loc[2878, 'Taluk_name'] = 'gulbarga'\n",
    "\n",
    "# # kalaburgi north (96/2919)\n",
    "taluk_district[taluk_district['District'] == 'kalburgi']\n",
    "insurance_names[insurance_names['Taluk'] == 'kalaburgi north']\n",
    "# # The match needs to change: kalaburgi north == kamalapura 100% sure\n",
    "taluk_yield.loc[2919, 'Taluk_name'] = 'kamalapura'\n",
    "\n",
    "# # sandur (156/4487)\n",
    "taluk_district[taluk_district['District'] == 'ballari']\n",
    "insurance_names[insurance_names['Taluk'] == 'sandur']\n",
    "# # The match does not need to change: sandur == sonduru 100% sure"
   ]
  },
  {
   "cell_type": "code",
   "execution_count": 15,
   "metadata": {},
   "outputs": [
    {
     "name": "stdout",
     "output_type": "stream",
     "text": [
      "195\n",
      "194\n"
     ]
    },
    {
     "data": {
      "text/html": [
       "<div>\n",
       "<style scoped>\n",
       "    .dataframe tbody tr th:only-of-type {\n",
       "        vertical-align: middle;\n",
       "    }\n",
       "\n",
       "    .dataframe tbody tr th {\n",
       "        vertical-align: top;\n",
       "    }\n",
       "\n",
       "    .dataframe thead th {\n",
       "        text-align: right;\n",
       "    }\n",
       "</style>\n",
       "<table border=\"1\" class=\"dataframe\">\n",
       "  <thead>\n",
       "    <tr style=\"text-align: right;\">\n",
       "      <th></th>\n",
       "      <th>Taluk</th>\n",
       "      <th>District</th>\n",
       "      <th>Taluk_name</th>\n",
       "      <th>Similarity</th>\n",
       "      <th>District_name</th>\n",
       "    </tr>\n",
       "  </thead>\n",
       "  <tbody>\n",
       "    <tr>\n",
       "      <th>2919</th>\n",
       "      <td>kalaburgi north</td>\n",
       "      <td>kalburgi</td>\n",
       "      <td>kamalapura</td>\n",
       "      <td>57.0</td>\n",
       "      <td>kalburgi</td>\n",
       "    </tr>\n",
       "    <tr>\n",
       "      <th>2954</th>\n",
       "      <td>kamalapura</td>\n",
       "      <td>kalburgi</td>\n",
       "      <td>kamalapura</td>\n",
       "      <td>100.0</td>\n",
       "      <td>kalburgi</td>\n",
       "    </tr>\n",
       "  </tbody>\n",
       "</table>\n",
       "</div>"
      ],
      "text/plain": [
       "                Taluk  District  Taluk_name  Similarity District_name\n",
       "2919  kalaburgi north  kalburgi  kamalapura        57.0      kalburgi\n",
       "2954       kamalapura  kalburgi  kamalapura       100.0      kalburgi"
      ]
     },
     "execution_count": 15,
     "metadata": {},
     "output_type": "execute_result"
    }
   ],
   "source": [
    "## Now, also check whether each polygon is used for just one taluk\n",
    "print(np.size(taluk_yield,0))\n",
    "print(np.size(taluk_yield[['Taluk_name', 'District']].drop_duplicates(),0))\n",
    "taluk_yield[taluk_yield[['Taluk_name', 'District']].duplicated(keep=False)]\n",
    "# This shows that we use one taluk name more than once: kamalapura. This Taluk name is used for kalaburgi north and kamalapura. \n",
    "# However, after studying the yield dataset, this seems as a valid choice \n",
    "\n",
    "#yields[(yields['Taluk'] == 'kamalapura')]\n",
    "#yields[(yields['Taluk'] == 'kalaburgi north')]"
   ]
  },
  {
   "cell_type": "code",
   "execution_count": 16,
   "metadata": {},
   "outputs": [],
   "source": [
    "# Hence, we now know which taluk name within the administrative boundary files corresponds to the taluk name within the yield data. \n",
    "# For ease, we replace the taluk names within the yield file with the taluk names within the administrative boundary files.\n",
    "for i in taluk_yield.index:\n",
    "    yields['Taluk'] = np.where(yields['Taluk'] == taluk_yield.loc[i, 'Taluk'], taluk_yield.loc[i, 'Taluk_name'], yields['Taluk'])\n",
    "    insurance_names['Taluk'] = np.where(insurance_names['Taluk'] == taluk_yield.loc[i, 'Taluk'], taluk_yield.loc[i, 'Taluk_name'], insurance_names['Taluk'])\n"
   ]
  },
  {
   "cell_type": "markdown",
   "metadata": {},
   "source": [
    "We hebben nu de taluk dataset samengevoegd met de district names van 2016. Nu willen we de hobli's en gram panchayat's koppelen aan de taluks. We beginnen hierbij met de hobli's."
   ]
  },
  {
   "cell_type": "code",
   "execution_count": 17,
   "metadata": {},
   "outputs": [],
   "source": [
    "# Note that for the hobli level the corresponding taluk names are given\n",
    "df_hobli_taluk = df_hobli.merge(taluk_district, how = 'left', on = ['KGISTalukC'])\n",
    "df_hobli_taluk = df_hobli_taluk[['KGISHobliN', 'shapeName', 'KGISTalukC', 'KGISTalukN', 'KGISDistri', 'District_x', 'SHAPE_STAr', 'geometry_x']]\n",
    "df_hobli_taluk = df_hobli_taluk.rename(columns = {'District_x': 'District', 'geometry_x': 'geometry'})"
   ]
  },
  {
   "cell_type": "code",
   "execution_count": 18,
   "metadata": {},
   "outputs": [
    {
     "name": "stdout",
     "output_type": "stream",
     "text": [
      "epsg:32643\n",
      "epsg:32643\n",
      "epsg:32643\n"
     ]
    },
    {
     "name": "stderr",
     "output_type": "stream",
     "text": [
      "c:\\Users\\mieke\\anaconda3\\envs\\thesis_base\\lib\\site-packages\\pyproj\\crs\\crs.py:130: FutureWarning: '+init=<authority>:<code>' syntax is deprecated. '<authority>:<code>' is the preferred initialization method. When making the change, be mindful of axis order changes: https://pyproj4.github.io/pyproj/stable/gotchas.html#axis-order-changes-in-proj-6\n",
      "  in_crs_string = _prepare_from_proj_string(in_crs_string)\n"
     ]
    }
   ],
   "source": [
    "print(df_t.crs) # epsg:32643\n",
    "print(df_h.crs) # epsg:32643\n",
    "print(df_gp.crs) # epsg:32643\n",
    "\n",
    "# Transform the geometry and yields_geometry dataframes to geodataframes\n",
    "# Then, save the geometry and yields_geometry geodataframes\n",
    "taluk_district = gpd.GeoDataFrame(taluk_district, geometry = taluk_district.geometry, crs = {'init': 'epsg:32643'}) # 32643 is the original crs (found by using .crs for one of the input shp files)\n",
    "#taluk_district.geometry = taluk_district.geometry.to_crs(epsg = 4326) # Set crs to 4326"
   ]
  },
  {
   "cell_type": "markdown",
   "metadata": {},
   "source": [
    "### HIER ZIJN WE GESTOPT MET OPNIEUW RUNNEN VOOR 'SHAPE_STAr'"
   ]
  },
  {
   "cell_type": "code",
   "execution_count": 19,
   "metadata": {},
   "outputs": [
    {
     "ename": "KeyboardInterrupt",
     "evalue": "",
     "output_type": "error",
     "traceback": [
      "\u001b[1;31m---------------------------------------------------------------------------\u001b[0m",
      "\u001b[1;31mKeyboardInterrupt\u001b[0m                         Traceback (most recent call last)",
      "\u001b[1;32mc:\\Users\\mieke\\Documents\\Msc Thesis\\Notebooks Python\\structural.ipynb Cell 23\u001b[0m in \u001b[0;36m<cell line: 5>\u001b[1;34m()\u001b[0m\n\u001b[0;32m      <a href='vscode-notebook-cell:/c%3A/Users/mieke/Documents/Msc%20Thesis/Notebooks%20Python/structural.ipynb#X31sZmlsZQ%3D%3D?line=3'>4</a>\u001b[0m gpd_join_temp1 \u001b[39m=\u001b[39m gpd_join_temp1\n\u001b[0;32m      <a href='vscode-notebook-cell:/c%3A/Users/mieke/Documents/Msc%20Thesis/Notebooks%20Python/structural.ipynb#X31sZmlsZQ%3D%3D?line=4'>5</a>\u001b[0m \u001b[39mfor\u001b[39;00m i \u001b[39min\u001b[39;00m gpd_join_temp1\u001b[39m.\u001b[39mindex:\n\u001b[1;32m----> <a href='vscode-notebook-cell:/c%3A/Users/mieke/Documents/Msc%20Thesis/Notebooks%20Python/structural.ipynb#X31sZmlsZQ%3D%3D?line=5'>6</a>\u001b[0m     p \u001b[39m=\u001b[39m np\u001b[39m.\u001b[39marray(gpd_join_temp1[(gpd_join_temp1[\u001b[39m'\u001b[39;49m\u001b[39mgeometry\u001b[39;49m\u001b[39m'\u001b[39;49m] \u001b[39m==\u001b[39;49m gpd_join_temp1\u001b[39m.\u001b[39;49mloc[i, \u001b[39m'\u001b[39;49m\u001b[39mgeometry\u001b[39;49m\u001b[39m'\u001b[39;49m])][\u001b[39m'\u001b[39m\u001b[39mgeometry\u001b[39m\u001b[39m'\u001b[39m])[\u001b[39m0\u001b[39m]\n\u001b[0;32m      <a href='vscode-notebook-cell:/c%3A/Users/mieke/Documents/Msc%20Thesis/Notebooks%20Python/structural.ipynb#X31sZmlsZQ%3D%3D?line=6'>7</a>\u001b[0m     q \u001b[39m=\u001b[39m np\u001b[39m.\u001b[39marray(taluk_district[(taluk_district[\u001b[39m'\u001b[39m\u001b[39mDistrict\u001b[39m\u001b[39m'\u001b[39m] \u001b[39m==\u001b[39m gpd_join_temp1\u001b[39m.\u001b[39mloc[i, \u001b[39m'\u001b[39m\u001b[39mDistrict_left\u001b[39m\u001b[39m'\u001b[39m]) \u001b[39m&\u001b[39m (taluk_district[\u001b[39m'\u001b[39m\u001b[39mKGISTalukN\u001b[39m\u001b[39m'\u001b[39m] \u001b[39m==\u001b[39m gpd_join_temp1\u001b[39m.\u001b[39mloc[i, \u001b[39m'\u001b[39m\u001b[39mKGISTalukN\u001b[39m\u001b[39m'\u001b[39m])][\u001b[39m'\u001b[39m\u001b[39mgeometry\u001b[39m\u001b[39m'\u001b[39m])[\u001b[39m0\u001b[39m]\n\u001b[0;32m      <a href='vscode-notebook-cell:/c%3A/Users/mieke/Documents/Msc%20Thesis/Notebooks%20Python/structural.ipynb#X31sZmlsZQ%3D%3D?line=7'>8</a>\u001b[0m     gpd_join_temp1\u001b[39m.\u001b[39mloc[i, \u001b[39m'\u001b[39m\u001b[39marea\u001b[39m\u001b[39m'\u001b[39m] \u001b[39m=\u001b[39m p\u001b[39m.\u001b[39mintersection(q)\u001b[39m.\u001b[39marea\n",
      "File \u001b[1;32mc:\\Users\\mieke\\anaconda3\\envs\\thesis_base\\lib\\site-packages\\pandas\\core\\ops\\common.py:70\u001b[0m, in \u001b[0;36m_unpack_zerodim_and_defer.<locals>.new_method\u001b[1;34m(self, other)\u001b[0m\n\u001b[0;32m     66\u001b[0m             \u001b[39mreturn\u001b[39;00m \u001b[39mNotImplemented\u001b[39m\n\u001b[0;32m     68\u001b[0m other \u001b[39m=\u001b[39m item_from_zerodim(other)\n\u001b[1;32m---> 70\u001b[0m \u001b[39mreturn\u001b[39;00m method(\u001b[39mself\u001b[39;49m, other)\n",
      "File \u001b[1;32mc:\\Users\\mieke\\anaconda3\\envs\\thesis_base\\lib\\site-packages\\pandas\\core\\arraylike.py:40\u001b[0m, in \u001b[0;36mOpsMixin.__eq__\u001b[1;34m(self, other)\u001b[0m\n\u001b[0;32m     38\u001b[0m \u001b[39m@unpack_zerodim_and_defer\u001b[39m(\u001b[39m\"\u001b[39m\u001b[39m__eq__\u001b[39m\u001b[39m\"\u001b[39m)\n\u001b[0;32m     39\u001b[0m \u001b[39mdef\u001b[39;00m \u001b[39m__eq__\u001b[39m(\u001b[39mself\u001b[39m, other):\n\u001b[1;32m---> 40\u001b[0m     \u001b[39mreturn\u001b[39;00m \u001b[39mself\u001b[39;49m\u001b[39m.\u001b[39;49m_cmp_method(other, operator\u001b[39m.\u001b[39;49meq)\n",
      "File \u001b[1;32mc:\\Users\\mieke\\anaconda3\\envs\\thesis_base\\lib\\site-packages\\pandas\\core\\series.py:5623\u001b[0m, in \u001b[0;36mSeries._cmp_method\u001b[1;34m(self, other, op)\u001b[0m\n\u001b[0;32m   5620\u001b[0m rvalues \u001b[39m=\u001b[39m extract_array(other, extract_numpy\u001b[39m=\u001b[39m\u001b[39mTrue\u001b[39;00m, extract_range\u001b[39m=\u001b[39m\u001b[39mTrue\u001b[39;00m)\n\u001b[0;32m   5622\u001b[0m \u001b[39mwith\u001b[39;00m np\u001b[39m.\u001b[39merrstate(\u001b[39mall\u001b[39m\u001b[39m=\u001b[39m\u001b[39m\"\u001b[39m\u001b[39mignore\u001b[39m\u001b[39m\"\u001b[39m):\n\u001b[1;32m-> 5623\u001b[0m     res_values \u001b[39m=\u001b[39m ops\u001b[39m.\u001b[39;49mcomparison_op(lvalues, rvalues, op)\n\u001b[0;32m   5625\u001b[0m \u001b[39mreturn\u001b[39;00m \u001b[39mself\u001b[39m\u001b[39m.\u001b[39m_construct_result(res_values, name\u001b[39m=\u001b[39mres_name)\n",
      "File \u001b[1;32mc:\\Users\\mieke\\anaconda3\\envs\\thesis_base\\lib\\site-packages\\pandas\\core\\ops\\array_ops.py:269\u001b[0m, in \u001b[0;36mcomparison_op\u001b[1;34m(left, right, op)\u001b[0m\n\u001b[0;32m    260\u001b[0m         \u001b[39mraise\u001b[39;00m \u001b[39mValueError\u001b[39;00m(\n\u001b[0;32m    261\u001b[0m             \u001b[39m\"\u001b[39m\u001b[39mLengths must match to compare\u001b[39m\u001b[39m\"\u001b[39m, lvalues\u001b[39m.\u001b[39mshape, rvalues\u001b[39m.\u001b[39mshape\n\u001b[0;32m    262\u001b[0m         )\n\u001b[0;32m    264\u001b[0m \u001b[39mif\u001b[39;00m should_extension_dispatch(lvalues, rvalues) \u001b[39mor\u001b[39;00m (\n\u001b[0;32m    265\u001b[0m     (\u001b[39misinstance\u001b[39m(rvalues, (Timedelta, BaseOffset, Timestamp)) \u001b[39mor\u001b[39;00m right \u001b[39mis\u001b[39;00m NaT)\n\u001b[0;32m    266\u001b[0m     \u001b[39mand\u001b[39;00m \u001b[39mnot\u001b[39;00m is_object_dtype(lvalues\u001b[39m.\u001b[39mdtype)\n\u001b[0;32m    267\u001b[0m ):\n\u001b[0;32m    268\u001b[0m     \u001b[39m# Call the method on lvalues\u001b[39;00m\n\u001b[1;32m--> 269\u001b[0m     res_values \u001b[39m=\u001b[39m op(lvalues, rvalues)\n\u001b[0;32m    271\u001b[0m \u001b[39melif\u001b[39;00m is_scalar(rvalues) \u001b[39mand\u001b[39;00m isna(rvalues):  \u001b[39m# TODO: but not pd.NA?\u001b[39;00m\n\u001b[0;32m    272\u001b[0m     \u001b[39m# numpy does not like comparisons vs None\u001b[39;00m\n\u001b[0;32m    273\u001b[0m     \u001b[39mif\u001b[39;00m op \u001b[39mis\u001b[39;00m operator\u001b[39m.\u001b[39mne:\n",
      "File \u001b[1;32mc:\\Users\\mieke\\anaconda3\\envs\\thesis_base\\lib\\site-packages\\geopandas\\array.py:1354\u001b[0m, in \u001b[0;36mGeometryArray.__eq__\u001b[1;34m(self, other)\u001b[0m\n\u001b[0;32m   1353\u001b[0m \u001b[39mdef\u001b[39;00m \u001b[39m__eq__\u001b[39m(\u001b[39mself\u001b[39m, other):\n\u001b[1;32m-> 1354\u001b[0m     \u001b[39mreturn\u001b[39;00m \u001b[39mself\u001b[39;49m\u001b[39m.\u001b[39;49m_binop(other, operator\u001b[39m.\u001b[39;49meq)\n",
      "File \u001b[1;32mc:\\Users\\mieke\\anaconda3\\envs\\thesis_base\\lib\\site-packages\\geopandas\\array.py:1348\u001b[0m, in \u001b[0;36mGeometryArray._binop\u001b[1;34m(self, other, op)\u001b[0m\n\u001b[0;32m   1344\u001b[0m     \u001b[39mraise\u001b[39;00m \u001b[39mValueError\u001b[39;00m(\u001b[39m\"\u001b[39m\u001b[39mLengths must match to compare\u001b[39m\u001b[39m\"\u001b[39m)\n\u001b[0;32m   1346\u001b[0m \u001b[39m# If the operator is not defined for the underlying objects,\u001b[39;00m\n\u001b[0;32m   1347\u001b[0m \u001b[39m# a TypeError should be raised\u001b[39;00m\n\u001b[1;32m-> 1348\u001b[0m res \u001b[39m=\u001b[39m [op(a, b) \u001b[39mfor\u001b[39;00m (a, b) \u001b[39min\u001b[39;00m \u001b[39mzip\u001b[39m(lvalues, rvalues)]\n\u001b[0;32m   1350\u001b[0m res \u001b[39m=\u001b[39m np\u001b[39m.\u001b[39masarray(res, dtype\u001b[39m=\u001b[39m\u001b[39mbool\u001b[39m)\n\u001b[0;32m   1351\u001b[0m \u001b[39mreturn\u001b[39;00m res\n",
      "File \u001b[1;32mc:\\Users\\mieke\\anaconda3\\envs\\thesis_base\\lib\\site-packages\\geopandas\\array.py:1348\u001b[0m, in \u001b[0;36m<listcomp>\u001b[1;34m(.0)\u001b[0m\n\u001b[0;32m   1344\u001b[0m     \u001b[39mraise\u001b[39;00m \u001b[39mValueError\u001b[39;00m(\u001b[39m\"\u001b[39m\u001b[39mLengths must match to compare\u001b[39m\u001b[39m\"\u001b[39m)\n\u001b[0;32m   1346\u001b[0m \u001b[39m# If the operator is not defined for the underlying objects,\u001b[39;00m\n\u001b[0;32m   1347\u001b[0m \u001b[39m# a TypeError should be raised\u001b[39;00m\n\u001b[1;32m-> 1348\u001b[0m res \u001b[39m=\u001b[39m [op(a, b) \u001b[39mfor\u001b[39;00m (a, b) \u001b[39min\u001b[39;00m \u001b[39mzip\u001b[39m(lvalues, rvalues)]\n\u001b[0;32m   1350\u001b[0m res \u001b[39m=\u001b[39m np\u001b[39m.\u001b[39masarray(res, dtype\u001b[39m=\u001b[39m\u001b[39mbool\u001b[39m)\n\u001b[0;32m   1351\u001b[0m \u001b[39mreturn\u001b[39;00m res\n",
      "File \u001b[1;32mc:\\Users\\mieke\\anaconda3\\envs\\thesis_base\\lib\\site-packages\\shapely\\geometry\\polygon.py:302\u001b[0m, in \u001b[0;36mPolygon.__eq__\u001b[1;34m(self, other)\u001b[0m\n\u001b[0;32m    296\u001b[0m     \u001b[39mreturn\u001b[39;00m \u001b[39mFalse\u001b[39;00m\n\u001b[0;32m    297\u001b[0m my_coords \u001b[39m=\u001b[39m [\n\u001b[0;32m    298\u001b[0m     \u001b[39mtuple\u001b[39m(\u001b[39mself\u001b[39m\u001b[39m.\u001b[39mexterior\u001b[39m.\u001b[39mcoords),\n\u001b[0;32m    299\u001b[0m     [\u001b[39mtuple\u001b[39m(interior\u001b[39m.\u001b[39mcoords) \u001b[39mfor\u001b[39;00m interior \u001b[39min\u001b[39;00m \u001b[39mself\u001b[39m\u001b[39m.\u001b[39minteriors]\n\u001b[0;32m    300\u001b[0m ]\n\u001b[0;32m    301\u001b[0m other_coords \u001b[39m=\u001b[39m [\n\u001b[1;32m--> 302\u001b[0m     \u001b[39mtuple\u001b[39m(other\u001b[39m.\u001b[39;49mexterior\u001b[39m.\u001b[39mcoords),\n\u001b[0;32m    303\u001b[0m     [\u001b[39mtuple\u001b[39m(interior\u001b[39m.\u001b[39mcoords) \u001b[39mfor\u001b[39;00m interior \u001b[39min\u001b[39;00m other\u001b[39m.\u001b[39minteriors]\n\u001b[0;32m    304\u001b[0m ]\n\u001b[0;32m    305\u001b[0m \u001b[39mreturn\u001b[39;00m my_coords \u001b[39m==\u001b[39m other_coords\n",
      "File \u001b[1;32mc:\\Users\\mieke\\anaconda3\\envs\\thesis_base\\lib\\site-packages\\shapely\\geometry\\polygon.py:274\u001b[0m, in \u001b[0;36mPolygon.exterior\u001b[1;34m(self)\u001b[0m\n\u001b[0;32m    272\u001b[0m     \u001b[39mreturn\u001b[39;00m LinearRing()\n\u001b[0;32m    273\u001b[0m \u001b[39melif\u001b[39;00m \u001b[39mself\u001b[39m\u001b[39m.\u001b[39m_exterior \u001b[39mis\u001b[39;00m \u001b[39mNone\u001b[39;00m \u001b[39mor\u001b[39;00m \u001b[39mself\u001b[39m\u001b[39m.\u001b[39m_exterior() \u001b[39mis\u001b[39;00m \u001b[39mNone\u001b[39;00m:\n\u001b[1;32m--> 274\u001b[0m     g \u001b[39m=\u001b[39m lgeos\u001b[39m.\u001b[39;49mGEOSGetExteriorRing(\u001b[39mself\u001b[39;49m\u001b[39m.\u001b[39;49m_geom)\n\u001b[0;32m    275\u001b[0m     ring \u001b[39m=\u001b[39m LinearRing()\n\u001b[0;32m    276\u001b[0m     ring\u001b[39m.\u001b[39m_set_geom(g)\n",
      "\u001b[1;31mKeyboardInterrupt\u001b[0m: "
     ]
    }
   ],
   "source": [
    "gpd_join_temp = gpd.sjoin(df_grampan, taluk_district, how='left', predicate='intersects') # 12189\n",
    "gpd_join_temp1 = gpd_join_temp[gpd_join_temp['District_left'] == gpd_join_temp['District_right']].reset_index() # 10255\n",
    "gpd_join_temp1['area'] = np.nan\n",
    "gpd_join_temp1 = gpd_join_temp1\n",
    "for i in gpd_join_temp1.index:\n",
    "    p = np.array(gpd_join_temp1[(gpd_join_temp1['geometry'] == gpd_join_temp1.loc[i, 'geometry'])]['geometry'])[0]\n",
    "    q = np.array(taluk_district[(taluk_district['District'] == gpd_join_temp1.loc[i, 'District_left']) & (taluk_district['KGISTalukN'] == gpd_join_temp1.loc[i, 'KGISTalukN'])]['geometry'])[0]\n",
    "    gpd_join_temp1.loc[i, 'area'] = p.intersection(q).area\n",
    "gpd_join_temp1a = gpd_join_temp1.sort_values(['index', 'area'], ascending = [True, False]) # sort values\n",
    "gpd_join_temp2 = gpd_join_temp1a.drop_duplicates(subset = 'index', keep = 'first') # only keep the combination for which the intersected area is largest"
   ]
  },
  {
   "cell_type": "code",
   "execution_count": 20,
   "metadata": {},
   "outputs": [
    {
     "name": "stderr",
     "output_type": "stream",
     "text": [
      "c:\\Users\\mieke\\anaconda3\\envs\\thesis_base\\lib\\site-packages\\geopandas\\io\\file.py:362: FutureWarning: pandas.Int64Index is deprecated and will be removed from pandas in a future version. Use pandas.Index with the appropriate dtype instead.\n",
      "  pd.Int64Index,\n"
     ]
    }
   ],
   "source": [
    "gpd_join_temp1.to_file(r'C:\\Users\\mieke\\Documents\\Msc Thesis\\Notebooks Python\\gpd_join_temp1.geojson', driver=\"GeoJSON\") # Save the derived datframe as it takes a long time to run"
   ]
  },
  {
   "cell_type": "code",
   "execution_count": 24,
   "metadata": {},
   "outputs": [],
   "source": [
    "## RUN THIS CELL IF YOU WOULD NOT LIKE TO RECREATE THIS EXTENSIVE DATAFRAME AGAIN\n",
    "gpd_join_temp1 = gpd.read_file(r'C:\\Users\\mieke\\Documents\\Msc Thesis\\Notebooks Python\\gpd_join_temp1.geojson')\n",
    "gpd_join_temp1a = gpd_join_temp1.sort_values(['index', 'area'], ascending = [True, False]) # sort values\n",
    "gpd_join_temp2 = gpd_join_temp1a.drop_duplicates(subset = 'index', keep = 'first') # only keep the combination for which the intersected area is largest\n"
   ]
  },
  {
   "cell_type": "code",
   "execution_count": 25,
   "metadata": {},
   "outputs": [],
   "source": [
    "# We select the columns of interest from the derived geodataframe\n",
    "df_grampan_taluk = gpd_join_temp2[['KGISGPName', 'shapeName', 'KGISTalukC', 'KGISTalukN', 'KGISDistri_left', 'District_left', 'SHAPE_STAr', 'geometry']]\n",
    "df_grampan_taluk = df_grampan_taluk.rename(columns = {'KGISDistri_left': 'KGISDistri', 'District_left': 'District'})"
   ]
  },
  {
   "cell_type": "code",
   "execution_count": 26,
   "metadata": {},
   "outputs": [],
   "source": [
    "# Next, we drop all duplicates for which we have multiple polygons with equal Insurance Unit name, taluk name and district name. We keep the polygon with the largest area.\n",
    "df_hobli_taluk = df_hobli_taluk.sort_values(['shapeName', 'KGISTalukN', 'District', 'SHAPE_STAr'], ascending = [True, True, True, False], ignore_index = True)\n",
    "df_hobli_taluk_sel = df_hobli_taluk.drop_duplicates(subset = ['shapeName', 'KGISTalukN', 'District'], keep = 'first', ignore_index = True)\n",
    "\n",
    "df_grampan_taluk = df_grampan_taluk.sort_values(['shapeName', 'KGISTalukN', 'District', 'SHAPE_STAr'], ascending = [True, True, True, False], ignore_index = True)\n",
    "df_grampan_taluk_sel = df_grampan_taluk.drop_duplicates(subset = ['shapeName', 'KGISTalukN', 'District'], keep = 'first', ignore_index = True)"
   ]
  },
  {
   "cell_type": "code",
   "execution_count": 27,
   "metadata": {},
   "outputs": [],
   "source": [
    "# Misschien kunnen we beter eerst de insurance_names matchen met de gp's en hoblis. Voor hobli's kunnen we dit doen op district+taluk niveau. Voor gp's kunnen we dit doen op district niveau\n",
    "hobli = insurance_names[insurance_names['Gram Panchayat/Hobli'] == 'h'].sort_values(['shapeName', 'Taluk', 'District'], ignore_index=True).drop_duplicates(ignore_index=True)\n",
    "grampan = insurance_names[insurance_names['Gram Panchayat/Hobli'] == 'gp'].sort_values(['shapeName', 'Taluk', 'District'], ignore_index=True).drop_duplicates(ignore_index=True)"
   ]
  },
  {
   "cell_type": "code",
   "execution_count": 28,
   "metadata": {},
   "outputs": [],
   "source": [
    "hobli['Insurance_name'] = np.nan\n",
    "hobli['shape_name'] = np.nan\n",
    "hobli['Taluk_name'] = np.nan\n",
    "hobli['District_name'] = np.nan\n",
    "hobli['Similarity'] = np.nan\n",
    "hobli['geometry'] = np.nan\n",
    "\n",
    "for i in hobli.index:\n",
    "    indices = []\n",
    "    df_temp = df_hobli_taluk_sel[(df_hobli_taluk_sel['District'] == hobli['District'].loc[i]) & (df_hobli_taluk_sel['KGISTalukN'] == hobli['Taluk'].loc[i])]\n",
    "    for j in df_temp.index:\n",
    "       indices.append(fuzz.token_set_ratio(hobli.loc[i, 'shapeName'],df_temp.loc[j, 'shapeName'])) # in this case, better than sort_ratio\n",
    "    hobli.loc[i,'shape_name'] = df_temp.loc[df_temp.index[np.argmax(indices)],'shapeName'] # the shapeName corresponding to the highest similarity bound\n",
    "    hobli.loc[i,'Insurance_name'] = df_temp.loc[df_temp.index[np.argmax(indices)],'KGISHobliN'] # the shapeName corresponding to the highest similarity bound\n",
    "    hobli.loc[i,'Taluk_name'] = df_temp.loc[df_temp.index[np.argmax(indices)],'KGISTalukN'] # the shapeName corresponding to the highest similarity bound\n",
    "    hobli.loc[i,'District_name'] = df_temp.loc[df_temp.index[np.argmax(indices)],'District'] # the shapeName corresponding to the highest similarity bound\n",
    "    hobli.loc[i,'Similarity'] = np.max(indices) # the highest similarity found for the current insurance name\n",
    "    hobli.loc[i,'geometry'] = df_temp.loc[df_temp.index[np.argmax(indices)],'geometry'] # the shapeName corresponding to the highest similarity bound"
   ]
  },
  {
   "cell_type": "code",
   "execution_count": 29,
   "metadata": {},
   "outputs": [],
   "source": [
    "grampan['Insurance_name'] = np.nan\n",
    "grampan['shape_name'] = np.nan\n",
    "grampan['Taluk_name'] = np.nan\n",
    "grampan['District_name'] = np.nan\n",
    "grampan['Similarity'] = np.nan\n",
    "grampan['geometry'] = np.nan\n",
    "\n",
    "for i in grampan.index:\n",
    "    indices = []\n",
    "    df_temp = df_grampan_taluk_sel[(df_grampan_taluk_sel['District'] == grampan['District'].loc[i]) & (df_grampan_taluk_sel['KGISTalukN'] == grampan['Taluk'].loc[i])]\n",
    "    for j in df_temp.index:\n",
    "       indices.append(fuzz.token_set_ratio(grampan.loc[i, 'shapeName'],df_temp.loc[j, 'shapeName'])) # in this case, better than sort_ratio\n",
    "    grampan.loc[i,'shape_name'] = df_temp.loc[df_temp.index[np.argmax(indices)],'shapeName'] # the shapeName corresponding to the highest similarity bound\n",
    "    grampan.loc[i,'Insurance_name'] = df_temp.loc[df_temp.index[np.argmax(indices)],'KGISGPName'] # the shapeName corresponding to the highest similarity bound\n",
    "    grampan.loc[i,'Taluk_name'] = df_temp.loc[df_temp.index[np.argmax(indices)],'KGISTalukN'] # the shapeName corresponding to the highest similarity bound\n",
    "    grampan.loc[i,'District_name'] = df_temp.loc[df_temp.index[np.argmax(indices)],'District'] # the shapeName corresponding to the highest similarity bound\n",
    "    grampan.loc[i,'Similarity'] = np.max(indices) # the highest similarity found for the current insurance name\n",
    "    grampan.loc[i,'geometry'] = df_temp.loc[df_temp.index[np.argmax(indices)],'geometry'] # the shapeName corresponding to the highest similarity bound"
   ]
  },
  {
   "cell_type": "code",
   "execution_count": 30,
   "metadata": {},
   "outputs": [],
   "source": [
    "check_hobli = hobli[hobli['shapeName'] != hobli['shape_name']] # We moeten er 47 handmatig toewijzen\n",
    "check_hobli_df = check_hobli[['shapeName', 'shape_name']]\n",
    "hobli_names = sorted(df_hobli_taluk_sel['shapeName'].unique())\n",
    "\n",
    "check_grampan = grampan[grampan['shapeName'] != grampan['shape_name']] # we moeten er handmatig 1757 toewijzen\n",
    "check_grampan_df = check_grampan[['shapeName', 'shape_name']]\n",
    "grampan_names = sorted(df_grampan_taluk_sel['shapeName'].unique())"
   ]
  },
  {
   "cell_type": "code",
   "execution_count": 31,
   "metadata": {},
   "outputs": [
    {
     "name": "stderr",
     "output_type": "stream",
     "text": [
      "C:\\Users\\mieke\\AppData\\Local\\Temp\\ipykernel_24360\\2004751769.py:54: SettingWithCopyWarning: \n",
      "A value is trying to be set on a copy of a slice from a DataFrame.\n",
      "Try using .loc[row_indexer,col_indexer] = value instead\n",
      "\n",
      "See the caveats in the documentation: https://pandas.pydata.org/pandas-docs/stable/user_guide/indexing.html#returning-a-view-versus-a-copy\n",
      "  df_hobli_taluk_sel['shapeName'] = np.where(df_hobli_taluk_sel['shapeName'] == 'bidadi 1', 'bidadi', df_hobli_taluk_sel['shapeName'])\n",
      "C:\\Users\\mieke\\AppData\\Local\\Temp\\ipykernel_24360\\2004751769.py:55: SettingWithCopyWarning: \n",
      "A value is trying to be set on a copy of a slice from a DataFrame.\n",
      "Try using .loc[row_indexer,col_indexer] = value instead\n",
      "\n",
      "See the caveats in the documentation: https://pandas.pydata.org/pandas-docs/stable/user_guide/indexing.html#returning-a-view-versus-a-copy\n",
      "  df_hobli_taluk_sel['shapeName'] = np.where(df_hobli_taluk_sel['shapeName'] == 'kailancha-1', 'kailancha', df_hobli_taluk_sel['shapeName'])\n"
     ]
    }
   ],
   "source": [
    "for i in check_hobli.index:\n",
    "    indices = []\n",
    "    df_temp = df_hobli_taluk_sel[(df_hobli_taluk_sel['District'] == hobli['District'].loc[i]) & (df_hobli_taluk_sel['KGISTalukN'] == hobli['Taluk'].loc[i])]\n",
    "    for j in df_temp.index:\n",
    "       indices.append(fuzz.token_sort_ratio(hobli.loc[i, 'shapeName'],df_temp.loc[j, 'shapeName'])) # in this case, better than sort_ratio\n",
    "    hobli.loc[i,'shape_name'] = df_temp.loc[df_temp.index[np.argmax(indices)],'shapeName'] # the shapeName corresponding to the highest similarity bound\n",
    "    hobli.loc[i,'Insurance_name'] = df_temp.loc[df_temp.index[np.argmax(indices)],'KGISHobliN'] # the shapeName corresponding to the highest similarity bound\n",
    "    hobli.loc[i,'Taluk_name'] = df_temp.loc[df_temp.index[np.argmax(indices)],'KGISTalukN'] # the shapeName corresponding to the highest similarity bound\n",
    "    hobli.loc[i,'District_name'] = df_temp.loc[df_temp.index[np.argmax(indices)],'District'] # the shapeName corresponding to the highest similarity bound\n",
    "    hobli.loc[i,'Similarity'] = np.max(indices) # the highest similarity found for the current insurance name\n",
    "    hobli.loc[i,'geometry'] = df_temp.loc[df_temp.index[np.argmax(indices)],'geometry'] # the shapeName corresponding to the highest similarity bound\n",
    "\n",
    "check_hobli2 = hobli[hobli['shapeName'] != hobli['shape_name']] # We moeten er 5 handmatig toewijzen\n",
    "check_hobli_df2 = check_hobli2[['shapeName', 'shape_name']]\n",
    "\n",
    "for i in check_hobli2.index:\n",
    "    indices = []\n",
    "    df_temp = df_hobli_taluk_sel[(df_hobli_taluk_sel['District'] == hobli['District'].loc[i])]\n",
    "    for j in df_temp.index:\n",
    "       indices.append(fuzz.token_set_ratio(hobli.loc[i, 'shapeName'],df_temp.loc[j, 'shapeName'])) # in this case, better than sort_ratio\n",
    "    hobli.loc[i,'shape_name'] = df_temp.loc[df_temp.index[np.argmax(indices)],'shapeName'] # the shapeName corresponding to the highest similarity bound\n",
    "    hobli.loc[i,'Insurance_name'] = df_temp.loc[df_temp.index[np.argmax(indices)],'KGISHobliN'] # the shapeName corresponding to the highest similarity bound\n",
    "    hobli.loc[i,'Taluk_name'] = df_temp.loc[df_temp.index[np.argmax(indices)],'KGISTalukN'] # the shapeName corresponding to the highest similarity bound\n",
    "    hobli.loc[i,'District_name'] = df_temp.loc[df_temp.index[np.argmax(indices)],'District'] # the shapeName corresponding to the highest similarity bound\n",
    "    hobli.loc[i,'Similarity'] = np.max(indices) # the highest similarity found for the current insurance name\n",
    "    hobli.loc[i,'geometry'] = df_temp.loc[df_temp.index[np.argmax(indices)],'geometry'] # the shapeName corresponding to the highest similarity bound\n",
    "\n",
    "check_hobli3 = hobli[hobli['shapeName'] != hobli['shape_name']] # We moeten er 5 handmatig toewijzen\n",
    "check_hobli_df3 = check_hobli3[['shapeName', 'shape_name']]\n",
    "\n",
    "for i in check_hobli3.index:\n",
    "    indices = []\n",
    "    df_temp = df_hobli_taluk_sel[(df_hobli_taluk_sel['District'] == hobli['District'].loc[i])]\n",
    "    for j in df_temp.index:\n",
    "       indices.append(fuzz.token_sort_ratio(hobli.loc[i, 'shapeName'],df_temp.loc[j, 'shapeName'])) # in this case, better than sort_ratio\n",
    "    hobli.loc[i,'shape_name'] = df_temp.loc[df_temp.index[np.argmax(indices)],'shapeName'] # the shapeName corresponding to the highest similarity bound\n",
    "    hobli.loc[i,'Insurance_name'] = df_temp.loc[df_temp.index[np.argmax(indices)],'KGISHobliN'] # the shapeName corresponding to the highest similarity bound\n",
    "    hobli.loc[i,'Taluk_name'] = df_temp.loc[df_temp.index[np.argmax(indices)],'KGISTalukN'] # the shapeName corresponding to the highest similarity bound\n",
    "    hobli.loc[i,'District_name'] = df_temp.loc[df_temp.index[np.argmax(indices)],'District'] # the shapeName corresponding to the highest similarity bound\n",
    "    hobli.loc[i,'Similarity'] = np.max(indices) # the highest similarity found for the current insurance name\n",
    "    hobli.loc[i,'geometry'] = df_temp.loc[df_temp.index[np.argmax(indices)],'geometry'] # the shapeName corresponding to the highest similarity bound\n",
    "\n",
    "check_hobli4 = hobli[hobli['shapeName'] != hobli['shape_name']] # We moeten er 5 handmatig toewijzen\n",
    "check_hobli_df4 = check_hobli4[['shapeName', 'shape_name']]\n",
    "\n",
    "# There are just 2 hoblis left which should be matched manually: bidadi and kailancha\n",
    "# The boundary data has options: bidadi 1 and bidadi 2, kailancha-1 and kailancha-2\n",
    "# These options do not already occur in the hobli names within the yield data\n",
    "hobli_yield = hobli['shapeName'].unique()\n",
    "# Hence, we select the ones with the number 1 (also because they are slightly bigger)\n",
    "# df_hobli_taluk_sel[df_hobli_taluk_sel['shapeName'] == 'kailancha-1']\n",
    "\n",
    "# We do this by changing the boundary name within the geodataframe\n",
    "df_hobli_taluk_sel['shapeName'] = np.where(df_hobli_taluk_sel['shapeName'] == 'bidadi 1', 'bidadi', df_hobli_taluk_sel['shapeName'])\n",
    "df_hobli_taluk_sel['shapeName'] = np.where(df_hobli_taluk_sel['shapeName'] == 'kailancha-1', 'kailancha', df_hobli_taluk_sel['shapeName'])\n",
    "\n",
    "for i in check_hobli4.index:\n",
    "    indices = []\n",
    "    df_temp = df_hobli_taluk_sel[(df_hobli_taluk_sel['District'] == hobli['District'].loc[i])]\n",
    "    for j in df_temp.index:\n",
    "       indices.append(fuzz.token_sort_ratio(hobli.loc[i, 'shapeName'],df_temp.loc[j, 'shapeName'])) # in this case, better than sort_ratio\n",
    "    hobli.loc[i,'shape_name'] = df_temp.loc[df_temp.index[np.argmax(indices)],'shapeName'] # the shapeName corresponding to the highest similarity bound\n",
    "    hobli.loc[i,'Insurance_name'] = df_temp.loc[df_temp.index[np.argmax(indices)],'KGISHobliN'] # the shapeName corresponding to the highest similarity bound\n",
    "    hobli.loc[i,'Taluk_name'] = df_temp.loc[df_temp.index[np.argmax(indices)],'KGISTalukN'] # the shapeName corresponding to the highest similarity bound\n",
    "    hobli.loc[i,'District_name'] = df_temp.loc[df_temp.index[np.argmax(indices)],'District'] # the shapeName corresponding to the highest similarity bound\n",
    "    hobli.loc[i,'Similarity'] = np.max(indices) # the highest similarity found for the current insurance name\n",
    "    hobli.loc[i,'geometry'] = df_temp.loc[df_temp.index[np.argmax(indices)],'geometry'] # the shapeName corresponding to the highest similarity bound\n",
    "\n",
    "check_hobli5 = hobli[hobli['shapeName'] != hobli['shape_name']] \n",
    "check_hobli_df5 = check_hobli5[['shapeName', 'shape_name']] # empty"
   ]
  },
  {
   "cell_type": "code",
   "execution_count": 32,
   "metadata": {},
   "outputs": [],
   "source": [
    "for i in check_grampan.index:\n",
    "    indices = []\n",
    "    df_temp = df_grampan_taluk_sel[(df_grampan_taluk_sel['District'] == grampan['District'].loc[i]) & (df_grampan_taluk_sel['KGISTalukN'] == grampan['Taluk'].loc[i])]\n",
    "    for j in df_temp.index:\n",
    "       indices.append(fuzz.token_sort_ratio(grampan.loc[i, 'shapeName'],df_temp.loc[j, 'shapeName'])) # in this case, better than sort_ratio\n",
    "    grampan.loc[i,'shape_name'] = df_temp.loc[df_temp.index[np.argmax(indices)],'shapeName'] # the shapeName corresponding to the highest similarity bound\n",
    "    grampan.loc[i,'Insurance_name'] = df_temp.loc[df_temp.index[np.argmax(indices)],'KGISGPName'] # the shapeName corresponding to the highest similarity bound\n",
    "    grampan.loc[i,'Taluk_name'] = df_temp.loc[df_temp.index[np.argmax(indices)],'KGISTalukN'] # the shapeName corresponding to the highest similarity bound\n",
    "    grampan.loc[i,'District_name'] = df_temp.loc[df_temp.index[np.argmax(indices)],'District'] # the shapeName corresponding to the highest similarity bound\n",
    "    grampan.loc[i,'Similarity'] = np.max(indices) # the highest similarity found for the current insurance name\n",
    "    grampan.loc[i,'geometry'] = df_temp.loc[df_temp.index[np.argmax(indices)],'geometry'] # the shapeName corresponding to the highest similarity bound\n",
    "\n",
    "check_grampan2 = grampan[grampan['shapeName'] != grampan['shape_name']] # We moeten er 5 handmatig toewijzen\n",
    "check_grampan_df2 = check_grampan2[['shapeName', 'shape_name']]\n",
    "\n",
    "for i in check_grampan2.index:\n",
    "    indices = []\n",
    "    df_temp = df_grampan_taluk_sel[(df_grampan_taluk_sel['District'] == grampan['District'].loc[i])]\n",
    "    for j in df_temp.index:\n",
    "       indices.append(fuzz.token_set_ratio(grampan.loc[i, 'shapeName'],df_temp.loc[j, 'shapeName'])) # in this case, better than sort_ratio\n",
    "    grampan.loc[i,'shape_name'] = df_temp.loc[df_temp.index[np.argmax(indices)],'shapeName'] # the shapeName corresponding to the highest similarity bound\n",
    "    grampan.loc[i,'Insurance_name'] = df_temp.loc[df_temp.index[np.argmax(indices)],'KGISGPName'] # the shapeName corresponding to the highest similarity bound\n",
    "    grampan.loc[i,'Taluk_name'] = df_temp.loc[df_temp.index[np.argmax(indices)],'KGISTalukN'] # the shapeName corresponding to the highest similarity bound\n",
    "    grampan.loc[i,'District_name'] = df_temp.loc[df_temp.index[np.argmax(indices)],'District'] # the shapeName corresponding to the highest similarity bound\n",
    "    grampan.loc[i,'Similarity'] = np.max(indices) # the highest similarity found for the current insurance name\n",
    "    grampan.loc[i,'geometry'] = df_temp.loc[df_temp.index[np.argmax(indices)],'geometry'] # the shapeName corresponding to the highest similarity bound\n",
    "\n",
    "check_grampan3 = grampan[grampan['shapeName'] != grampan['shape_name']] # We moeten er 5 handmatig toewijzen\n",
    "check_grampan_df3 = check_grampan3[['shapeName', 'shape_name']]\n",
    "\n",
    "for i in check_grampan3.index:\n",
    "    indices = []\n",
    "    df_temp = df_grampan_taluk_sel[(df_grampan_taluk_sel['District'] == grampan['District'].loc[i])]\n",
    "    for j in df_temp.index:\n",
    "       indices.append(fuzz.token_sort_ratio(grampan.loc[i, 'shapeName'],df_temp.loc[j, 'shapeName'])) # in this case, better than sort_ratio\n",
    "    grampan.loc[i,'shape_name'] = df_temp.loc[df_temp.index[np.argmax(indices)],'shapeName'] # the shapeName corresponding to the highest similarity bound\n",
    "    grampan.loc[i,'Insurance_name'] = df_temp.loc[df_temp.index[np.argmax(indices)],'KGISGPName'] # the shapeName corresponding to the highest similarity bound\n",
    "    grampan.loc[i,'Taluk_name'] = df_temp.loc[df_temp.index[np.argmax(indices)],'KGISTalukN'] # the shapeName corresponding to the highest similarity bound\n",
    "    grampan.loc[i,'District_name'] = df_temp.loc[df_temp.index[np.argmax(indices)],'District'] # the shapeName corresponding to the highest similarity bound\n",
    "    grampan.loc[i,'Similarity'] = np.max(indices) # the highest similarity found for the current insurance name\n",
    "    grampan.loc[i,'geometry'] = df_temp.loc[df_temp.index[np.argmax(indices)],'geometry'] # the shapeName corresponding to the highest similarity bound\n",
    "\n",
    "check_grampan4 = grampan[grampan['shapeName'] != grampan['shape_name']] # We moeten er 5 handmatig toewijzen\n",
    "check_grampan_df4 = check_grampan4[['shapeName', 'shape_name']]\n",
    "\n",
    "# There are just 2 hoblis left which should be matched manually: bidadi and kailancha\n",
    "# The boundary data has options: bidadi 1 and bidadi 2, kailancha-1 and kailancha-2\n",
    "# These options do not already occur in the hobli names within the yield data\n",
    "grampan_yield = grampan['shapeName'].unique()\n",
    "# Hence, we select the ones with the number 1 (also because they are slightly bigger)\n",
    "# df_hobli_taluk_sel[df_hobli_taluk_sel['shapeName'] == 'kailancha-1']\n",
    "\n",
    "# We do this by changing the boundary name within the geodataframe\n",
    "# df_grampan_taluk_sel['shapeName'] = np.where(df_grampan_taluk_sel['shapeName'] == 'bidadi 1', 'bidadi', df_grampan_taluk_sel['shapeName'])\n",
    "# df_grampan_taluk_sel['shapeName'] = np.where(df_grampan_taluk_sel['shapeName'] == 'kailancha-1', 'kailancha', df_grampan_taluk_sel['shapeName'])\n",
    "\n",
    "# for i in check_grampan4.index:\n",
    "#     indices = []\n",
    "#     df_temp = df_grampan_taluk_sel[(df_grampan_taluk_sel['District'] == grampan['District'].loc[i])]\n",
    "#     for j in df_temp.index:\n",
    "#        indices.append(fuzz.token_sort_ratio(grampan.loc[i, 'shapeName'],df_temp.loc[j, 'shapeName'])) # in this case, better than sort_ratio\n",
    "#     grampan.loc[i,'shape_name'] = df_temp.loc[df_temp.index[np.argmax(indices)],'shapeName'] # the shapeName corresponding to the highest similarity bound\n",
    "#     grampan.loc[i,'Insurance_name'] = df_temp.loc[df_temp.index[np.argmax(indices)],'KGISGPName'] # the shapeName corresponding to the highest similarity bound\n",
    "#     grampan.loc[i,'Taluk_name'] = df_temp.loc[df_temp.index[np.argmax(indices)],'KGISTalukN'] # the shapeName corresponding to the highest similarity bound\n",
    "#     grampan.loc[i,'District_name'] = df_temp.loc[df_temp.index[np.argmax(indices)],'District'] # the shapeName corresponding to the highest similarity bound\n",
    "#     grampan.loc[i,'Similarity'] = np.max(indices) # the highest similarity found for the current insurance name\n",
    "#     grampan.loc[i,'geometry'] = df_temp.loc[df_temp.index[np.argmax(indices)],'geometry'] # the shapeName corresponding to the highest similarity bound\n",
    "\n",
    "# check_grampan5 = grampan[grampan['shapeName'] != grampan['shape_name']] \n",
    "# check_grampan_df5 = check_grampan5[['shapeName', 'shape_name']] # empty"
   ]
  },
  {
   "cell_type": "code",
   "execution_count": 33,
   "metadata": {},
   "outputs": [],
   "source": [
    "for i in check_grampan4.index:\n",
    "    indices = []\n",
    "    df_temp = df_grampan_taluk_sel.copy()#[(df_grampan_taluk_sel['District'] == grampan['District'].loc[i])]\n",
    "    for j in df_temp.index:\n",
    "       indices.append(fuzz.token_set_ratio(grampan.loc[i, 'shapeName'],df_temp.loc[j, 'shapeName'])) # in this case, better than sort_ratio\n",
    "    grampan.loc[i,'shape_name'] = df_temp.loc[df_temp.index[np.argmax(indices)],'shapeName'] # the shapeName corresponding to the highest similarity bound\n",
    "    grampan.loc[i,'Insurance_name'] = df_temp.loc[df_temp.index[np.argmax(indices)],'KGISGPName'] # the shapeName corresponding to the highest similarity bound\n",
    "    grampan.loc[i,'Taluk_name'] = df_temp.loc[df_temp.index[np.argmax(indices)],'KGISTalukN'] # the shapeName corresponding to the highest similarity bound\n",
    "    grampan.loc[i,'District_name'] = df_temp.loc[df_temp.index[np.argmax(indices)],'District'] # the shapeName corresponding to the highest similarity bound\n",
    "    grampan.loc[i,'Similarity'] = np.max(indices) # the highest similarity found for the current insurance name\n",
    "    grampan.loc[i,'geometry'] = df_temp.loc[df_temp.index[np.argmax(indices)],'geometry'] # the shapeName corresponding to the highest similarity bound\n",
    "\n",
    "check_grampan5 = grampan[grampan['shapeName'] != grampan['shape_name']] \n",
    "check_grampan_df5 = check_grampan5[['shapeName', 'shape_name']] # empty\n",
    "\n",
    "for i in check_grampan5.index:\n",
    "    indices = []\n",
    "    df_temp = df_grampan_taluk_sel.copy()#[(df_grampan_taluk_sel['District'] == grampan['District'].loc[i])]\n",
    "    for j in df_temp.index:\n",
    "       indices.append(fuzz.token_sort_ratio(grampan.loc[i, 'shapeName'],df_temp.loc[j, 'shapeName'])) # in this case, better than sort_ratio\n",
    "    grampan.loc[i,'shape_name'] = df_temp.loc[df_temp.index[np.argmax(indices)],'shapeName'] # the shapeName corresponding to the highest similarity bound\n",
    "    grampan.loc[i,'Insurance_name'] = df_temp.loc[df_temp.index[np.argmax(indices)],'KGISGPName'] # the shapeName corresponding to the highest similarity bound\n",
    "    grampan.loc[i,'Taluk_name'] = df_temp.loc[df_temp.index[np.argmax(indices)],'KGISTalukN'] # the shapeName corresponding to the highest similarity bound\n",
    "    grampan.loc[i,'District_name'] = df_temp.loc[df_temp.index[np.argmax(indices)],'District'] # the shapeName corresponding to the highest similarity bound\n",
    "    grampan.loc[i,'Similarity'] = np.max(indices) # the highest similarity found for the current insurance name\n",
    "    grampan.loc[i,'geometry'] = df_temp.loc[df_temp.index[np.argmax(indices)],'geometry'] # the shapeName corresponding to the highest similarity bound\n",
    "\n",
    "check_grampan6 = grampan[grampan['shapeName'] != grampan['shape_name']] \n",
    "check_grampan_df6 = check_grampan6[['shapeName', 'shape_name']] # empty"
   ]
  },
  {
   "cell_type": "code",
   "execution_count": 34,
   "metadata": {},
   "outputs": [],
   "source": [
    "hobli_names_taluk = df_hobli_taluk[['shapeName', 'KGISTalukN']].sort_values(['shapeName', 'KGISTalukN'])\n",
    "grampan_names_taluk = df_grampan_taluk[['shapeName', 'KGISTalukN']].sort_values(['shapeName', 'KGISTalukN'])"
   ]
  },
  {
   "cell_type": "code",
   "execution_count": 42,
   "metadata": {},
   "outputs": [
    {
     "name": "stderr",
     "output_type": "stream",
     "text": [
      "c:\\Users\\mieke\\anaconda3\\envs\\thesis_base\\lib\\site-packages\\pyproj\\crs\\crs.py:130: FutureWarning: '+init=<authority>:<code>' syntax is deprecated. '<authority>:<code>' is the preferred initialization method. When making the change, be mindful of axis order changes: https://pyproj4.github.io/pyproj/stable/gotchas.html#axis-order-changes-in-proj-6\n",
      "  in_crs_string = _prepare_from_proj_string(in_crs_string)\n",
      "c:\\Users\\mieke\\anaconda3\\envs\\thesis_base\\lib\\site-packages\\pyproj\\crs\\crs.py:130: FutureWarning: '+init=<authority>:<code>' syntax is deprecated. '<authority>:<code>' is the preferred initialization method. When making the change, be mindful of axis order changes: https://pyproj4.github.io/pyproj/stable/gotchas.html#axis-order-changes-in-proj-6\n",
      "  in_crs_string = _prepare_from_proj_string(in_crs_string)\n",
      "c:\\Users\\mieke\\anaconda3\\envs\\thesis_base\\lib\\site-packages\\geopandas\\io\\file.py:362: FutureWarning: pandas.Int64Index is deprecated and will be removed from pandas in a future version. Use pandas.Index with the appropriate dtype instead.\n",
      "  pd.Int64Index,\n",
      "c:\\Users\\mieke\\anaconda3\\envs\\thesis_base\\lib\\site-packages\\geopandas\\io\\file.py:362: FutureWarning: pandas.Int64Index is deprecated and will be removed from pandas in a future version. Use pandas.Index with the appropriate dtype instead.\n",
      "  pd.Int64Index,\n"
     ]
    }
   ],
   "source": [
    "hobli_gdf = gpd.GeoDataFrame(hobli, geometry = hobli.geometry, crs = {'init': 'epsg:32643'}) # 32643 is the original crs (found by using .crs for one of the input shp files)\n",
    "grampan_gdf = gpd.GeoDataFrame(grampan, geometry = grampan.geometry, crs = {'init': 'epsg:32643'}) # 32643 is the original crs (found by using .crs for one of the input shp files)\n",
    "\n",
    "hobli_gdf.to_file(r'C:\\Users\\mieke\\Documents\\Msc Thesis\\Notebooks Python\\hobli.geojson', driver=\"GeoJSON\") # Save the derived datframe as it takes a long time to run\n",
    "grampan_gdf.to_file(r'C:\\Users\\mieke\\Documents\\Msc Thesis\\Notebooks Python\\grampan.geojson', driver=\"GeoJSON\") # Save the derived datframe as it takes a long time to run"
   ]
  },
  {
   "cell_type": "markdown",
   "metadata": {},
   "source": [
    "TROEP!!"
   ]
  },
  {
   "cell_type": "code",
   "execution_count": 41,
   "metadata": {},
   "outputs": [
    {
     "data": {
      "text/plain": [
       "1962"
      ]
     },
     "execution_count": 41,
     "metadata": {},
     "output_type": "execute_result"
    }
   ],
   "source": [
    "len(yields[yields['Crop'] == 'paddy']['Insurance Unit'].unique())\n",
    "len(yields[yields['Crop'] == 'maize (makka)']['Insurance Unit'].unique())\n",
    "len(yields[yields['Crop'] == 'sorghum (jowar/great millet)']['Insurance Unit'].unique())"
   ]
  },
  {
   "cell_type": "code",
   "execution_count": 30,
   "metadata": {},
   "outputs": [],
   "source": [
    "# i=225\n",
    "# gdp_temp = taluk_district[taluk_district['District'] == df_grampan.loc[i, 'District']] # select taluks within the district for i\n",
    "# selected = df_grampan[(df_grampan['shapeName'] == df_grampan.loc[i,'shapeName']) & (df_grampan['District'] == df_grampan.loc[i,'District']) & (df_grampan['geometry'] == df_grampan.loc[i,'geometry'])]\n",
    "# gpd_join_temp = gpd.overlay(selected, gpd_temp, how='intersection')\n",
    "# gpd_join_temp\n",
    "# # df_join_temp = gpd.sjoin(selected, gdp_temp, how='left', predicate='intersects')\n",
    "# # df_join_temp"
   ]
  },
  {
   "cell_type": "code",
   "execution_count": 31,
   "metadata": {},
   "outputs": [],
   "source": [
    "#geopandas.overlay(df1, df2, how='intersection', keep_geom_type=None, make_valid=True)\n",
    "# Misschien kunnen we een loop schrijven die per gram panchayat checkt welke taluks ie intersect. Maar dan wel alleen voor de taluks binnen het bijbehorende district\n",
    "# df_gp_taluk = gpd.GeoDataFrame()\n",
    "# lengths = []\n",
    "# for i in df_grampan.index:\n",
    "#     gpd_temp = taluk_district[taluk_district['District'] == df_grampan.loc[i, 'District']] # select taluks within the district for i\n",
    "#     selected = df_grampan[(df_grampan['shapeName'] == df_grampan.loc[i,'shapeName']) & (df_grampan['District'] == df_grampan.loc[i,'District'])]\n",
    "#     gpd_join_temp = gpd.overlay(selected, gpd_temp, how='intersection')\n",
    "#     df_gp_taluk = pd.concat([df_gp_taluk, gpd_join_temp], ignore_index = True)\n",
    "#     lengths.append(np.size(selected,0))\n",
    "\n",
    "# df_gp_taluk"
   ]
  },
  {
   "cell_type": "code",
   "execution_count": null,
   "metadata": {},
   "outputs": [],
   "source": [
    "# Misschien kunnen we een loop schrijven die per gram panchayat checkt welke taluks ie intersect. Maar dan wel alleen voor de taluks binnen het bijbehorende district\n",
    "# df_gp_taluk = gpd.GeoDataFrame()\n",
    "# lengths = []\n",
    "# for i in df_grampan.index:\n",
    "#     gpd_temp = taluk_district[taluk_district['District'] == df_grampan.loc[i, 'District']] # select taluks within the district for i\n",
    "#     selected = df_grampan[(df_grampan['shapeName'] == df_grampan.loc[i,'shapeName']) & (df_grampan['District'] == df_grampan.loc[i,'District']) & (df_grampan['geometry'] == df_grampan.loc[i,'geometry'])]\n",
    "#     gpd_join_temp = gpd.sjoin(selected, gpd_temp, how='left', predicate='intersects')\n",
    "#     df_gp_taluk = pd.concat([df_gp_taluk, gpd_join_temp], ignore_index = True)\n",
    "#     lengths.append(np.size(selected,0))\n",
    "\n",
    "# df_gp_taluk"
   ]
  },
  {
   "cell_type": "code",
   "execution_count": null,
   "metadata": {},
   "outputs": [
    {
     "data": {
      "text/plain": [
       "24414552.645020902"
      ]
     },
     "execution_count": 95,
     "metadata": {},
     "output_type": "execute_result"
    }
   ],
   "source": [
    "# i = 0\n",
    "# p = np.array(gpd_join_temp1[(gpd_join_temp1['geometry'] == gpd_join_temp1.loc[i, 'geometry'])]['geometry'])[0]\n",
    "# q = np.array(taluk_district[(taluk_district['District'] == gpd_join_temp1.loc[i, 'District_left']) & (taluk_district['KGISTalukN'] == gpd_join_temp1.loc[i, 'KGISTalukN'])]['geometry'])[0]\n",
    "\n",
    "# p.intersection(q).area"
   ]
  },
  {
   "cell_type": "markdown",
   "metadata": {},
   "source": [
    "Onthoud ff dat er ook spelfouten kunnen zijn binnen de insurance unit names in de crop yield dataset."
   ]
  }
 ],
 "metadata": {
  "kernelspec": {
   "display_name": "Python 3.10.4 ('thesis_base')",
   "language": "python",
   "name": "python3"
  },
  "language_info": {
   "codemirror_mode": {
    "name": "ipython",
    "version": 3
   },
   "file_extension": ".py",
   "mimetype": "text/x-python",
   "name": "python",
   "nbconvert_exporter": "python",
   "pygments_lexer": "ipython3",
   "version": "3.10.4"
  },
  "orig_nbformat": 4,
  "vscode": {
   "interpreter": {
    "hash": "734205a0c94b5e97d2e885f269ea6bd400da4ba9a6c87b08a93b97fdaab1acc8"
   }
  }
 },
 "nbformat": 4,
 "nbformat_minor": 2
}
