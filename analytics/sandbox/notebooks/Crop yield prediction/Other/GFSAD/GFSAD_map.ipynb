{
 "cells": [
  {
   "cell_type": "code",
   "execution_count": 1,
   "id": "9ff7767c",
   "metadata": {},
   "outputs": [],
   "source": [
    "# Import packages\n",
    "import ee\n",
    "import geemap\n",
    "import os\n",
    "import geopandas as gpd\n",
    "import folium"
   ]
  },
  {
   "cell_type": "code",
   "execution_count": null,
   "id": "9693aa27",
   "metadata": {},
   "outputs": [],
   "source": [
    "#image.sampleRectangle(region=geom, )"
   ]
  },
  {
   "cell_type": "code",
   "execution_count": 2,
   "id": "3cd8056d",
   "metadata": {
    "scrolled": true
   },
   "outputs": [
    {
     "data": {
      "application/vnd.jupyter.widget-view+json": {
       "model_id": "bef0371839154f81845b29c65c7c79be",
       "version_major": 2,
       "version_minor": 0
      },
      "text/plain": [
       "Map(center=[20, 0], controls=(WidgetControl(options=['position', 'transparent_bg'], widget=HBox(children=(Togg…"
      ]
     },
     "metadata": {},
     "output_type": "display_data"
    }
   ],
   "source": [
    "# Create a map\n",
    "Map = geemap.Map()\n",
    "Map"
   ]
  },
  {
   "cell_type": "code",
   "execution_count": 3,
   "id": "24393532",
   "metadata": {},
   "outputs": [],
   "source": [
    "# Add an image to the map\n",
    "dataset = ee.Image('USGS/GFSAD1000_V1') # import the total image\n",
    "landcover = ee.Image(dataset.select('landcover')) # setect the band we want to add\n",
    "Map.addLayer(landcover, {}, 'GFSAD') # add this band as a layer to the map"
   ]
  },
  {
   "cell_type": "code",
   "execution_count": null,
   "id": "04323aaa",
   "metadata": {},
   "outputs": [],
   "source": [
    "# NOTE: THIS FEATURE WILL NOT BE USED ANYMORE SINCE WE HAVE A POLYGON OF TELANGANA GIVEN\n",
    "# Draw any shapes on the map using the Drawing tools before executing this code block\n",
    "# feature = Map.draw_last_feature # region of interest\n",
    "# feature\n",
    "# roi = feature.geometry() "
   ]
  },
  {
   "cell_type": "code",
   "execution_count": 5,
   "id": "689bb5b7",
   "metadata": {},
   "outputs": [
    {
     "data": {
      "text/html": [
       "<div>\n",
       "<style scoped>\n",
       "    .dataframe tbody tr th:only-of-type {\n",
       "        vertical-align: middle;\n",
       "    }\n",
       "\n",
       "    .dataframe tbody tr th {\n",
       "        vertical-align: top;\n",
       "    }\n",
       "\n",
       "    .dataframe thead th {\n",
       "        text-align: right;\n",
       "    }\n",
       "</style>\n",
       "<table border=\"1\" class=\"dataframe\">\n",
       "  <thead>\n",
       "    <tr style=\"text-align: right;\">\n",
       "      <th></th>\n",
       "      <th>GID_0</th>\n",
       "      <th>NAME_0</th>\n",
       "      <th>GID_1</th>\n",
       "      <th>NAME_1</th>\n",
       "      <th>VARNAME_1</th>\n",
       "      <th>NL_NAME_1</th>\n",
       "      <th>TYPE_1</th>\n",
       "      <th>ENGTYPE_1</th>\n",
       "      <th>CC_1</th>\n",
       "      <th>HASC_1</th>\n",
       "      <th>geometry</th>\n",
       "    </tr>\n",
       "  </thead>\n",
       "  <tbody>\n",
       "    <tr>\n",
       "      <th>0</th>\n",
       "      <td>IND</td>\n",
       "      <td>India</td>\n",
       "      <td>IND.32_1</td>\n",
       "      <td>Telangana</td>\n",
       "      <td>None</td>\n",
       "      <td>None</td>\n",
       "      <td>State</td>\n",
       "      <td>State</td>\n",
       "      <td>None</td>\n",
       "      <td>IN.TG</td>\n",
       "      <td>MULTIPOLYGON (((79.21147 16.36281, 79.22324 16...</td>\n",
       "    </tr>\n",
       "  </tbody>\n",
       "</table>\n",
       "</div>"
      ],
      "text/plain": [
       "  GID_0 NAME_0     GID_1     NAME_1 VARNAME_1 NL_NAME_1 TYPE_1 ENGTYPE_1  \\\n",
       "0   IND  India  IND.32_1  Telangana      None      None  State     State   \n",
       "\n",
       "   CC_1 HASC_1                                           geometry  \n",
       "0  None  IN.TG  MULTIPOLYGON (((79.21147 16.36281, 79.22324 16...  "
      ]
     },
     "execution_count": 5,
     "metadata": {},
     "output_type": "execute_result"
    }
   ],
   "source": [
    "# Import this file to derive the polygon geometry for Telangana\n",
    "bound_Telangana = gpd.read_file('C:/Users/mieke/Documents/Msc Thesis/GitHub repositories/dicra/analytics/geospatial_internship/datasets/telangana_shapefile.geojson')\n",
    "bound_Telangana.head()"
   ]
  },
  {
   "cell_type": "code",
   "execution_count": 6,
   "id": "b3310143",
   "metadata": {},
   "outputs": [
    {
     "name": "stderr",
     "output_type": "stream",
     "text": [
      "C:\\Users\\mieke\\AppData\\Local\\Temp\\ipykernel_7244\\2973172409.py:2: ShapelyDeprecationWarning: __getitem__ for multi-part geometries is deprecated and will be removed in Shapely 2.0. Use the `geoms` property to access the constituent parts of a multi-part geometry.\n",
      "  lon, lat = bound_Telangana.geometry[0][0].exterior.coords.xy\n"
     ]
    }
   ],
   "source": [
    "# Extract longitudes and latitudes from the Multipolygon geometry of Telangana\n",
    "lon, lat = bound_Telangana.geometry[0][0].exterior.coords.xy\n",
    "# Create a list containing all pairs of longitudes and latitudes of Telangana\n",
    "list_of_coordinates = []\n",
    "for a,b in zip(lon, lat):\n",
    "    list_of_coordinates += [(a,b)]\n",
    "# Create a Polygon geometry of Telangana\n",
    "roi = ee.Geometry.Polygon(list_of_coordinates)"
   ]
  },
  {
   "cell_type": "code",
   "execution_count": 7,
   "id": "0ef982a8",
   "metadata": {},
   "outputs": [
    {
     "name": "stdout",
     "output_type": "stream",
     "text": [
      "<class 'ee.image.Image'>\n"
     ]
    }
   ],
   "source": [
    "image_crop = landcover.clip(roi) # Crop the image(band) to the area of the derived Polygon \n",
    "print(type(image_crop)) # ee.image.Image"
   ]
  },
  {
   "cell_type": "code",
   "execution_count": 8,
   "id": "5bad3dd4",
   "metadata": {},
   "outputs": [
    {
     "name": "stdout",
     "output_type": "stream",
     "text": [
      "Generating URL ...\n",
      "Downloading data from https://earthengine.googleapis.com/v1alpha/projects/earthengine-legacy/thumbnails/5a99b53860d69434b20bd3f0a67a919a-f2e3717f3890369f6b1bb1806e34c6e6:getPixels\n",
      "Please wait ...\n",
      "Data downloaded to C:\\Users\\mieke\\Documents\\Notebooks Python\\GFSAD\n"
     ]
    }
   ],
   "source": [
    "# Export this image to a geotif file\n",
    "geemap.ee_export_image(image_crop, filename='C:/Users/mieke/Documents/Msc Thesis/Notebooks Python/GFSAD/GFSAD_Telangana.tif', scale=100, region=roi, file_per_band=True)\n",
    "# If you get a size error, then change the scale"
   ]
  },
  {
   "cell_type": "code",
   "execution_count": 9,
   "id": "16700890",
   "metadata": {},
   "outputs": [],
   "source": [
    "# Add layers to a folium map\n",
    "def add_ee_layer(self, ee_image_object, vis_params, name):\n",
    "    map_id_dict = ee.Image(ee_image_object).getMapId(vis_params)\n",
    "    folium.raster_layers.TileLayer(\n",
    "        tiles = map_id_dict['tile_fetcher'].url_format,\n",
    "        attr = 'Map Data &copy; <a href \"https://earthengine.google.com/\"> Google Earth Engine </a>',\n",
    "        name = name,\n",
    "        overlay = True,\n",
    "        control = True,\n",
    "        opacity=1\n",
    "    ).add_to(self)\n",
    "# Add this function to the Folium Map object.\n",
    "folium.Map.add_ee_layer = add_ee_layer"
   ]
  },
  {
   "cell_type": "code",
   "execution_count": 10,
   "id": "350e19e3",
   "metadata": {},
   "outputs": [
    {
     "data": {
      "text/html": [
       "<div style=\"width:100%;\"><div style=\"position:relative;width:100%;height:0;padding-bottom:60%;\"><span style=\"color:#565656\">Make this Notebook Trusted to load map: File -> Trust Notebook</span><iframe srcdoc=\"&lt;!DOCTYPE html&gt;\n",
       "&lt;head&gt;    \n",
       "    &lt;meta http-equiv=&quot;content-type&quot; content=&quot;text/html; charset=UTF-8&quot; /&gt;\n",
       "    \n",
       "        &lt;script&gt;\n",
       "            L_NO_TOUCH = false;\n",
       "            L_DISABLE_3D = false;\n",
       "        &lt;/script&gt;\n",
       "    \n",
       "    &lt;style&gt;html, body {width: 100%;height: 100%;margin: 0;padding: 0;}&lt;/style&gt;\n",
       "    &lt;style&gt;#map {position:absolute;top:0;bottom:0;right:0;left:0;}&lt;/style&gt;\n",
       "    &lt;script src=&quot;https://cdn.jsdelivr.net/npm/leaflet@1.6.0/dist/leaflet.js&quot;&gt;&lt;/script&gt;\n",
       "    &lt;script src=&quot;https://code.jquery.com/jquery-1.12.4.min.js&quot;&gt;&lt;/script&gt;\n",
       "    &lt;script src=&quot;https://maxcdn.bootstrapcdn.com/bootstrap/3.2.0/js/bootstrap.min.js&quot;&gt;&lt;/script&gt;\n",
       "    &lt;script src=&quot;https://cdnjs.cloudflare.com/ajax/libs/Leaflet.awesome-markers/2.0.2/leaflet.awesome-markers.js&quot;&gt;&lt;/script&gt;\n",
       "    &lt;link rel=&quot;stylesheet&quot; href=&quot;https://cdn.jsdelivr.net/npm/leaflet@1.6.0/dist/leaflet.css&quot;/&gt;\n",
       "    &lt;link rel=&quot;stylesheet&quot; href=&quot;https://maxcdn.bootstrapcdn.com/bootstrap/3.2.0/css/bootstrap.min.css&quot;/&gt;\n",
       "    &lt;link rel=&quot;stylesheet&quot; href=&quot;https://maxcdn.bootstrapcdn.com/bootstrap/3.2.0/css/bootstrap-theme.min.css&quot;/&gt;\n",
       "    &lt;link rel=&quot;stylesheet&quot; href=&quot;https://maxcdn.bootstrapcdn.com/font-awesome/4.6.3/css/font-awesome.min.css&quot;/&gt;\n",
       "    &lt;link rel=&quot;stylesheet&quot; href=&quot;https://cdnjs.cloudflare.com/ajax/libs/Leaflet.awesome-markers/2.0.2/leaflet.awesome-markers.css&quot;/&gt;\n",
       "    &lt;link rel=&quot;stylesheet&quot; href=&quot;https://cdn.jsdelivr.net/gh/python-visualization/folium/folium/templates/leaflet.awesome.rotate.min.css&quot;/&gt;\n",
       "    \n",
       "            &lt;meta name=&quot;viewport&quot; content=&quot;width=device-width,\n",
       "                initial-scale=1.0, maximum-scale=1.0, user-scalable=no&quot; /&gt;\n",
       "            &lt;style&gt;\n",
       "                #map_e696c26c175f99587f8cb9b499f6ff25 {\n",
       "                    position: relative;\n",
       "                    width: 100.0%;\n",
       "                    height: 100.0%;\n",
       "                    left: 0.0%;\n",
       "                    top: 0.0%;\n",
       "                }\n",
       "            &lt;/style&gt;\n",
       "        \n",
       "&lt;/head&gt;\n",
       "&lt;body&gt;    \n",
       "    \n",
       "            &lt;div class=&quot;folium-map&quot; id=&quot;map_e696c26c175f99587f8cb9b499f6ff25&quot; &gt;&lt;/div&gt;\n",
       "        \n",
       "&lt;/body&gt;\n",
       "&lt;script&gt;    \n",
       "    \n",
       "            var map_e696c26c175f99587f8cb9b499f6ff25 = L.map(\n",
       "                &quot;map_e696c26c175f99587f8cb9b499f6ff25&quot;,\n",
       "                {\n",
       "                    center: [17.0, 80.0],\n",
       "                    crs: L.CRS.EPSG3857,\n",
       "                    zoom: 6,\n",
       "                    zoomControl: true,\n",
       "                    preferCanvas: false,\n",
       "                }\n",
       "            );\n",
       "\n",
       "            \n",
       "\n",
       "        \n",
       "    \n",
       "            var tile_layer_2208cbc24cb30d3b560f91dbf0e75a6a = L.tileLayer(\n",
       "                &quot;https://{s}.tile.openstreetmap.org/{z}/{x}/{y}.png&quot;,\n",
       "                {&quot;attribution&quot;: &quot;Data by \\u0026copy; \\u003ca href=\\&quot;http://openstreetmap.org\\&quot;\\u003eOpenStreetMap\\u003c/a\\u003e, under \\u003ca href=\\&quot;http://www.openstreetmap.org/copyright\\&quot;\\u003eODbL\\u003c/a\\u003e.&quot;, &quot;detectRetina&quot;: false, &quot;maxNativeZoom&quot;: 18, &quot;maxZoom&quot;: 18, &quot;minZoom&quot;: 0, &quot;noWrap&quot;: false, &quot;opacity&quot;: 1, &quot;subdomains&quot;: &quot;abc&quot;, &quot;tms&quot;: false}\n",
       "            ).addTo(map_e696c26c175f99587f8cb9b499f6ff25);\n",
       "        \n",
       "    \n",
       "            var tile_layer_00b8d4cb3ab8d1dbb843ae2af2a39023 = L.tileLayer(\n",
       "                &quot;https://earthengine.googleapis.com/v1alpha/projects/earthengine-legacy/maps/42d1f8f44480a41b92e29a8ff87257bb-0a08f1f71f0ca39abff1d280af8c4ee1/tiles/{z}/{x}/{y}&quot;,\n",
       "                {&quot;attribution&quot;: &quot;Map Data \\u0026copy; \\u003ca href \\&quot;https://earthengine.google.com/\\&quot;\\u003e Google Earth Engine \\u003c/a\\u003e&quot;, &quot;detectRetina&quot;: false, &quot;maxNativeZoom&quot;: 18, &quot;maxZoom&quot;: 18, &quot;minZoom&quot;: 0, &quot;noWrap&quot;: false, &quot;opacity&quot;: 1, &quot;subdomains&quot;: &quot;abc&quot;, &quot;tms&quot;: false}\n",
       "            ).addTo(map_e696c26c175f99587f8cb9b499f6ff25);\n",
       "        \n",
       "&lt;/script&gt;\" style=\"position:absolute;width:100%;height:100%;left:0;top:0;border:none !important;\" allowfullscreen webkitallowfullscreen mozallowfullscreen></iframe></div></div>"
      ],
      "text/plain": [
       "<folium.folium.Map at 0x1f502a6ac10>"
      ]
     },
     "execution_count": 10,
     "metadata": {},
     "output_type": "execute_result"
    }
   ],
   "source": [
    "map_18 = folium.Map(location = [17,80], zoom_start = 6) # Create a map\n",
    "# State the visualizations of the new layer\n",
    "visualization = {'min': 0, 'max': 5, 'bands': ['landcover'], 'palette': ['black', 'orange', 'brown', '02a50f', 'green', 'yellow']}\n",
    "map_18.add_ee_layer(image_crop, vis_params = visualization, name = 'GFSAD1000') # add the new layer to the map\n",
    "map_18 # Plot the map"
   ]
  }
 ],
 "metadata": {
  "kernelspec": {
   "display_name": "Python 3.8.2 ('gee_map')",
   "language": "python",
   "name": "python3"
  },
  "language_info": {
   "codemirror_mode": {
    "name": "ipython",
    "version": 3
   },
   "file_extension": ".py",
   "mimetype": "text/x-python",
   "name": "python",
   "nbconvert_exporter": "python",
   "pygments_lexer": "ipython3",
   "version": "3.8.2"
  },
  "vscode": {
   "interpreter": {
    "hash": "60766b851344845a85e9411cc07c25b1bf0b9d5c0b0086e4a735e79d4e645907"
   }
  }
 },
 "nbformat": 4,
 "nbformat_minor": 5
}
