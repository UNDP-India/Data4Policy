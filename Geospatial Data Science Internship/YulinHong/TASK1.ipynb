{
 "cells": [
  {
   "cell_type": "code",
   "execution_count": 1,
   "metadata": {},
   "outputs": [
    {
     "ename": "UnicodeDecodeError",
     "evalue": "'utf-8' codec can't decode byte 0xd5 in position 65: invalid continuation byte",
     "output_type": "error",
     "traceback": [
      "\u001b[1;31m---------------------------------------------------------------------------\u001b[0m",
      "\u001b[1;31mUnicodeDecodeError\u001b[0m                        Traceback (most recent call last)",
      "\u001b[1;31mUnicodeDecodeError\u001b[0m: 'utf-8' codec can't decode byte 0xd5 in position 65: invalid continuation byte"
     ]
    },
    {
     "name": "stderr",
     "output_type": "stream",
     "text": [
      "Exception ignored in: 'fiona._env.log_error'\n",
      "UnicodeDecodeError: 'utf-8' codec can't decode byte 0xd5 in position 65: invalid continuation byte\n"
     ]
    },
    {
     "ename": "UnicodeDecodeError",
     "evalue": "'utf-8' codec can't decode byte 0xd5 in position 65: invalid continuation byte",
     "output_type": "error",
     "traceback": [
      "\u001b[1;31m---------------------------------------------------------------------------\u001b[0m",
      "\u001b[1;31mUnicodeDecodeError\u001b[0m                        Traceback (most recent call last)",
      "\u001b[1;31mUnicodeDecodeError\u001b[0m: 'utf-8' codec can't decode byte 0xd5 in position 65: invalid continuation byte"
     ]
    },
    {
     "name": "stderr",
     "output_type": "stream",
     "text": [
      "Exception ignored in: 'fiona._env.log_error'\n",
      "UnicodeDecodeError: 'utf-8' codec can't decode byte 0xd5 in position 65: invalid continuation byte\n"
     ]
    },
    {
     "ename": "UnicodeDecodeError",
     "evalue": "'utf-8' codec can't decode byte 0xd5 in position 70: invalid continuation byte",
     "output_type": "error",
     "traceback": [
      "\u001b[1;31m---------------------------------------------------------------------------\u001b[0m",
      "\u001b[1;31mUnicodeDecodeError\u001b[0m                        Traceback (most recent call last)",
      "\u001b[1;31mUnicodeDecodeError\u001b[0m: 'utf-8' codec can't decode byte 0xd5 in position 70: invalid continuation byte"
     ]
    },
    {
     "name": "stderr",
     "output_type": "stream",
     "text": [
      "Exception ignored in: 'fiona._env.log_error'\n",
      "UnicodeDecodeError: 'utf-8' codec can't decode byte 0xd5 in position 70: invalid continuation byte\n"
     ]
    },
    {
     "ename": "UnicodeDecodeError",
     "evalue": "'utf-8' codec can't decode byte 0xd5 in position 70: invalid continuation byte",
     "output_type": "error",
     "traceback": [
      "\u001b[1;31m---------------------------------------------------------------------------\u001b[0m",
      "\u001b[1;31mUnicodeDecodeError\u001b[0m                        Traceback (most recent call last)",
      "\u001b[1;31mUnicodeDecodeError\u001b[0m: 'utf-8' codec can't decode byte 0xd5 in position 70: invalid continuation byte"
     ]
    },
    {
     "name": "stderr",
     "output_type": "stream",
     "text": [
      "Exception ignored in: 'fiona._env.log_error'\n",
      "UnicodeDecodeError: 'utf-8' codec can't decode byte 0xd5 in position 70: invalid continuation byte\n"
     ]
    },
    {
     "ename": "UnicodeDecodeError",
     "evalue": "'utf-8' codec can't decode byte 0xd5 in position 61: invalid continuation byte",
     "output_type": "error",
     "traceback": [
      "\u001b[1;31m---------------------------------------------------------------------------\u001b[0m",
      "\u001b[1;31mUnicodeDecodeError\u001b[0m                        Traceback (most recent call last)",
      "\u001b[1;31mUnicodeDecodeError\u001b[0m: 'utf-8' codec can't decode byte 0xd5 in position 61: invalid continuation byte"
     ]
    },
    {
     "name": "stderr",
     "output_type": "stream",
     "text": [
      "Exception ignored in: 'fiona._env.log_error'\n",
      "UnicodeDecodeError: 'utf-8' codec can't decode byte 0xd5 in position 61: invalid continuation byte\n"
     ]
    },
    {
     "ename": "UnicodeDecodeError",
     "evalue": "'utf-8' codec can't decode byte 0xd5 in position 61: invalid continuation byte",
     "output_type": "error",
     "traceback": [
      "\u001b[1;31m---------------------------------------------------------------------------\u001b[0m",
      "\u001b[1;31mUnicodeDecodeError\u001b[0m                        Traceback (most recent call last)",
      "\u001b[1;31mUnicodeDecodeError\u001b[0m: 'utf-8' codec can't decode byte 0xd5 in position 61: invalid continuation byte"
     ]
    },
    {
     "name": "stderr",
     "output_type": "stream",
     "text": [
      "Exception ignored in: 'fiona._env.log_error'\n",
      "UnicodeDecodeError: 'utf-8' codec can't decode byte 0xd5 in position 61: invalid continuation byte\n"
     ]
    },
    {
     "ename": "UnicodeDecodeError",
     "evalue": "'utf-8' codec can't decode byte 0xd5 in position 60: invalid continuation byte",
     "output_type": "error",
     "traceback": [
      "\u001b[1;31m---------------------------------------------------------------------------\u001b[0m",
      "\u001b[1;31mUnicodeDecodeError\u001b[0m                        Traceback (most recent call last)",
      "\u001b[1;31mUnicodeDecodeError\u001b[0m: 'utf-8' codec can't decode byte 0xd5 in position 60: invalid continuation byte"
     ]
    },
    {
     "name": "stderr",
     "output_type": "stream",
     "text": [
      "Exception ignored in: 'fiona._env.log_error'\n",
      "UnicodeDecodeError: 'utf-8' codec can't decode byte 0xd5 in position 60: invalid continuation byte\n"
     ]
    },
    {
     "ename": "UnicodeDecodeError",
     "evalue": "'utf-8' codec can't decode byte 0xd5 in position 60: invalid continuation byte",
     "output_type": "error",
     "traceback": [
      "\u001b[1;31m---------------------------------------------------------------------------\u001b[0m",
      "\u001b[1;31mUnicodeDecodeError\u001b[0m                        Traceback (most recent call last)",
      "\u001b[1;31mUnicodeDecodeError\u001b[0m: 'utf-8' codec can't decode byte 0xd5 in position 60: invalid continuation byte"
     ]
    },
    {
     "name": "stderr",
     "output_type": "stream",
     "text": [
      "Exception ignored in: 'fiona._env.log_error'\n",
      "UnicodeDecodeError: 'utf-8' codec can't decode byte 0xd5 in position 60: invalid continuation byte\n"
     ]
    },
    {
     "ename": "UnicodeDecodeError",
     "evalue": "'utf-8' codec can't decode byte 0xd5 in position 65: invalid continuation byte",
     "output_type": "error",
     "traceback": [
      "\u001b[1;31m---------------------------------------------------------------------------\u001b[0m",
      "\u001b[1;31mUnicodeDecodeError\u001b[0m                        Traceback (most recent call last)",
      "\u001b[1;31mUnicodeDecodeError\u001b[0m: 'utf-8' codec can't decode byte 0xd5 in position 65: invalid continuation byte"
     ]
    },
    {
     "name": "stderr",
     "output_type": "stream",
     "text": [
      "Exception ignored in: 'fiona._env.log_error'\n",
      "UnicodeDecodeError: 'utf-8' codec can't decode byte 0xd5 in position 65: invalid continuation byte\n"
     ]
    },
    {
     "ename": "UnicodeDecodeError",
     "evalue": "'utf-8' codec can't decode byte 0xd5 in position 65: invalid continuation byte",
     "output_type": "error",
     "traceback": [
      "\u001b[1;31m---------------------------------------------------------------------------\u001b[0m",
      "\u001b[1;31mUnicodeDecodeError\u001b[0m                        Traceback (most recent call last)",
      "\u001b[1;31mUnicodeDecodeError\u001b[0m: 'utf-8' codec can't decode byte 0xd5 in position 65: invalid continuation byte"
     ]
    },
    {
     "name": "stderr",
     "output_type": "stream",
     "text": [
      "Exception ignored in: 'fiona._env.log_error'\n",
      "UnicodeDecodeError: 'utf-8' codec can't decode byte 0xd5 in position 65: invalid continuation byte\n"
     ]
    },
    {
     "ename": "UnicodeDecodeError",
     "evalue": "'utf-8' codec can't decode byte 0xd5 in position 70: invalid continuation byte",
     "output_type": "error",
     "traceback": [
      "\u001b[1;31m---------------------------------------------------------------------------\u001b[0m",
      "\u001b[1;31mUnicodeDecodeError\u001b[0m                        Traceback (most recent call last)",
      "\u001b[1;31mUnicodeDecodeError\u001b[0m: 'utf-8' codec can't decode byte 0xd5 in position 70: invalid continuation byte"
     ]
    },
    {
     "name": "stderr",
     "output_type": "stream",
     "text": [
      "Exception ignored in: 'fiona._env.log_error'\n",
      "UnicodeDecodeError: 'utf-8' codec can't decode byte 0xd5 in position 70: invalid continuation byte\n"
     ]
    },
    {
     "ename": "UnicodeDecodeError",
     "evalue": "'utf-8' codec can't decode byte 0xd5 in position 70: invalid continuation byte",
     "output_type": "error",
     "traceback": [
      "\u001b[1;31m---------------------------------------------------------------------------\u001b[0m",
      "\u001b[1;31mUnicodeDecodeError\u001b[0m                        Traceback (most recent call last)",
      "\u001b[1;31mUnicodeDecodeError\u001b[0m: 'utf-8' codec can't decode byte 0xd5 in position 70: invalid continuation byte"
     ]
    },
    {
     "name": "stderr",
     "output_type": "stream",
     "text": [
      "Exception ignored in: 'fiona._env.log_error'\n",
      "UnicodeDecodeError: 'utf-8' codec can't decode byte 0xd5 in position 70: invalid continuation byte\n"
     ]
    },
    {
     "ename": "UnicodeDecodeError",
     "evalue": "'utf-8' codec can't decode byte 0xd5 in position 61: invalid continuation byte",
     "output_type": "error",
     "traceback": [
      "\u001b[1;31m---------------------------------------------------------------------------\u001b[0m",
      "\u001b[1;31mUnicodeDecodeError\u001b[0m                        Traceback (most recent call last)",
      "\u001b[1;31mUnicodeDecodeError\u001b[0m: 'utf-8' codec can't decode byte 0xd5 in position 61: invalid continuation byte"
     ]
    },
    {
     "name": "stderr",
     "output_type": "stream",
     "text": [
      "Exception ignored in: 'fiona._env.log_error'\n",
      "UnicodeDecodeError: 'utf-8' codec can't decode byte 0xd5 in position 61: invalid continuation byte\n"
     ]
    },
    {
     "ename": "UnicodeDecodeError",
     "evalue": "'utf-8' codec can't decode byte 0xd5 in position 61: invalid continuation byte",
     "output_type": "error",
     "traceback": [
      "\u001b[1;31m---------------------------------------------------------------------------\u001b[0m",
      "\u001b[1;31mUnicodeDecodeError\u001b[0m                        Traceback (most recent call last)",
      "\u001b[1;31mUnicodeDecodeError\u001b[0m: 'utf-8' codec can't decode byte 0xd5 in position 61: invalid continuation byte"
     ]
    },
    {
     "name": "stderr",
     "output_type": "stream",
     "text": [
      "Exception ignored in: 'fiona._env.log_error'\n",
      "UnicodeDecodeError: 'utf-8' codec can't decode byte 0xd5 in position 61: invalid continuation byte\n"
     ]
    },
    {
     "ename": "UnicodeDecodeError",
     "evalue": "'utf-8' codec can't decode byte 0xd5 in position 60: invalid continuation byte",
     "output_type": "error",
     "traceback": [
      "\u001b[1;31m---------------------------------------------------------------------------\u001b[0m",
      "\u001b[1;31mUnicodeDecodeError\u001b[0m                        Traceback (most recent call last)",
      "\u001b[1;31mUnicodeDecodeError\u001b[0m: 'utf-8' codec can't decode byte 0xd5 in position 60: invalid continuation byte"
     ]
    },
    {
     "name": "stderr",
     "output_type": "stream",
     "text": [
      "Exception ignored in: 'fiona._env.log_error'\n",
      "UnicodeDecodeError: 'utf-8' codec can't decode byte 0xd5 in position 60: invalid continuation byte\n"
     ]
    },
    {
     "ename": "UnicodeDecodeError",
     "evalue": "'utf-8' codec can't decode byte 0xd5 in position 60: invalid continuation byte",
     "output_type": "error",
     "traceback": [
      "\u001b[1;31m---------------------------------------------------------------------------\u001b[0m",
      "\u001b[1;31mUnicodeDecodeError\u001b[0m                        Traceback (most recent call last)",
      "\u001b[1;31mUnicodeDecodeError\u001b[0m: 'utf-8' codec can't decode byte 0xd5 in position 60: invalid continuation byte"
     ]
    },
    {
     "name": "stderr",
     "output_type": "stream",
     "text": [
      "Exception ignored in: 'fiona._env.log_error'\n",
      "UnicodeDecodeError: 'utf-8' codec can't decode byte 0xd5 in position 60: invalid continuation byte\n"
     ]
    }
   ],
   "source": [
    "import geopandas as gpd"
   ]
  },
  {
   "cell_type": "code",
   "execution_count": 2,
   "metadata": {},
   "outputs": [
    {
     "ename": "UnicodeDecodeError",
     "evalue": "'utf-8' codec can't decode byte 0xd5 in position 65: invalid continuation byte",
     "output_type": "error",
     "traceback": [
      "\u001b[1;31m---------------------------------------------------------------------------\u001b[0m",
      "\u001b[1;31mUnicodeDecodeError\u001b[0m                        Traceback (most recent call last)",
      "\u001b[1;31mUnicodeDecodeError\u001b[0m: 'utf-8' codec can't decode byte 0xd5 in position 65: invalid continuation byte"
     ]
    },
    {
     "name": "stderr",
     "output_type": "stream",
     "text": [
      "Exception ignored in: 'fiona._env.log_error'\n",
      "UnicodeDecodeError: 'utf-8' codec can't decode byte 0xd5 in position 65: invalid continuation byte\n"
     ]
    },
    {
     "ename": "UnicodeDecodeError",
     "evalue": "'utf-8' codec can't decode byte 0xd5 in position 65: invalid continuation byte",
     "output_type": "error",
     "traceback": [
      "\u001b[1;31m---------------------------------------------------------------------------\u001b[0m",
      "\u001b[1;31mUnicodeDecodeError\u001b[0m                        Traceback (most recent call last)",
      "\u001b[1;31mUnicodeDecodeError\u001b[0m: 'utf-8' codec can't decode byte 0xd5 in position 65: invalid continuation byte"
     ]
    },
    {
     "name": "stderr",
     "output_type": "stream",
     "text": [
      "Exception ignored in: 'fiona._env.log_error'\n",
      "UnicodeDecodeError: 'utf-8' codec can't decode byte 0xd5 in position 65: invalid continuation byte\n"
     ]
    },
    {
     "ename": "UnicodeDecodeError",
     "evalue": "'utf-8' codec can't decode byte 0xd5 in position 70: invalid continuation byte",
     "output_type": "error",
     "traceback": [
      "\u001b[1;31m---------------------------------------------------------------------------\u001b[0m",
      "\u001b[1;31mUnicodeDecodeError\u001b[0m                        Traceback (most recent call last)",
      "\u001b[1;31mUnicodeDecodeError\u001b[0m: 'utf-8' codec can't decode byte 0xd5 in position 70: invalid continuation byte"
     ]
    },
    {
     "name": "stderr",
     "output_type": "stream",
     "text": [
      "Exception ignored in: 'fiona._env.log_error'\n",
      "UnicodeDecodeError: 'utf-8' codec can't decode byte 0xd5 in position 70: invalid continuation byte\n"
     ]
    },
    {
     "ename": "UnicodeDecodeError",
     "evalue": "'utf-8' codec can't decode byte 0xd5 in position 70: invalid continuation byte",
     "output_type": "error",
     "traceback": [
      "\u001b[1;31m---------------------------------------------------------------------------\u001b[0m",
      "\u001b[1;31mUnicodeDecodeError\u001b[0m                        Traceback (most recent call last)",
      "\u001b[1;31mUnicodeDecodeError\u001b[0m: 'utf-8' codec can't decode byte 0xd5 in position 70: invalid continuation byte"
     ]
    },
    {
     "name": "stderr",
     "output_type": "stream",
     "text": [
      "Exception ignored in: 'fiona._env.log_error'\n",
      "UnicodeDecodeError: 'utf-8' codec can't decode byte 0xd5 in position 70: invalid continuation byte\n"
     ]
    },
    {
     "ename": "UnicodeDecodeError",
     "evalue": "'utf-8' codec can't decode byte 0xd5 in position 61: invalid continuation byte",
     "output_type": "error",
     "traceback": [
      "\u001b[1;31m---------------------------------------------------------------------------\u001b[0m",
      "\u001b[1;31mUnicodeDecodeError\u001b[0m                        Traceback (most recent call last)",
      "\u001b[1;31mUnicodeDecodeError\u001b[0m: 'utf-8' codec can't decode byte 0xd5 in position 61: invalid continuation byte"
     ]
    },
    {
     "name": "stderr",
     "output_type": "stream",
     "text": [
      "Exception ignored in: 'fiona._env.log_error'\n",
      "UnicodeDecodeError: 'utf-8' codec can't decode byte 0xd5 in position 61: invalid continuation byte\n"
     ]
    },
    {
     "ename": "UnicodeDecodeError",
     "evalue": "'utf-8' codec can't decode byte 0xd5 in position 61: invalid continuation byte",
     "output_type": "error",
     "traceback": [
      "\u001b[1;31m---------------------------------------------------------------------------\u001b[0m",
      "\u001b[1;31mUnicodeDecodeError\u001b[0m                        Traceback (most recent call last)",
      "\u001b[1;31mUnicodeDecodeError\u001b[0m: 'utf-8' codec can't decode byte 0xd5 in position 61: invalid continuation byte"
     ]
    },
    {
     "name": "stderr",
     "output_type": "stream",
     "text": [
      "Exception ignored in: 'fiona._env.log_error'\n",
      "UnicodeDecodeError: 'utf-8' codec can't decode byte 0xd5 in position 61: invalid continuation byte\n"
     ]
    },
    {
     "ename": "UnicodeDecodeError",
     "evalue": "'utf-8' codec can't decode byte 0xd5 in position 60: invalid continuation byte",
     "output_type": "error",
     "traceback": [
      "\u001b[1;31m---------------------------------------------------------------------------\u001b[0m",
      "\u001b[1;31mUnicodeDecodeError\u001b[0m                        Traceback (most recent call last)",
      "\u001b[1;31mUnicodeDecodeError\u001b[0m: 'utf-8' codec can't decode byte 0xd5 in position 60: invalid continuation byte"
     ]
    },
    {
     "name": "stderr",
     "output_type": "stream",
     "text": [
      "Exception ignored in: 'fiona._env.log_error'\n",
      "UnicodeDecodeError: 'utf-8' codec can't decode byte 0xd5 in position 60: invalid continuation byte\n"
     ]
    },
    {
     "ename": "UnicodeDecodeError",
     "evalue": "'utf-8' codec can't decode byte 0xd5 in position 60: invalid continuation byte",
     "output_type": "error",
     "traceback": [
      "\u001b[1;31m---------------------------------------------------------------------------\u001b[0m",
      "\u001b[1;31mUnicodeDecodeError\u001b[0m                        Traceback (most recent call last)",
      "\u001b[1;31mUnicodeDecodeError\u001b[0m: 'utf-8' codec can't decode byte 0xd5 in position 60: invalid continuation byte"
     ]
    },
    {
     "name": "stderr",
     "output_type": "stream",
     "text": [
      "Exception ignored in: 'fiona._env.log_error'\n",
      "UnicodeDecodeError: 'utf-8' codec can't decode byte 0xd5 in position 60: invalid continuation byte\n"
     ]
    },
    {
     "ename": "UnicodeDecodeError",
     "evalue": "'utf-8' codec can't decode byte 0xd5 in position 65: invalid continuation byte",
     "output_type": "error",
     "traceback": [
      "\u001b[1;31m---------------------------------------------------------------------------\u001b[0m",
      "\u001b[1;31mUnicodeDecodeError\u001b[0m                        Traceback (most recent call last)",
      "\u001b[1;31mUnicodeDecodeError\u001b[0m: 'utf-8' codec can't decode byte 0xd5 in position 65: invalid continuation byte"
     ]
    },
    {
     "name": "stderr",
     "output_type": "stream",
     "text": [
      "Exception ignored in: 'fiona._env.log_error'\n",
      "UnicodeDecodeError: 'utf-8' codec can't decode byte 0xd5 in position 65: invalid continuation byte\n"
     ]
    },
    {
     "ename": "UnicodeDecodeError",
     "evalue": "'utf-8' codec can't decode byte 0xd5 in position 65: invalid continuation byte",
     "output_type": "error",
     "traceback": [
      "\u001b[1;31m---------------------------------------------------------------------------\u001b[0m",
      "\u001b[1;31mUnicodeDecodeError\u001b[0m                        Traceback (most recent call last)",
      "\u001b[1;31mUnicodeDecodeError\u001b[0m: 'utf-8' codec can't decode byte 0xd5 in position 65: invalid continuation byte"
     ]
    },
    {
     "name": "stderr",
     "output_type": "stream",
     "text": [
      "Exception ignored in: 'fiona._env.log_error'\n",
      "UnicodeDecodeError: 'utf-8' codec can't decode byte 0xd5 in position 65: invalid continuation byte\n"
     ]
    },
    {
     "ename": "UnicodeDecodeError",
     "evalue": "'utf-8' codec can't decode byte 0xd5 in position 70: invalid continuation byte",
     "output_type": "error",
     "traceback": [
      "\u001b[1;31m---------------------------------------------------------------------------\u001b[0m",
      "\u001b[1;31mUnicodeDecodeError\u001b[0m                        Traceback (most recent call last)",
      "\u001b[1;31mUnicodeDecodeError\u001b[0m: 'utf-8' codec can't decode byte 0xd5 in position 70: invalid continuation byte"
     ]
    },
    {
     "name": "stderr",
     "output_type": "stream",
     "text": [
      "Exception ignored in: 'fiona._env.log_error'\n",
      "UnicodeDecodeError: 'utf-8' codec can't decode byte 0xd5 in position 70: invalid continuation byte\n"
     ]
    },
    {
     "ename": "UnicodeDecodeError",
     "evalue": "'utf-8' codec can't decode byte 0xd5 in position 70: invalid continuation byte",
     "output_type": "error",
     "traceback": [
      "\u001b[1;31m---------------------------------------------------------------------------\u001b[0m",
      "\u001b[1;31mUnicodeDecodeError\u001b[0m                        Traceback (most recent call last)",
      "\u001b[1;31mUnicodeDecodeError\u001b[0m: 'utf-8' codec can't decode byte 0xd5 in position 70: invalid continuation byte"
     ]
    },
    {
     "name": "stderr",
     "output_type": "stream",
     "text": [
      "Exception ignored in: 'fiona._env.log_error'\n",
      "UnicodeDecodeError: 'utf-8' codec can't decode byte 0xd5 in position 70: invalid continuation byte\n"
     ]
    },
    {
     "ename": "UnicodeDecodeError",
     "evalue": "'utf-8' codec can't decode byte 0xd5 in position 61: invalid continuation byte",
     "output_type": "error",
     "traceback": [
      "\u001b[1;31m---------------------------------------------------------------------------\u001b[0m",
      "\u001b[1;31mUnicodeDecodeError\u001b[0m                        Traceback (most recent call last)",
      "\u001b[1;31mUnicodeDecodeError\u001b[0m: 'utf-8' codec can't decode byte 0xd5 in position 61: invalid continuation byte"
     ]
    },
    {
     "name": "stderr",
     "output_type": "stream",
     "text": [
      "Exception ignored in: 'fiona._env.log_error'\n",
      "UnicodeDecodeError: 'utf-8' codec can't decode byte 0xd5 in position 61: invalid continuation byte\n"
     ]
    },
    {
     "ename": "UnicodeDecodeError",
     "evalue": "'utf-8' codec can't decode byte 0xd5 in position 61: invalid continuation byte",
     "output_type": "error",
     "traceback": [
      "\u001b[1;31m---------------------------------------------------------------------------\u001b[0m",
      "\u001b[1;31mUnicodeDecodeError\u001b[0m                        Traceback (most recent call last)",
      "\u001b[1;31mUnicodeDecodeError\u001b[0m: 'utf-8' codec can't decode byte 0xd5 in position 61: invalid continuation byte"
     ]
    },
    {
     "name": "stderr",
     "output_type": "stream",
     "text": [
      "Exception ignored in: 'fiona._env.log_error'\n",
      "UnicodeDecodeError: 'utf-8' codec can't decode byte 0xd5 in position 61: invalid continuation byte\n"
     ]
    },
    {
     "ename": "UnicodeDecodeError",
     "evalue": "'utf-8' codec can't decode byte 0xd5 in position 60: invalid continuation byte",
     "output_type": "error",
     "traceback": [
      "\u001b[1;31m---------------------------------------------------------------------------\u001b[0m",
      "\u001b[1;31mUnicodeDecodeError\u001b[0m                        Traceback (most recent call last)",
      "\u001b[1;31mUnicodeDecodeError\u001b[0m: 'utf-8' codec can't decode byte 0xd5 in position 60: invalid continuation byte"
     ]
    },
    {
     "name": "stderr",
     "output_type": "stream",
     "text": [
      "Exception ignored in: 'fiona._env.log_error'\n",
      "UnicodeDecodeError: 'utf-8' codec can't decode byte 0xd5 in position 60: invalid continuation byte\n"
     ]
    },
    {
     "ename": "UnicodeDecodeError",
     "evalue": "'utf-8' codec can't decode byte 0xd5 in position 60: invalid continuation byte",
     "output_type": "error",
     "traceback": [
      "\u001b[1;31m---------------------------------------------------------------------------\u001b[0m",
      "\u001b[1;31mUnicodeDecodeError\u001b[0m                        Traceback (most recent call last)",
      "\u001b[1;31mUnicodeDecodeError\u001b[0m: 'utf-8' codec can't decode byte 0xd5 in position 60: invalid continuation byte"
     ]
    },
    {
     "name": "stderr",
     "output_type": "stream",
     "text": [
      "Exception ignored in: 'fiona._env.log_error'\n",
      "UnicodeDecodeError: 'utf-8' codec can't decode byte 0xd5 in position 60: invalid continuation byte\n"
     ]
    }
   ],
   "source": [
    "# check geojson data\n",
    "df=gpd.read_file('./Datasets/telangana_shapefile.geojson')"
   ]
  },
  {
   "cell_type": "code",
   "execution_count": 3,
   "metadata": {},
   "outputs": [
    {
     "data": {
      "text/html": [
       "<div>\n",
       "<style scoped>\n",
       "    .dataframe tbody tr th:only-of-type {\n",
       "        vertical-align: middle;\n",
       "    }\n",
       "\n",
       "    .dataframe tbody tr th {\n",
       "        vertical-align: top;\n",
       "    }\n",
       "\n",
       "    .dataframe thead th {\n",
       "        text-align: right;\n",
       "    }\n",
       "</style>\n",
       "<table border=\"1\" class=\"dataframe\">\n",
       "  <thead>\n",
       "    <tr style=\"text-align: right;\">\n",
       "      <th></th>\n",
       "      <th>GID_0</th>\n",
       "      <th>NAME_0</th>\n",
       "      <th>GID_1</th>\n",
       "      <th>NAME_1</th>\n",
       "      <th>VARNAME_1</th>\n",
       "      <th>NL_NAME_1</th>\n",
       "      <th>TYPE_1</th>\n",
       "      <th>ENGTYPE_1</th>\n",
       "      <th>CC_1</th>\n",
       "      <th>HASC_1</th>\n",
       "      <th>geometry</th>\n",
       "    </tr>\n",
       "  </thead>\n",
       "  <tbody>\n",
       "    <tr>\n",
       "      <th>0</th>\n",
       "      <td>IND</td>\n",
       "      <td>India</td>\n",
       "      <td>IND.32_1</td>\n",
       "      <td>Telangana</td>\n",
       "      <td>None</td>\n",
       "      <td>None</td>\n",
       "      <td>State</td>\n",
       "      <td>State</td>\n",
       "      <td>None</td>\n",
       "      <td>IN.TG</td>\n",
       "      <td>MULTIPOLYGON (((79.21147 16.36281, 79.22324 16...</td>\n",
       "    </tr>\n",
       "  </tbody>\n",
       "</table>\n",
       "</div>"
      ],
      "text/plain": [
       "  GID_0 NAME_0     GID_1     NAME_1 VARNAME_1 NL_NAME_1 TYPE_1 ENGTYPE_1  \\\n",
       "0   IND  India  IND.32_1  Telangana      None      None  State     State   \n",
       "\n",
       "   CC_1 HASC_1                                           geometry  \n",
       "0  None  IN.TG  MULTIPOLYGON (((79.21147 16.36281, 79.22324 16...  "
      ]
     },
     "execution_count": 3,
     "metadata": {},
     "output_type": "execute_result"
    }
   ],
   "source": [
    "# checkdata\n",
    "df"
   ]
  },
  {
   "cell_type": "code",
   "execution_count": 4,
   "metadata": {},
   "outputs": [
    {
     "data": {
      "text/plain": [
       "<AxesSubplot:>"
      ]
     },
     "execution_count": 4,
     "metadata": {},
     "output_type": "execute_result"
    },
    {
     "data": {
      "image/png": "[encoded data removed]",
      "text/plain": [
       "<Figure size 432x288 with 1 Axes>"
      ]
     },
     "metadata": {
      "needs_background": "light"
     },
     "output_type": "display_data"
    }
   ],
   "source": [
    "# draw map\n",
    "df.plot()"
   ]
  },
  {
   "cell_type": "markdown",
   "metadata": {},
   "source": [
    "#### since the map just have Telangana whole area"
   ]
  },
  {
   "cell_type": "markdown",
   "metadata": {},
   "source": [
    "#### from https://geodata.ucdavis.edu/gadm/gadm4.0/shp/gadm40_IND_shp.zip to download the data"
   ]
  },
  {
   "cell_type": "code",
   "execution_count": 99,
   "metadata": {},
   "outputs": [
    {
     "ename": "UnicodeDecodeError",
     "evalue": "'utf-8' codec can't decode byte 0xd5 in position 65: invalid continuation byte",
     "output_type": "error",
     "traceback": [
      "\u001b[1;31m---------------------------------------------------------------------------\u001b[0m",
      "\u001b[1;31mUnicodeDecodeError\u001b[0m                        Traceback (most recent call last)",
      "\u001b[1;31mUnicodeDecodeError\u001b[0m: 'utf-8' codec can't decode byte 0xd5 in position 65: invalid continuation byte"
     ]
    },
    {
     "name": "stderr",
     "output_type": "stream",
     "text": [
      "Exception ignored in: 'fiona._env.log_error'\n",
      "UnicodeDecodeError: 'utf-8' codec can't decode byte 0xd5 in position 65: invalid continuation byte\n"
     ]
    },
    {
     "ename": "UnicodeDecodeError",
     "evalue": "'utf-8' codec can't decode byte 0xd5 in position 65: invalid continuation byte",
     "output_type": "error",
     "traceback": [
      "\u001b[1;31m---------------------------------------------------------------------------\u001b[0m",
      "\u001b[1;31mUnicodeDecodeError\u001b[0m                        Traceback (most recent call last)",
      "\u001b[1;31mUnicodeDecodeError\u001b[0m: 'utf-8' codec can't decode byte 0xd5 in position 65: invalid continuation byte"
     ]
    },
    {
     "name": "stderr",
     "output_type": "stream",
     "text": [
      "Exception ignored in: 'fiona._env.log_error'\n",
      "UnicodeDecodeError: 'utf-8' codec can't decode byte 0xd5 in position 65: invalid continuation byte\n"
     ]
    },
    {
     "ename": "UnicodeDecodeError",
     "evalue": "'utf-8' codec can't decode byte 0xd5 in position 70: invalid continuation byte",
     "output_type": "error",
     "traceback": [
      "\u001b[1;31m---------------------------------------------------------------------------\u001b[0m",
      "\u001b[1;31mUnicodeDecodeError\u001b[0m                        Traceback (most recent call last)",
      "\u001b[1;31mUnicodeDecodeError\u001b[0m: 'utf-8' codec can't decode byte 0xd5 in position 70: invalid continuation byte"
     ]
    },
    {
     "name": "stderr",
     "output_type": "stream",
     "text": [
      "Exception ignored in: 'fiona._env.log_error'\n",
      "UnicodeDecodeError: 'utf-8' codec can't decode byte 0xd5 in position 70: invalid continuation byte\n"
     ]
    },
    {
     "ename": "UnicodeDecodeError",
     "evalue": "'utf-8' codec can't decode byte 0xd5 in position 70: invalid continuation byte",
     "output_type": "error",
     "traceback": [
      "\u001b[1;31m---------------------------------------------------------------------------\u001b[0m",
      "\u001b[1;31mUnicodeDecodeError\u001b[0m                        Traceback (most recent call last)",
      "\u001b[1;31mUnicodeDecodeError\u001b[0m: 'utf-8' codec can't decode byte 0xd5 in position 70: invalid continuation byte"
     ]
    },
    {
     "name": "stderr",
     "output_type": "stream",
     "text": [
      "Exception ignored in: 'fiona._env.log_error'\n",
      "UnicodeDecodeError: 'utf-8' codec can't decode byte 0xd5 in position 70: invalid continuation byte\n"
     ]
    },
    {
     "ename": "UnicodeDecodeError",
     "evalue": "'utf-8' codec can't decode byte 0xd5 in position 61: invalid continuation byte",
     "output_type": "error",
     "traceback": [
      "\u001b[1;31m---------------------------------------------------------------------------\u001b[0m",
      "\u001b[1;31mUnicodeDecodeError\u001b[0m                        Traceback (most recent call last)",
      "\u001b[1;31mUnicodeDecodeError\u001b[0m: 'utf-8' codec can't decode byte 0xd5 in position 61: invalid continuation byte"
     ]
    },
    {
     "name": "stderr",
     "output_type": "stream",
     "text": [
      "Exception ignored in: 'fiona._env.log_error'\n",
      "UnicodeDecodeError: 'utf-8' codec can't decode byte 0xd5 in position 61: invalid continuation byte\n"
     ]
    },
    {
     "ename": "UnicodeDecodeError",
     "evalue": "'utf-8' codec can't decode byte 0xd5 in position 61: invalid continuation byte",
     "output_type": "error",
     "traceback": [
      "\u001b[1;31m---------------------------------------------------------------------------\u001b[0m",
      "\u001b[1;31mUnicodeDecodeError\u001b[0m                        Traceback (most recent call last)",
      "\u001b[1;31mUnicodeDecodeError\u001b[0m: 'utf-8' codec can't decode byte 0xd5 in position 61: invalid continuation byte"
     ]
    },
    {
     "name": "stderr",
     "output_type": "stream",
     "text": [
      "Exception ignored in: 'fiona._env.log_error'\n",
      "UnicodeDecodeError: 'utf-8' codec can't decode byte 0xd5 in position 61: invalid continuation byte\n"
     ]
    },
    {
     "ename": "UnicodeDecodeError",
     "evalue": "'utf-8' codec can't decode byte 0xd5 in position 60: invalid continuation byte",
     "output_type": "error",
     "traceback": [
      "\u001b[1;31m---------------------------------------------------------------------------\u001b[0m",
      "\u001b[1;31mUnicodeDecodeError\u001b[0m                        Traceback (most recent call last)",
      "\u001b[1;31mUnicodeDecodeError\u001b[0m: 'utf-8' codec can't decode byte 0xd5 in position 60: invalid continuation byte"
     ]
    },
    {
     "name": "stderr",
     "output_type": "stream",
     "text": [
      "Exception ignored in: 'fiona._env.log_error'\n",
      "UnicodeDecodeError: 'utf-8' codec can't decode byte 0xd5 in position 60: invalid continuation byte\n"
     ]
    },
    {
     "ename": "UnicodeDecodeError",
     "evalue": "'utf-8' codec can't decode byte 0xd5 in position 60: invalid continuation byte",
     "output_type": "error",
     "traceback": [
      "\u001b[1;31m---------------------------------------------------------------------------\u001b[0m",
      "\u001b[1;31mUnicodeDecodeError\u001b[0m                        Traceback (most recent call last)",
      "\u001b[1;31mUnicodeDecodeError\u001b[0m: 'utf-8' codec can't decode byte 0xd5 in position 60: invalid continuation byte"
     ]
    },
    {
     "name": "stderr",
     "output_type": "stream",
     "text": [
      "Exception ignored in: 'fiona._env.log_error'\n",
      "UnicodeDecodeError: 'utf-8' codec can't decode byte 0xd5 in position 60: invalid continuation byte\n"
     ]
    },
    {
     "ename": "UnicodeDecodeError",
     "evalue": "'utf-8' codec can't decode byte 0xd5 in position 65: invalid continuation byte",
     "output_type": "error",
     "traceback": [
      "\u001b[1;31m---------------------------------------------------------------------------\u001b[0m",
      "\u001b[1;31mUnicodeDecodeError\u001b[0m                        Traceback (most recent call last)",
      "\u001b[1;31mUnicodeDecodeError\u001b[0m: 'utf-8' codec can't decode byte 0xd5 in position 65: invalid continuation byte"
     ]
    },
    {
     "name": "stderr",
     "output_type": "stream",
     "text": [
      "Exception ignored in: 'fiona._env.log_error'\n",
      "UnicodeDecodeError: 'utf-8' codec can't decode byte 0xd5 in position 65: invalid continuation byte\n"
     ]
    },
    {
     "ename": "UnicodeDecodeError",
     "evalue": "'utf-8' codec can't decode byte 0xd5 in position 65: invalid continuation byte",
     "output_type": "error",
     "traceback": [
      "\u001b[1;31m---------------------------------------------------------------------------\u001b[0m",
      "\u001b[1;31mUnicodeDecodeError\u001b[0m                        Traceback (most recent call last)",
      "\u001b[1;31mUnicodeDecodeError\u001b[0m: 'utf-8' codec can't decode byte 0xd5 in position 65: invalid continuation byte"
     ]
    },
    {
     "name": "stderr",
     "output_type": "stream",
     "text": [
      "Exception ignored in: 'fiona._env.log_error'\n",
      "UnicodeDecodeError: 'utf-8' codec can't decode byte 0xd5 in position 65: invalid continuation byte\n"
     ]
    },
    {
     "ename": "UnicodeDecodeError",
     "evalue": "'utf-8' codec can't decode byte 0xd5 in position 70: invalid continuation byte",
     "output_type": "error",
     "traceback": [
      "\u001b[1;31m---------------------------------------------------------------------------\u001b[0m",
      "\u001b[1;31mUnicodeDecodeError\u001b[0m                        Traceback (most recent call last)",
      "\u001b[1;31mUnicodeDecodeError\u001b[0m: 'utf-8' codec can't decode byte 0xd5 in position 70: invalid continuation byte"
     ]
    },
    {
     "name": "stderr",
     "output_type": "stream",
     "text": [
      "Exception ignored in: 'fiona._env.log_error'\n",
      "UnicodeDecodeError: 'utf-8' codec can't decode byte 0xd5 in position 70: invalid continuation byte\n"
     ]
    },
    {
     "ename": "UnicodeDecodeError",
     "evalue": "'utf-8' codec can't decode byte 0xd5 in position 70: invalid continuation byte",
     "output_type": "error",
     "traceback": [
      "\u001b[1;31m---------------------------------------------------------------------------\u001b[0m",
      "\u001b[1;31mUnicodeDecodeError\u001b[0m                        Traceback (most recent call last)",
      "\u001b[1;31mUnicodeDecodeError\u001b[0m: 'utf-8' codec can't decode byte 0xd5 in position 70: invalid continuation byte"
     ]
    },
    {
     "name": "stderr",
     "output_type": "stream",
     "text": [
      "Exception ignored in: 'fiona._env.log_error'\n",
      "UnicodeDecodeError: 'utf-8' codec can't decode byte 0xd5 in position 70: invalid continuation byte\n"
     ]
    },
    {
     "ename": "UnicodeDecodeError",
     "evalue": "'utf-8' codec can't decode byte 0xd5 in position 61: invalid continuation byte",
     "output_type": "error",
     "traceback": [
      "\u001b[1;31m---------------------------------------------------------------------------\u001b[0m",
      "\u001b[1;31mUnicodeDecodeError\u001b[0m                        Traceback (most recent call last)",
      "\u001b[1;31mUnicodeDecodeError\u001b[0m: 'utf-8' codec can't decode byte 0xd5 in position 61: invalid continuation byte"
     ]
    },
    {
     "name": "stderr",
     "output_type": "stream",
     "text": [
      "Exception ignored in: 'fiona._env.log_error'\n",
      "UnicodeDecodeError: 'utf-8' codec can't decode byte 0xd5 in position 61: invalid continuation byte\n"
     ]
    },
    {
     "ename": "UnicodeDecodeError",
     "evalue": "'utf-8' codec can't decode byte 0xd5 in position 61: invalid continuation byte",
     "output_type": "error",
     "traceback": [
      "\u001b[1;31m---------------------------------------------------------------------------\u001b[0m",
      "\u001b[1;31mUnicodeDecodeError\u001b[0m                        Traceback (most recent call last)",
      "\u001b[1;31mUnicodeDecodeError\u001b[0m: 'utf-8' codec can't decode byte 0xd5 in position 61: invalid continuation byte"
     ]
    },
    {
     "name": "stderr",
     "output_type": "stream",
     "text": [
      "Exception ignored in: 'fiona._env.log_error'\n",
      "UnicodeDecodeError: 'utf-8' codec can't decode byte 0xd5 in position 61: invalid continuation byte\n"
     ]
    },
    {
     "ename": "UnicodeDecodeError",
     "evalue": "'utf-8' codec can't decode byte 0xd5 in position 60: invalid continuation byte",
     "output_type": "error",
     "traceback": [
      "\u001b[1;31m---------------------------------------------------------------------------\u001b[0m",
      "\u001b[1;31mUnicodeDecodeError\u001b[0m                        Traceback (most recent call last)",
      "\u001b[1;31mUnicodeDecodeError\u001b[0m: 'utf-8' codec can't decode byte 0xd5 in position 60: invalid continuation byte"
     ]
    },
    {
     "name": "stderr",
     "output_type": "stream",
     "text": [
      "Exception ignored in: 'fiona._env.log_error'\n",
      "UnicodeDecodeError: 'utf-8' codec can't decode byte 0xd5 in position 60: invalid continuation byte\n"
     ]
    },
    {
     "ename": "UnicodeDecodeError",
     "evalue": "'utf-8' codec can't decode byte 0xd5 in position 60: invalid continuation byte",
     "output_type": "error",
     "traceback": [
      "\u001b[1;31m---------------------------------------------------------------------------\u001b[0m",
      "\u001b[1;31mUnicodeDecodeError\u001b[0m                        Traceback (most recent call last)",
      "\u001b[1;31mUnicodeDecodeError\u001b[0m: 'utf-8' codec can't decode byte 0xd5 in position 60: invalid continuation byte"
     ]
    },
    {
     "name": "stderr",
     "output_type": "stream",
     "text": [
      "Exception ignored in: 'fiona._env.log_error'\n",
      "UnicodeDecodeError: 'utf-8' codec can't decode byte 0xd5 in position 60: invalid continuation byte\n"
     ]
    }
   ],
   "source": [
    "# read level3 data \n",
    "df = gpd.read_file('./Datasets/gadm40_IND_shp/gadm40_IND_3.shp')"
   ]
  },
  {
   "cell_type": "code",
   "execution_count": 6,
   "metadata": {},
   "outputs": [
    {
     "data": {
      "text/html": [
       "<div>\n",
       "<style scoped>\n",
       "    .dataframe tbody tr th:only-of-type {\n",
       "        vertical-align: middle;\n",
       "    }\n",
       "\n",
       "    .dataframe tbody tr th {\n",
       "        vertical-align: top;\n",
       "    }\n",
       "\n",
       "    .dataframe thead th {\n",
       "        text-align: right;\n",
       "    }\n",
       "</style>\n",
       "<table border=\"1\" class=\"dataframe\">\n",
       "  <thead>\n",
       "    <tr style=\"text-align: right;\">\n",
       "      <th></th>\n",
       "      <th>ID_0</th>\n",
       "      <th>COUNTRY</th>\n",
       "      <th>NAME_1</th>\n",
       "      <th>NL_NAME_1</th>\n",
       "      <th>NAME_2</th>\n",
       "      <th>NL_NAME_2</th>\n",
       "      <th>ID_3</th>\n",
       "      <th>NAME_3</th>\n",
       "      <th>VARNAME_3</th>\n",
       "      <th>NL_NAME_3</th>\n",
       "      <th>TYPE_3</th>\n",
       "      <th>ENGTYPE_3</th>\n",
       "      <th>CC_3</th>\n",
       "      <th>HASC_3</th>\n",
       "      <th>geometry</th>\n",
       "    </tr>\n",
       "  </thead>\n",
       "  <tbody>\n",
       "    <tr>\n",
       "      <th>0</th>\n",
       "      <td>IND</td>\n",
       "      <td>India</td>\n",
       "      <td>Andaman and Nicobar</td>\n",
       "      <td>None</td>\n",
       "      <td>Nicobar Islands</td>\n",
       "      <td>None</td>\n",
       "      <td>IND.1.1.1_1</td>\n",
       "      <td>n.a. ( 2304)</td>\n",
       "      <td>None</td>\n",
       "      <td>None</td>\n",
       "      <td>Taluk</td>\n",
       "      <td>Taluk</td>\n",
       "      <td>None</td>\n",
       "      <td>None</td>\n",
       "      <td>MULTIPOLYGON (((93.78988 6.85201, 93.79015 6.8...</td>\n",
       "    </tr>\n",
       "    <tr>\n",
       "      <th>1</th>\n",
       "      <td>IND</td>\n",
       "      <td>India</td>\n",
       "      <td>Andaman and Nicobar</td>\n",
       "      <td>None</td>\n",
       "      <td>North and Middle Andaman</td>\n",
       "      <td>None</td>\n",
       "      <td>IND.1.2.1_1</td>\n",
       "      <td>n.a. ( 2178)</td>\n",
       "      <td>None</td>\n",
       "      <td>None</td>\n",
       "      <td>Taluk</td>\n",
       "      <td>Taluk</td>\n",
       "      <td>None</td>\n",
       "      <td>None</td>\n",
       "      <td>MULTIPOLYGON (((92.84441 12.14969, 92.84466 12...</td>\n",
       "    </tr>\n",
       "    <tr>\n",
       "      <th>2</th>\n",
       "      <td>IND</td>\n",
       "      <td>India</td>\n",
       "      <td>Andaman and Nicobar</td>\n",
       "      <td>None</td>\n",
       "      <td>South Andaman</td>\n",
       "      <td>None</td>\n",
       "      <td>IND.1.3.1_1</td>\n",
       "      <td>n.a. ( 2178)</td>\n",
       "      <td>None</td>\n",
       "      <td>None</td>\n",
       "      <td>Taluk</td>\n",
       "      <td>Taluk</td>\n",
       "      <td>None</td>\n",
       "      <td>None</td>\n",
       "      <td>MULTIPOLYGON (((92.52111 10.89694, 92.52306 10...</td>\n",
       "    </tr>\n",
       "    <tr>\n",
       "      <th>3</th>\n",
       "      <td>IND</td>\n",
       "      <td>India</td>\n",
       "      <td>Andhra Pradesh</td>\n",
       "      <td>None</td>\n",
       "      <td>Anantapur</td>\n",
       "      <td>None</td>\n",
       "      <td>IND.2.1.1_1</td>\n",
       "      <td>Anantapur</td>\n",
       "      <td>None</td>\n",
       "      <td>None</td>\n",
       "      <td>Taluk</td>\n",
       "      <td>Taluk</td>\n",
       "      <td>None</td>\n",
       "      <td>None</td>\n",
       "      <td>POLYGON ((77.84469 14.58576, 77.83913 14.58792...</td>\n",
       "    </tr>\n",
       "    <tr>\n",
       "      <th>4</th>\n",
       "      <td>IND</td>\n",
       "      <td>India</td>\n",
       "      <td>Andhra Pradesh</td>\n",
       "      <td>None</td>\n",
       "      <td>Anantapur</td>\n",
       "      <td>None</td>\n",
       "      <td>IND.2.1.2_1</td>\n",
       "      <td>Dharmavaram</td>\n",
       "      <td>None</td>\n",
       "      <td>None</td>\n",
       "      <td>Taluk</td>\n",
       "      <td>Taluk</td>\n",
       "      <td>None</td>\n",
       "      <td>None</td>\n",
       "      <td>POLYGON ((77.35452 14.52155, 77.35507 14.53332...</td>\n",
       "    </tr>\n",
       "  </tbody>\n",
       "</table>\n",
       "</div>"
      ],
      "text/plain": [
       "  ID_0 COUNTRY               NAME_1 NL_NAME_1                    NAME_2  \\\n",
       "0  IND   India  Andaman and Nicobar      None           Nicobar Islands   \n",
       "1  IND   India  Andaman and Nicobar      None  North and Middle Andaman   \n",
       "2  IND   India  Andaman and Nicobar      None             South Andaman   \n",
       "3  IND   India       Andhra Pradesh      None                 Anantapur   \n",
       "4  IND   India       Andhra Pradesh      None                 Anantapur   \n",
       "\n",
       "  NL_NAME_2         ID_3        NAME_3 VARNAME_3 NL_NAME_3 TYPE_3 ENGTYPE_3  \\\n",
       "0      None  IND.1.1.1_1  n.a. ( 2304)      None      None  Taluk     Taluk   \n",
       "1      None  IND.1.2.1_1  n.a. ( 2178)      None      None  Taluk     Taluk   \n",
       "2      None  IND.1.3.1_1  n.a. ( 2178)      None      None  Taluk     Taluk   \n",
       "3      None  IND.2.1.1_1     Anantapur      None      None  Taluk     Taluk   \n",
       "4      None  IND.2.1.2_1   Dharmavaram      None      None  Taluk     Taluk   \n",
       "\n",
       "   CC_3 HASC_3                                           geometry  \n",
       "0  None   None  MULTIPOLYGON (((93.78988 6.85201, 93.79015 6.8...  \n",
       "1  None   None  MULTIPOLYGON (((92.84441 12.14969, 92.84466 12...  \n",
       "2  None   None  MULTIPOLYGON (((92.52111 10.89694, 92.52306 10...  \n",
       "3  None   None  POLYGON ((77.84469 14.58576, 77.83913 14.58792...  \n",
       "4  None   None  POLYGON ((77.35452 14.52155, 77.35507 14.53332...  "
      ]
     },
     "execution_count": 6,
     "metadata": {},
     "output_type": "execute_result"
    }
   ],
   "source": [
    "# check first 10 row\n",
    "df.head()"
   ]
  },
  {
   "cell_type": "code",
   "execution_count": 7,
   "metadata": {},
   "outputs": [],
   "source": [
    "#find Telangana NAME_1 as  Telangana\n",
    "Telangana = df[df['NAME_1']=='Telangana']"
   ]
  },
  {
   "cell_type": "code",
   "execution_count": 100,
   "metadata": {},
   "outputs": [
    {
     "data": {
      "text/plain": [
       "<AxesSubplot:>"
      ]
     },
     "execution_count": 100,
     "metadata": {},
     "output_type": "execute_result"
    },
    {
     "data": {
      "image/png": "[encoded data removed]",
      "text/plain": [
       "<Figure size 432x288 with 1 Axes>"
      ]
     },
     "metadata": {
      "needs_background": "light"
     },
     "output_type": "display_data"
    }
   ],
   "source": [
    "# draw the map\n",
    "Telangana.plot()"
   ]
  },
  {
   "cell_type": "code",
   "execution_count": 101,
   "metadata": {},
   "outputs": [
    {
     "ename": "UnicodeDecodeError",
     "evalue": "'utf-8' codec can't decode byte 0xd5 in position 65: invalid continuation byte",
     "output_type": "error",
     "traceback": [
      "\u001b[1;31m---------------------------------------------------------------------------\u001b[0m",
      "\u001b[1;31mUnicodeDecodeError\u001b[0m                        Traceback (most recent call last)",
      "\u001b[1;31mUnicodeDecodeError\u001b[0m: 'utf-8' codec can't decode byte 0xd5 in position 65: invalid continuation byte"
     ]
    },
    {
     "name": "stderr",
     "output_type": "stream",
     "text": [
      "Exception ignored in: 'fiona._env.log_error'\n",
      "UnicodeDecodeError: 'utf-8' codec can't decode byte 0xd5 in position 65: invalid continuation byte\n"
     ]
    },
    {
     "ename": "UnicodeDecodeError",
     "evalue": "'utf-8' codec can't decode byte 0xd5 in position 65: invalid continuation byte",
     "output_type": "error",
     "traceback": [
      "\u001b[1;31m---------------------------------------------------------------------------\u001b[0m",
      "\u001b[1;31mUnicodeDecodeError\u001b[0m                        Traceback (most recent call last)",
      "\u001b[1;31mUnicodeDecodeError\u001b[0m: 'utf-8' codec can't decode byte 0xd5 in position 65: invalid continuation byte"
     ]
    },
    {
     "name": "stderr",
     "output_type": "stream",
     "text": [
      "Exception ignored in: 'fiona._env.log_error'\n",
      "UnicodeDecodeError: 'utf-8' codec can't decode byte 0xd5 in position 65: invalid continuation byte\n"
     ]
    },
    {
     "ename": "UnicodeDecodeError",
     "evalue": "'utf-8' codec can't decode byte 0xd5 in position 70: invalid continuation byte",
     "output_type": "error",
     "traceback": [
      "\u001b[1;31m---------------------------------------------------------------------------\u001b[0m",
      "\u001b[1;31mUnicodeDecodeError\u001b[0m                        Traceback (most recent call last)",
      "\u001b[1;31mUnicodeDecodeError\u001b[0m: 'utf-8' codec can't decode byte 0xd5 in position 70: invalid continuation byte"
     ]
    },
    {
     "name": "stderr",
     "output_type": "stream",
     "text": [
      "Exception ignored in: 'fiona._env.log_error'\n",
      "UnicodeDecodeError: 'utf-8' codec can't decode byte 0xd5 in position 70: invalid continuation byte\n"
     ]
    },
    {
     "ename": "UnicodeDecodeError",
     "evalue": "'utf-8' codec can't decode byte 0xd5 in position 70: invalid continuation byte",
     "output_type": "error",
     "traceback": [
      "\u001b[1;31m---------------------------------------------------------------------------\u001b[0m",
      "\u001b[1;31mUnicodeDecodeError\u001b[0m                        Traceback (most recent call last)",
      "\u001b[1;31mUnicodeDecodeError\u001b[0m: 'utf-8' codec can't decode byte 0xd5 in position 70: invalid continuation byte"
     ]
    },
    {
     "name": "stderr",
     "output_type": "stream",
     "text": [
      "Exception ignored in: 'fiona._env.log_error'\n",
      "UnicodeDecodeError: 'utf-8' codec can't decode byte 0xd5 in position 70: invalid continuation byte\n"
     ]
    },
    {
     "ename": "UnicodeDecodeError",
     "evalue": "'utf-8' codec can't decode byte 0xd5 in position 61: invalid continuation byte",
     "output_type": "error",
     "traceback": [
      "\u001b[1;31m---------------------------------------------------------------------------\u001b[0m",
      "\u001b[1;31mUnicodeDecodeError\u001b[0m                        Traceback (most recent call last)",
      "\u001b[1;31mUnicodeDecodeError\u001b[0m: 'utf-8' codec can't decode byte 0xd5 in position 61: invalid continuation byte"
     ]
    },
    {
     "name": "stderr",
     "output_type": "stream",
     "text": [
      "Exception ignored in: 'fiona._env.log_error'\n",
      "UnicodeDecodeError: 'utf-8' codec can't decode byte 0xd5 in position 61: invalid continuation byte\n"
     ]
    },
    {
     "ename": "UnicodeDecodeError",
     "evalue": "'utf-8' codec can't decode byte 0xd5 in position 61: invalid continuation byte",
     "output_type": "error",
     "traceback": [
      "\u001b[1;31m---------------------------------------------------------------------------\u001b[0m",
      "\u001b[1;31mUnicodeDecodeError\u001b[0m                        Traceback (most recent call last)",
      "\u001b[1;31mUnicodeDecodeError\u001b[0m: 'utf-8' codec can't decode byte 0xd5 in position 61: invalid continuation byte"
     ]
    },
    {
     "name": "stderr",
     "output_type": "stream",
     "text": [
      "Exception ignored in: 'fiona._env.log_error'\n",
      "UnicodeDecodeError: 'utf-8' codec can't decode byte 0xd5 in position 61: invalid continuation byte\n"
     ]
    },
    {
     "ename": "UnicodeDecodeError",
     "evalue": "'utf-8' codec can't decode byte 0xd5 in position 60: invalid continuation byte",
     "output_type": "error",
     "traceback": [
      "\u001b[1;31m---------------------------------------------------------------------------\u001b[0m",
      "\u001b[1;31mUnicodeDecodeError\u001b[0m                        Traceback (most recent call last)",
      "\u001b[1;31mUnicodeDecodeError\u001b[0m: 'utf-8' codec can't decode byte 0xd5 in position 60: invalid continuation byte"
     ]
    },
    {
     "name": "stderr",
     "output_type": "stream",
     "text": [
      "Exception ignored in: 'fiona._env.log_error'\n",
      "UnicodeDecodeError: 'utf-8' codec can't decode byte 0xd5 in position 60: invalid continuation byte\n"
     ]
    },
    {
     "ename": "UnicodeDecodeError",
     "evalue": "'utf-8' codec can't decode byte 0xd5 in position 60: invalid continuation byte",
     "output_type": "error",
     "traceback": [
      "\u001b[1;31m---------------------------------------------------------------------------\u001b[0m",
      "\u001b[1;31mUnicodeDecodeError\u001b[0m                        Traceback (most recent call last)",
      "\u001b[1;31mUnicodeDecodeError\u001b[0m: 'utf-8' codec can't decode byte 0xd5 in position 60: invalid continuation byte"
     ]
    },
    {
     "name": "stderr",
     "output_type": "stream",
     "text": [
      "Exception ignored in: 'fiona._env.log_error'\n",
      "UnicodeDecodeError: 'utf-8' codec can't decode byte 0xd5 in position 60: invalid continuation byte\n"
     ]
    },
    {
     "ename": "UnicodeDecodeError",
     "evalue": "'utf-8' codec can't decode byte 0xd5 in position 65: invalid continuation byte",
     "output_type": "error",
     "traceback": [
      "\u001b[1;31m---------------------------------------------------------------------------\u001b[0m",
      "\u001b[1;31mUnicodeDecodeError\u001b[0m                        Traceback (most recent call last)",
      "\u001b[1;31mUnicodeDecodeError\u001b[0m: 'utf-8' codec can't decode byte 0xd5 in position 65: invalid continuation byte"
     ]
    },
    {
     "name": "stderr",
     "output_type": "stream",
     "text": [
      "Exception ignored in: 'fiona._env.log_error'\n",
      "UnicodeDecodeError: 'utf-8' codec can't decode byte 0xd5 in position 65: invalid continuation byte\n"
     ]
    },
    {
     "ename": "UnicodeDecodeError",
     "evalue": "'utf-8' codec can't decode byte 0xd5 in position 65: invalid continuation byte",
     "output_type": "error",
     "traceback": [
      "\u001b[1;31m---------------------------------------------------------------------------\u001b[0m",
      "\u001b[1;31mUnicodeDecodeError\u001b[0m                        Traceback (most recent call last)",
      "\u001b[1;31mUnicodeDecodeError\u001b[0m: 'utf-8' codec can't decode byte 0xd5 in position 65: invalid continuation byte"
     ]
    },
    {
     "name": "stderr",
     "output_type": "stream",
     "text": [
      "Exception ignored in: 'fiona._env.log_error'\n",
      "UnicodeDecodeError: 'utf-8' codec can't decode byte 0xd5 in position 65: invalid continuation byte\n"
     ]
    },
    {
     "ename": "UnicodeDecodeError",
     "evalue": "'utf-8' codec can't decode byte 0xd5 in position 70: invalid continuation byte",
     "output_type": "error",
     "traceback": [
      "\u001b[1;31m---------------------------------------------------------------------------\u001b[0m",
      "\u001b[1;31mUnicodeDecodeError\u001b[0m                        Traceback (most recent call last)",
      "\u001b[1;31mUnicodeDecodeError\u001b[0m: 'utf-8' codec can't decode byte 0xd5 in position 70: invalid continuation byte"
     ]
    },
    {
     "name": "stderr",
     "output_type": "stream",
     "text": [
      "Exception ignored in: 'fiona._env.log_error'\n",
      "UnicodeDecodeError: 'utf-8' codec can't decode byte 0xd5 in position 70: invalid continuation byte\n"
     ]
    },
    {
     "ename": "UnicodeDecodeError",
     "evalue": "'utf-8' codec can't decode byte 0xd5 in position 70: invalid continuation byte",
     "output_type": "error",
     "traceback": [
      "\u001b[1;31m---------------------------------------------------------------------------\u001b[0m",
      "\u001b[1;31mUnicodeDecodeError\u001b[0m                        Traceback (most recent call last)",
      "\u001b[1;31mUnicodeDecodeError\u001b[0m: 'utf-8' codec can't decode byte 0xd5 in position 70: invalid continuation byte"
     ]
    },
    {
     "name": "stderr",
     "output_type": "stream",
     "text": [
      "Exception ignored in: 'fiona._env.log_error'\n",
      "UnicodeDecodeError: 'utf-8' codec can't decode byte 0xd5 in position 70: invalid continuation byte\n"
     ]
    },
    {
     "ename": "UnicodeDecodeError",
     "evalue": "'utf-8' codec can't decode byte 0xd5 in position 61: invalid continuation byte",
     "output_type": "error",
     "traceback": [
      "\u001b[1;31m---------------------------------------------------------------------------\u001b[0m",
      "\u001b[1;31mUnicodeDecodeError\u001b[0m                        Traceback (most recent call last)",
      "\u001b[1;31mUnicodeDecodeError\u001b[0m: 'utf-8' codec can't decode byte 0xd5 in position 61: invalid continuation byte"
     ]
    },
    {
     "name": "stderr",
     "output_type": "stream",
     "text": [
      "Exception ignored in: 'fiona._env.log_error'\n",
      "UnicodeDecodeError: 'utf-8' codec can't decode byte 0xd5 in position 61: invalid continuation byte\n"
     ]
    },
    {
     "ename": "UnicodeDecodeError",
     "evalue": "'utf-8' codec can't decode byte 0xd5 in position 61: invalid continuation byte",
     "output_type": "error",
     "traceback": [
      "\u001b[1;31m---------------------------------------------------------------------------\u001b[0m",
      "\u001b[1;31mUnicodeDecodeError\u001b[0m                        Traceback (most recent call last)",
      "\u001b[1;31mUnicodeDecodeError\u001b[0m: 'utf-8' codec can't decode byte 0xd5 in position 61: invalid continuation byte"
     ]
    },
    {
     "name": "stderr",
     "output_type": "stream",
     "text": [
      "Exception ignored in: 'fiona._env.log_error'\n",
      "UnicodeDecodeError: 'utf-8' codec can't decode byte 0xd5 in position 61: invalid continuation byte\n"
     ]
    },
    {
     "ename": "UnicodeDecodeError",
     "evalue": "'utf-8' codec can't decode byte 0xd5 in position 60: invalid continuation byte",
     "output_type": "error",
     "traceback": [
      "\u001b[1;31m---------------------------------------------------------------------------\u001b[0m",
      "\u001b[1;31mUnicodeDecodeError\u001b[0m                        Traceback (most recent call last)",
      "\u001b[1;31mUnicodeDecodeError\u001b[0m: 'utf-8' codec can't decode byte 0xd5 in position 60: invalid continuation byte"
     ]
    },
    {
     "name": "stderr",
     "output_type": "stream",
     "text": [
      "Exception ignored in: 'fiona._env.log_error'\n",
      "UnicodeDecodeError: 'utf-8' codec can't decode byte 0xd5 in position 60: invalid continuation byte\n"
     ]
    },
    {
     "ename": "UnicodeDecodeError",
     "evalue": "'utf-8' codec can't decode byte 0xd5 in position 60: invalid continuation byte",
     "output_type": "error",
     "traceback": [
      "\u001b[1;31m---------------------------------------------------------------------------\u001b[0m",
      "\u001b[1;31mUnicodeDecodeError\u001b[0m                        Traceback (most recent call last)",
      "\u001b[1;31mUnicodeDecodeError\u001b[0m: 'utf-8' codec can't decode byte 0xd5 in position 60: invalid continuation byte"
     ]
    },
    {
     "name": "stderr",
     "output_type": "stream",
     "text": [
      "Exception ignored in: 'fiona._env.log_error'\n",
      "UnicodeDecodeError: 'utf-8' codec can't decode byte 0xd5 in position 60: invalid continuation byte\n"
     ]
    }
   ],
   "source": [
    "#save the Telangana  shapefile\n",
    "Telangana.to_file('./Datasets/Telangana.shp')"
   ]
  },
  {
   "cell_type": "code",
   "execution_count": 102,
   "metadata": {},
   "outputs": [
    {
     "data": {
      "text/plain": [
       "<Geographic 2D CRS: EPSG:4326>\n",
       "Name: WGS 84\n",
       "Axis Info [ellipsoidal]:\n",
       "- Lat[north]: Geodetic latitude (degree)\n",
       "- Lon[east]: Geodetic longitude (degree)\n",
       "Area of Use:\n",
       "- name: World\n",
       "- bounds: (-180.0, -90.0, 180.0, 90.0)\n",
       "Datum: World Geodetic System 1984\n",
       "- Ellipsoid: WGS 84\n",
       "- Prime Meridian: Greenwich"
      ]
     },
     "execution_count": 102,
     "metadata": {},
     "output_type": "execute_result"
    }
   ],
   "source": [
    "# coordinate system of Telangana\n",
    "Telangana.crs"
   ]
  },
  {
   "cell_type": "code",
   "execution_count": 103,
   "metadata": {},
   "outputs": [],
   "source": [
    "import pandas as pd"
   ]
  },
  {
   "cell_type": "code",
   "execution_count": 104,
   "metadata": {},
   "outputs": [],
   "source": [
    "# using panda to read the fire point\n",
    "fire_point=pd.read_csv('./Datasets/telangana_fires.csv')"
   ]
  },
  {
   "cell_type": "code",
   "execution_count": 105,
   "metadata": {},
   "outputs": [
    {
     "data": {
      "text/html": [
       "<div>\n",
       "<style scoped>\n",
       "    .dataframe tbody tr th:only-of-type {\n",
       "        vertical-align: middle;\n",
       "    }\n",
       "\n",
       "    .dataframe tbody tr th {\n",
       "        vertical-align: top;\n",
       "    }\n",
       "\n",
       "    .dataframe thead th {\n",
       "        text-align: right;\n",
       "    }\n",
       "</style>\n",
       "<table border=\"1\" class=\"dataframe\">\n",
       "  <thead>\n",
       "    <tr style=\"text-align: right;\">\n",
       "      <th></th>\n",
       "      <th>latitude</th>\n",
       "      <th>longitude</th>\n",
       "      <th>brightness</th>\n",
       "      <th>scan</th>\n",
       "      <th>track</th>\n",
       "      <th>acq_date</th>\n",
       "      <th>acq_time</th>\n",
       "      <th>satellite</th>\n",
       "      <th>instrument</th>\n",
       "      <th>confidence</th>\n",
       "      <th>version</th>\n",
       "      <th>bright_t31</th>\n",
       "      <th>frp</th>\n",
       "      <th>daynight</th>\n",
       "      <th>type</th>\n",
       "    </tr>\n",
       "  </thead>\n",
       "  <tbody>\n",
       "    <tr>\n",
       "      <th>0</th>\n",
       "      <td>18.3777</td>\n",
       "      <td>80.5314</td>\n",
       "      <td>318.6</td>\n",
       "      <td>1.0</td>\n",
       "      <td>1.0</td>\n",
       "      <td>2015-01-02</td>\n",
       "      <td>802</td>\n",
       "      <td>Aqua</td>\n",
       "      <td>MODIS</td>\n",
       "      <td>69</td>\n",
       "      <td>6.03</td>\n",
       "      <td>302.6</td>\n",
       "      <td>7.7</td>\n",
       "      <td>D</td>\n",
       "      <td>0</td>\n",
       "    </tr>\n",
       "    <tr>\n",
       "      <th>1</th>\n",
       "      <td>17.5898</td>\n",
       "      <td>80.9893</td>\n",
       "      <td>315.4</td>\n",
       "      <td>1.2</td>\n",
       "      <td>1.1</td>\n",
       "      <td>2015-01-04</td>\n",
       "      <td>750</td>\n",
       "      <td>Aqua</td>\n",
       "      <td>MODIS</td>\n",
       "      <td>59</td>\n",
       "      <td>6.03</td>\n",
       "      <td>299.5</td>\n",
       "      <td>8.8</td>\n",
       "      <td>D</td>\n",
       "      <td>0</td>\n",
       "    </tr>\n",
       "    <tr>\n",
       "      <th>2</th>\n",
       "      <td>17.6028</td>\n",
       "      <td>81.1612</td>\n",
       "      <td>311.8</td>\n",
       "      <td>1.2</td>\n",
       "      <td>1.1</td>\n",
       "      <td>2015-01-05</td>\n",
       "      <td>527</td>\n",
       "      <td>Terra</td>\n",
       "      <td>MODIS</td>\n",
       "      <td>46</td>\n",
       "      <td>6.03</td>\n",
       "      <td>299.8</td>\n",
       "      <td>6.0</td>\n",
       "      <td>D</td>\n",
       "      <td>0</td>\n",
       "    </tr>\n",
       "    <tr>\n",
       "      <th>3</th>\n",
       "      <td>17.5241</td>\n",
       "      <td>80.3135</td>\n",
       "      <td>317.0</td>\n",
       "      <td>1.1</td>\n",
       "      <td>1.0</td>\n",
       "      <td>2015-01-05</td>\n",
       "      <td>527</td>\n",
       "      <td>Terra</td>\n",
       "      <td>MODIS</td>\n",
       "      <td>69</td>\n",
       "      <td>6.03</td>\n",
       "      <td>302.0</td>\n",
       "      <td>9.3</td>\n",
       "      <td>D</td>\n",
       "      <td>0</td>\n",
       "    </tr>\n",
       "    <tr>\n",
       "      <th>4</th>\n",
       "      <td>17.7571</td>\n",
       "      <td>80.3404</td>\n",
       "      <td>317.2</td>\n",
       "      <td>2.5</td>\n",
       "      <td>1.5</td>\n",
       "      <td>2015-01-05</td>\n",
       "      <td>833</td>\n",
       "      <td>Aqua</td>\n",
       "      <td>MODIS</td>\n",
       "      <td>53</td>\n",
       "      <td>6.03</td>\n",
       "      <td>300.0</td>\n",
       "      <td>29.3</td>\n",
       "      <td>D</td>\n",
       "      <td>0</td>\n",
       "    </tr>\n",
       "  </tbody>\n",
       "</table>\n",
       "</div>"
      ],
      "text/plain": [
       "   latitude  longitude  brightness  scan  track    acq_date  acq_time  \\\n",
       "0   18.3777    80.5314       318.6   1.0    1.0  2015-01-02       802   \n",
       "1   17.5898    80.9893       315.4   1.2    1.1  2015-01-04       750   \n",
       "2   17.6028    81.1612       311.8   1.2    1.1  2015-01-05       527   \n",
       "3   17.5241    80.3135       317.0   1.1    1.0  2015-01-05       527   \n",
       "4   17.7571    80.3404       317.2   2.5    1.5  2015-01-05       833   \n",
       "\n",
       "  satellite instrument  confidence  version  bright_t31   frp daynight  type  \n",
       "0      Aqua      MODIS          69     6.03       302.6   7.7        D     0  \n",
       "1      Aqua      MODIS          59     6.03       299.5   8.8        D     0  \n",
       "2     Terra      MODIS          46     6.03       299.8   6.0        D     0  \n",
       "3     Terra      MODIS          69     6.03       302.0   9.3        D     0  \n",
       "4      Aqua      MODIS          53     6.03       300.0  29.3        D     0  "
      ]
     },
     "execution_count": 105,
     "metadata": {},
     "output_type": "execute_result"
    }
   ],
   "source": [
    "fire_point.head()"
   ]
  },
  {
   "cell_type": "code",
   "execution_count": 106,
   "metadata": {},
   "outputs": [],
   "source": [
    "# shape the longtitude and latidude \n",
    "fire = gpd.GeoDataFrame(fire_point,geometry=gpd.points_from_xy(fire_point['longitude'],fire_point['latitude'],crs='epsg:4326'))"
   ]
  },
  {
   "cell_type": "code",
   "execution_count": 107,
   "metadata": {},
   "outputs": [
    {
     "data": {
      "text/html": [
       "<div>\n",
       "<style scoped>\n",
       "    .dataframe tbody tr th:only-of-type {\n",
       "        vertical-align: middle;\n",
       "    }\n",
       "\n",
       "    .dataframe tbody tr th {\n",
       "        vertical-align: top;\n",
       "    }\n",
       "\n",
       "    .dataframe thead th {\n",
       "        text-align: right;\n",
       "    }\n",
       "</style>\n",
       "<table border=\"1\" class=\"dataframe\">\n",
       "  <thead>\n",
       "    <tr style=\"text-align: right;\">\n",
       "      <th></th>\n",
       "      <th>latitude</th>\n",
       "      <th>longitude</th>\n",
       "      <th>brightness</th>\n",
       "      <th>scan</th>\n",
       "      <th>track</th>\n",
       "      <th>acq_date</th>\n",
       "      <th>acq_time</th>\n",
       "      <th>satellite</th>\n",
       "      <th>instrument</th>\n",
       "      <th>confidence</th>\n",
       "      <th>version</th>\n",
       "      <th>bright_t31</th>\n",
       "      <th>frp</th>\n",
       "      <th>daynight</th>\n",
       "      <th>type</th>\n",
       "      <th>geometry</th>\n",
       "    </tr>\n",
       "  </thead>\n",
       "  <tbody>\n",
       "    <tr>\n",
       "      <th>0</th>\n",
       "      <td>18.3777</td>\n",
       "      <td>80.5314</td>\n",
       "      <td>318.6</td>\n",
       "      <td>1.0</td>\n",
       "      <td>1.0</td>\n",
       "      <td>2015-01-02</td>\n",
       "      <td>802</td>\n",
       "      <td>Aqua</td>\n",
       "      <td>MODIS</td>\n",
       "      <td>69</td>\n",
       "      <td>6.03</td>\n",
       "      <td>302.6</td>\n",
       "      <td>7.7</td>\n",
       "      <td>D</td>\n",
       "      <td>0</td>\n",
       "      <td>POINT (80.53140 18.37770)</td>\n",
       "    </tr>\n",
       "    <tr>\n",
       "      <th>1</th>\n",
       "      <td>17.5898</td>\n",
       "      <td>80.9893</td>\n",
       "      <td>315.4</td>\n",
       "      <td>1.2</td>\n",
       "      <td>1.1</td>\n",
       "      <td>2015-01-04</td>\n",
       "      <td>750</td>\n",
       "      <td>Aqua</td>\n",
       "      <td>MODIS</td>\n",
       "      <td>59</td>\n",
       "      <td>6.03</td>\n",
       "      <td>299.5</td>\n",
       "      <td>8.8</td>\n",
       "      <td>D</td>\n",
       "      <td>0</td>\n",
       "      <td>POINT (80.98930 17.58980)</td>\n",
       "    </tr>\n",
       "    <tr>\n",
       "      <th>2</th>\n",
       "      <td>17.6028</td>\n",
       "      <td>81.1612</td>\n",
       "      <td>311.8</td>\n",
       "      <td>1.2</td>\n",
       "      <td>1.1</td>\n",
       "      <td>2015-01-05</td>\n",
       "      <td>527</td>\n",
       "      <td>Terra</td>\n",
       "      <td>MODIS</td>\n",
       "      <td>46</td>\n",
       "      <td>6.03</td>\n",
       "      <td>299.8</td>\n",
       "      <td>6.0</td>\n",
       "      <td>D</td>\n",
       "      <td>0</td>\n",
       "      <td>POINT (81.16120 17.60280)</td>\n",
       "    </tr>\n",
       "    <tr>\n",
       "      <th>3</th>\n",
       "      <td>17.5241</td>\n",
       "      <td>80.3135</td>\n",
       "      <td>317.0</td>\n",
       "      <td>1.1</td>\n",
       "      <td>1.0</td>\n",
       "      <td>2015-01-05</td>\n",
       "      <td>527</td>\n",
       "      <td>Terra</td>\n",
       "      <td>MODIS</td>\n",
       "      <td>69</td>\n",
       "      <td>6.03</td>\n",
       "      <td>302.0</td>\n",
       "      <td>9.3</td>\n",
       "      <td>D</td>\n",
       "      <td>0</td>\n",
       "      <td>POINT (80.31350 17.52410)</td>\n",
       "    </tr>\n",
       "    <tr>\n",
       "      <th>4</th>\n",
       "      <td>17.7571</td>\n",
       "      <td>80.3404</td>\n",
       "      <td>317.2</td>\n",
       "      <td>2.5</td>\n",
       "      <td>1.5</td>\n",
       "      <td>2015-01-05</td>\n",
       "      <td>833</td>\n",
       "      <td>Aqua</td>\n",
       "      <td>MODIS</td>\n",
       "      <td>53</td>\n",
       "      <td>6.03</td>\n",
       "      <td>300.0</td>\n",
       "      <td>29.3</td>\n",
       "      <td>D</td>\n",
       "      <td>0</td>\n",
       "      <td>POINT (80.34040 17.75710)</td>\n",
       "    </tr>\n",
       "    <tr>\n",
       "      <th>...</th>\n",
       "      <td>...</td>\n",
       "      <td>...</td>\n",
       "      <td>...</td>\n",
       "      <td>...</td>\n",
       "      <td>...</td>\n",
       "      <td>...</td>\n",
       "      <td>...</td>\n",
       "      <td>...</td>\n",
       "      <td>...</td>\n",
       "      <td>...</td>\n",
       "      <td>...</td>\n",
       "      <td>...</td>\n",
       "      <td>...</td>\n",
       "      <td>...</td>\n",
       "      <td>...</td>\n",
       "      <td>...</td>\n",
       "    </tr>\n",
       "    <tr>\n",
       "      <th>18780</th>\n",
       "      <td>18.3923</td>\n",
       "      <td>77.8257</td>\n",
       "      <td>315.4</td>\n",
       "      <td>1.0</td>\n",
       "      <td>1.0</td>\n",
       "      <td>2021-08-24</td>\n",
       "      <td>529</td>\n",
       "      <td>Terra</td>\n",
       "      <td>MODIS</td>\n",
       "      <td>61</td>\n",
       "      <td>6.03</td>\n",
       "      <td>298.3</td>\n",
       "      <td>7.2</td>\n",
       "      <td>D</td>\n",
       "      <td>0</td>\n",
       "      <td>POINT (77.82570 18.39230)</td>\n",
       "    </tr>\n",
       "    <tr>\n",
       "      <th>18781</th>\n",
       "      <td>18.4943</td>\n",
       "      <td>77.7611</td>\n",
       "      <td>317.2</td>\n",
       "      <td>1.0</td>\n",
       "      <td>1.0</td>\n",
       "      <td>2021-08-24</td>\n",
       "      <td>529</td>\n",
       "      <td>Terra</td>\n",
       "      <td>MODIS</td>\n",
       "      <td>37</td>\n",
       "      <td>6.03</td>\n",
       "      <td>298.6</td>\n",
       "      <td>8.2</td>\n",
       "      <td>D</td>\n",
       "      <td>0</td>\n",
       "      <td>POINT (77.76110 18.49430)</td>\n",
       "    </tr>\n",
       "    <tr>\n",
       "      <th>18782</th>\n",
       "      <td>18.4805</td>\n",
       "      <td>79.3012</td>\n",
       "      <td>314.0</td>\n",
       "      <td>1.9</td>\n",
       "      <td>1.3</td>\n",
       "      <td>2021-08-25</td>\n",
       "      <td>744</td>\n",
       "      <td>Aqua</td>\n",
       "      <td>MODIS</td>\n",
       "      <td>33</td>\n",
       "      <td>6.03</td>\n",
       "      <td>292.8</td>\n",
       "      <td>15.3</td>\n",
       "      <td>D</td>\n",
       "      <td>0</td>\n",
       "      <td>POINT (79.30120 18.48050)</td>\n",
       "    </tr>\n",
       "    <tr>\n",
       "      <th>18783</th>\n",
       "      <td>17.9506</td>\n",
       "      <td>80.7815</td>\n",
       "      <td>316.8</td>\n",
       "      <td>2.1</td>\n",
       "      <td>1.4</td>\n",
       "      <td>2021-08-26</td>\n",
       "      <td>826</td>\n",
       "      <td>Aqua</td>\n",
       "      <td>MODIS</td>\n",
       "      <td>48</td>\n",
       "      <td>6.03</td>\n",
       "      <td>289.9</td>\n",
       "      <td>18.6</td>\n",
       "      <td>D</td>\n",
       "      <td>2</td>\n",
       "      <td>POINT (80.78150 17.95060)</td>\n",
       "    </tr>\n",
       "    <tr>\n",
       "      <th>18784</th>\n",
       "      <td>18.0553</td>\n",
       "      <td>80.7812</td>\n",
       "      <td>318.4</td>\n",
       "      <td>2.1</td>\n",
       "      <td>1.4</td>\n",
       "      <td>2021-08-26</td>\n",
       "      <td>826</td>\n",
       "      <td>Aqua</td>\n",
       "      <td>MODIS</td>\n",
       "      <td>0</td>\n",
       "      <td>6.03</td>\n",
       "      <td>290.1</td>\n",
       "      <td>21.2</td>\n",
       "      <td>D</td>\n",
       "      <td>0</td>\n",
       "      <td>POINT (80.78120 18.05530)</td>\n",
       "    </tr>\n",
       "  </tbody>\n",
       "</table>\n",
       "<p>18785 rows × 16 columns</p>\n",
       "</div>"
      ],
      "text/plain": [
       "       latitude  longitude  brightness  scan  track    acq_date  acq_time  \\\n",
       "0       18.3777    80.5314       318.6   1.0    1.0  2015-01-02       802   \n",
       "1       17.5898    80.9893       315.4   1.2    1.1  2015-01-04       750   \n",
       "2       17.6028    81.1612       311.8   1.2    1.1  2015-01-05       527   \n",
       "3       17.5241    80.3135       317.0   1.1    1.0  2015-01-05       527   \n",
       "4       17.7571    80.3404       317.2   2.5    1.5  2015-01-05       833   \n",
       "...         ...        ...         ...   ...    ...         ...       ...   \n",
       "18780   18.3923    77.8257       315.4   1.0    1.0  2021-08-24       529   \n",
       "18781   18.4943    77.7611       317.2   1.0    1.0  2021-08-24       529   \n",
       "18782   18.4805    79.3012       314.0   1.9    1.3  2021-08-25       744   \n",
       "18783   17.9506    80.7815       316.8   2.1    1.4  2021-08-26       826   \n",
       "18784   18.0553    80.7812       318.4   2.1    1.4  2021-08-26       826   \n",
       "\n",
       "      satellite instrument  confidence  version  bright_t31   frp daynight  \\\n",
       "0          Aqua      MODIS          69     6.03       302.6   7.7        D   \n",
       "1          Aqua      MODIS          59     6.03       299.5   8.8        D   \n",
       "2         Terra      MODIS          46     6.03       299.8   6.0        D   \n",
       "3         Terra      MODIS          69     6.03       302.0   9.3        D   \n",
       "4          Aqua      MODIS          53     6.03       300.0  29.3        D   \n",
       "...         ...        ...         ...      ...         ...   ...      ...   \n",
       "18780     Terra      MODIS          61     6.03       298.3   7.2        D   \n",
       "18781     Terra      MODIS          37     6.03       298.6   8.2        D   \n",
       "18782      Aqua      MODIS          33     6.03       292.8  15.3        D   \n",
       "18783      Aqua      MODIS          48     6.03       289.9  18.6        D   \n",
       "18784      Aqua      MODIS           0     6.03       290.1  21.2        D   \n",
       "\n",
       "       type                   geometry  \n",
       "0         0  POINT (80.53140 18.37770)  \n",
       "1         0  POINT (80.98930 17.58980)  \n",
       "2         0  POINT (81.16120 17.60280)  \n",
       "3         0  POINT (80.31350 17.52410)  \n",
       "4         0  POINT (80.34040 17.75710)  \n",
       "...     ...                        ...  \n",
       "18780     0  POINT (77.82570 18.39230)  \n",
       "18781     0  POINT (77.76110 18.49430)  \n",
       "18782     0  POINT (79.30120 18.48050)  \n",
       "18783     2  POINT (80.78150 17.95060)  \n",
       "18784     0  POINT (80.78120 18.05530)  \n",
       "\n",
       "[18785 rows x 16 columns]"
      ]
     },
     "execution_count": 107,
     "metadata": {},
     "output_type": "execute_result"
    }
   ],
   "source": [
    "fire"
   ]
  },
  {
   "cell_type": "code",
   "execution_count": 109,
   "metadata": {},
   "outputs": [],
   "source": [
    "# use sjoin to have the spatial connecttion\n",
    "results=gpd.sjoin(fire,Telangana)"
   ]
  },
  {
   "cell_type": "code",
   "execution_count": 110,
   "metadata": {},
   "outputs": [
    {
     "data": {
      "text/html": [
       "<div>\n",
       "<style scoped>\n",
       "    .dataframe tbody tr th:only-of-type {\n",
       "        vertical-align: middle;\n",
       "    }\n",
       "\n",
       "    .dataframe tbody tr th {\n",
       "        vertical-align: top;\n",
       "    }\n",
       "\n",
       "    .dataframe thead th {\n",
       "        text-align: right;\n",
       "    }\n",
       "</style>\n",
       "<table border=\"1\" class=\"dataframe\">\n",
       "  <thead>\n",
       "    <tr style=\"text-align: right;\">\n",
       "      <th></th>\n",
       "      <th>latitude</th>\n",
       "      <th>longitude</th>\n",
       "      <th>brightness</th>\n",
       "      <th>scan</th>\n",
       "      <th>track</th>\n",
       "      <th>acq_date</th>\n",
       "      <th>acq_time</th>\n",
       "      <th>satellite</th>\n",
       "      <th>instrument</th>\n",
       "      <th>confidence</th>\n",
       "      <th>...</th>\n",
       "      <th>NAME_2</th>\n",
       "      <th>NL_NAME_2</th>\n",
       "      <th>ID_3</th>\n",
       "      <th>NAME_3</th>\n",
       "      <th>VARNAME_3</th>\n",
       "      <th>NL_NAME_3</th>\n",
       "      <th>TYPE_3</th>\n",
       "      <th>ENGTYPE_3</th>\n",
       "      <th>CC_3</th>\n",
       "      <th>HASC_3</th>\n",
       "    </tr>\n",
       "  </thead>\n",
       "  <tbody>\n",
       "    <tr>\n",
       "      <th>0</th>\n",
       "      <td>18.3777</td>\n",
       "      <td>80.5314</td>\n",
       "      <td>318.6</td>\n",
       "      <td>1.0</td>\n",
       "      <td>1.0</td>\n",
       "      <td>2015-01-02</td>\n",
       "      <td>802</td>\n",
       "      <td>Aqua</td>\n",
       "      <td>MODIS</td>\n",
       "      <td>69</td>\n",
       "      <td>...</td>\n",
       "      <td>Khammam</td>\n",
       "      <td>None</td>\n",
       "      <td>IND.32.4.6_1</td>\n",
       "      <td>Venkatapuram</td>\n",
       "      <td>Nugur</td>\n",
       "      <td>None</td>\n",
       "      <td>Taluk</td>\n",
       "      <td>Taluk</td>\n",
       "      <td>None</td>\n",
       "      <td>None</td>\n",
       "    </tr>\n",
       "    <tr>\n",
       "      <th>36</th>\n",
       "      <td>18.5093</td>\n",
       "      <td>80.4004</td>\n",
       "      <td>321.1</td>\n",
       "      <td>1.1</td>\n",
       "      <td>1.0</td>\n",
       "      <td>2015-01-11</td>\n",
       "      <td>756</td>\n",
       "      <td>Aqua</td>\n",
       "      <td>MODIS</td>\n",
       "      <td>56</td>\n",
       "      <td>...</td>\n",
       "      <td>Khammam</td>\n",
       "      <td>None</td>\n",
       "      <td>IND.32.4.6_1</td>\n",
       "      <td>Venkatapuram</td>\n",
       "      <td>Nugur</td>\n",
       "      <td>None</td>\n",
       "      <td>Taluk</td>\n",
       "      <td>Taluk</td>\n",
       "      <td>None</td>\n",
       "      <td>None</td>\n",
       "    </tr>\n",
       "    <tr>\n",
       "      <th>39</th>\n",
       "      <td>18.3891</td>\n",
       "      <td>80.5292</td>\n",
       "      <td>322.0</td>\n",
       "      <td>1.1</td>\n",
       "      <td>1.0</td>\n",
       "      <td>2015-01-11</td>\n",
       "      <td>756</td>\n",
       "      <td>Aqua</td>\n",
       "      <td>MODIS</td>\n",
       "      <td>65</td>\n",
       "      <td>...</td>\n",
       "      <td>Khammam</td>\n",
       "      <td>None</td>\n",
       "      <td>IND.32.4.6_1</td>\n",
       "      <td>Venkatapuram</td>\n",
       "      <td>Nugur</td>\n",
       "      <td>None</td>\n",
       "      <td>Taluk</td>\n",
       "      <td>Taluk</td>\n",
       "      <td>None</td>\n",
       "      <td>None</td>\n",
       "    </tr>\n",
       "    <tr>\n",
       "      <th>92</th>\n",
       "      <td>18.3329</td>\n",
       "      <td>80.5348</td>\n",
       "      <td>321.4</td>\n",
       "      <td>1.0</td>\n",
       "      <td>1.0</td>\n",
       "      <td>2015-01-18</td>\n",
       "      <td>803</td>\n",
       "      <td>Aqua</td>\n",
       "      <td>MODIS</td>\n",
       "      <td>72</td>\n",
       "      <td>...</td>\n",
       "      <td>Khammam</td>\n",
       "      <td>None</td>\n",
       "      <td>IND.32.4.6_1</td>\n",
       "      <td>Venkatapuram</td>\n",
       "      <td>Nugur</td>\n",
       "      <td>None</td>\n",
       "      <td>Taluk</td>\n",
       "      <td>Taluk</td>\n",
       "      <td>None</td>\n",
       "      <td>None</td>\n",
       "    </tr>\n",
       "    <tr>\n",
       "      <th>178</th>\n",
       "      <td>18.3090</td>\n",
       "      <td>80.7168</td>\n",
       "      <td>309.5</td>\n",
       "      <td>1.4</td>\n",
       "      <td>1.2</td>\n",
       "      <td>2015-01-28</td>\n",
       "      <td>533</td>\n",
       "      <td>Terra</td>\n",
       "      <td>MODIS</td>\n",
       "      <td>36</td>\n",
       "      <td>...</td>\n",
       "      <td>Khammam</td>\n",
       "      <td>None</td>\n",
       "      <td>IND.32.4.6_1</td>\n",
       "      <td>Venkatapuram</td>\n",
       "      <td>Nugur</td>\n",
       "      <td>None</td>\n",
       "      <td>Taluk</td>\n",
       "      <td>Taluk</td>\n",
       "      <td>None</td>\n",
       "      <td>None</td>\n",
       "    </tr>\n",
       "  </tbody>\n",
       "</table>\n",
       "<p>5 rows × 31 columns</p>\n",
       "</div>"
      ],
      "text/plain": [
       "     latitude  longitude  brightness  scan  track    acq_date  acq_time  \\\n",
       "0     18.3777    80.5314       318.6   1.0    1.0  2015-01-02       802   \n",
       "36    18.5093    80.4004       321.1   1.1    1.0  2015-01-11       756   \n",
       "39    18.3891    80.5292       322.0   1.1    1.0  2015-01-11       756   \n",
       "92    18.3329    80.5348       321.4   1.0    1.0  2015-01-18       803   \n",
       "178   18.3090    80.7168       309.5   1.4    1.2  2015-01-28       533   \n",
       "\n",
       "    satellite instrument  confidence  ...   NAME_2  NL_NAME_2          ID_3  \\\n",
       "0        Aqua      MODIS          69  ...  Khammam       None  IND.32.4.6_1   \n",
       "36       Aqua      MODIS          56  ...  Khammam       None  IND.32.4.6_1   \n",
       "39       Aqua      MODIS          65  ...  Khammam       None  IND.32.4.6_1   \n",
       "92       Aqua      MODIS          72  ...  Khammam       None  IND.32.4.6_1   \n",
       "178     Terra      MODIS          36  ...  Khammam       None  IND.32.4.6_1   \n",
       "\n",
       "           NAME_3  VARNAME_3 NL_NAME_3  TYPE_3 ENGTYPE_3  CC_3 HASC_3  \n",
       "0    Venkatapuram      Nugur      None   Taluk     Taluk  None   None  \n",
       "36   Venkatapuram      Nugur      None   Taluk     Taluk  None   None  \n",
       "39   Venkatapuram      Nugur      None   Taluk     Taluk  None   None  \n",
       "92   Venkatapuram      Nugur      None   Taluk     Taluk  None   None  \n",
       "178  Venkatapuram      Nugur      None   Taluk     Taluk  None   None  \n",
       "\n",
       "[5 rows x 31 columns]"
      ]
     },
     "execution_count": 110,
     "metadata": {},
     "output_type": "execute_result"
    }
   ],
   "source": [
    "results.head()"
   ]
  },
  {
   "cell_type": "code",
   "execution_count": 111,
   "metadata": {},
   "outputs": [
    {
     "data": {
      "text/plain": [
       "array(['Adilabad', 'Asifabad', 'Boath', 'Chinnur', 'Khanapur',\n",
       "       'Laxettipet', 'Mudhol', 'Nirmal', 'Sirpur', 'Utnur', 'Hyderabad',\n",
       "       'Huzurabad', 'Jagtial', 'Karimnagar', 'Manthani', 'Metpalli',\n",
       "       'Sirsilla', 'Sultanabad', 'Bhadrachalam', 'Borgampad', 'Khammam',\n",
       "       'Kottagudem', 'Madhira', 'Venkatapuram', 'Yellandu', 'Achampet',\n",
       "       'Alampur', 'Atamkur', 'Farooq Nagar', 'Gadwal', 'Kalwakurti',\n",
       "       'Kolhapur', 'Korangal', 'Mahbubnagar', 'Makhtal', 'Nagar Karnul',\n",
       "       'Wanparthy', 'Gajwel', 'Jogipet', 'Medak', 'Narayankher',\n",
       "       'Narsapur', 'Sangareddi', 'Siddipet', 'Zahirabad', 'Bhongir',\n",
       "       'Devarkonda', 'Huzurnagar', 'Mirialguda', 'Nalgonda', 'Ramannapet',\n",
       "       'Suriapet', 'Armur', 'Banswada', 'Bodhan', 'Kamareddy', 'Madnur',\n",
       "       'Nizamabad', 'Yellareddi', 'Chevella', 'Ibrahimpatan', 'Medchal',\n",
       "       'n.a. ( 1728)', 'Pargi', 'Tandur', 'Vikarabad', 'Hanmakonda',\n",
       "       'Jangaon', 'Mulug', 'n.a. ( 1711)', 'Narsampet', 'Parkal'],\n",
       "      dtype=object)"
      ]
     },
     "execution_count": 111,
     "metadata": {},
     "output_type": "execute_result"
    }
   ],
   "source": [
    "# check the level3 area name\n",
    "Telangana['NAME_3'].unique()"
   ]
  },
  {
   "cell_type": "code",
   "execution_count": 117,
   "metadata": {},
   "outputs": [
    {
     "data": {
      "text/plain": [
       "['latitude', 'longitude', 'acq_date', 'NAME_3']"
      ]
     },
     "execution_count": 117,
     "metadata": {},
     "output_type": "execute_result"
    }
   ],
   "source": [
    "results.columns.values.tolist()"
   ]
  },
  {
   "cell_type": "code",
   "execution_count": 118,
   "metadata": {},
   "outputs": [],
   "source": [
    "results=results[['latitude','longitude','acq_date','NAME_3']]"
   ]
  },
  {
   "cell_type": "code",
   "execution_count": 119,
   "metadata": {},
   "outputs": [
    {
     "data": {
      "text/plain": [
       "array(['Venkatapuram', 'Borgampad', 'Bhadrachalam', 'Yellandu', 'Nirmal',\n",
       "       'Bodhan', 'Nizamabad', 'Kottagudem', 'Madhira', 'Achampet',\n",
       "       'Siddipet', 'Mahbubnagar', 'Narsampet', 'Huzurnagar', 'Mulug',\n",
       "       'Parkal', 'Manthani', 'Banswada', 'Metpalli', 'Sultanabad',\n",
       "       'Sangareddi', 'Narsapur', 'Jangaon', 'Kalwakurti', 'Medak',\n",
       "       'Khammam', 'Narayankher', 'Farooq Nagar', 'Jogipet', 'Madnur',\n",
       "       'Khanapur', 'Jagtial', 'Wanparthy', 'Kolhapur', 'n.a. ( 1711)',\n",
       "       'Armur', 'Tandur', 'Kamareddy', 'Vikarabad', 'Utnur',\n",
       "       'Ibrahimpatan', 'Bhongir', 'Chevella', 'Yellareddi', 'Pargi',\n",
       "       'Karimnagar', 'Nalgonda', 'Nagar Karnul', 'Hanmakonda',\n",
       "       'Ramannapet', 'Sirsilla', 'Zahirabad', 'Mudhol', 'Asifabad',\n",
       "       'Laxettipet', 'n.a. ( 1728)', 'Alampur', 'Sirpur', 'Chinnur',\n",
       "       'Boath', 'Makhtal', 'Medchal', 'Suriapet', 'Huzurabad',\n",
       "       'Mirialguda', 'Atamkur', 'Gajwel', 'Devarkonda', 'Hyderabad',\n",
       "       'Adilabad', 'Gadwal', 'Korangal'], dtype=object)"
      ]
     },
     "execution_count": 119,
     "metadata": {},
     "output_type": "execute_result"
    }
   ],
   "source": [
    "results['NAME_3'].unique()"
   ]
  },
  {
   "cell_type": "code",
   "execution_count": 120,
   "metadata": {},
   "outputs": [],
   "source": [
    "# add one row to record the time\n",
    "results['date']=[date[:4] for date in results['acq_date']]"
   ]
  },
  {
   "cell_type": "code",
   "execution_count": 121,
   "metadata": {},
   "outputs": [
    {
     "data": {
      "text/html": [
       "<div>\n",
       "<style scoped>\n",
       "    .dataframe tbody tr th:only-of-type {\n",
       "        vertical-align: middle;\n",
       "    }\n",
       "\n",
       "    .dataframe tbody tr th {\n",
       "        vertical-align: top;\n",
       "    }\n",
       "\n",
       "    .dataframe thead th {\n",
       "        text-align: right;\n",
       "    }\n",
       "</style>\n",
       "<table border=\"1\" class=\"dataframe\">\n",
       "  <thead>\n",
       "    <tr style=\"text-align: right;\">\n",
       "      <th></th>\n",
       "      <th>latitude</th>\n",
       "      <th>longitude</th>\n",
       "      <th>acq_date</th>\n",
       "      <th>NAME_3</th>\n",
       "      <th>date</th>\n",
       "    </tr>\n",
       "  </thead>\n",
       "  <tbody>\n",
       "    <tr>\n",
       "      <th>0</th>\n",
       "      <td>18.3777</td>\n",
       "      <td>80.5314</td>\n",
       "      <td>2015-01-02</td>\n",
       "      <td>Venkatapuram</td>\n",
       "      <td>2015</td>\n",
       "    </tr>\n",
       "    <tr>\n",
       "      <th>36</th>\n",
       "      <td>18.5093</td>\n",
       "      <td>80.4004</td>\n",
       "      <td>2015-01-11</td>\n",
       "      <td>Venkatapuram</td>\n",
       "      <td>2015</td>\n",
       "    </tr>\n",
       "    <tr>\n",
       "      <th>39</th>\n",
       "      <td>18.3891</td>\n",
       "      <td>80.5292</td>\n",
       "      <td>2015-01-11</td>\n",
       "      <td>Venkatapuram</td>\n",
       "      <td>2015</td>\n",
       "    </tr>\n",
       "    <tr>\n",
       "      <th>92</th>\n",
       "      <td>18.3329</td>\n",
       "      <td>80.5348</td>\n",
       "      <td>2015-01-18</td>\n",
       "      <td>Venkatapuram</td>\n",
       "      <td>2015</td>\n",
       "    </tr>\n",
       "    <tr>\n",
       "      <th>178</th>\n",
       "      <td>18.3090</td>\n",
       "      <td>80.7168</td>\n",
       "      <td>2015-01-28</td>\n",
       "      <td>Venkatapuram</td>\n",
       "      <td>2015</td>\n",
       "    </tr>\n",
       "    <tr>\n",
       "      <th>...</th>\n",
       "      <td>...</td>\n",
       "      <td>...</td>\n",
       "      <td>...</td>\n",
       "      <td>...</td>\n",
       "      <td>...</td>\n",
       "    </tr>\n",
       "    <tr>\n",
       "      <th>13476</th>\n",
       "      <td>16.9427</td>\n",
       "      <td>77.6209</td>\n",
       "      <td>2020-03-11</td>\n",
       "      <td>Korangal</td>\n",
       "      <td>2020</td>\n",
       "    </tr>\n",
       "    <tr>\n",
       "      <th>13948</th>\n",
       "      <td>16.9715</td>\n",
       "      <td>77.7002</td>\n",
       "      <td>2020-03-29</td>\n",
       "      <td>Korangal</td>\n",
       "      <td>2020</td>\n",
       "    </tr>\n",
       "    <tr>\n",
       "      <th>14099</th>\n",
       "      <td>17.1112</td>\n",
       "      <td>77.6340</td>\n",
       "      <td>2020-04-01</td>\n",
       "      <td>Korangal</td>\n",
       "      <td>2020</td>\n",
       "    </tr>\n",
       "    <tr>\n",
       "      <th>15510</th>\n",
       "      <td>17.0615</td>\n",
       "      <td>77.6143</td>\n",
       "      <td>2021-01-09</td>\n",
       "      <td>Korangal</td>\n",
       "      <td>2021</td>\n",
       "    </tr>\n",
       "    <tr>\n",
       "      <th>15612</th>\n",
       "      <td>16.9441</td>\n",
       "      <td>77.6833</td>\n",
       "      <td>2021-02-01</td>\n",
       "      <td>Korangal</td>\n",
       "      <td>2021</td>\n",
       "    </tr>\n",
       "  </tbody>\n",
       "</table>\n",
       "<p>18785 rows × 5 columns</p>\n",
       "</div>"
      ],
      "text/plain": [
       "       latitude  longitude    acq_date        NAME_3  date\n",
       "0       18.3777    80.5314  2015-01-02  Venkatapuram  2015\n",
       "36      18.5093    80.4004  2015-01-11  Venkatapuram  2015\n",
       "39      18.3891    80.5292  2015-01-11  Venkatapuram  2015\n",
       "92      18.3329    80.5348  2015-01-18  Venkatapuram  2015\n",
       "178     18.3090    80.7168  2015-01-28  Venkatapuram  2015\n",
       "...         ...        ...         ...           ...   ...\n",
       "13476   16.9427    77.6209  2020-03-11      Korangal  2020\n",
       "13948   16.9715    77.7002  2020-03-29      Korangal  2020\n",
       "14099   17.1112    77.6340  2020-04-01      Korangal  2020\n",
       "15510   17.0615    77.6143  2021-01-09      Korangal  2021\n",
       "15612   16.9441    77.6833  2021-02-01      Korangal  2021\n",
       "\n",
       "[18785 rows x 5 columns]"
      ]
     },
     "execution_count": 121,
     "metadata": {},
     "output_type": "execute_result"
    }
   ],
   "source": [
    "results"
   ]
  },
  {
   "cell_type": "code",
   "execution_count": 123,
   "metadata": {},
   "outputs": [
    {
     "data": {
      "text/html": [
       "<div>\n",
       "<style scoped>\n",
       "    .dataframe tbody tr th:only-of-type {\n",
       "        vertical-align: middle;\n",
       "    }\n",
       "\n",
       "    .dataframe tbody tr th {\n",
       "        vertical-align: top;\n",
       "    }\n",
       "\n",
       "    .dataframe thead th {\n",
       "        text-align: right;\n",
       "    }\n",
       "</style>\n",
       "<table border=\"1\" class=\"dataframe\">\n",
       "  <thead>\n",
       "    <tr style=\"text-align: right;\">\n",
       "      <th></th>\n",
       "      <th></th>\n",
       "      <th>latitude</th>\n",
       "      <th>longitude</th>\n",
       "      <th>acq_date</th>\n",
       "    </tr>\n",
       "    <tr>\n",
       "      <th>NAME_3</th>\n",
       "      <th>date</th>\n",
       "      <th></th>\n",
       "      <th></th>\n",
       "      <th></th>\n",
       "    </tr>\n",
       "  </thead>\n",
       "  <tbody>\n",
       "    <tr>\n",
       "      <th rowspan=\"5\" valign=\"top\">Achampet</th>\n",
       "      <th>2015</th>\n",
       "      <td>138</td>\n",
       "      <td>138</td>\n",
       "      <td>138</td>\n",
       "    </tr>\n",
       "    <tr>\n",
       "      <th>2016</th>\n",
       "      <td>84</td>\n",
       "      <td>84</td>\n",
       "      <td>84</td>\n",
       "    </tr>\n",
       "    <tr>\n",
       "      <th>2017</th>\n",
       "      <td>32</td>\n",
       "      <td>32</td>\n",
       "      <td>32</td>\n",
       "    </tr>\n",
       "    <tr>\n",
       "      <th>2018</th>\n",
       "      <td>150</td>\n",
       "      <td>150</td>\n",
       "      <td>150</td>\n",
       "    </tr>\n",
       "    <tr>\n",
       "      <th>2019</th>\n",
       "      <td>127</td>\n",
       "      <td>127</td>\n",
       "      <td>127</td>\n",
       "    </tr>\n",
       "    <tr>\n",
       "      <th>...</th>\n",
       "      <th>...</th>\n",
       "      <td>...</td>\n",
       "      <td>...</td>\n",
       "      <td>...</td>\n",
       "    </tr>\n",
       "    <tr>\n",
       "      <th rowspan=\"5\" valign=\"top\">n.a. ( 1728)</th>\n",
       "      <th>2017</th>\n",
       "      <td>3</td>\n",
       "      <td>3</td>\n",
       "      <td>3</td>\n",
       "    </tr>\n",
       "    <tr>\n",
       "      <th>2018</th>\n",
       "      <td>9</td>\n",
       "      <td>9</td>\n",
       "      <td>9</td>\n",
       "    </tr>\n",
       "    <tr>\n",
       "      <th>2019</th>\n",
       "      <td>3</td>\n",
       "      <td>3</td>\n",
       "      <td>3</td>\n",
       "    </tr>\n",
       "    <tr>\n",
       "      <th>2020</th>\n",
       "      <td>8</td>\n",
       "      <td>8</td>\n",
       "      <td>8</td>\n",
       "    </tr>\n",
       "    <tr>\n",
       "      <th>2021</th>\n",
       "      <td>4</td>\n",
       "      <td>4</td>\n",
       "      <td>4</td>\n",
       "    </tr>\n",
       "  </tbody>\n",
       "</table>\n",
       "<p>496 rows × 3 columns</p>\n",
       "</div>"
      ],
      "text/plain": [
       "                   latitude  longitude  acq_date\n",
       "NAME_3       date                               \n",
       "Achampet     2015       138        138       138\n",
       "             2016        84         84        84\n",
       "             2017        32         32        32\n",
       "             2018       150        150       150\n",
       "             2019       127        127       127\n",
       "...                     ...        ...       ...\n",
       "n.a. ( 1728) 2017         3          3         3\n",
       "             2018         9          9         9\n",
       "             2019         3          3         3\n",
       "             2020         8          8         8\n",
       "             2021         4          4         4\n",
       "\n",
       "[496 rows x 3 columns]"
      ]
     },
     "execution_count": 123,
     "metadata": {},
     "output_type": "execute_result"
    }
   ],
   "source": [
    "# use groupby to combine the area and time\n",
    "results.groupby(['NAME_3','date']).count()"
   ]
  },
  {
   "cell_type": "code",
   "execution_count": 59,
   "metadata": {},
   "outputs": [],
   "source": [
    "# save the results\n",
    "results.to_csv('task1_results.csv',index=None)"
   ]
  },
  {
   "cell_type": "code",
   "execution_count": 124,
   "metadata": {},
   "outputs": [],
   "source": [
    "outdf = results.groupby(['NAME_3','date']).count()"
   ]
  },
  {
   "cell_type": "code",
   "execution_count": 125,
   "metadata": {},
   "outputs": [
    {
     "data": {
      "text/html": [
       "<div>\n",
       "<style scoped>\n",
       "    .dataframe tbody tr th:only-of-type {\n",
       "        vertical-align: middle;\n",
       "    }\n",
       "\n",
       "    .dataframe tbody tr th {\n",
       "        vertical-align: top;\n",
       "    }\n",
       "\n",
       "    .dataframe thead th {\n",
       "        text-align: right;\n",
       "    }\n",
       "</style>\n",
       "<table border=\"1\" class=\"dataframe\">\n",
       "  <thead>\n",
       "    <tr style=\"text-align: right;\">\n",
       "      <th></th>\n",
       "      <th></th>\n",
       "      <th>latitude</th>\n",
       "      <th>longitude</th>\n",
       "      <th>acq_date</th>\n",
       "    </tr>\n",
       "    <tr>\n",
       "      <th>NAME_3</th>\n",
       "      <th>date</th>\n",
       "      <th></th>\n",
       "      <th></th>\n",
       "      <th></th>\n",
       "    </tr>\n",
       "  </thead>\n",
       "  <tbody>\n",
       "    <tr>\n",
       "      <th rowspan=\"5\" valign=\"top\">Achampet</th>\n",
       "      <th>2015</th>\n",
       "      <td>138</td>\n",
       "      <td>138</td>\n",
       "      <td>138</td>\n",
       "    </tr>\n",
       "    <tr>\n",
       "      <th>2016</th>\n",
       "      <td>84</td>\n",
       "      <td>84</td>\n",
       "      <td>84</td>\n",
       "    </tr>\n",
       "    <tr>\n",
       "      <th>2017</th>\n",
       "      <td>32</td>\n",
       "      <td>32</td>\n",
       "      <td>32</td>\n",
       "    </tr>\n",
       "    <tr>\n",
       "      <th>2018</th>\n",
       "      <td>150</td>\n",
       "      <td>150</td>\n",
       "      <td>150</td>\n",
       "    </tr>\n",
       "    <tr>\n",
       "      <th>2019</th>\n",
       "      <td>127</td>\n",
       "      <td>127</td>\n",
       "      <td>127</td>\n",
       "    </tr>\n",
       "    <tr>\n",
       "      <th>...</th>\n",
       "      <th>...</th>\n",
       "      <td>...</td>\n",
       "      <td>...</td>\n",
       "      <td>...</td>\n",
       "    </tr>\n",
       "    <tr>\n",
       "      <th rowspan=\"5\" valign=\"top\">n.a. ( 1728)</th>\n",
       "      <th>2017</th>\n",
       "      <td>3</td>\n",
       "      <td>3</td>\n",
       "      <td>3</td>\n",
       "    </tr>\n",
       "    <tr>\n",
       "      <th>2018</th>\n",
       "      <td>9</td>\n",
       "      <td>9</td>\n",
       "      <td>9</td>\n",
       "    </tr>\n",
       "    <tr>\n",
       "      <th>2019</th>\n",
       "      <td>3</td>\n",
       "      <td>3</td>\n",
       "      <td>3</td>\n",
       "    </tr>\n",
       "    <tr>\n",
       "      <th>2020</th>\n",
       "      <td>8</td>\n",
       "      <td>8</td>\n",
       "      <td>8</td>\n",
       "    </tr>\n",
       "    <tr>\n",
       "      <th>2021</th>\n",
       "      <td>4</td>\n",
       "      <td>4</td>\n",
       "      <td>4</td>\n",
       "    </tr>\n",
       "  </tbody>\n",
       "</table>\n",
       "<p>496 rows × 3 columns</p>\n",
       "</div>"
      ],
      "text/plain": [
       "                   latitude  longitude  acq_date\n",
       "NAME_3       date                               \n",
       "Achampet     2015       138        138       138\n",
       "             2016        84         84        84\n",
       "             2017        32         32        32\n",
       "             2018       150        150       150\n",
       "             2019       127        127       127\n",
       "...                     ...        ...       ...\n",
       "n.a. ( 1728) 2017         3          3         3\n",
       "             2018         9          9         9\n",
       "             2019         3          3         3\n",
       "             2020         8          8         8\n",
       "             2021         4          4         4\n",
       "\n",
       "[496 rows x 3 columns]"
      ]
     },
     "execution_count": 125,
     "metadata": {},
     "output_type": "execute_result"
    }
   ],
   "source": [
    "outdf"
   ]
  },
  {
   "cell_type": "code",
   "execution_count": 126,
   "metadata": {},
   "outputs": [],
   "source": [
    "import json"
   ]
  },
  {
   "cell_type": "code",
   "execution_count": 127,
   "metadata": {},
   "outputs": [],
   "source": [
    "from collections import defaultdict"
   ]
  },
  {
   "cell_type": "code",
   "execution_count": 128,
   "metadata": {},
   "outputs": [],
   "source": [
    "# create a dictionary\n",
    "outdic = defaultdict(dict)"
   ]
  },
  {
   "cell_type": "code",
   "execution_count": 129,
   "metadata": {},
   "outputs": [
    {
     "data": {
      "text/html": [
       "<div>\n",
       "<style scoped>\n",
       "    .dataframe tbody tr th:only-of-type {\n",
       "        vertical-align: middle;\n",
       "    }\n",
       "\n",
       "    .dataframe tbody tr th {\n",
       "        vertical-align: top;\n",
       "    }\n",
       "\n",
       "    .dataframe thead th {\n",
       "        text-align: right;\n",
       "    }\n",
       "</style>\n",
       "<table border=\"1\" class=\"dataframe\">\n",
       "  <thead>\n",
       "    <tr style=\"text-align: right;\">\n",
       "      <th></th>\n",
       "      <th></th>\n",
       "      <th>latitude</th>\n",
       "      <th>longitude</th>\n",
       "      <th>acq_date</th>\n",
       "    </tr>\n",
       "    <tr>\n",
       "      <th>NAME_3</th>\n",
       "      <th>date</th>\n",
       "      <th></th>\n",
       "      <th></th>\n",
       "      <th></th>\n",
       "    </tr>\n",
       "  </thead>\n",
       "  <tbody>\n",
       "    <tr>\n",
       "      <th rowspan=\"5\" valign=\"top\">Achampet</th>\n",
       "      <th>2015</th>\n",
       "      <td>138</td>\n",
       "      <td>138</td>\n",
       "      <td>138</td>\n",
       "    </tr>\n",
       "    <tr>\n",
       "      <th>2016</th>\n",
       "      <td>84</td>\n",
       "      <td>84</td>\n",
       "      <td>84</td>\n",
       "    </tr>\n",
       "    <tr>\n",
       "      <th>2017</th>\n",
       "      <td>32</td>\n",
       "      <td>32</td>\n",
       "      <td>32</td>\n",
       "    </tr>\n",
       "    <tr>\n",
       "      <th>2018</th>\n",
       "      <td>150</td>\n",
       "      <td>150</td>\n",
       "      <td>150</td>\n",
       "    </tr>\n",
       "    <tr>\n",
       "      <th>2019</th>\n",
       "      <td>127</td>\n",
       "      <td>127</td>\n",
       "      <td>127</td>\n",
       "    </tr>\n",
       "    <tr>\n",
       "      <th>...</th>\n",
       "      <th>...</th>\n",
       "      <td>...</td>\n",
       "      <td>...</td>\n",
       "      <td>...</td>\n",
       "    </tr>\n",
       "    <tr>\n",
       "      <th rowspan=\"5\" valign=\"top\">n.a. ( 1728)</th>\n",
       "      <th>2017</th>\n",
       "      <td>3</td>\n",
       "      <td>3</td>\n",
       "      <td>3</td>\n",
       "    </tr>\n",
       "    <tr>\n",
       "      <th>2018</th>\n",
       "      <td>9</td>\n",
       "      <td>9</td>\n",
       "      <td>9</td>\n",
       "    </tr>\n",
       "    <tr>\n",
       "      <th>2019</th>\n",
       "      <td>3</td>\n",
       "      <td>3</td>\n",
       "      <td>3</td>\n",
       "    </tr>\n",
       "    <tr>\n",
       "      <th>2020</th>\n",
       "      <td>8</td>\n",
       "      <td>8</td>\n",
       "      <td>8</td>\n",
       "    </tr>\n",
       "    <tr>\n",
       "      <th>2021</th>\n",
       "      <td>4</td>\n",
       "      <td>4</td>\n",
       "      <td>4</td>\n",
       "    </tr>\n",
       "  </tbody>\n",
       "</table>\n",
       "<p>496 rows × 3 columns</p>\n",
       "</div>"
      ],
      "text/plain": [
       "                   latitude  longitude  acq_date\n",
       "NAME_3       date                               \n",
       "Achampet     2015       138        138       138\n",
       "             2016        84         84        84\n",
       "             2017        32         32        32\n",
       "             2018       150        150       150\n",
       "             2019       127        127       127\n",
       "...                     ...        ...       ...\n",
       "n.a. ( 1728) 2017         3          3         3\n",
       "             2018         9          9         9\n",
       "             2019         3          3         3\n",
       "             2020         8          8         8\n",
       "             2021         4          4         4\n",
       "\n",
       "[496 rows x 3 columns]"
      ]
     },
     "execution_count": 129,
     "metadata": {},
     "output_type": "execute_result"
    }
   ],
   "source": [
    "outdf"
   ]
  },
  {
   "cell_type": "code",
   "execution_count": 130,
   "metadata": {},
   "outputs": [
    {
     "data": {
      "text/plain": [
       "MultiIndex([(    'Achampet', '2015'),\n",
       "            (    'Achampet', '2016'),\n",
       "            (    'Achampet', '2017'),\n",
       "            (    'Achampet', '2018'),\n",
       "            (    'Achampet', '2019'),\n",
       "            (    'Achampet', '2020'),\n",
       "            (    'Achampet', '2021'),\n",
       "            (    'Adilabad', '2015'),\n",
       "            (    'Adilabad', '2016'),\n",
       "            (    'Adilabad', '2017'),\n",
       "            ...\n",
       "            ('n.a. ( 1711)', '2018'),\n",
       "            ('n.a. ( 1711)', '2020'),\n",
       "            ('n.a. ( 1711)', '2021'),\n",
       "            ('n.a. ( 1728)', '2015'),\n",
       "            ('n.a. ( 1728)', '2016'),\n",
       "            ('n.a. ( 1728)', '2017'),\n",
       "            ('n.a. ( 1728)', '2018'),\n",
       "            ('n.a. ( 1728)', '2019'),\n",
       "            ('n.a. ( 1728)', '2020'),\n",
       "            ('n.a. ( 1728)', '2021')],\n",
       "           names=['NAME_3', 'date'], length=496)"
      ]
     },
     "execution_count": 130,
     "metadata": {},
     "output_type": "execute_result"
    }
   ],
   "source": [
    "# check information \n",
    "outdf['acq_date'].index"
   ]
  },
  {
   "cell_type": "code",
   "execution_count": 131,
   "metadata": {},
   "outputs": [],
   "source": [
    "for index, value in zip(outdf['acq_date'].index,outdf['acq_date'].values):\n",
    "    # split time and area\n",
    "    adm,year = index\n",
    "    # add times\n",
    "    fire_count = value\n",
    "    #save at dictionary\n",
    "    outdic[adm][str(year)]=str(value)"
   ]
  },
  {
   "cell_type": "code",
   "execution_count": 132,
   "metadata": {},
   "outputs": [
    {
     "data": {
      "text/plain": [
       "defaultdict(dict,\n",
       "            {'Achampet': {'2015': '138',\n",
       "              '2016': '84',\n",
       "              '2017': '32',\n",
       "              '2018': '150',\n",
       "              '2019': '127',\n",
       "              '2020': '78',\n",
       "              '2021': '243'},\n",
       "             'Adilabad': {'2015': '2',\n",
       "              '2016': '10',\n",
       "              '2017': '17',\n",
       "              '2018': '21',\n",
       "              '2019': '13',\n",
       "              '2020': '2',\n",
       "              '2021': '50'},\n",
       "             'Alampur': {'2015': '6',\n",
       "              '2016': '5',\n",
       "              '2017': '6',\n",
       "              '2018': '6',\n",
       "              '2019': '9',\n",
       "              '2020': '7',\n",
       "              '2021': '5'},\n",
       "             'Armur': {'2015': '43',\n",
       "              '2016': '24',\n",
       "              '2017': '69',\n",
       "              '2018': '84',\n",
       "              '2019': '51',\n",
       "              '2020': '57',\n",
       "              '2021': '43'},\n",
       "             'Asifabad': {'2015': '15',\n",
       "              '2016': '48',\n",
       "              '2017': '48',\n",
       "              '2018': '60',\n",
       "              '2019': '15',\n",
       "              '2020': '20',\n",
       "              '2021': '133'},\n",
       "             'Atamkur': {'2015': '4',\n",
       "              '2016': '14',\n",
       "              '2017': '16',\n",
       "              '2018': '8',\n",
       "              '2019': '15',\n",
       "              '2020': '13',\n",
       "              '2021': '13'},\n",
       "             'Banswada': {'2015': '24',\n",
       "              '2016': '12',\n",
       "              '2017': '64',\n",
       "              '2018': '60',\n",
       "              '2019': '24',\n",
       "              '2020': '61',\n",
       "              '2021': '14'},\n",
       "             'Bhadrachalam': {'2015': '60',\n",
       "              '2016': '51',\n",
       "              '2017': '65',\n",
       "              '2018': '46',\n",
       "              '2019': '51',\n",
       "              '2020': '26',\n",
       "              '2021': '67'},\n",
       "             'Bhongir': {'2015': '1',\n",
       "              '2016': '1',\n",
       "              '2017': '8',\n",
       "              '2018': '8',\n",
       "              '2019': '4',\n",
       "              '2020': '5',\n",
       "              '2021': '14'},\n",
       "             'Boath': {'2015': '7',\n",
       "              '2016': '13',\n",
       "              '2017': '28',\n",
       "              '2018': '14',\n",
       "              '2019': '10',\n",
       "              '2020': '9',\n",
       "              '2021': '43'},\n",
       "             'Bodhan': {'2015': '40',\n",
       "              '2016': '29',\n",
       "              '2017': '88',\n",
       "              '2018': '117',\n",
       "              '2019': '25',\n",
       "              '2020': '84',\n",
       "              '2021': '27'},\n",
       "             'Borgampad': {'2015': '98',\n",
       "              '2016': '100',\n",
       "              '2017': '196',\n",
       "              '2018': '104',\n",
       "              '2019': '79',\n",
       "              '2020': '58',\n",
       "              '2021': '111'},\n",
       "             'Chevella': {'2015': '4',\n",
       "              '2016': '3',\n",
       "              '2017': '11',\n",
       "              '2018': '10',\n",
       "              '2020': '14',\n",
       "              '2021': '15'},\n",
       "             'Chinnur': {'2015': '27',\n",
       "              '2016': '38',\n",
       "              '2017': '32',\n",
       "              '2018': '44',\n",
       "              '2019': '11',\n",
       "              '2020': '7',\n",
       "              '2021': '54'},\n",
       "             'Devarkonda': {'2015': '2',\n",
       "              '2016': '5',\n",
       "              '2017': '3',\n",
       "              '2018': '7',\n",
       "              '2019': '10',\n",
       "              '2020': '22',\n",
       "              '2021': '13'},\n",
       "             'Farooq Nagar': {'2015': '4',\n",
       "              '2016': '10',\n",
       "              '2017': '7',\n",
       "              '2018': '14',\n",
       "              '2019': '1',\n",
       "              '2020': '12',\n",
       "              '2021': '7'},\n",
       "             'Gadwal': {'2016': '3',\n",
       "              '2017': '4',\n",
       "              '2018': '4',\n",
       "              '2019': '7',\n",
       "              '2020': '3',\n",
       "              '2021': '1'},\n",
       "             'Gajwel': {'2015': '6',\n",
       "              '2016': '8',\n",
       "              '2017': '6',\n",
       "              '2018': '3',\n",
       "              '2019': '7',\n",
       "              '2020': '11',\n",
       "              '2021': '8'},\n",
       "             'Hanmakonda': {'2015': '9',\n",
       "              '2016': '12',\n",
       "              '2017': '23',\n",
       "              '2018': '10',\n",
       "              '2019': '5',\n",
       "              '2020': '22',\n",
       "              '2021': '8'},\n",
       "             'Huzurabad': {'2015': '8',\n",
       "              '2016': '18',\n",
       "              '2017': '40',\n",
       "              '2018': '34',\n",
       "              '2019': '29',\n",
       "              '2020': '76',\n",
       "              '2021': '26'},\n",
       "             'Huzurnagar': {'2015': '8',\n",
       "              '2016': '12',\n",
       "              '2017': '9',\n",
       "              '2018': '10',\n",
       "              '2019': '14',\n",
       "              '2020': '6',\n",
       "              '2021': '1'},\n",
       "             'Hyderabad': {'2015': '1', '2016': '2', '2019': '2', '2020': '1'},\n",
       "             'Ibrahimpatan': {'2015': '5',\n",
       "              '2017': '3',\n",
       "              '2018': '16',\n",
       "              '2019': '3',\n",
       "              '2020': '7',\n",
       "              '2021': '29'},\n",
       "             'Jagtial': {'2015': '49',\n",
       "              '2016': '26',\n",
       "              '2017': '60',\n",
       "              '2018': '38',\n",
       "              '2019': '49',\n",
       "              '2020': '42',\n",
       "              '2021': '72'},\n",
       "             'Jangaon': {'2015': '11',\n",
       "              '2016': '6',\n",
       "              '2017': '18',\n",
       "              '2018': '19',\n",
       "              '2019': '14',\n",
       "              '2020': '17',\n",
       "              '2021': '13'},\n",
       "             'Jogipet': {'2015': '15',\n",
       "              '2016': '29',\n",
       "              '2017': '40',\n",
       "              '2018': '33',\n",
       "              '2019': '18',\n",
       "              '2020': '26',\n",
       "              '2021': '13'},\n",
       "             'Kalwakurti': {'2015': '4',\n",
       "              '2016': '9',\n",
       "              '2017': '5',\n",
       "              '2018': '13',\n",
       "              '2019': '7',\n",
       "              '2020': '19',\n",
       "              '2021': '8'},\n",
       "             'Kamareddy': {'2015': '12',\n",
       "              '2016': '9',\n",
       "              '2017': '22',\n",
       "              '2018': '19',\n",
       "              '2019': '25',\n",
       "              '2020': '25',\n",
       "              '2021': '31'},\n",
       "             'Karimnagar': {'2015': '5',\n",
       "              '2016': '26',\n",
       "              '2017': '24',\n",
       "              '2018': '15',\n",
       "              '2019': '6',\n",
       "              '2020': '31',\n",
       "              '2021': '19'},\n",
       "             'Khammam': {'2015': '22',\n",
       "              '2016': '24',\n",
       "              '2017': '15',\n",
       "              '2018': '42',\n",
       "              '2019': '23',\n",
       "              '2020': '27',\n",
       "              '2021': '18'},\n",
       "             'Khanapur': {'2015': '110',\n",
       "              '2016': '50',\n",
       "              '2017': '155',\n",
       "              '2018': '147',\n",
       "              '2019': '123',\n",
       "              '2020': '111',\n",
       "              '2021': '180'},\n",
       "             'Kolhapur': {'2015': '16',\n",
       "              '2016': '25',\n",
       "              '2017': '20',\n",
       "              '2018': '33',\n",
       "              '2019': '31',\n",
       "              '2020': '24',\n",
       "              '2021': '22'},\n",
       "             'Korangal': {'2016': '4',\n",
       "              '2017': '5',\n",
       "              '2018': '4',\n",
       "              '2019': '3',\n",
       "              '2020': '10',\n",
       "              '2021': '2'},\n",
       "             'Kottagudem': {'2015': '95',\n",
       "              '2016': '97',\n",
       "              '2017': '72',\n",
       "              '2018': '136',\n",
       "              '2019': '120',\n",
       "              '2020': '64',\n",
       "              '2021': '118'},\n",
       "             'Laxettipet': {'2015': '24',\n",
       "              '2016': '42',\n",
       "              '2017': '70',\n",
       "              '2018': '99',\n",
       "              '2019': '18',\n",
       "              '2020': '27',\n",
       "              '2021': '126'},\n",
       "             'Madhira': {'2015': '17',\n",
       "              '2016': '40',\n",
       "              '2017': '37',\n",
       "              '2018': '37',\n",
       "              '2019': '27',\n",
       "              '2020': '24',\n",
       "              '2021': '23'},\n",
       "             'Madnur': {'2015': '5',\n",
       "              '2016': '6',\n",
       "              '2017': '14',\n",
       "              '2018': '12',\n",
       "              '2019': '3',\n",
       "              '2020': '19',\n",
       "              '2021': '4'},\n",
       "             'Mahbubnagar': {'2015': '7',\n",
       "              '2016': '9',\n",
       "              '2017': '7',\n",
       "              '2018': '6',\n",
       "              '2019': '2',\n",
       "              '2020': '8',\n",
       "              '2021': '4'},\n",
       "             'Makhtal': {'2015': '3',\n",
       "              '2016': '12',\n",
       "              '2017': '23',\n",
       "              '2018': '17',\n",
       "              '2019': '13',\n",
       "              '2020': '21',\n",
       "              '2021': '8'},\n",
       "             'Manthani': {'2015': '104',\n",
       "              '2016': '132',\n",
       "              '2017': '156',\n",
       "              '2018': '158',\n",
       "              '2019': '77',\n",
       "              '2020': '62',\n",
       "              '2021': '135'},\n",
       "             'Medak': {'2015': '11',\n",
       "              '2016': '17',\n",
       "              '2017': '32',\n",
       "              '2018': '38',\n",
       "              '2019': '18',\n",
       "              '2020': '28',\n",
       "              '2021': '19'},\n",
       "             'Medchal': {'2015': '5',\n",
       "              '2016': '8',\n",
       "              '2017': '10',\n",
       "              '2018': '10',\n",
       "              '2019': '8',\n",
       "              '2020': '6',\n",
       "              '2021': '10'},\n",
       "             'Metpalli': {'2015': '27',\n",
       "              '2016': '15',\n",
       "              '2017': '42',\n",
       "              '2018': '17',\n",
       "              '2019': '23',\n",
       "              '2020': '49',\n",
       "              '2021': '21'},\n",
       "             'Mirialguda': {'2015': '10',\n",
       "              '2016': '9',\n",
       "              '2017': '12',\n",
       "              '2018': '4',\n",
       "              '2019': '5',\n",
       "              '2020': '3',\n",
       "              '2021': '2'},\n",
       "             'Mudhol': {'2015': '4',\n",
       "              '2016': '4',\n",
       "              '2017': '3',\n",
       "              '2018': '2',\n",
       "              '2019': '5',\n",
       "              '2020': '6',\n",
       "              '2021': '3'},\n",
       "             'Mulug': {'2015': '218',\n",
       "              '2016': '215',\n",
       "              '2017': '332',\n",
       "              '2018': '333',\n",
       "              '2019': '179',\n",
       "              '2020': '173',\n",
       "              '2021': '237'},\n",
       "             'Nagar Karnul': {'2015': '7',\n",
       "              '2016': '9',\n",
       "              '2017': '1',\n",
       "              '2018': '4',\n",
       "              '2019': '1',\n",
       "              '2020': '5',\n",
       "              '2021': '3'},\n",
       "             'Nalgonda': {'2015': '2',\n",
       "              '2016': '4',\n",
       "              '2017': '5',\n",
       "              '2018': '15',\n",
       "              '2019': '15',\n",
       "              '2020': '11',\n",
       "              '2021': '11'},\n",
       "             'Narayankher': {'2015': '2',\n",
       "              '2016': '4',\n",
       "              '2017': '3',\n",
       "              '2018': '3',\n",
       "              '2019': '5',\n",
       "              '2020': '2',\n",
       "              '2021': '11'},\n",
       "             'Narsampet': {'2015': '135',\n",
       "              '2016': '204',\n",
       "              '2017': '219',\n",
       "              '2018': '256',\n",
       "              '2019': '99',\n",
       "              '2020': '141',\n",
       "              '2021': '173'},\n",
       "             'Narsapur': {'2015': '8',\n",
       "              '2016': '7',\n",
       "              '2017': '40',\n",
       "              '2018': '27',\n",
       "              '2019': '13',\n",
       "              '2020': '26',\n",
       "              '2021': '19'},\n",
       "             'Nirmal': {'2015': '46',\n",
       "              '2016': '26',\n",
       "              '2017': '42',\n",
       "              '2018': '41',\n",
       "              '2019': '45',\n",
       "              '2020': '39',\n",
       "              '2021': '60'},\n",
       "             'Nizamabad': {'2015': '38',\n",
       "              '2016': '31',\n",
       "              '2017': '83',\n",
       "              '2018': '86',\n",
       "              '2019': '51',\n",
       "              '2020': '89',\n",
       "              '2021': '42'},\n",
       "             'Pargi': {'2015': '6',\n",
       "              '2016': '2',\n",
       "              '2017': '13',\n",
       "              '2018': '7',\n",
       "              '2019': '2',\n",
       "              '2020': '6',\n",
       "              '2021': '10'},\n",
       "             'Parkal': {'2015': '30',\n",
       "              '2016': '31',\n",
       "              '2017': '39',\n",
       "              '2018': '41',\n",
       "              '2019': '17',\n",
       "              '2020': '18',\n",
       "              '2021': '42'},\n",
       "             'Ramannapet': {'2015': '6',\n",
       "              '2016': '6',\n",
       "              '2017': '13',\n",
       "              '2018': '9',\n",
       "              '2019': '10',\n",
       "              '2020': '17',\n",
       "              '2021': '19'},\n",
       "             'Sangareddi': {'2015': '14',\n",
       "              '2016': '20',\n",
       "              '2017': '26',\n",
       "              '2018': '23',\n",
       "              '2019': '24',\n",
       "              '2020': '33',\n",
       "              '2021': '16'},\n",
       "             'Siddipet': {'2015': '7',\n",
       "              '2016': '17',\n",
       "              '2017': '9',\n",
       "              '2018': '10',\n",
       "              '2019': '5',\n",
       "              '2020': '14',\n",
       "              '2021': '17'},\n",
       "             'Sirpur': {'2015': '20',\n",
       "              '2016': '46',\n",
       "              '2017': '61',\n",
       "              '2018': '71',\n",
       "              '2019': '22',\n",
       "              '2020': '5',\n",
       "              '2021': '99'},\n",
       "             'Sirsilla': {'2015': '25',\n",
       "              '2016': '18',\n",
       "              '2017': '37',\n",
       "              '2018': '41',\n",
       "              '2019': '22',\n",
       "              '2020': '24',\n",
       "              '2021': '33'},\n",
       "             'Sultanabad': {'2015': '21',\n",
       "              '2016': '31',\n",
       "              '2017': '58',\n",
       "              '2018': '44',\n",
       "              '2019': '45',\n",
       "              '2020': '74',\n",
       "              '2021': '20'},\n",
       "             'Suriapet': {'2015': '3',\n",
       "              '2016': '5',\n",
       "              '2017': '10',\n",
       "              '2018': '6',\n",
       "              '2019': '3',\n",
       "              '2020': '7',\n",
       "              '2021': '2'},\n",
       "             'Tandur': {'2015': '6',\n",
       "              '2016': '6',\n",
       "              '2017': '14',\n",
       "              '2018': '18',\n",
       "              '2019': '9',\n",
       "              '2020': '11',\n",
       "              '2021': '16'},\n",
       "             'Utnur': {'2015': '21',\n",
       "              '2016': '16',\n",
       "              '2017': '43',\n",
       "              '2018': '50',\n",
       "              '2019': '28',\n",
       "              '2020': '13',\n",
       "              '2021': '71'},\n",
       "             'Venkatapuram': {'2015': '182',\n",
       "              '2016': '175',\n",
       "              '2017': '234',\n",
       "              '2018': '219',\n",
       "              '2019': '156',\n",
       "              '2020': '158',\n",
       "              '2021': '258'},\n",
       "             'Vikarabad': {'2015': '8',\n",
       "              '2016': '17',\n",
       "              '2017': '38',\n",
       "              '2018': '26',\n",
       "              '2019': '19',\n",
       "              '2020': '22',\n",
       "              '2021': '45'},\n",
       "             'Wanparthy': {'2015': '8',\n",
       "              '2016': '7',\n",
       "              '2017': '4',\n",
       "              '2018': '16',\n",
       "              '2019': '19',\n",
       "              '2020': '25',\n",
       "              '2021': '16'},\n",
       "             'Yellandu': {'2015': '210',\n",
       "              '2016': '265',\n",
       "              '2017': '258',\n",
       "              '2018': '271',\n",
       "              '2019': '124',\n",
       "              '2020': '123',\n",
       "              '2021': '239'},\n",
       "             'Yellareddi': {'2015': '9',\n",
       "              '2016': '16',\n",
       "              '2017': '13',\n",
       "              '2018': '27',\n",
       "              '2019': '23',\n",
       "              '2020': '19',\n",
       "              '2021': '20'},\n",
       "             'Zahirabad': {'2015': '5',\n",
       "              '2016': '9',\n",
       "              '2017': '15',\n",
       "              '2018': '25',\n",
       "              '2019': '14',\n",
       "              '2020': '19',\n",
       "              '2021': '29'},\n",
       "             'n.a. ( 1711)': {'2015': '5',\n",
       "              '2016': '2',\n",
       "              '2017': '1',\n",
       "              '2018': '6',\n",
       "              '2020': '12',\n",
       "              '2021': '11'},\n",
       "             'n.a. ( 1728)': {'2015': '8',\n",
       "              '2016': '7',\n",
       "              '2017': '3',\n",
       "              '2018': '9',\n",
       "              '2019': '3',\n",
       "              '2020': '8',\n",
       "              '2021': '4'}})"
      ]
     },
     "execution_count": 132,
     "metadata": {},
     "output_type": "execute_result"
    }
   ],
   "source": [
    "outdic"
   ]
  },
  {
   "cell_type": "code",
   "execution_count": 135,
   "metadata": {},
   "outputs": [],
   "source": [
    "# use json.dumps save dictionary\n",
    "out_str=json.dumps(outdic,indent=4)"
   ]
  },
  {
   "cell_type": "code",
   "execution_count": 137,
   "metadata": {},
   "outputs": [],
   "source": [
    "# put json into output1.json\n",
    "with open(\"output1.json\", \"w+\") as f:\n",
    "    f.write(out_str)"
   ]
  },
  {
   "cell_type": "code",
   "execution_count": null,
   "metadata": {},
   "outputs": [],
   "source": []
  },
  {
   "cell_type": "code",
   "execution_count": null,
   "metadata": {},
   "outputs": [],
   "source": []
  },
  {
   "cell_type": "code",
   "execution_count": null,
   "metadata": {},
   "outputs": [],
   "source": []
  },
  {
   "cell_type": "code",
   "execution_count": null,
   "metadata": {},
   "outputs": [],
   "source": []
  },
  {
   "cell_type": "code",
   "execution_count": null,
   "metadata": {},
   "outputs": [],
   "source": []
  },
  {
   "cell_type": "code",
   "execution_count": null,
   "metadata": {},
   "outputs": [],
   "source": []
  },
  {
   "cell_type": "code",
   "execution_count": null,
   "metadata": {},
   "outputs": [],
   "source": []
  },
  {
   "cell_type": "code",
   "execution_count": null,
   "metadata": {},
   "outputs": [],
   "source": []
  },
  {
   "cell_type": "code",
   "execution_count": null,
   "metadata": {},
   "outputs": [],
   "source": []
  },
  {
   "cell_type": "code",
   "execution_count": null,
   "metadata": {},
   "outputs": [],
   "source": []
  },
  {
   "cell_type": "code",
   "execution_count": null,
   "metadata": {},
   "outputs": [],
   "source": []
  }
 ],
 "metadata": {
  "kernelspec": {
   "display_name": "geo",
   "language": "python",
   "name": "geography"
  },
  "language_info": {
   "codemirror_mode": {
    "name": "ipython",
    "version": 3
   },
   "file_extension": ".py",
   "mimetype": "text/x-python",
   "name": "python",
   "nbconvert_exporter": "python",
   "pygments_lexer": "ipython3",
   "version": "3.7.11"
  }
 },
 "nbformat": 4,
 "nbformat_minor": 5
}
