{
 "cells": [
  {
   "cell_type": "code",
   "execution_count": null,
   "id": "1c9da520",
   "metadata": {},
   "outputs": [],
   "source": [
    "import os\n",
    "from osgeo import gdal\n",
    "import numpy as np"
   ]
  },
  {
   "cell_type": "code",
   "execution_count": null,
   "id": "59c29956",
   "metadata": {},
   "outputs": [],
   "source": [
    "#Dowload all datasets and keep it inside a folder named 'Downloads' \n",
    "\n",
    "# folder path\n",
    "dir_path = 'Downloads/'"
   ]
  },
  {
   "cell_type": "code",
   "execution_count": null,
   "id": "907e5c2d",
   "metadata": {},
   "outputs": [],
   "source": [
    "# list to store files\n",
    "res = []\n",
    "\n",
    "# Iterate directory\n",
    "for path in os.listdir(dir_path):\n",
    "    # check if current path is a file\n",
    "    if os.path.isfile(os.path.join(dir_path, path)):\n",
    "        res.append(path)\n",
    "\n",
    "# iterate output file names 'c_gls_WB100_202102010000_GLOBE_S2_V1.0.1' to give output file names like this 'WB100_20210201.tif'\n",
    "cnv = []\n",
    "for i in res:\n",
    "    cnv.append(i[6:20])\n",
    "    \n",
    "band = 'QUAL' # or 'WB'"
   ]
  },
  {
   "cell_type": "code",
   "execution_count": null,
   "id": "2310bed9",
   "metadata": {},
   "outputs": [],
   "source": [
    "#gdal translate will convert the netcdf(QUAL in below code )file to geotiff file \n",
    "#gdal warp is to clip geotiff with Region of Interest\n",
    "for i in cnv:\n",
    "        ds = gdal.Open(\"NETCDF:Downloads/\"+str(i)+\":\"+band)\n",
    "        ds = gdal.Translate(str(i+'_cnv.tif'), ds)\n",
    "        ds = None\n",
    "        print(str(i+'_cnv.tif')+' has been created')        \n",
    "        \n",
    "        OutTile = gdal.Warp(band+\"/\"+str(i+'_'+band+'.tif'),\n",
    "                            str(i+'_cnv.tif'),\n",
    "                            cutlineDSName='Telangana.shp',\n",
    "                            cropToCutline=True,)\n",
    "\n",
    "        OutTile = None\n",
    "           print(str(i+'_'+band+'.tif')+' has been clipped') \n",
    "            \n",
    "#Delete GeoTiff as it is too large\n",
    "        os.remove(str(i+'_cnv.tif'))"
   ]
  },
  {
   "cell_type": "code",
   "execution_count": null,
   "id": "732970d3",
   "metadata": {},
   "outputs": [],
   "source": [
    "'''\n",
    "        x_size = 4894\n",
    "        y_size = 4896\n",
    "        num_bands = 1\n",
    "        file_name = band+\"/\"+str(clip[i])\n",
    "\n",
    "        data = np.ones((num_bands, y_size, x_size))\n",
    "        driver = gdal.GetDriverByName('GTiff')\n",
    "        data_set = driver.Create(file_name, x_size, y_size, num_bands,\n",
    "        gdal.GDT_Float32,\n",
    "        options=[\"TILED=YES\",\n",
    "        \"COMPRESS=LZW\",\n",
    "        \"INTERLEAVE=BAND\"])\n",
    "\n",
    "        for i in range(num_bands):\n",
    "            data_set.GetRasterBand(i + 1).WriteArray(data[i])\n",
    "\n",
    "            data_set.BuildOverviews(\"NEAREST\", [2, 4, 8, 16, 32, 64])\n",
    "            data_set = None\n",
    "'''"
   ]
  }
 ],
 "metadata": {
  "kernelspec": {
   "display_name": "Python 3 (ipykernel)",
   "language": "python",
   "name": "python3"
  },
  "language_info": {
   "codemirror_mode": {
    "name": "ipython",
    "version": 3
   },
   "file_extension": ".py",
   "mimetype": "text/x-python",
   "name": "python",
   "nbconvert_exporter": "python",
   "pygments_lexer": "ipython3",
   "version": "3.9.7"
  }
 },
 "nbformat": 4,
 "nbformat_minor": 5
}
