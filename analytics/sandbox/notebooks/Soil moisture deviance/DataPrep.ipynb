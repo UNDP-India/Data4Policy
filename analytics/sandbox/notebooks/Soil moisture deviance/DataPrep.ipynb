{
 "cells": [
  {
   "cell_type": "markdown",
   "id": "d65ec39c-6d31-4beb-85ca-152517b63a8c",
   "metadata": {},
   "source": [
    "# Data Preparation\n",
    "Python notebook containing processes of obtaining and processing data.\n",
    "\n",
    "This is notebook 1 of the repository."
   ]
  },
  {
   "cell_type": "code",
   "execution_count": 8,
   "id": "f9d9d215-8efb-48ff-865b-d9c19212f5e2",
   "metadata": {},
   "outputs": [],
   "source": [
    "import os \n",
    "from osgeo import gdal\n",
    "import matplotlib.pyplot as plt\n",
    "import numpy as np\n",
    "import rasterio\n",
    "from rasterio.plot import show\n",
    "import pandas as pd\n",
    "import warnings\n",
    "warnings.filterwarnings(\"ignore\")"
   ]
  },
  {
   "cell_type": "markdown",
   "id": "5ec48742",
   "metadata": {},
   "source": [
    "# checkpoint - shivagpandey"
   ]
  },
  {
   "cell_type": "code",
   "execution_count": 9,
   "id": "d0055179",
   "metadata": {},
   "outputs": [
    {
     "name": "stdout",
     "output_type": "stream",
     "text": [
      "Done\n"
     ]
    }
   ],
   "source": [
    "url = 'https://gimms.gsfc.nasa.gov/SMOS/SMAP/SMAP_10KM_tiff/NASA_USDA_SMAP_SM20150402_20150404.tif'\n",
    "import requests\n",
    "import tifffile as tiff\n",
    "import io\n",
    "\n",
    "\n",
    "def read_image_from_url(url):\n",
    "    resp = requests.get(url)\n",
    "    # Check that request succeeded\n",
    "    return tiff.imread(io.BytesIO(resp.content))\n",
    "\n",
    "read_image_from_url(url)\n",
    "print(\"Done\")"
   ]
  },
  {
   "cell_type": "markdown",
   "id": "cc10556d",
   "metadata": {},
   "source": [
    "# checkpoint end"
   ]
  },
  {
   "cell_type": "markdown",
   "id": "83a975c8-1666-4a80-9b13-5390d7f1c8cb",
   "metadata": {},
   "source": [
    "## Importing data"
   ]
  },
  {
   "cell_type": "code",
   "execution_count": 13,
   "id": "dacae0cf-dc7d-4f34-aea0-7bfd7b3c3f42",
   "metadata": {},
   "outputs": [],
   "source": [
    "path = r\"SM//Telangana\" #Path where soil moisture data is present."
   ]
  },
  {
   "cell_type": "code",
   "execution_count": 14,
   "id": "d6c309b3-a78d-4b70-b8b7-e6ffa35e3ecb",
   "metadata": {},
   "outputs": [
    {
     "name": "stdout",
     "output_type": "stream",
     "text": [
      "Imported 88 items\n"
     ]
    }
   ],
   "source": [
    "global_dataset = [ds for ds in os.listdir(path) if ds[-4:] == '.tif']\n",
    "print(\"Imported\", len(global_dataset), \"items\")"
   ]
  },
  {
   "cell_type": "code",
   "execution_count": 15,
   "id": "0a85b1ab-3bfb-427c-bbb3-92305d25d320",
   "metadata": {},
   "outputs": [
    {
     "name": "stdout",
     "output_type": "stream",
     "text": [
      "[[-9999. -9999. -9999. ... -9999. -9999. -9999.]\n",
      " [-9999. -9999. -9999. ... -9999. -9999. -9999.]\n",
      " [-9999. -9999. -9999. ... -9999. -9999. -9999.]\n",
      " ...\n",
      " [-9999. -9999. -9999. ... -9999. -9999. -9999.]\n",
      " [-9999. -9999. -9999. ... -9999. -9999. -9999.]\n",
      " [-9999. -9999. -9999. ... -9999. -9999. -9999.]]\n"
     ]
    }
   ],
   "source": [
    "img = gdal.Open(path+\"//\"+global_dataset[0])\n",
    "image = np.array(img.GetRasterBand(1).ReadAsArray())\n",
    "print(image)"
   ]
  },
  {
   "cell_type": "code",
   "execution_count": 16,
   "id": "53807d73-4efb-4790-a0dd-6d099215a72c",
   "metadata": {},
   "outputs": [],
   "source": [
    "dataset = [ds for ds in os.listdir(path) if ds[-4:] == '.tif']"
   ]
  },
  {
   "cell_type": "code",
   "execution_count": 17,
   "id": "1d449022-0450-41b1-89a9-445d61a8d4e4",
   "metadata": {},
   "outputs": [],
   "source": [
    "def getImages(dataset,path):\n",
    "    Imagedata = []\n",
    "    for data in dataset:\n",
    "        img = gdal.Open(path+\"//\"+data)\n",
    "        image = np.array(img.GetRasterBand(1).ReadAsArray())\n",
    "        Imagedata.append(image)\n",
    "    return Imagedata"
   ]
  },
  {
   "cell_type": "code",
   "execution_count": 18,
   "id": "85db8623-5104-4558-891d-bc3e3b277e6d",
   "metadata": {},
   "outputs": [],
   "source": [
    "imagedata = getImages(dataset,path) #get images from dataset"
   ]
  },
  {
   "cell_type": "code",
   "execution_count": 19,
   "id": "1b0a6cb7-da90-416b-b40e-033c7539a63a",
   "metadata": {},
   "outputs": [],
   "source": [
    "dataset = [imagedata]\n",
    "columns = [\"Year1\"]"
   ]
  },
  {
   "cell_type": "markdown",
   "id": "df5eff82-b88a-49b9-b14d-2ee8f8814116",
   "metadata": {},
   "source": [
    "## Creating a pixel wise dataframe of soil moisture data from tif images."
   ]
  },
  {
   "cell_type": "code",
   "execution_count": 29,
   "id": "d2fac9c9-39b2-4488-9799-54fbc1bffcc0",
   "metadata": {},
   "outputs": [],
   "source": [
    "#data needs to be in the format \n",
    "#Year1  month1  pixel1 pixel2 pixel3\n",
    "#Year1  month2  pixel1 pixel2 pixel3\n",
    "count = 0;\n",
    "from itertools import chain\n",
    "yearlydata = []\n",
    "df = pd.DataFrame()\n",
    "\n",
    "for months in dataset:\n",
    "    #print(len(months))\n",
    "    yearlydata = []\n",
    "    for month in months:\n",
    "        monthlydatapixel = list(chain.from_iterable(month))\n",
    "        #print(len(monthlydatapixel))\n",
    "        yearlydata.append(monthlydatapixel)\n",
    "    df = df.append(yearlydata)\n",
    "   "
   ]
  },
  {
   "cell_type": "code",
   "execution_count": 30,
   "id": "c7986a89-a754-4d58-9650-5a0ed44d0c1c",
   "metadata": {},
   "outputs": [
    {
     "data": {
      "text/html": [
       "<div>\n",
       "<style scoped>\n",
       "    .dataframe tbody tr th:only-of-type {\n",
       "        vertical-align: middle;\n",
       "    }\n",
       "\n",
       "    .dataframe tbody tr th {\n",
       "        vertical-align: top;\n",
       "    }\n",
       "\n",
       "    .dataframe thead th {\n",
       "        text-align: right;\n",
       "    }\n",
       "</style>\n",
       "<table border=\"1\" class=\"dataframe\">\n",
       "  <thead>\n",
       "    <tr style=\"text-align: right;\">\n",
       "      <th></th>\n",
       "      <th>0</th>\n",
       "      <th>1</th>\n",
       "      <th>2</th>\n",
       "      <th>3</th>\n",
       "      <th>4</th>\n",
       "      <th>5</th>\n",
       "      <th>6</th>\n",
       "      <th>7</th>\n",
       "      <th>8</th>\n",
       "      <th>9</th>\n",
       "      <th>...</th>\n",
       "      <th>4151</th>\n",
       "      <th>4152</th>\n",
       "      <th>4153</th>\n",
       "      <th>4154</th>\n",
       "      <th>4155</th>\n",
       "      <th>4156</th>\n",
       "      <th>4157</th>\n",
       "      <th>4158</th>\n",
       "      <th>4159</th>\n",
       "      <th>4160</th>\n",
       "    </tr>\n",
       "  </thead>\n",
       "  <tbody>\n",
       "    <tr>\n",
       "      <th>0</th>\n",
       "      <td>-999.0</td>\n",
       "      <td>-999.0</td>\n",
       "      <td>-999.0</td>\n",
       "      <td>-999.0</td>\n",
       "      <td>-999.0</td>\n",
       "      <td>-999.0</td>\n",
       "      <td>-999.0</td>\n",
       "      <td>-999.0</td>\n",
       "      <td>-999.0</td>\n",
       "      <td>-999.0</td>\n",
       "      <td>...</td>\n",
       "      <td>-999.0</td>\n",
       "      <td>-999.0</td>\n",
       "      <td>-999.0</td>\n",
       "      <td>-999.0</td>\n",
       "      <td>-999.0</td>\n",
       "      <td>-999.0</td>\n",
       "      <td>-999.0</td>\n",
       "      <td>-999.0</td>\n",
       "      <td>-999.0</td>\n",
       "      <td>-999.0</td>\n",
       "    </tr>\n",
       "    <tr>\n",
       "      <th>1</th>\n",
       "      <td>-999.0</td>\n",
       "      <td>-999.0</td>\n",
       "      <td>-999.0</td>\n",
       "      <td>-999.0</td>\n",
       "      <td>-999.0</td>\n",
       "      <td>-999.0</td>\n",
       "      <td>-999.0</td>\n",
       "      <td>-999.0</td>\n",
       "      <td>-999.0</td>\n",
       "      <td>-999.0</td>\n",
       "      <td>...</td>\n",
       "      <td>-999.0</td>\n",
       "      <td>-999.0</td>\n",
       "      <td>-999.0</td>\n",
       "      <td>-999.0</td>\n",
       "      <td>-999.0</td>\n",
       "      <td>-999.0</td>\n",
       "      <td>-999.0</td>\n",
       "      <td>-999.0</td>\n",
       "      <td>-999.0</td>\n",
       "      <td>-999.0</td>\n",
       "    </tr>\n",
       "    <tr>\n",
       "      <th>2</th>\n",
       "      <td>-999.0</td>\n",
       "      <td>-999.0</td>\n",
       "      <td>-999.0</td>\n",
       "      <td>-999.0</td>\n",
       "      <td>-999.0</td>\n",
       "      <td>-999.0</td>\n",
       "      <td>-999.0</td>\n",
       "      <td>-999.0</td>\n",
       "      <td>-999.0</td>\n",
       "      <td>-999.0</td>\n",
       "      <td>...</td>\n",
       "      <td>-999.0</td>\n",
       "      <td>-999.0</td>\n",
       "      <td>-999.0</td>\n",
       "      <td>-999.0</td>\n",
       "      <td>-999.0</td>\n",
       "      <td>-999.0</td>\n",
       "      <td>-999.0</td>\n",
       "      <td>-999.0</td>\n",
       "      <td>-999.0</td>\n",
       "      <td>-999.0</td>\n",
       "    </tr>\n",
       "    <tr>\n",
       "      <th>3</th>\n",
       "      <td>-999.0</td>\n",
       "      <td>-999.0</td>\n",
       "      <td>-999.0</td>\n",
       "      <td>-999.0</td>\n",
       "      <td>-999.0</td>\n",
       "      <td>-999.0</td>\n",
       "      <td>-999.0</td>\n",
       "      <td>-999.0</td>\n",
       "      <td>-999.0</td>\n",
       "      <td>-999.0</td>\n",
       "      <td>...</td>\n",
       "      <td>-999.0</td>\n",
       "      <td>-999.0</td>\n",
       "      <td>-999.0</td>\n",
       "      <td>-999.0</td>\n",
       "      <td>-999.0</td>\n",
       "      <td>-999.0</td>\n",
       "      <td>-999.0</td>\n",
       "      <td>-999.0</td>\n",
       "      <td>-999.0</td>\n",
       "      <td>-999.0</td>\n",
       "    </tr>\n",
       "    <tr>\n",
       "      <th>4</th>\n",
       "      <td>-999.0</td>\n",
       "      <td>-999.0</td>\n",
       "      <td>-999.0</td>\n",
       "      <td>-999.0</td>\n",
       "      <td>-999.0</td>\n",
       "      <td>-999.0</td>\n",
       "      <td>-999.0</td>\n",
       "      <td>-999.0</td>\n",
       "      <td>-999.0</td>\n",
       "      <td>-999.0</td>\n",
       "      <td>...</td>\n",
       "      <td>-999.0</td>\n",
       "      <td>-999.0</td>\n",
       "      <td>-999.0</td>\n",
       "      <td>-999.0</td>\n",
       "      <td>-999.0</td>\n",
       "      <td>-999.0</td>\n",
       "      <td>-999.0</td>\n",
       "      <td>-999.0</td>\n",
       "      <td>-999.0</td>\n",
       "      <td>-999.0</td>\n",
       "    </tr>\n",
       "  </tbody>\n",
       "</table>\n",
       "<p>5 rows × 4161 columns</p>\n",
       "</div>"
      ],
      "text/plain": [
       "    0      1      2      3      4      5      6      7      8      9     ...  \\\n",
       "0 -999.0 -999.0 -999.0 -999.0 -999.0 -999.0 -999.0 -999.0 -999.0 -999.0  ...   \n",
       "1 -999.0 -999.0 -999.0 -999.0 -999.0 -999.0 -999.0 -999.0 -999.0 -999.0  ...   \n",
       "2 -999.0 -999.0 -999.0 -999.0 -999.0 -999.0 -999.0 -999.0 -999.0 -999.0  ...   \n",
       "3 -999.0 -999.0 -999.0 -999.0 -999.0 -999.0 -999.0 -999.0 -999.0 -999.0  ...   \n",
       "4 -999.0 -999.0 -999.0 -999.0 -999.0 -999.0 -999.0 -999.0 -999.0 -999.0  ...   \n",
       "\n",
       "    4151   4152   4153   4154   4155   4156   4157   4158   4159   4160  \n",
       "0 -999.0 -999.0 -999.0 -999.0 -999.0 -999.0 -999.0 -999.0 -999.0 -999.0  \n",
       "1 -999.0 -999.0 -999.0 -999.0 -999.0 -999.0 -999.0 -999.0 -999.0 -999.0  \n",
       "2 -999.0 -999.0 -999.0 -999.0 -999.0 -999.0 -999.0 -999.0 -999.0 -999.0  \n",
       "3 -999.0 -999.0 -999.0 -999.0 -999.0 -999.0 -999.0 -999.0 -999.0 -999.0  \n",
       "4 -999.0 -999.0 -999.0 -999.0 -999.0 -999.0 -999.0 -999.0 -999.0 -999.0  \n",
       "\n",
       "[5 rows x 4161 columns]"
      ]
     },
     "execution_count": 30,
     "metadata": {},
     "output_type": "execute_result"
    }
   ],
   "source": [
    "#df = pd.DataFrame(data = dataset, columns = columns)\n",
    "df = df.loc[:, (df != 0).any(axis=0)] #remove 0 values (white pixels)\n",
    "df = df.loc[:, (df != -999).any(axis=0)] #remove -999 values (black pixels)\n",
    "df = df.T.reset_index(drop=True).T #Get the transpose of the dataframe to get it in the form you want\n",
    "df.to_csv(\"MaharashtraData.csv\",index=True) #Store the data into a csv file.\n",
    "df.head(2)"
   ]
  },
  {
   "cell_type": "markdown",
   "id": "8b1a62d3-563e-4221-a570-ebac02aa53f1",
   "metadata": {},
   "source": [
    "## Add geographical coordinates into the dataframe \n",
    "We use Raster2xyz library and a reference tif image to assign the coordinates to the data obtained. "
   ]
  },
  {
   "cell_type": "code",
   "execution_count": 41,
   "id": "5a5796fa-d3ff-486e-95a1-ad0dea4dd765",
   "metadata": {},
   "outputs": [
    {
     "name": "stderr",
     "output_type": "stream",
     "text": [
      "[2022-07-27 09:39:06 - INFO] - Getting geotransform and data...\n",
      "[2022-07-27 09:39:06 - INFO] - Getting XYZ data...\n",
      "[2022-07-27 09:39:06 - INFO] - Getting geotransformed coordinates...\n",
      "[2022-07-27 09:39:06 - INFO] - Building XYZ data...\n",
      "[2022-07-27 09:39:06 - INFO] - New XYZ (csv file) created...\n"
     ]
    }
   ],
   "source": [
    "from raster2xyz.raster2xyz import Raster2xyz\n",
    "\n",
    "input_raster = \"C://Users//007sh//Desktop//UNDP//SM//NASA_USDA_SMAP_SM10.ssm.tif\"\n",
    "out_csv = \"temp.csv\"\n",
    "\n",
    "rtxyz = Raster2xyz()\n",
    "rtxyz.translate(input_raster, out_csv)\n",
    "\n",
    "myRasterDF = pd.read_csv(out_csv)\n",
    "myRasterDF=myRasterDF[myRasterDF[\"z\"] != 0] \n",
    "myRasterDF=myRasterDF[myRasterDF[\"z\"] != -999]\n",
    "myRasterDF.to_csv(\"Maharashtracoordinates.csv\") #Obtained dataset for further processing"
   ]
  }
 ],
 "metadata": {
  "kernelspec": {
   "display_name": "Python 3 (ipykernel)",
   "language": "python",
   "name": "python3"
  },
  "language_info": {
   "codemirror_mode": {
    "name": "ipython",
    "version": 3
   },
   "file_extension": ".py",
   "mimetype": "text/x-python",
   "name": "python",
   "nbconvert_exporter": "python",
   "pygments_lexer": "ipython3",
   "version": "3.9.13"
  },
  "vscode": {
   "interpreter": {
    "hash": "916dbcbb3f70747c44a77c7bcd40155683ae19c65e1c03b4aa3499c5328201f1"
   }
  }
 },
 "nbformat": 4,
 "nbformat_minor": 5
}
