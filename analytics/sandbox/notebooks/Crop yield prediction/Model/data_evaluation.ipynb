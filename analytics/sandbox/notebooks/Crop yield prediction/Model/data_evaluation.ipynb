{
 "cells": [
  {
   "cell_type": "code",
   "execution_count": 1,
   "metadata": {},
   "outputs": [
    {
     "name": "stderr",
     "output_type": "stream",
     "text": [
      "c:\\Users\\mieke\\anaconda3\\envs\\thesis_base\\lib\\site-packages\\tqdm\\auto.py:22: TqdmWarning: IProgress not found. Please update jupyter and ipywidgets. See https://ipywidgets.readthedocs.io/en/stable/user_install.html\n",
      "  from .autonotebook import tqdm as notebook_tqdm\n"
     ]
    }
   ],
   "source": [
    "import numpy as np\n",
    "import os\n",
    "import pandas as pd\n",
    "#from sklearn.metrics import mean_squared_error\n",
    "from sklearn.ensemble import RandomForestRegressor\n",
    "from sklearn.tree import export_graphviz\n",
    "#import pydot\n",
    "import seaborn as sns\n",
    "import matplotlib.pyplot as plt\n",
    "import datetime\n",
    "from sklearn import preprocessing\n",
    "from sklearn.metrics import mean_absolute_error, accuracy_score, r2_score, mean_squared_error\n",
    "import geopandas as gpd\n",
    "import warnings\n",
    "import shap\n",
    "from sklearn.model_selection import RandomizedSearchCV\n",
    "from sklearn.model_selection import GridSearchCV\n",
    "import random\n",
    "import math\n",
    "import re\n",
    "from shapely.geometry import Polygon, MultiPolygon\n",
    "from osgeo import gdal\n",
    "import rasterio\n",
    "import rasterstats\n",
    "from rasterstats import zonal_stats\n",
    "import time\n",
    "sys.path.append(os.path.abspath(\"C:/Users/mieke/Documents/Msc Thesis/Notebooks Python/Final/\"))\n",
    "import functions_model #import python file containing the functions\n",
    "\n",
    "random.seed(1234) # Set random seed"
   ]
  },
  {
   "cell_type": "code",
   "execution_count": null,
   "metadata": {},
   "outputs": [],
   "source": [
    "# For updates\n",
    "import importlib\n",
    "importlib.reload(functions_model)"
   ]
  },
  {
   "cell_type": "code",
   "execution_count": null,
   "metadata": {},
   "outputs": [],
   "source": [
    "dataset = gpd.read_file(r'D:\\other_thesis\\rf_params.geojson')"
   ]
  },
  {
   "cell_type": "code",
   "execution_count": null,
   "metadata": {},
   "outputs": [],
   "source": [
    "## CORRELATION HEATMAP OF THE VARIABLES\n",
    "#dataset.columns\n",
    "data_corr = dataset.iloc[:,[0,3,7,8,9,10,11,12,13,14,15,16,17,18,19,20,21,22,23,24,25,26,27,28,29,30,31,32,33,34,35,36,37]]\n",
    "plt.figure(figsize=(26,16))\n",
    "heatmap = sns.heatmap(data_corr.corr(), vmin=-1, vmax=1, annot=True, cmap = 'RdYlGn')\n",
    "heatmap.set_title('Correlation Parameters Heatmap')\n",
    "plt.show()"
   ]
  },
  {
   "cell_type": "code",
   "execution_count": null,
   "metadata": {},
   "outputs": [],
   "source": []
  },
  {
   "cell_type": "code",
   "execution_count": null,
   "metadata": {},
   "outputs": [],
   "source": [
    "df.T.plot(legend = True)\n",
    "plt.show()\n"
   ]
  }
 ],
 "metadata": {
  "kernelspec": {
   "display_name": "Python 3.10.4 ('thesis_base')",
   "language": "python",
   "name": "python3"
  },
  "language_info": {
   "codemirror_mode": {
    "name": "ipython",
    "version": 3
   },
   "file_extension": ".py",
   "mimetype": "text/x-python",
   "name": "python",
   "nbconvert_exporter": "python",
   "pygments_lexer": "ipython3",
   "version": "3.10.4"
  },
  "orig_nbformat": 4,
  "vscode": {
   "interpreter": {
    "hash": "734205a0c94b5e97d2e885f269ea6bd400da4ba9a6c87b08a93b97fdaab1acc8"
   }
  }
 },
 "nbformat": 4,
 "nbformat_minor": 2
}
