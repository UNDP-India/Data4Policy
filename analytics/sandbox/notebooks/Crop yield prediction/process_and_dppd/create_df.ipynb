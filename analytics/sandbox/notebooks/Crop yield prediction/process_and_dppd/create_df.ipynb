{
 "cells": [
  {
   "cell_type": "code",
   "execution_count": 2,
   "metadata": {},
   "outputs": [],
   "source": [
    "# Import packages\n",
    "import sys \n",
    "import os\n",
    "sys.path.append(os.path.abspath(\"C:/Users/mieke/Documents/Msc Thesis/GitHub repositories/dicra/analytics/sandbox/notebooks/crop_yield_prediction/process_and_dppd\"))\n",
    "import functions_time_series #import python file containing the functions\n",
    "import functions_preprocessing #import python file containing the functions\n",
    "import pandas as pd\n",
    "import geopandas as gpd\n",
    "import matplotlib.pyplot as plt\n",
    "import rasterio\n",
    "from statsmodels.tsa.seasonal import STL\n",
    "import numpy as np\n",
    "from sklearn.linear_model import LinearRegression\n",
    "import datetime as dt\n",
    "from matplotlib.colors import TwoSlopeNorm\n",
    "import time\n",
    "from rasterstats import zonal_stats\n",
    "from scipy.stats import pearsonr\n",
    "import plotly.express as px\n",
    "import rasterio.mask\n",
    "from osgeo import gdal\n",
    "import re"
   ]
  },
  {
   "cell_type": "code",
   "execution_count": 3,
   "metadata": {},
   "outputs": [
    {
     "data": {
      "text/plain": [
       "<module 'functions_preprocessing' from 'C:\\\\Users\\\\mieke\\\\Documents\\\\Msc Thesis\\\\Notebooks Python\\\\Others\\\\functions_preprocessing.py'>"
      ]
     },
     "execution_count": 3,
     "metadata": {},
     "output_type": "execute_result"
    }
   ],
   "source": [
    "# For updates\n",
    "import importlib\n",
    "importlib.reload(functions_time_series)\n",
    "importlib.reload(functions_preprocessing)"
   ]
  },
  {
   "cell_type": "code",
   "execution_count": 4,
   "metadata": {},
   "outputs": [],
   "source": [
    "# Import district boundaries\n",
    "district_bounds = gpd.read_file('C:/Users/mieke/Documents/Msc Thesis/GitHub repositories/dicra/src/data_preprocessing/tsdm/District_Boundary.shp')\n",
    "district_bounds = district_bounds.reset_index()\n",
    "# Import mandal boundaries\n",
    "mandal_bounds = gpd.read_file('C:/Users/mieke/Documents/Msc Thesis/GitHub repositories/dicra/src/data_preprocessing/tsdm/Mandal_Boundary.shp')\n",
    "mandal_bounds = mandal_bounds.reset_index()"
   ]
  },
  {
   "cell_type": "markdown",
   "metadata": {},
   "source": [
    "## DISTRICT"
   ]
  },
  {
   "cell_type": "code",
   "execution_count": 5,
   "metadata": {},
   "outputs": [
    {
     "name": "stdout",
     "output_type": "stream",
     "text": [
      "0\n"
     ]
    }
   ],
   "source": [
    "# DISTRICT LEVEL\n",
    "nan_LAI_district, LAI_df_district = functions_time_series.create_df('Dist_Name', district_bounds, 'C:/Users/mieke/Documents/Data_download/Copernicus/LAI/Telangana/aoi_rescaled/', False, [4,8,9,11,12,14])\n",
    "print(nan_LAI_district)\n",
    "LAI_df_district.to_excel('C:/Users/mieke/Documents/Data_download/Copernicus/LAI/Telangana/LAI_df_district.xlsx', header=True, index=False)"
   ]
  },
  {
   "cell_type": "code",
   "execution_count": 7,
   "metadata": {},
   "outputs": [
    {
     "name": "stdout",
     "output_type": "stream",
     "text": [
      "0\n"
     ]
    }
   ],
   "source": [
    "# DISTRICT LEVEL\n",
    "nan_SSM_district, SSM_df_district = functions_time_series.create_df('Dist_Name', district_bounds, 'C:/Users/mieke/Documents/Data_download/GEE/SSM/Telangana/aoi_rescaled/', False, [4,8,9,11,12,14])\n",
    "print(nan_SSM_district)\n",
    "SSM_df_district.to_excel('C:/Users/mieke/Documents/Data_download/GEE/SSM/Telangana/SSM_df_district.xlsx', header=True, index=False)"
   ]
  },
  {
   "cell_type": "code",
   "execution_count": 9,
   "metadata": {},
   "outputs": [],
   "source": [
    "# DISTRICT LEVEL\n",
    "nan_SUSM_district, SUSM_df_district = functions_time_series.create_df('Dist_Name', district_bounds, 'C:/Users/mieke/Documents/Data_download/GEE/SUSM/Telangana/aoi_rescaled/', False, [5,9,10,12,13,15])\n",
    "print(nan_SUSM_district)\n",
    "SUSM_df_district.to_excel('C:/Users/mieke/Documents/Data_download/GEE/SUSM/Telangana/SUSM_df_district.xlsx', header=True, index=False)"
   ]
  },
  {
   "cell_type": "code",
   "execution_count": null,
   "metadata": {},
   "outputs": [],
   "source": [
    "# DISTRICT LEVEL\n",
    "nan_NDVI_district, NDVI_df_district = functions_time_series.create_df('Dist_Name', district_bounds, 'C:/Users/mieke/Documents/Data_download/GEE/NDVI/Telangana/aoi_rescaled/', False, [5,9,10,12,13,15])\n",
    "print(nan_NDVI_district)\n",
    "NDVI_df_district.to_excel('C:/Users/mieke/Documents/Data_download/GEE/NDVI/Telangana/NDVI_df_district.xlsx', header=True, index=False)"
   ]
  },
  {
   "cell_type": "code",
   "execution_count": null,
   "metadata": {},
   "outputs": [],
   "source": [
    "# DISTRICT LEVEL\n",
    "nan_LST_district, LST_df_district = functions_time_series.create_df('Dist_Name', district_bounds, 'C:/Users/mieke/Documents/Data_download/GEE/LST/Telangana/aoi_rescaled/', False, [4,8,9,11,12,14])\n",
    "print(nan_LST_district)\n",
    "LST_df_district.to_excel('C:/Users/mieke/Documents/Data_download/GEE/LST/Telangana/LST_df_district.xlsx', header=True, index=False)"
   ]
  },
  {
   "cell_type": "markdown",
   "metadata": {},
   "source": [
    "## MANDAL"
   ]
  },
  {
   "cell_type": "code",
   "execution_count": null,
   "metadata": {},
   "outputs": [],
   "source": [
    "# MANDAL LEVEL\n",
    "nan_LAI_mandal, LAI_df_mandal = functions_time_series.create_df('Mandal_Nam', mandal_bounds, 'C:/Users/mieke/Documents/Data_download/Copernicus/LAI/Telangana/aoi_rescaled/', False, [4,8,9,11,12,14])\n",
    "print(nan_LAI_mandal)\n",
    "LAI_df_mandal.to_excel('C:/Users/mieke/Documents/Data_download/Copernicus/LAI/Telangana/LAI_df_mandal.xlsx', header=True, index=False)"
   ]
  },
  {
   "cell_type": "code",
   "execution_count": null,
   "metadata": {},
   "outputs": [],
   "source": [
    "# MANDAL LEVEL\n",
    "nan_SSM_mandal, SSM_df_mandal = functions_time_series.create_df('Mandal_Nam', mandal_bounds, 'C:/Users/mieke/Documents/Data_download/GEE/SSM/Telangana/aoi_rescaled/', True, [4,8,9,11,12,14])\n",
    "print(nan_SSM_mandal)\n",
    "SSM_df_mandal.to_excel('C:/Users/mieke/Documents/Data_download/GEE/SSM/Telangana/SSM_df_mandal.xlsx', header=True, index=False)"
   ]
  },
  {
   "cell_type": "code",
   "execution_count": null,
   "metadata": {},
   "outputs": [],
   "source": [
    "# MANDAL LEVEL\n",
    "nan_SUSM_mandal, SUSM_df_mandal = functions_time_series.create_df('Mandal_Nam', mandal_bounds, 'C:/Users/mieke/Documents/Data_download/GEE/SUSM/Telangana/aoi_rescaled/', True, [5,9,10,12,13,15])\n",
    "print(nan_SUSM_mandal)\n",
    "SUSM_df_mandal.to_excel('C:/Users/mieke/Documents/Data_download/GEE/SUSM/Telangana/SUSM_df_mandal.xlsx', header=True, index=False)"
   ]
  },
  {
   "cell_type": "code",
   "execution_count": null,
   "metadata": {},
   "outputs": [],
   "source": [
    "# MANDAL LEVEL\n",
    "nan_NDVI_mandal, NDVI_df_mandal = functions_time_series.create_df('Mandal_Nam', mandal_bounds, 'C:/Users/mieke/Documents/Data_download/GEE/NDVI/Telangana/aoi_rescaled/', False, [5,9,10,12,13,15])\n",
    "print(nan_NDVI_mandal)\n",
    "NDVI_df_mandal.to_excel('C:/Users/mieke/Documents/Data_download/GEE/NDVI/Telangana/LST_df_mandal.xlsx', header=True, index=False)"
   ]
  },
  {
   "cell_type": "code",
   "execution_count": null,
   "metadata": {},
   "outputs": [],
   "source": [
    "# # MANDAL LEVEL\n",
    "# nan_LST_mandal, LST_df_mandal = functions_time_series.create_df('Mandal_Nam', mandal_bounds, 'C:/Users/mieke/Documents/Data_download/GEE/LST/Telangana/aoi_rescaled/', False, [4,8,9,11,12,14])\n",
    "# print(nan_LST_mandal)\n",
    "# LST_df_mandal.to_excel('C:/Users/mieke/Documents/Data_download/GEE/LST/Telangana/LST_df_mandal.xlsx', header=True, index=False)"
   ]
  }
 ],
 "metadata": {
  "kernelspec": {
   "display_name": "Python 3.10.4 ('thesis_base')",
   "language": "python",
   "name": "python3"
  },
  "language_info": {
   "codemirror_mode": {
    "name": "ipython",
    "version": 3
   },
   "file_extension": ".py",
   "mimetype": "text/x-python",
   "name": "python",
   "nbconvert_exporter": "python",
   "pygments_lexer": "ipython3",
   "version": "3.10.4"
  },
  "orig_nbformat": 4,
  "vscode": {
   "interpreter": {
    "hash": "734205a0c94b5e97d2e885f269ea6bd400da4ba9a6c87b08a93b97fdaab1acc8"
   }
  }
 },
 "nbformat": 4,
 "nbformat_minor": 2
}
