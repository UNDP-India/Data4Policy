{
 "cells": [
  {
   "cell_type": "markdown",
   "metadata": {},
   "source": [
    "# Crop Fire Classification Function\n",
    "This file contains a function which can calassify fire points into agricultural and non-agricultural fires: <br>\n",
    "Given in any area, this function will classify the fire points.<br>\n",
    "<br>\n",
    "All libraries has been imported which are required to create function."
   ]
  },
  {
   "cell_type": "code",
   "execution_count": null,
   "metadata": {},
   "outputs": [],
   "source": [
    "import warnings\n",
    "warnings.filterwarnings('ignore')"
   ]
  },
  {
   "cell_type": "code",
   "execution_count": null,
   "metadata": {},
   "outputs": [],
   "source": [
    "import geopandas as gpd                 # To handle geospatial data\n",
    "import pandas as pd                     # To handle any other data\n",
    "import rasterio                         # To handle geosaptial raster files"
   ]
  },
  {
   "cell_type": "markdown",
   "metadata": {},
   "source": [
    "### Reading csv file for FIRMS fire points.\n",
    "FIRMS data for both MODIS and VIIRS S-NPP can be downloaded in the format of Country Yearly Summary [.csv format](https://firms.modaps.eosdis.nasa.gov/country/). MODIS is available from 2000 to 2020, whereas VIIRS S-NPP is available from 2012 to the previous year(i.e., 2021).\n",
    "<br>\n",
    "<br>\n",
    "Boundary can be downloaded with respect to FIRMS data. Both boundary shapefile and FIRMS data can be read as geopandas, later FIRMS data can be clipped with given boundary:"
   ]
  },
  {
   "cell_type": "code",
   "execution_count": null,
   "metadata": {},
   "outputs": [],
   "source": [
    "viirs = pd.read_csv('ENTER THE CSV FILE NAME AND LOCATION HERE')  #ENTER THE CSV FILE NAME AND LOCATION HERE\n",
    "adm_name = gpd.read_file('ENTER THE GEOJSON/SHP FILE NAME AND LOCATION HERE')\n",
    "\n",
    "fire_pts = gpd.GeoDataFrame(viirs,                        #Converting fire points into dataframe\n",
    "                        geometry=gpd.points_from_xy(\n",
    "                            viirs.longitude,\n",
    "                            viirs.latitude),\n",
    "                        crs=4326)\n",
    "\n",
    "gdf = fire_pts.clip(adm_name)                   #Clipping fire points with boundary\n",
    "gdf = fire_pts.sort_values(by=[\"acq_date\"])     #Sorting points by date"
   ]
  },
  {
   "cell_type": "markdown",
   "metadata": {},
   "source": [
    "### Download and Read LULC file\n",
    "ESRI's 10m LULC 2017-2021 maps can [downloaded](https://www.arcgis.com/apps/instant/media/index.html?appid=fc92d38533d440078f17678ebc20e8e2) tile wise according to given area of interest. This file can be read as an pandas using rasterio, and FIRMS clipped points can be classified accordinf to each pixel value of LULC raster file:"
   ]
  },
  {
   "cell_type": "code",
   "execution_count": null,
   "metadata": {},
   "outputs": [],
   "source": [
    "#list of coordinates for all points\n",
    "coords = [(x,y) for x, y in zip(gdf.longitude, gdf.latitude)]\n",
    "\n",
    "# Open the raster and store metadata\n",
    "src = rasterio.open('ENTER LULC FILE NAME AND LOCATION HERE')\n",
    "\n",
    "# Sample the raster at every point location and store values in GeoDataFrame\n",
    "gdf['Class'] = [x[0] for x in src.sample(coords)]                #define each fire points the classes of respective LULC pixels\n",
    "\n",
    "#List of all classes in LULC raster\n",
    "classes = list(df.Class.unique())\n",
    "# Crop class - 4, flooded vegetation (like paddy) - 5\n",
    "crop_class = [4,5]\n",
    "non_crop_class = classes - crop_class\n",
    "\n",
    "gdf['Class'] = gdf['Class'].replace(non_crop_class,0)       #non-agricultural fires as 0\n",
    "gdf['Class'] = gdf['Class'].replace(crop_class,1)           #agricultural fires as 1\n",
    "\n",
    "\n",
    "gdf = gdf.reset_index()\n",
    "del gdf['index']\n",
    "gdf = gdf.reset_index()\n",
    "gdf.rename(columns = {'index':'fireID'}, inplace = True)   #Give each fire points a unique ID"
   ]
  },
  {
   "cell_type": "markdown",
   "metadata": {},
   "source": [
    "### Merge all in one function:\n",
    "\n",
    "Bring down all command together to create a function which takes FIRMS data, boundary shapefile and LULC as an input and create a dataframe as an output which contains all fire as a agricultural and non-agricultural classes:"
   ]
  },
  {
   "cell_type": "code",
   "execution_count": 2,
   "metadata": {},
   "outputs": [],
   "source": [
    "def fire_class (firms, boundary, lulc):\n",
    "    viirs = pd.read_csv(firms)  #ENTER THE CSV FILE NAME AND LOCATION HERE\n",
    "    adm_name = gpd.read_file(boundary)\n",
    "\n",
    "    fire_pts = gpd.GeoDataFrame(viirs,                        #Converting fire points into dataframe\n",
    "                            geometry=gpd.points_from_xy(\n",
    "                                viirs.longitude,\n",
    "                                viirs.latitude),\n",
    "                            crs=4326)\n",
    "\n",
    "    gdf = fire_pts.clip(adm_name)                   #Clipping fire points with boundary\n",
    "    gdf = fire_pts.sort_values(by=[\"acq_date\"])     #Sorting points by date\n",
    "\n",
    "\n",
    "    #list of coordinates for all points\n",
    "    coords = [(x,y) for x, y in zip(gdf.longitude, gdf.latitude)]\n",
    "\n",
    "    # Open the raster and store metadata\n",
    "    src = rasterio.open(lulc)\n",
    "\n",
    "    # Sample the raster at every point location and store values in GeoDataFrame\n",
    "    gdf['Class'] = [x[0] for x in src.sample(coords)]                #define each fire points the classes of respective LULC pixels\n",
    "\n",
    "    #List of all classes in LULC raster\n",
    "    classes = list(df.Class.unique())\n",
    "    # Crop class - 4, flooded vegetation (like paddy) - 5\n",
    "    crop_class = [4,5]\n",
    "    non_crop_class = classes - crop_class\n",
    "\n",
    "    gdf['Class'] = gdf['Class'].replace(non_crop_class,0)       #non-agricultural fires as 0\n",
    "    gdf['Class'] = gdf['Class'].replace(crop_class,1)           #agricultural fires as 1\n",
    "\n",
    "\n",
    "    gdf = gdf.reset_index()\n",
    "    del gdf['index']\n",
    "    gdf = gdf.reset_index()\n",
    "    gdf.rename(columns = {'index':'fireID'}, inplace = True)   #Give each fire points a unique ID"
   ]
  },
  {
   "cell_type": "markdown",
   "metadata": {},
   "source": [
    "#### Function can be called as:"
   ]
  },
  {
   "cell_type": "code",
   "execution_count": null,
   "metadata": {},
   "outputs": [],
   "source": [
    "fire_classified_dataframe = fire_class('firms/data/address','boundary/shape/address','lulc/raster/address')"
   ]
  }
 ],
 "metadata": {
  "kernelspec": {
   "display_name": "Python 3.8.10 64-bit",
   "language": "python",
   "name": "python3"
  },
  "language_info": {
   "codemirror_mode": {
    "name": "ipython",
    "version": 3
   },
   "file_extension": ".py",
   "mimetype": "text/x-python",
   "name": "python",
   "nbconvert_exporter": "python",
   "pygments_lexer": "ipython3",
   "version": "3.10.6"
  },
  "orig_nbformat": 4,
  "vscode": {
   "interpreter": {
    "hash": "916dbcbb3f70747c44a77c7bcd40155683ae19c65e1c03b4aa3499c5328201f1"
   }
  }
 },
 "nbformat": 4,
 "nbformat_minor": 2
}
