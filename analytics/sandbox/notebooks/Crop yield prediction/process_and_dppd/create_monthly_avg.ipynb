{
 "cells": [
  {
   "cell_type": "code",
   "execution_count": 1,
   "metadata": {},
   "outputs": [],
   "source": [
    "# Import packages\n",
    "from osgeo import gdal\n",
    "import os\n",
    "import numpy as np\n",
    "import rasterio\n",
    "import re\n",
    "import sys\n",
    "\n",
    "sys.path.append(os.path.abspath(\"C:/Users/mieke/Documents/Msc Thesis/Notebooks Python/Others\"))\n",
    "import functions_other #import python file containing the functions"
   ]
  },
  {
   "cell_type": "code",
   "execution_count": 2,
   "metadata": {},
   "outputs": [
    {
     "data": {
      "text/plain": [
       "<module 'functions_aggregate' from 'c:\\\\Users\\\\mieke\\\\Documents\\\\Msc Thesis\\\\Notebooks Python\\\\Others\\\\functions_aggregate.py'>"
      ]
     },
     "execution_count": 2,
     "metadata": {},
     "output_type": "execute_result"
    }
   ],
   "source": [
    "# For updates\n",
    "import importlib\n",
    "importlib.reload(functions_other)"
   ]
  },
  {
   "cell_type": "code",
   "execution_count": 3,
   "metadata": {},
   "outputs": [],
   "source": [
    "## LAI\n",
    "beginyear = 2014\n",
    "endyear = 2021\n",
    "folder_path = 'C:/Users/mieke/Documents/Data_download/Copernicus/LAI/Telangana/aoi_rescaled/'\n",
    "dest_path = 'C:/Users/mieke/Documents/Data_download/Copernicus/LAI/Telangana/monthly_averages/'\n",
    "\n",
    "functions_other.monthly_averages(folder_path, dest_path, beginyear, endyear)"
   ]
  },
  {
   "cell_type": "code",
   "execution_count": 4,
   "metadata": {},
   "outputs": [],
   "source": [
    "## SSM\n",
    "beginyear = 2015\n",
    "endyear = 2021\n",
    "folder_path = 'C:/Users/mieke/Documents/Data_download/GEE/SSM/Telangana/aoi_rescaled/'\n",
    "dest_path = 'C:/Users/mieke/Documents/Data_download/GEE/SSM/Telangana/monthly_averages/'\n",
    "\n",
    "functions_other.monthly_averages(folder_path, dest_path, beginyear, endyear)"
   ]
  },
  {
   "cell_type": "code",
   "execution_count": 5,
   "metadata": {},
   "outputs": [],
   "source": [
    "## SUSM\n",
    "beginyear = 2015\n",
    "endyear = 2021\n",
    "folder_path = 'C:/Users/mieke/Documents/Data_download/GEE/SUSM/Telangana/aoi_rescaled/'\n",
    "dest_path = 'C:/Users/mieke/Documents/Data_download/GEE/SUSM/Telangana/monthly_averages/'\n",
    "\n",
    "functions_other.monthly_averages(folder_path, dest_path, beginyear, endyear)"
   ]
  },
  {
   "cell_type": "code",
   "execution_count": 6,
   "metadata": {},
   "outputs": [],
   "source": [
    "## NDVI\n",
    "beginyear = 2001\n",
    "endyear = 2021\n",
    "folder_path = 'C:/Users/mieke/Documents/Data_download/GEE/NDVI/Telangana/aoi_rescaled/'\n",
    "dest_path = 'C:/Users/mieke/Documents/Data_download/GEE/NDVI/Telangana/monthly_averages/'\n",
    "\n",
    "functions_other.monthly_averages(folder_path, dest_path, beginyear, endyear)"
   ]
  },
  {
   "cell_type": "code",
   "execution_count": 7,
   "metadata": {},
   "outputs": [],
   "source": [
    "## LST\n",
    "beginyear = 2001\n",
    "endyear = 2021\n",
    "folder_path = 'C:/Users/mieke/Documents/Data_download/GEE/LST/Telangana/aoi_rescaled/'\n",
    "dest_path = 'C:/Users/mieke/Documents/Data_download/GEE/LST/Telangana/monthly_averages/'\n",
    "\n",
    "functions_other.monthly_averages(folder_path, dest_path, beginyear, endyear)"
   ]
  }
 ],
 "metadata": {
  "kernelspec": {
   "display_name": "Python 3.10.4 ('thesis_base')",
   "language": "python",
   "name": "python3"
  },
  "language_info": {
   "codemirror_mode": {
    "name": "ipython",
    "version": 3
   },
   "file_extension": ".py",
   "mimetype": "text/x-python",
   "name": "python",
   "nbconvert_exporter": "python",
   "pygments_lexer": "ipython3",
   "version": "3.10.4"
  },
  "orig_nbformat": 4,
  "vscode": {
   "interpreter": {
    "hash": "734205a0c94b5e97d2e885f269ea6bd400da4ba9a6c87b08a93b97fdaab1acc8"
   }
  }
 },
 "nbformat": 4,
 "nbformat_minor": 2
}
