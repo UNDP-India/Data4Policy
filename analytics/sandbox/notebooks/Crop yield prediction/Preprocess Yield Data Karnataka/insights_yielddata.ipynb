{
 "cells": [
  {
   "cell_type": "code",
   "execution_count": 1,
   "metadata": {},
   "outputs": [],
   "source": [
    "# Import packages\n",
    "import geopandas as gpd\n",
    "import numpy as np\n",
    "import pandas as pd\n",
    "import os\n",
    "import re"
   ]
  },
  {
   "cell_type": "code",
   "execution_count": 2,
   "metadata": {},
   "outputs": [],
   "source": [
    "path = 'C:/Users/mieke/Documents/Msc Thesis/Datasets/Yield data/Karnataka/rabi 2016-2017/'\n",
    "file_names = os.listdir(path)\n",
    "yields = {}\n",
    "for i in range(len(file_names)):\n",
    "    current_path = path + file_names[i]\n",
    "    yields[format(i)] = pd.read_csv(current_path)\n",
    "    if yields[str(i)].columns[0] == 'S.N' or yields[str(i)].columns[0] == 'Sl.No':\n",
    "        yields[str(i)] = yields[str(i)].iloc[:,1:]\n",
    "    yields[str(i)].columns = ['District', 'Taluk', 'Insurance Unit', 'Gram Panchayat/Hobli', 'Crop', 'IRR_RF', 'Area_Sown_Ha', \\\n",
    "    'No_CCE_Conducted', 'Average Yield(Kg/Ha)', 'Name_Of_Higher_Level', 'No_CCE_Conducted_Higher', 'Higher Average Yield(Kg/Ha)', 'Synthetic Yield']\n",
    "\n",
    "yields_rabi2016 = pd.concat(yields, ignore_index=True)\n",
    "yields_rabi2016['Season'] = 'Rabi'\n",
    "yields_rabi2016['Year'] = 2016\n",
    "\n",
    "yields_rabi2016['Crop'] = yields_rabi2016['Crop'].str.lower()\n",
    "yields_rabi2016 = yields_rabi2016.dropna(subset = 'Crop').reset_index()\n",
    "\n",
    "if 'IRR_RF' not in list(yields_rabi2016.columns):\n",
    "    yields_rabi2016['IRR_RF'] = np.nan\n",
    "    for i in range(len(yields_rabi2016)):\n",
    "        if yields_rabi2016.loc[i, 'Crop'][-11:] == '(irrigated)':\n",
    "            yields_rabi2016.loc[i, 'IRR_RF'] = 'irr'\n",
    "        elif yields_rabi2016.loc[i, 'Crop'][-15:] == '(non irrigated)':\n",
    "            yields_rabi2016.loc[i, 'IRR_RF'] = 'rf'\n",
    "\n",
    "if 'Insurance Unit' not in list(yields_rabi2016.columns):\n",
    "    yields_rabi2016['Gram Panchayat Name'].update(yields_rabi2016.pop('Hobli Name'))\n",
    "    yields_rabi2016.rename(columns ={'Gram Panchayat Name': 'Insurance Unit'}, inplace=True)\n",
    "                  \n",
    "yields_rabi2016 = yields_rabi2016[['Year', 'Season', 'Insurance Unit', 'Gram Panchayat/Hobli', 'District', 'Taluk', 'Crop', 'IRR_RF', 'Average Yield(Kg/Ha)']]"
   ]
  },
  {
   "cell_type": "code",
   "execution_count": 3,
   "metadata": {},
   "outputs": [],
   "source": [
    "path = 'C:/Users/mieke/Documents/Msc Thesis/Datasets/Yield data/Karnataka/rabi 2017-2018/'\n",
    "file_names = os.listdir(path)\n",
    "yields = {}\n",
    "for i in range(len(file_names)):\n",
    "    current_path = path + file_names[i]\n",
    "    yields[format(i)] = pd.read_csv(current_path)\n",
    "    if yields[str(i)].columns[0] == 'S.N' or yields[str(i)].columns[0] == 'Sl.No':\n",
    "        yields[str(i)] = yields[str(i)].iloc[:,1:]\n",
    "    yields[str(i)].columns = ['District', 'Taluk', 'Insurance Unit', 'Gram Panchayat/Hobli', 'Crop', 'IRR_RF', 'Area_Sown_Ha', \\\n",
    "    'No_CCE_Conducted', 'Average Yield(Kg/Ha)', 'Name_Of_Higher_Level', 'No_CCE_Conducted_Higher', 'Higher Average Yield(Kg/Ha)']\n",
    "\n",
    "yields_rabi2017 = pd.concat(yields, ignore_index=True)\n",
    "yields_rabi2017['Season'] = 'Rabi'\n",
    "yields_rabi2017['Year'] = 2017\n",
    "\n",
    "yields_rabi2017['Crop'] = yields_rabi2017['Crop'].str.lower()\n",
    "yields_rabi2017 = yields_rabi2017.dropna(subset = 'Crop').reset_index()\n",
    "\n",
    "if 'IRR_RF' not in list(yields_rabi2017.columns):\n",
    "    yields_rabi2017['IRR_RF'] = np.nan\n",
    "    for i in range(len(yields_rabi2017)):\n",
    "        if yields_rabi2017.loc[i, 'Crop'][-11:] == '(irrigated)':\n",
    "            yields_rabi2017.loc[i, 'IRR_RF'] = 'irr'\n",
    "        elif yields_rabi2017.loc[i, 'Crop'][-15:] == '(non irrigated)':\n",
    "            yields_rabi2017.loc[i, 'IRR_RF'] = 'rf'\n",
    "\n",
    "if 'Insurance Unit' not in list(yields_rabi2017.columns):\n",
    "    yields_rabi2017['Gram Panchayat Name'].update(yields_rabi2017.pop('Hobli Name'))\n",
    "    yields_rabi2017.rename(columns ={'Gram Panchayat Name': 'Insurance Unit'}, inplace=True)            \n",
    "                  \n",
    "yields_rabi2017 = yields_rabi2017[['Year', 'Season', 'Insurance Unit', 'Gram Panchayat/Hobli', 'District', 'Taluk', 'Crop', 'IRR_RF', 'Average Yield(Kg/Ha)']]"
   ]
  },
  {
   "cell_type": "code",
   "execution_count": 4,
   "metadata": {},
   "outputs": [],
   "source": [
    "path = 'C:/Users/mieke/Documents/Msc Thesis/Datasets/Yield data/Karnataka/rabi 2018-2019/'\n",
    "file_names = os.listdir(path)\n",
    "yields = {}\n",
    "for i in range(len(file_names)):\n",
    "    current_path = path + file_names[i]\n",
    "    yields[format(i)] = pd.read_csv(current_path)\n",
    "    if yields[str(i)].columns[0] == 'S.N' or yields[str(i)].columns[0] == 'Sl.No':\n",
    "        yields[str(i)] = yields[str(i)].iloc[:,1:]\n",
    "    yields[str(i)].columns = ['District', 'Taluk', 'Gram Panchayat/Hobli', 'Hobli Name', 'Gram Panchayat Name', 'Crop', 'IRR_RF',  \\\n",
    "    'No_CCE_Conducted', 'Average Yield(Kg/Ha)', 'Higher Average Yield(Kg/Ha)', 'Name_Of_Higher_Level']\n",
    "\n",
    "yields_rabi2018 = pd.concat(yields, ignore_index=True)\n",
    "yields_rabi2018['Season'] = 'Rabi'\n",
    "yields_rabi2018['Year'] = 2018\n",
    "\n",
    "yields_rabi2018['Crop'] = yields_rabi2018['Crop'].str.lower()\n",
    "yields_rabi2018 = yields_rabi2018.dropna(subset = 'Crop').reset_index()\n",
    "\n",
    "if 'IRR_RF' not in list(yields_rabi2018.columns):\n",
    "    yields_rabi2018['IRR_RF'] = np.nan\n",
    "    for i in range(len(yields_rabi2018)):\n",
    "        if yields_rabi2018.loc[i, 'Crop'][-11:] == '(irrigated)':\n",
    "            yields_rabi2018.loc[i, 'IRR_RF'] = 'irr'\n",
    "        elif yields_rabi2018.loc[i, 'Crop'][-15:] == '(non irrigated)':\n",
    "            yields_rabi2018.loc[i, 'IRR_RF'] = 'rf'\n",
    "\n",
    "if 'Insurance Unit' not in list(yields_rabi2018.columns):\n",
    "    yields_rabi2018['Gram Panchayat Name'].update(yields_rabi2018.pop('Hobli Name'))\n",
    "    yields_rabi2018.rename(columns ={'Gram Panchayat Name': 'Insurance Unit'}, inplace=True)\n",
    "                      \n",
    "yields_rabi2018 = yields_rabi2018[['Year', 'Season', 'Insurance Unit', 'Gram Panchayat/Hobli', 'District', 'Taluk', 'Crop', 'IRR_RF', 'Average Yield(Kg/Ha)']]"
   ]
  },
  {
   "cell_type": "code",
   "execution_count": 5,
   "metadata": {},
   "outputs": [],
   "source": [
    "path = 'C:/Users/mieke/Documents/Msc Thesis/Datasets/Yield data/Karnataka/kharif 2016-2017/'\n",
    "file_names = os.listdir(path)\n",
    "yields = {}\n",
    "for i in range(len(file_names)):\n",
    "    current_path = path + file_names[i]\n",
    "    yields[format(i)] = pd.read_csv(current_path)\n",
    "    if yields[str(i)].columns[0] == 'S.N' or yields[str(i)].columns[0] == 'Sl.No':\n",
    "        yields[str(i)] = yields[str(i)].iloc[:,1:]\n",
    "    yields[str(i)].columns = ['District', 'Taluk', 'Insurance Unit', 'Gram Panchayat/Hobli', 'Crop', \\\n",
    "    'Average Yield(Kg/Ha)', 'Higher Average Yield(Kg/Ha)', 'TAC Yield'] #Technical advisory committee yield\n",
    "\n",
    "yields_kharif2016 = pd.concat(yields, ignore_index=True)\n",
    "yields_kharif2016['Season'] = 'Kharif'\n",
    "yields_kharif2016['Year'] = 2016\n",
    "\n",
    "yields_kharif2016['Crop'] = yields_kharif2016['Crop'].str.lower()\n",
    "yields_kharif2016 = yields_kharif2016.dropna(subset = 'Crop').reset_index()\n",
    "\n",
    "if 'IRR_RF' not in list(yields_kharif2016.columns):\n",
    "    yields_kharif2016['IRR_RF'] = np.nan\n",
    "    for i in range(len(yields_kharif2016)):\n",
    "        if yields_kharif2016.loc[i, 'Crop'][-11:] == '(irrigated)':\n",
    "            yields_kharif2016.loc[i, 'IRR_RF'] = 'irr'\n",
    "        elif yields_kharif2016.loc[i, 'Crop'][-15:] == '(non irrigated)':\n",
    "            yields_kharif2016.loc[i, 'IRR_RF'] = 'rf'\n",
    "\n",
    "if 'Insurance Unit' not in list(yields_kharif2016.columns):\n",
    "    yields_kharif2016['Gram Panchayat Name'].update(yields_kharif2016.pop('Hobli Name'))\n",
    "    yields_kharif2016.rename(columns ={'Gram Panchayat Name': 'Insurance Unit'}, inplace=True)\n",
    "                      \n",
    "yields_kharif2016 = yields_kharif2016[['Year', 'Season', 'Insurance Unit', 'Gram Panchayat/Hobli', 'District', 'Taluk', 'Crop', 'IRR_RF', 'Average Yield(Kg/Ha)']]"
   ]
  },
  {
   "cell_type": "code",
   "execution_count": 6,
   "metadata": {},
   "outputs": [],
   "source": [
    "path = 'C:/Users/mieke/Documents/Msc Thesis/Datasets/Yield data/Karnataka/kharif 2017-2018/'\n",
    "file_names = os.listdir(path)\n",
    "yields = {}\n",
    "for i in range(len(file_names)):\n",
    "    current_path = path + file_names[i]\n",
    "    yields[format(i)] = pd.read_csv(current_path)\n",
    "    if yields[str(i)].columns[0] == 'S.N' or yields[str(i)].columns[0] == 'Sl.No':\n",
    "        yields[str(i)] = yields[str(i)].iloc[:,1:]\n",
    "    yields[str(i)].columns = ['District', 'Taluk', 'Insurance Unit', 'Gram Panchayat/Hobli', 'Crop', 'IRR_RF', 'Area_Sown_Ha', \\\n",
    "    'No_CCE_Conducted', 'Average Yield(Kg/Ha)', 'Name_Of_Higher_Level', 'No_CCE_Conducted_Higher', 'Higher Average Yield(Kg/Ha)', 'Synthetic Yield']\n",
    "\n",
    "yields_kharif2017 = pd.concat(yields, ignore_index=True)\n",
    "yields_kharif2017['Season'] = 'Kharif'\n",
    "yields_kharif2017['Year'] = 2017\n",
    "\n",
    "yields_kharif2017['Crop'] = yields_kharif2017['Crop'].str.lower()\n",
    "yields_kharif2017 = yields_kharif2017.dropna(subset = 'Crop').reset_index()\n",
    "\n",
    "if 'IRR_RF' not in list(yields_kharif2017.columns):\n",
    "    yields_kharif2017['IRR_RF'] = np.nan\n",
    "    for i in range(len(yields_kharif2017)):\n",
    "        if yields_kharif2017.loc[i, 'Crop'][-11:] == '(irrigated)':\n",
    "            yields_kharif2017.loc[i, 'IRR_RF'] = 'irr'\n",
    "        elif yields_kharif2017.loc[i, 'Crop'][-15:] == '(non irrigated)':\n",
    "            yields_kharif2017.loc[i, 'IRR_RF'] = 'rf'\n",
    "\n",
    "if 'Insurance Unit' not in list(yields_kharif2017.columns):\n",
    "    yields_kharif2017['Gram Panchayat Name'].update(yields_kharif2017.pop('Hobli Name'))\n",
    "    yields_kharif2017.rename(columns ={'Gram Panchayat Name': 'Insurance Unit'}, inplace=True)\n",
    "                      \n",
    "yields_kharif2017 = yields_kharif2017[['Year', 'Season', 'Insurance Unit', 'Gram Panchayat/Hobli', 'District', 'Taluk', 'Crop', 'IRR_RF', 'Average Yield(Kg/Ha)']]"
   ]
  },
  {
   "cell_type": "code",
   "execution_count": 7,
   "metadata": {},
   "outputs": [],
   "source": [
    "path = 'C:/Users/mieke/Documents/Msc Thesis/Datasets/Yield data/Karnataka/kharif 2018-2019/'\n",
    "file_names = os.listdir(path)\n",
    "yields = {}\n",
    "for i in range(len(file_names)):\n",
    "    current_path = path + file_names[i]\n",
    "    yields[format(i)] = pd.read_csv(current_path)\n",
    "    if yields[str(i)].columns[0] == 'S.N' or yields[str(i)].columns[0] == 'Sl.No':\n",
    "        yields[str(i)] = yields[str(i)].iloc[:,1:]\n",
    "    yields[str(i)].columns = ['District', 'Taluk', 'Gram Panchayat/Hobli', 'Hobli Name', 'Gram Panchayat Name', 'Crop', 'IRR_RF',  \\\n",
    "    'No_CCE_Conducted', 'Average Yield(Kg/Ha)', 'Higher Average Yield(Kg/Ha)', 'Name_Of_Higher_Level']\n",
    "\n",
    "yields_kharif2018 = pd.concat(yields, ignore_index=True)\n",
    "yields_kharif2018['Season'] = 'Kharif'\n",
    "yields_kharif2018['Year'] = 2018\n",
    "\n",
    "yields_kharif2018['Crop'] = yields_kharif2018['Crop'].str.lower()\n",
    "yields_kharif2018 = yields_kharif2018.dropna(subset = 'Crop').reset_index()\n",
    "\n",
    "if 'IRR_RF' not in list(yields_kharif2018.columns):\n",
    "    yields_kharif2018['IRR_RF'] = np.nan\n",
    "    for i in range(len(yields_kharif2018)):\n",
    "        if yields_kharif2018.loc[i, 'Crop'][-11:] == '(irrigated)':\n",
    "            yields_kharif2018.loc[i, 'IRR_RF'] = 'irr'\n",
    "        elif yields_kharif2018.loc[i, 'Crop'][-15:] == '(non irrigated)':\n",
    "            yields_kharif2018.loc[i, 'IRR_RF'] = 'rf'\n",
    "\n",
    "if 'Insurance Unit' not in list(yields_kharif2018.columns):\n",
    "    yields_kharif2018['Gram Panchayat Name'].update(yields_kharif2018.pop('Hobli Name'))\n",
    "    yields_kharif2018.rename(columns ={'Gram Panchayat Name': 'Insurance Unit'}, inplace=True)\n",
    "                      \n",
    "yields_kharif2018 = yields_kharif2018[['Year', 'Season', 'Insurance Unit', 'Gram Panchayat/Hobli', 'District', 'Taluk', 'Crop', 'IRR_RF', 'Average Yield(Kg/Ha)']]"
   ]
  },
  {
   "cell_type": "code",
   "execution_count": 8,
   "metadata": {},
   "outputs": [],
   "source": [
    "path = 'C:/Users/mieke/Documents/Msc Thesis/Datasets/Yield data/Karnataka/summer 2016-2017/'\n",
    "file_names = os.listdir(path)\n",
    "yields = {}\n",
    "for i in range(len(file_names)):\n",
    "    current_path = path + file_names[i]\n",
    "    yields[format(i)] = pd.read_csv(current_path)\n",
    "    if yields[str(i)].columns[0] == 'S.N' or yields[str(i)].columns[0] == 'Sl.No':\n",
    "        yields[str(i)] = yields[str(i)].iloc[:,1:]\n",
    "    yields[str(i)].columns = ['District', 'Taluk', 'Insurance Unit', 'Gram Panchayat/Hobli', 'Crop', 'IRR_RF', 'Area_Sown_Ha', \\\n",
    "    'No_CCE_Conducted', 'Average Yield(Kg/Ha)', 'Name_Of_Higher_Level', 'No_CCE_Conducted_Higher', 'Higher Average Yield(Kg/Ha)', 'Synthetic Yield']\n",
    "\n",
    "yields_summer2016 = pd.concat(yields, ignore_index=True)\n",
    "yields_summer2016['Season'] = 'Summer'\n",
    "yields_summer2016['Year'] = 2016\n",
    "\n",
    "yields_summer2016['Crop'] = yields_summer2016['Crop'].str.lower()\n",
    "yields_summer2016 = yields_summer2016.dropna(subset = 'Crop').reset_index()\n",
    "\n",
    "if 'IRR_RF' not in list(yields_summer2016.columns):\n",
    "    yields_summer2016['IRR_RF'] = np.nan\n",
    "    for i in range(len(yields_summer2016)):\n",
    "        if yields_summer2016.loc[i, 'Crop'][-11:] == '(irrigated)':\n",
    "            yields_summer2016.loc[i, 'IRR_RF'] = 'irr'\n",
    "        elif yields_summer2016.loc[i, 'Crop'][-15:] == '(non irrigated)':\n",
    "            yields_summer2016.loc[i, 'IRR_RF'] = 'rf'\n",
    "\n",
    "if 'Insurance Unit' not in list(yields_summer2016.columns):\n",
    "    yields_summer2016['Gram Panchayat Name'].update(yields_summer2016.pop('Hobli Name'))\n",
    "    yields_summer2016.rename(columns ={'Gram Panchayat Name': 'Insurance Unit'}, inplace=True)\n",
    "                      \n",
    "yields_summer2016 = yields_summer2016[['Year', 'Season', 'Insurance Unit', 'Gram Panchayat/Hobli', 'District', 'Taluk', 'Crop', 'IRR_RF', 'Average Yield(Kg/Ha)']]"
   ]
  },
  {
   "cell_type": "code",
   "execution_count": 9,
   "metadata": {},
   "outputs": [],
   "source": [
    "path = 'C:/Users/mieke/Documents/Msc Thesis/Datasets/Yield data/Karnataka/summer 2017-2018/'\n",
    "file_names = os.listdir(path)\n",
    "yields = {}\n",
    "for i in range(len(file_names)):\n",
    "    current_path = path + file_names[i]\n",
    "    yields[format(i)] = pd.read_csv(current_path)\n",
    "    if yields[str(i)].columns[0] == 'S.N' or yields[str(i)].columns[0] == 'Sl.No':\n",
    "        yields[str(i)] = yields[str(i)].iloc[:,1:]\n",
    "    yields[str(i)].columns = ['District', 'Taluk', 'Insurance Unit', 'Gram Panchayat/Hobli', 'Crop', 'IRR_RF', 'Area_Sown_Ha', \\\n",
    "    'No_CCE_Conducted', 'Average Yield(Kg/Ha)', 'Name_Of_Higher_Level', 'No_CCE_Conducted_Higher', 'Higher Average Yield(Kg/Ha)']\n",
    "\n",
    "yields_summer2017 = pd.concat(yields, ignore_index=True)\n",
    "yields_summer2017['Season'] = 'Summer'\n",
    "yields_summer2017['Year'] = 2017\n",
    "\n",
    "yields_summer2017['Crop'] = yields_summer2017['Crop'].str.lower()\n",
    "yields_summer2017 = yields_summer2017.dropna(subset = 'Crop').reset_index()\n",
    "\n",
    "if 'IRR_RF' not in list(yields_summer2017.columns):\n",
    "    yields_summer2017['IRR_RF'] = np.nan\n",
    "    for i in range(len(yields_summer2017)):\n",
    "        if yields_summer2017.loc[i, 'Crop'][-11:] == '(irrigated)':\n",
    "            yields_summer2017.loc[i, 'IRR_RF'] = 'irr'\n",
    "        elif yields_summer2017.loc[i, 'Crop'][-15:] == '(non irrigated)':\n",
    "            yields_summer2017.loc[i, 'IRR_RF'] = 'rf'\n",
    "\n",
    "if 'Insurance Unit' not in list(yields_summer2017.columns):\n",
    "    yields_summer2017['Gram Panchayat Name'].update(yields_summer2017.pop('Hobli Name'))\n",
    "    yields_summer2017.rename(columns ={'Gram Panchayat Name': 'Insurance Unit'}, inplace=True)\n",
    "                      \n",
    "yields_summer2017 = yields_summer2017[['Year', 'Season', 'Insurance Unit', 'Gram Panchayat/Hobli', 'District', 'Taluk', 'Crop', 'IRR_RF', 'Average Yield(Kg/Ha)']]"
   ]
  },
  {
   "cell_type": "code",
   "execution_count": 10,
   "metadata": {},
   "outputs": [],
   "source": [
    "path = 'C:/Users/mieke/Documents/Msc Thesis/Datasets/Yield data/Karnataka/summer 2018-2019/'\n",
    "file_names = os.listdir(path)\n",
    "yields = {}\n",
    "for i in range(len(file_names)):\n",
    "    current_path = path + file_names[i]\n",
    "    yields[format(i)] = pd.read_csv(current_path)\n",
    "    if yields[str(i)].columns[0] == 'S.N' or yields[str(i)].columns[0] == 'Sl.No':\n",
    "        yields[str(i)] = yields[str(i)].iloc[:,1:]\n",
    "    yields[str(i)].columns = ['District', 'Taluk', 'Gram Panchayat/Hobli', 'Hobli Name', 'Gram Panchayat Name', 'Crop', 'IRR_RF',  \\\n",
    "    'No_CCE_Conducted', 'Average Yield(Kg/Ha)', 'Higher Average Yield(Kg/Ha)', 'Name_Of_Higher_Level']\n",
    "\n",
    "yields_summer2018 = pd.concat(yields, ignore_index=True)\n",
    "yields_summer2018['Season'] = 'Summer'\n",
    "yields_summer2018['Year'] = 2018\n",
    "\n",
    "yields_summer2018['Crop'] = yields_summer2018['Crop'].str.lower()\n",
    "yields_summer2018 = yields_summer2018.dropna(subset = 'Crop').reset_index()\n",
    "\n",
    "if 'IRR_RF' not in list(yields_summer2018.columns):\n",
    "    yields_summer2018['IRR_RF'] = np.nan\n",
    "    for i in range(len(yields_summer2018)):\n",
    "        if yields_summer2018.loc[i, 'Crop'][-11:] == '(irrigated)':\n",
    "            yields_summer2018.loc[i, 'IRR_RF'] = 'irr'\n",
    "        elif yields_summer2018.loc[i, 'Crop'][-15:] == '(non irrigated)':\n",
    "            yields_summer2018.loc[i, 'IRR_RF'] = 'rf'\n",
    "\n",
    "if 'Insurance Unit' not in list(yields_summer2018.columns):\n",
    "    yields_summer2018['Gram Panchayat Name'].update(yields_summer2018.pop('Hobli Name'))\n",
    "    yields_summer2018.rename(columns ={'Gram Panchayat Name': 'Insurance Unit'}, inplace=True)\n",
    "                      \n",
    "yields_summer2018 = yields_summer2018[['Year', 'Season', 'Insurance Unit', 'Gram Panchayat/Hobli', 'District', 'Taluk', 'Crop', 'IRR_RF', 'Average Yield(Kg/Ha)']]"
   ]
  },
  {
   "cell_type": "code",
   "execution_count": 11,
   "metadata": {},
   "outputs": [],
   "source": [
    "yields_list = {'yields_kharif2016' :yields_kharif2016, 'yields_kharif2017': yields_kharif2017, 'yields_kharif2018': yields_kharif2018, \\\n",
    "    'yields_rabi2016': yields_rabi2016, 'yields_rabi2017': yields_rabi2017, 'yields_rabi2018': yields_rabi2018, \\\n",
    "        'yields_summer2016': yields_summer2016, 'yields_summer2017': yields_summer2017, 'yields_summer2018': yields_summer2018}   \n",
    "\n",
    "yields = pd.concat(yields_list, ignore_index=True)   "
   ]
  },
  {
   "cell_type": "code",
   "execution_count": 12,
   "metadata": {},
   "outputs": [],
   "source": [
    "yields['Gram Panchayat/Hobli'] = yields['Gram Panchayat/Hobli'].str.lower()\n",
    "yields['District'] = yields['District'].str.lower()\n",
    "yields['Taluk'] = yields['Taluk'].str.lower()\n",
    "yields['IRR_RF'] = yields['IRR_RF'].str.lower()\n",
    "yields['Insurance Unit'] = yields['Insurance Unit'].str.lower()\n",
    "\n",
    "yields = yields.dropna(subset = 'Insurance Unit').reset_index(drop=True)\n",
    "\n",
    "yields['IRR_RF'].replace(\"[\\(]irrigated[\\)]\", \"irr\", regex=True, inplace=True)\n",
    "yields['IRR_RF'].replace(\"[\\(]non irrigated[\\)]\", \"rf\", regex=True, inplace=True)\n",
    "yields['IRR_RF'].replace(\"[\\(]ns[\\)]\", \"ns\", regex=True, inplace=True) # assumption\n",
    "yields['IRR_RF'].replace(\"[\\(]unspecified[\\)]\", \"ns\", regex=True, inplace=True) # assumption\n",
    "\n",
    "yields['IRR_RF'].replace(\"non irrigated\", \"rf\", regex=True, inplace=True)\n",
    "yields['IRR_RF'].replace(\"irrigated\", \"irr\", regex=True, inplace=True)\n",
    "yields['IRR_RF'].replace(\"unspecified\", \"ns\", regex=True, inplace=True) # assumption\n",
    "yields['IRR_RF'].replace(\"ns\", \"ns\", regex=True, inplace=True) # assumption\n",
    "\n",
    "for i in range(len(yields)):\n",
    "    if yields.loc[i, 'Crop'][-13:] == '(unspecified)' and pd.isna(yields.loc[i, 'IRR_RF']):\n",
    "        yields.loc[i, 'IRR_RF'] = 'ns' # assumption       \n",
    "    elif yields.loc[i, 'Crop'][-4:] == '(ns)' and pd.isna(yields.loc[i, 'IRR_RF']):\n",
    "        yields.loc[i, 'IRR_RF'] = 'ns' # assumption\n",
    "\n",
    "yields['Crop'].replace(\"[\\(]unspecified[\\)]\", \"\", regex=True, inplace=True)\n",
    "yields['Crop'].replace(\"[\\(]ns[\\)]\", \"\", regex=True, inplace=True)\n",
    "yields['Crop'].replace(\"[\\(]irrigated[\\)]\", \"\", regex=True, inplace=True)\n",
    "yields['Crop'].replace(\"[\\(]non irrigated[\\)]\", \"\", regex=True, inplace=True)\n",
    "\n",
    "yields['Gram Panchayat/Hobli'].replace(\"gram panchyat\", \"gp\", regex=True, inplace=True)\n",
    "yields['Gram Panchayat/Hobli'].replace(\"grama panchayat\", \"gp\", regex=True, inplace=True)\n",
    "yields['Gram Panchayat/Hobli'].replace(\"gram panchayat\", \"gp\", regex=True, inplace=True)\n",
    "#yields['Gram Panchayat/Hobli'].replace(\"gram panchayat \", \"gp\", regex=True, inplace=True)\n",
    "yields['Gram Panchayat/Hobli'].replace(\"hobli\", \"h\", regex=True, inplace=True)\n",
    "yields['Gram Panchayat/Hobli'].replace(\"\\s+$\", \"\", regex=True, inplace=True)  \n",
    "\n",
    "if 'Insurance Unit' not in list(yields.columns):\n",
    "    yields['Gram Panchayat Name'].update(yields.pop('Hobli Name'))\n",
    "    yields.rename(columns ={'Gram Panchayat Name': 'Insurance Unit'}, inplace=True)\n",
    "\n",
    "yields['Insurance Unit'].replace(\"[\\(]h[\\)]\", \"\", regex=True, inplace=True)\n",
    "yields['Insurance Unit'].replace(\"[\\(]ulb[\\)]\", \"\", regex=True, inplace=True)\n",
    "yields['Insurance Unit'].replace(\"[\\(]gp[\\)]\", \"\", regex=True, inplace=True)\n",
    "yields['Insurance Unit'].replace(\"[\\(]hobli[\\)]\", \"\", regex=True, inplace=True)\n",
    "yields['Insurance Unit'].replace(\"[\\(]gram panchyat[\\)]\", \"\", regex=True, inplace=True)    \n",
    "yields['Insurance Unit'].replace(\"\\s+$\", \"\", regex=True, inplace=True)  \n",
    "\n",
    "yields = yields.drop_duplicates(ignore_index=True)"
   ]
  },
  {
   "cell_type": "code",
   "execution_count": 13,
   "metadata": {},
   "outputs": [
    {
     "name": "stdout",
     "output_type": "stream",
     "text": [
      "19642\n",
      "67531\n",
      "47889\n",
      "47889\n"
     ]
    }
   ],
   "source": [
    "yields_nan = yields[yields['Average Yield(Kg/Ha)'].isna()] # All observations for which we do not have an average yield\n",
    "print(np.size(yields_nan,0)) # 20.066 observations\n",
    "\n",
    "print(np.size(yields,0)) # 68.952 observations \n",
    "yields = yields.dropna(subset = 'Average Yield(Kg/Ha)').reset_index(drop=True) # Drop all observations w/o average yield\n",
    "print(np.size(yields,0)) # 48.886 observations\n",
    "\n",
    "print(np.size(yields.drop_duplicates(),0)) # There are no duplicates"
   ]
  },
  {
   "cell_type": "code",
   "execution_count": 14,
   "metadata": {},
   "outputs": [
    {
     "name": "stdout",
     "output_type": "stream",
     "text": [
      "2505\n",
      "1593\n",
      "2189\n",
      "19642\n"
     ]
    }
   ],
   "source": [
    "# The amount of observations that we loose when we drop nan values wrt average yield\n",
    "print(np.size(yields_nan[yields_nan['Crop'] == 'paddy'],0)) # 2587\n",
    "print(np.size(yields_nan[yields_nan['Crop'] == 'maize (makka)'],0)) # 1619\n",
    "print(np.size(yields_nan[yields_nan['Crop'] == 'sorghum (jowar/great millet)'],0)) # 2207\n",
    "print(np.size(yields_nan,0)) # 20066"
   ]
  },
  {
   "cell_type": "code",
   "execution_count": 15,
   "metadata": {},
   "outputs": [
    {
     "name": "stdout",
     "output_type": "stream",
     "text": [
      "Year, Season, District, Total observations, Obs Paddy, irr, Obs Maize, irr, Obs Sorghum, irr\n",
      "2016,Kharif,30,11951,2608,0.5601993865030674,2493,0.35900521460088247,363,0.24242424242424243\n",
      "2017,Kharif,29,10449,2196,0.581056466302368,2263,0.3499779054352629,233,0.18025751072961374\n",
      "2018,Kharif,29,9748,2311,0.5374296841194288,2047,0.35906204201270153,178,0.15168539325842698\n",
      "2016,Rabi,26,3550,192,1.0,274,0.9890510948905109,1307,0.11400153022188217\n",
      "2017,Rabi,27,5237,232,1.0,307,0.9674267100977199,1814,0.10694597574421169\n",
      "2018,Rabi,27,4980,203,1.0,275,0.9781818181818182,1741,0.10568638713383113\n",
      "2016,Summer,21,549,223,1.0,26,1.0,6,1.0\n",
      "2017,Summer,22,747,395,1.0,17,1.0,2,1.0\n",
      "2018,Summer,21,678,400,1.0,8,1.0,0,0.0\n",
      "Total,47889,8760,7710,5644\n"
     ]
    }
   ],
   "source": [
    "# Information\n",
    "len(yields['Crop'].unique()) # Number of crop types\n",
    "# Table 1 Information\n",
    "print('Year, Season, District, Total observations, Obs Paddy, irr, Obs Maize, irr, Obs Sorghum, irr')\n",
    "for s in sorted(yields['Season'].unique()):\n",
    "    for y in sorted(yields['Year'].unique()):  \n",
    "        print(str(y) + ',' + s + ',' + str(len(yields[(yields['Year'] == y) & (yields['Season'] == s)]['District'].unique())) + ',' + str(np.size(yields[(yields['Year'] == y) & (yields['Season'] == s)],0)) + ',' + str(np.size(yields[(yields['Crop'] == 'paddy') & (yields['Year'] == y) & (yields['Season'] == s)],0)) + ',' + str(np.size(yields[(yields['IRR_RF'] == 'irr') & (yields['Crop'] == 'paddy') & (yields['Year'] == y) & (yields['Season'] == s)],0) / (np.size(yields[(yields['IRR_RF'] == 'irr') & (yields['Crop'] == 'paddy') & (yields['Year'] == y) & (yields['Season'] == s)],0) + np.size(yields[(yields['IRR_RF'] == 'rf') & (yields['Crop'] == 'paddy') & (yields['Year'] == y) & (yields['Season'] == s)],0))) + ',' + str(np.size(yields[(yields['Crop'] == 'maize (makka)') & (yields['Year'] == y) & (yields['Season'] == s)],0)) + ',' + str(np.size(yields[(yields['IRR_RF'] == 'irr') & (yields['Crop'] == 'maize (makka)') & (yields['Year'] == y) & (yields['Season'] == s)],0) / (np.size(yields[(yields['IRR_RF'] == 'irr') & (yields['Crop'] == 'maize (makka)') & (yields['Year'] == y) & (yields['Season'] == s)],0) + np.size(yields[(yields['IRR_RF'] == 'rf') & (yields['Crop'] == 'maize (makka)') & (yields['Year'] == y) & (yields['Season'] == s)],0))) + ',' + str(np.size(yields[(yields['Crop'] == 'sorghum (jowar/great millet)') & (yields['Year'] == y) & (yields['Season'] == s)],0)) + ',' + str(np.size(yields[(yields['IRR_RF'] == 'irr') & (yields['Crop'] == 'sorghum (jowar/great millet)') & (yields['Year'] == y) & (yields['Season'] == s)],0) / (np.size(yields[(yields['IRR_RF'] == 'irr') & (yields['Crop'] == 'sorghum (jowar/great millet)') & (yields['Year'] == y) & (yields['Season'] == s)],0) + np.size(yields[(yields['IRR_RF'] == 'rf') & (yields['Crop'] == 'sorghum (jowar/great millet)') & (yields['Year'] == y) & (yields['Season'] == s)],0) + 0.0000000000000000000000000000000001)))\n",
    "#         print(str(y) + ',' + s + ',' + str(np.size(yields[(yields['Year'] == y) & (yields['Season'] == s)],0)) + ',' + str(np.size(yields[(yields['IRR_RF'] == 'ns') & (yields['Year'] == y) & (yields['Season'] == s)],0)) + ',' + str(np.size(yields[(yields['Crop'] == 'paddy') & (yields['Year'] == y) & (yields['Season'] == s)],0)) + ',' + str(np.size(yields[(yields['Crop'] == 'maize (makka)') & (yields['Year'] == y) & (yields['Season'] == s)],0)) + ',' + str(np.size(yields[(yields['Crop'] == 'sorghum (jowar/great millet)') & (yields['Year'] == y) & (yields['Season'] == s)],0)))\n",
    "print('Total,' + str(np.size(yields,0)) + ',' + str(np.size(yields[(yields['Crop'] == 'paddy')],0)) + ',' + str(np.size(yields[(yields['Crop'] == 'maize (makka)')],0)) + ',' + str(np.size(yields[(yields['Crop'] == 'sorghum (jowar/great millet)')],0))) \n",
    "\n",
    "# Besides note that 'ns' does not occur for the crop types of interest"
   ]
  },
  {
   "cell_type": "code",
   "execution_count": 16,
   "metadata": {},
   "outputs": [],
   "source": [
    "# Create dataframe only containing observations for the crop type of interest\n",
    "yields = yields[(yields['Crop'] == 'paddy') | (yields['Crop'] == 'maize (makka)') | (yields['Crop'] == 'sorghum (jowar/great millet)')].reset_index(drop=True)"
   ]
  },
  {
   "cell_type": "code",
   "execution_count": 17,
   "metadata": {},
   "outputs": [
    {
     "name": "stdout",
     "output_type": "stream",
     "text": [
      "Year, Season, District, Total observations, Obs Paddy, irr, Obs Maize, irr, Obs Sorghum, irr\n",
      "2016,Kharif,30,5464,2608,0.5601993865030674,2493,0.35900521460088247,363,0.24242424242424243\n",
      "2017,Kharif,29,4692,2196,0.581056466302368,2263,0.3499779054352629,233,0.18025751072961374\n",
      "2018,Kharif,29,4536,2311,0.5374296841194288,2047,0.35906204201270153,178,0.15168539325842698\n",
      "2016,Rabi,20,1773,192,1.0,274,0.9890510948905109,1307,0.11400153022188217\n",
      "2017,Rabi,25,2353,232,1.0,307,0.9674267100977199,1814,0.10694597574421169\n",
      "2018,Rabi,22,2219,203,1.0,275,0.9781818181818182,1741,0.10568638713383113\n",
      "2016,Summer,19,255,223,1.0,26,1.0,6,1.0\n",
      "2017,Summer,21,414,395,1.0,17,1.0,2,1.0\n",
      "2018,Summer,19,408,400,1.0,8,1.0,0,0.0\n",
      "Total,22114,8760,7710,5644\n"
     ]
    }
   ],
   "source": [
    "# Information\n",
    "len(yields['Crop'].unique()) # Number of crop types\n",
    "# Table 1 Information\n",
    "print('Year, Season, District, Total observations, Obs Paddy, irr, Obs Maize, irr, Obs Sorghum, irr')\n",
    "for s in sorted(yields['Season'].unique()):\n",
    "    for y in sorted(yields['Year'].unique()):  \n",
    "        print(str(y) + ',' + s + ',' + str(len(yields[(yields['Year'] == y) & (yields['Season'] == s)]['District'].unique())) + ',' + str(np.size(yields[(yields['Year'] == y) & (yields['Season'] == s)],0)) + ',' + str(np.size(yields[(yields['Crop'] == 'paddy') & (yields['Year'] == y) & (yields['Season'] == s)],0)) + ',' + str(np.size(yields[(yields['IRR_RF'] == 'irr') & (yields['Crop'] == 'paddy') & (yields['Year'] == y) & (yields['Season'] == s)],0) / (np.size(yields[(yields['IRR_RF'] == 'irr') & (yields['Crop'] == 'paddy') & (yields['Year'] == y) & (yields['Season'] == s)],0) + np.size(yields[(yields['IRR_RF'] == 'rf') & (yields['Crop'] == 'paddy') & (yields['Year'] == y) & (yields['Season'] == s)],0))) + ',' + str(np.size(yields[(yields['Crop'] == 'maize (makka)') & (yields['Year'] == y) & (yields['Season'] == s)],0)) + ',' + str(np.size(yields[(yields['IRR_RF'] == 'irr') & (yields['Crop'] == 'maize (makka)') & (yields['Year'] == y) & (yields['Season'] == s)],0) / (np.size(yields[(yields['IRR_RF'] == 'irr') & (yields['Crop'] == 'maize (makka)') & (yields['Year'] == y) & (yields['Season'] == s)],0) + np.size(yields[(yields['IRR_RF'] == 'rf') & (yields['Crop'] == 'maize (makka)') & (yields['Year'] == y) & (yields['Season'] == s)],0))) + ',' + str(np.size(yields[(yields['Crop'] == 'sorghum (jowar/great millet)') & (yields['Year'] == y) & (yields['Season'] == s)],0)) + ',' + str(np.size(yields[(yields['IRR_RF'] == 'irr') & (yields['Crop'] == 'sorghum (jowar/great millet)') & (yields['Year'] == y) & (yields['Season'] == s)],0) / (np.size(yields[(yields['IRR_RF'] == 'irr') & (yields['Crop'] == 'sorghum (jowar/great millet)') & (yields['Year'] == y) & (yields['Season'] == s)],0) + np.size(yields[(yields['IRR_RF'] == 'rf') & (yields['Crop'] == 'sorghum (jowar/great millet)') & (yields['Year'] == y) & (yields['Season'] == s)],0) + 0.0000000000000000000000000000000001)))\n",
    "#         print(str(y) + ',' + s + ',' + str(np.size(yields[(yields['Year'] == y) & (yields['Season'] == s)],0)) + ',' + str(np.size(yields[(yields['IRR_RF'] == 'ns') & (yields['Year'] == y) & (yields['Season'] == s)],0)) + ',' + str(np.size(yields[(yields['Crop'] == 'paddy') & (yields['Year'] == y) & (yields['Season'] == s)],0)) + ',' + str(np.size(yields[(yields['Crop'] == 'maize (makka)') & (yields['Year'] == y) & (yields['Season'] == s)],0)) + ',' + str(np.size(yields[(yields['Crop'] == 'sorghum (jowar/great millet)') & (yields['Year'] == y) & (yields['Season'] == s)],0)))\n",
    "print('Total,' + str(np.size(yields,0)) + ',' + str(np.size(yields[(yields['Crop'] == 'paddy')],0)) + ',' + str(np.size(yields[(yields['Crop'] == 'maize (makka)')],0)) + ',' + str(np.size(yields[(yields['Crop'] == 'sorghum (jowar/great millet)')],0))) \n",
    "\n",
    "# Besides note that 'ns' does not occur for the crop types of interest"
   ]
  },
  {
   "cell_type": "code",
   "execution_count": 17,
   "metadata": {},
   "outputs": [
    {
     "data": {
      "text/plain": [
       "22114"
      ]
     },
     "execution_count": 17,
     "metadata": {},
     "output_type": "execute_result"
    }
   ],
   "source": [
    "k_1 = 0\n",
    "k_2 = 0\n",
    "k_3 = 0\n",
    "\n",
    "df_four = pd.DataFrame()\n",
    "yields_copy = yields.copy()\n",
    "for i in yields.index:\n",
    "    df_temp = yields_copy[(yields_copy['Insurance Unit'] == yields['Insurance Unit'].iloc[i]) & (yields_copy['Season'] == yields['Season'].iloc[i]) & (yields_copy['Gram Panchayat/Hobli'] == yields['Gram Panchayat/Hobli'].iloc[i]) & (yields_copy['District'] == yields['District'].iloc[i]) & (yields_copy['Taluk'] == yields['Taluk'].iloc[i]) & (yields_copy['Crop'] == yields['Crop'].iloc[i]) & (yields_copy['IRR_RF'] == yields['IRR_RF'].iloc[i])]\n",
    "    if np.size(df_temp,0) == 1:\n",
    "        k_1 += 1\n",
    "        yields_copy = pd.concat([yields_copy, df_temp], ignore_index=True).drop_duplicates(ignore_index=True, keep=False)   \n",
    "    elif np.size(df_temp,0) == 2:\n",
    "        k_2 += 1    \n",
    "        yields_copy = pd.concat([yields_copy, df_temp], ignore_index=True).drop_duplicates(ignore_index=True, keep=False) \n",
    "    elif np.size(df_temp,0) == 3:\n",
    "        k_3 += 1\n",
    "        yields_copy = pd.concat([yields_copy, df_temp], ignore_index=True).drop_duplicates(ignore_index=True, keep=False)\n",
    "\n",
    "k_1 + k_2 * 2 + k_3 * 3 # check"
   ]
  },
  {
   "cell_type": "code",
   "execution_count": 18,
   "metadata": {},
   "outputs": [],
   "source": [
    "yields = yields.sort_values(['Insurance Unit', 'Crop', 'IRR_RF', 'Season', 'Year'], ascending=[True, True, True, True, True], ignore_index=True) # sort the data"
   ]
  },
  {
   "cell_type": "code",
   "execution_count": 19,
   "metadata": {},
   "outputs": [],
   "source": [
    "insurance_names =yields.sort_values(['Insurance Unit'], ascending=True, ignore_index=True)\n",
    "insurance_names = insurance_names.iloc[:,2:6]\n",
    "insurance_names = insurance_names.drop_duplicates(ignore_index=True)"
   ]
  },
  {
   "cell_type": "markdown",
   "metadata": {},
   "source": [
    "Check the outputs:"
   ]
  },
  {
   "cell_type": "code",
   "execution_count": 20,
   "metadata": {},
   "outputs": [],
   "source": [
    "unique_year = sorted(yields['Year'].unique())\n",
    "unique_season = sorted(yields['Season'].unique())\n",
    "unique_insuranceunit = sorted(yields['Insurance Unit'].unique())\n",
    "unique_gph = sorted(yields['Gram Panchayat/Hobli'].unique())\n",
    "unique_district = sorted(yields['District'].unique())\n",
    "unique_taluk = sorted(yields['Taluk'].unique())\n",
    "unique_crop = sorted(yields['Crop'].unique())\n",
    "unique_irrrf = sorted(yields['IRR_RF'].unique())\n",
    "unique_averageyield = sorted(yields['Average Yield(Kg/Ha)'].unique())"
   ]
  },
  {
   "cell_type": "markdown",
   "metadata": {},
   "source": [
    "Save the outputs to an excel file"
   ]
  },
  {
   "cell_type": "code",
   "execution_count": 21,
   "metadata": {},
   "outputs": [],
   "source": [
    "yields.to_excel(r'C:\\Users\\mieke\\Documents\\Msc Thesis\\Datasets\\Yield data\\Karnataka\\yields.xlsx', header=True, index=True)\n",
    "insurance_names.to_excel(r'C:\\Users\\mieke\\Documents\\Msc Thesis\\Datasets\\Yield data\\Karnataka\\insurance_names.xlsx', header=True, index=True)"
   ]
  },
  {
   "cell_type": "code",
   "execution_count": 22,
   "metadata": {},
   "outputs": [
    {
     "name": "stdout",
     "output_type": "stream",
     "text": [
      "df_part_names: 5027\n",
      "df_part_names_dup: 4958\n",
      "df_part_names: 533\n",
      "df_part_names_dup: 492\n"
     ]
    }
   ],
   "source": [
    "\n",
    "insurance_names['shapeName'] = insurance_names['Insurance Unit'].copy()\n",
    "insurance_names.shapeName = insurance_names.shapeName.str.lower()\n",
    "insurance_names.shapeName = insurance_names.shapeName.str.strip()\n",
    "\n",
    "bound_types = ['gp', 'h'] # Different bound types\n",
    "# Loop over each of the bound types separately\n",
    "for t in range(len(bound_types)):\n",
    "    df_part_names = insurance_names[insurance_names['Gram Panchayat/Hobli'] == bound_types[t]] # create df including the rows within insurance names df belonging to the current bound type \n",
    "    df_part_names = df_part_names[['shapeName', 'Gram Panchayat/Hobli', 'Insurance Unit', 'District']].copy() # select the relevant columns\n",
    "    print('df_part_names: ' + str(np.size(df_part_names, 0)))\n",
    "    df_part_names = df_part_names[['shapeName', 'Gram Panchayat/Hobli', 'Insurance Unit', 'District']].drop_duplicates(ignore_index=True) # drop duplicates\n",
    "    print('df_part_names_dup: ' + str(np.size(df_part_names, 0)))\n",
    "    part_names = df_part_names['shapeName'].unique() # list of all unique shapenames within the dataframe with current bound type\n",
    "    part_names = sorted(part_names) # sort the shapenames in ascending order\n"
   ]
  },
  {
   "cell_type": "code",
   "execution_count": 24,
   "metadata": {},
   "outputs": [
    {
     "name": "stdout",
     "output_type": "stream",
     "text": [
      "df_part_names: 5027\n",
      "df_part_names_dup: 4958\n",
      "df_part_names: 533\n",
      "df_part_names_dup: 492\n"
     ]
    }
   ],
   "source": [
    "\n",
    "insurance_names['shapeName'] = insurance_names['Insurance Unit'].copy()\n",
    "insurance_names.shapeName = insurance_names.shapeName.str.lower()\n",
    "insurance_names.shapeName = insurance_names.shapeName.str.strip()\n",
    "\n",
    "df_double = pd.DataFrame()\n",
    "bound_types = ['gp', 'h'] # Different bound types\n",
    "# Loop over each of the bound types separately\n",
    "for t in range(len(bound_types)):\n",
    "    df_part_names = insurance_names[insurance_names['Gram Panchayat/Hobli'] == bound_types[t]] # create df including the rows within insurance names df belonging to the current bound type \n",
    "    df_part_names = df_part_names[['shapeName', 'Gram Panchayat/Hobli', 'Insurance Unit', 'District']].copy() # select the relevant columns\n",
    "    df_part_names['true_false'] = df_part_names.duplicated()\n",
    "    print('df_part_names: ' + str(np.size(df_part_names, 0)))\n",
    "    df_select = df_part_names[df_part_names['true_false'] == True]\n",
    "    df_double = pd.concat([df_double, df_select], ignore_index=True)\n",
    "\n",
    "    df_part_names = df_part_names[['shapeName', 'Gram Panchayat/Hobli', 'Insurance Unit', 'District']].drop_duplicates(ignore_index=True) # drop duplicates\n",
    "    \n",
    "    print('df_part_names_dup: ' + str(np.size(df_part_names, 0)))\n",
    "    part_names = df_part_names['shapeName'].unique() # list of all unique shapenames within the dataframe with current bound type\n",
    "    part_names = sorted(part_names) # sort the shapenames in ascending order\n"
   ]
  },
  {
   "cell_type": "code",
   "execution_count": 25,
   "metadata": {},
   "outputs": [],
   "source": [
    "merged_inner = yields.merge(df_double, how = 'inner', on = ['Insurance Unit', 'Gram Panchayat/Hobli', 'District'])\n",
    "merged_inner = merged_inner.sort_values(['Insurance Unit', 'Crop', 'Season', 'Year', 'District', 'Taluk'], ascending=[True, True, True, True, True, True], ignore_index=True) # sort the data"
   ]
  }
 ],
 "metadata": {
  "kernelspec": {
   "display_name": "Python 3.10.4 ('thesis_base')",
   "language": "python",
   "name": "python3"
  },
  "language_info": {
   "codemirror_mode": {
    "name": "ipython",
    "version": 3
   },
   "file_extension": ".py",
   "mimetype": "text/x-python",
   "name": "python",
   "nbconvert_exporter": "python",
   "pygments_lexer": "ipython3",
   "version": "3.10.4"
  },
  "orig_nbformat": 4,
  "vscode": {
   "interpreter": {
    "hash": "734205a0c94b5e97d2e885f269ea6bd400da4ba9a6c87b08a93b97fdaab1acc8"
   }
  }
 },
 "nbformat": 4,
 "nbformat_minor": 2
}
