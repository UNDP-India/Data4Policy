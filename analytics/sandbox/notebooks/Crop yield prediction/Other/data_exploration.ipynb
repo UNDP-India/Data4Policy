{
 "cells": [
  {
   "cell_type": "markdown",
   "metadata": {},
   "source": [
    "To install geopandas: conda install geopandas\n",
    "Also needed: conda install descartes\n",
    "In new environment:\n",
    "conda create gis python==3.8.3\n",
    "conda activate gis\n",
    "conda install -y -c conda-forge geopandas jupyterLab\n",
    "conda remove --force pyproj\n",
    "In anaconda prompt: conda activate gis\n",
    "\n",
    "conda list\n",
    "\n",
    "\n",
    "WHAT I FINALLY DID:\n",
    "conda create --name thesis geopandas\n",
    "conda activate thesis\n",
    "conda list\n",
    "conda install -c conda-forge folium\n",
    "conda install rasterio\n",
    "conda install -c conda-forge earthengine-api"
   ]
  },
  {
   "cell_type": "code",
   "execution_count": null,
   "metadata": {},
   "outputs": [],
   "source": [
    "import os \n",
    "os.chdir('C:/Users/Lenovo/Desktop/Master_BAOR/MSc Thesis/GitHub/DiCRA_clone')\n",
    "#conda install -y -c conda-forge geopandas jupyterlab\n",
    "import numpy as np\n",
    "import matplotlib.pyplot as plt\n",
    "import pandas as pd\n",
    "import geopandas as gpd\n",
    "from shapely.geometry import Point\n",
    "import pyproj\n",
    "import pprint\n",
    "import folium\n",
    "from IPython.display import display\n",
    "import rasterio\n",
    "#from pyproj import CRS\n",
    "#crs=CRS('EPSG:4326')\n",
    "#from pyproj import CRS\n",
    "#import pyproj \n",
    "\n",
    "#proj_4326 = pyproj.Proj(\"epsg:4326\")\n",
    "#proj_3857 = pyproj.Proj(\"epsg:3857\")\n",
    "#pyproj.Proj('+init=espg: 3857')\n"
   ]
  },
  {
   "cell_type": "code",
   "execution_count": null,
   "metadata": {},
   "outputs": [],
   "source": [
    "boundaries_df = gpd.read_file('dicra/src/data_preprocessing/tsdm/District_Boundary.shp')\n",
    "print(boundaries_df.head())\n",
    "\n",
    "NDV_index = gpd.read_file('C:/Users/Lenovo/Desktop/Master_BAOR/MSc Thesis/dowloaded from DiCRA/NDVI/NDVI_2021/VECTOR/DISTRICT/28-08-2021.geojson')\n",
    "NDV_index.head()\n",
    "\n",
    "soil_df = gpd.read_file('C:/Users/Lenovo/Desktop/Master_BAOR/MSc Thesis/dowloaded from DiCRA/SOILM/SOILM_2022/VECTOR/DISTRICT/23-01-2022.geojson')\n",
    "soil_df.head()\n",
    "\n",
    "market_yards = pd.read_csv('C:/Users/Lenovo/Desktop/Master_BAOR/MSc Thesis/dowloaded from DiCRA/CP/CP_2022/market_yard_data.csv')\n",
    "#print(market_yards.head())\n",
    "\n",
    "relative_wealth = pd.read_csv('C:/Users/Lenovo/Desktop/Master_BAOR/MSc Thesis/GitHub/DiCRA_clone/dicra/analytics/notebooks/relative_wealth_index/data/ind_pak_relative_wealth_index.csv')\n",
    "#print(relative_wealth.head())"
   ]
  },
  {
   "cell_type": "code",
   "execution_count": null,
   "metadata": {},
   "outputs": [],
   "source": [
    "# Viewing a geometry (change the number to see some other district)\n",
    "boundaries_df.loc[0, 'geometry']\n",
    "# Gives all latitude, longitude pairs that define the polygon as above\n",
    "#print(boundaries_df.loc[0, 'geometry'])\n",
    "boundaries_df.plot()\n",
    "plt.show()"
   ]
  },
  {
   "cell_type": "code",
   "execution_count": null,
   "metadata": {},
   "outputs": [],
   "source": [
    "# The colors are based on the size of the area for each district\n",
    "boundaries_df.plot(column = 'Area', legend = True)\n",
    "plt.show()\n",
    "# Each district is given a color\n",
    "boundaries_df.plot(column = 'Dist_Name', legend = True)\n",
    "plt.show()"
   ]
  },
  {
   "cell_type": "markdown",
   "metadata": {},
   "source": [
    "The following code can be used if we would like to plot some other data points over the polygons"
   ]
  },
  {
   "cell_type": "code",
   "execution_count": null,
   "metadata": {},
   "outputs": [],
   "source": [
    "# Plot of the market yards within Telangana\n",
    "boundaries_df.plot(column = 'Dist_Name', legend = False, cmap = 'Set2')\n",
    "plt.scatter(market_yards.longitude, market_yards.latitude, marker = 'p', c = 'red', edgecolor = 'darkred')\n",
    "plt.title('Unknown')\n",
    "plt.show()"
   ]
  },
  {
   "cell_type": "code",
   "execution_count": null,
   "metadata": {},
   "outputs": [],
   "source": [
    "#GeoJSON and plotting with geopandas\n",
    "leg_kwds = {'title': 'District Name', 'loc': 'upper left', 'bbox_to_anchor': (1,1.03), 'ncol': 3}\n",
    "boundaries_df.plot(column = 'Dist_Name', cmap='Set3', legend=True, legend_kwds=leg_kwds)\n",
    "plt.title('District names')\n",
    "plt.show()"
   ]
  },
  {
   "cell_type": "markdown",
   "metadata": {},
   "source": [
    "Example colormaps:\n",
    "Pastel1, Pastel2, Paired, Accent, Dark2, Set1, summer"
   ]
  },
  {
   "cell_type": "code",
   "execution_count": null,
   "metadata": {},
   "outputs": [],
   "source": [
    "soil_df.plot(column = 'Dist_Name', cmap='Set2', legend=True)\n",
    "plt.show()"
   ]
  },
  {
   "cell_type": "code",
   "execution_count": null,
   "metadata": {},
   "outputs": [],
   "source": [
    "# Creating a GeoDataFrame from a DataFrame\n",
    "# from shapely.geometry import Point\n",
    "\n",
    "market_yards['geometry'] = market_yards.apply(lambda x: Point((x.longitude, x.latitude)), axis = 1)\n",
    "print(market_yards.head(3))\n",
    "\n",
    "# Now we have a geometry column, we can build a GeoDataFrame from this\n",
    "\n",
    "marketyards_geo = gpd.GeoDataFrame(market_yards, geometry = market_yards.geometry, crs = {'init': 'epsg:4326'})\n",
    "#marketyards_geo.crs = \"EPSG:4326\"\n",
    "marketyards_geo.head(3)\n",
    "\n",
    "\n",
    "#market_yards_crs = {'init:': 'epsg:4326'}\n",
    "#marketyards_geo = gpd.GeoDataFrame(market_yards, crs = market_yards_crs, geometry = market_yards.geometry)\n",
    "\n",
    "\n",
    "# So we just changed the datatype from a DataFrame to a GeoDataFrame\n",
    "#gdf = gdf.set_crs(4326, allow_override=True)\n",
    "#marketyards_geo.set_crs(epsg=4326)"
   ]
  },
  {
   "cell_type": "code",
   "execution_count": null,
   "metadata": {},
   "outputs": [],
   "source": [
    "# Decimal degrees are used to measure the distance from the reference points: the Prime Meridian and the Equator\n",
    "# We can convert the geometry to measure distance in meters, using to_crs()\n",
    "# The original longitude and latitude columns remain in decimal degree units\n",
    "# Convert geometry from decimal degrees to meters\n",
    "marketyards_geo.crs = \"EPSG:4326\"\n",
    "marketyards_geo.geometry = marketyards_geo.geometry.to_crs(epsg = 3857)\n",
    "marketyards_geo.head(2)\n",
    "\n",
    "#Convert geometry from decimal degrees to meters\n",
    "#fires_data_geo.geometry = fires_data_geo.geometry.to_crs(epsg = 3857)\n",
    "#fires_data_geo.head()\n",
    "\n",
    "#art['geometry'] = art.apply(lambda x: Point(float(x.lng), float(x.lat)), axis=1)\n",
    "#art_geo = gpd.GeoDataFrame(art, crs = neighborhoods.crs, geometry = art.geometry)\n",
    "#print(type(art_geo))"
   ]
  },
  {
   "cell_type": "markdown",
   "metadata": {},
   "source": [
    "Spatial joins\n",
    "gpd.sjoin(name1_gdf, name2_gdf, op = <operation>) \n",
    "op = intersects, contains or within"
   ]
  },
  {
   "cell_type": "code",
   "execution_count": null,
   "metadata": {},
   "outputs": [],
   "source": [
    "\n",
    "# Returns all observations where the region intersects the points\n",
    "intersect_gdf = gpd.sjoin(boundaries_df, marketyards_geo, op = 'intersects') # First input POINT, second input POLYGON geometry\n",
    "print('Points which are completely within this region', intersect_gdf.shape[0]) \n",
    "# Number of market yards that intersect a district\n",
    "# Number of market yards within a district\n",
    "# Returns all observations where the region completely contains points (so not on boundary anymore)\n",
    "contains_gdf = gpd.sjoin(boundaries_df, marketyards_geo, op = 'contains')\n",
    "print('Points which are completely within this region', contains_gdf.shape[0]) \n",
    "# Number of districts that contain market yards \n",
    "# No cases where the region is completely in a point, but reverse order to get points within the region\n",
    "within_gdf = gpd.sjoin(marketyards_geo, boundaries_df, op = 'within')\n",
    "# Adjust the number to get it for another region\n",
    "print('Points which are completely within this region', within_gdf.shape[0]) \n",
    "# Number of market yards within a district\n",
    "within_gdf.head()\n",
    "# Index right: the position of the joined data in the original right-hand GDF (here boundaries_df)\n",
    "# Row index values for the left-hand GDF are retained as the new row indices for within_gdf\n",
    "print(within_gdf.columns)\n",
    "print(within_gdf.shape)"
   ]
  },
  {
   "cell_type": "markdown",
   "metadata": {},
   "source": [
    "#within_gdf.district_left = boundaries_district\n",
    "#within_gdf.district_right = market_yards_district\n",
    "#within_gdf[['boundaries_district', 'market_yards_district']].groupby('market_yards_district').agg('count').sort_values('boundaries_district', ascending = False)\n",
    "\n",
    "# Get name and title from neighborhood_art and group by name\n",
    "neighborhood_art_grouped = neighborhood_art[['name', 'title']].groupby('name')\n",
    "\n",
    "# Aggregate the grouped data and count the artworks within each polygon\n",
    "print(neighborhood_art_grouped.agg('count').sort_values(by = 'title', ascending = False))\n",
    "\n",
    "# Create urban_art from neighborhood_art where the neighborhood name is Urban Residents\n",
    "urban_art = neighborhood_art.loc[neighborhood_art.name == \"Urban Residents\"]\n",
    "\n",
    "# Get just the Urban Residents neighborhood polygon and save it as urban_polygon\n",
    "urban_polygon = neighborhoods.loc[neighborhoods.name == \"Urban Residents\"]\n",
    "\n",
    "# Plot the urban_polygon as ax \n",
    "ax = urban_polygon.plot(color = 'lightgreen')\n",
    "\n",
    "# Add a plot of the urban_art and show it\n",
    "urban_art.plot( ax = ax, column = 'type', legend = True);\n",
    "plt.show()"
   ]
  },
  {
   "cell_type": "markdown",
   "metadata": {},
   "source": [
    "You can think of a GeoSeries as the geometry column of a GeoDataFrame.\n",
    "GeoSeries.area: returns the area of each geometry in GeoSeries\n",
    "GeoSeries.centroid: returns the center point of each geometry in a GeoSeries\n",
    "GeoSeries.distance(other): returns the minimum distance to a location specified using the 'other'argument "
   ]
  },
  {
   "cell_type": "code",
   "execution_count": null,
   "metadata": {},
   "outputs": [],
   "source": [
    "# Area of first polygon in districts (units correspond to units given)\n",
    "print(boundaries_df.head(4))\n",
    "print(boundaries_df.geometry[0].area)\n",
    "print('There are ', boundaries_df.shape[0], ' districts.')\n",
    "# [0] for rows, [1] for columns"
   ]
  },
  {
   "cell_type": "code",
   "execution_count": null,
   "metadata": {},
   "outputs": [],
   "source": [
    "# Calculate area of each district\n",
    "# EPSG: 4326 uses decimal degrees for distance (so areas are decimal degrees squared)\n",
    "#boundaries_df.geometry.to_crs(4326)\n",
    "district_area = boundaries_df.geometry.area\n",
    "# Print the areas and crs used\n",
    "print(district_area.sort_values(ascending = False))\n",
    "print(boundaries_df.crs)"
   ]
  },
  {
   "cell_type": "markdown",
   "metadata": {},
   "source": [
    "# NOTE: The coordinate references system decides upon the distance units"
   ]
  },
  {
   "cell_type": "code",
   "execution_count": null,
   "metadata": {},
   "outputs": [],
   "source": [
    "# Now, kilometers squared. Use CRS that uses meters for distance. Later convert to km.\n",
    "boundaries_df_3857 = boundaries_df.to_crs(epsg = 3857)\n",
    "sqm_to_sqkm = 10**6\n",
    "district_area_km = boundaries_df_3857.geometry.area / sqm_to_sqkm\n",
    "print(district_area_km.sort_values(ascending = False))\n",
    "print(boundaries_df_3857.crs)"
   ]
  },
  {
   "cell_type": "code",
   "execution_count": null,
   "metadata": {},
   "outputs": [],
   "source": [
    "# NOTE: Use 3857 instead of 4326 (projected instead of geo)\n",
    "boundaries_df_3857['center'] = boundaries_df_3857.geometry.centroid\n",
    "# Create GDF with districts and centers\n",
    "part = ['Dist_Name', 'center']\n",
    "boundaries_df_3857_centers = boundaries_df_3857[part]\n",
    "boundaries_df_3857_centers.head(3)"
   ]
  },
  {
   "cell_type": "code",
   "execution_count": null,
   "metadata": {},
   "outputs": [],
   "source": [
    "district_Maha = boundaries_df_3857.loc[boundaries_df_3857.Dist_Name == 'Mahabubabad']\n",
    "district_Maha.head()\n",
    "marketyards_geo.head() # GDF for the market yards (see previous derivation)\n",
    "marketyards_geo_3857 = marketyards_geo.to_crs(epsg = 3857)\n",
    "# Spatial join market yards within district Mahabubabad\n",
    "# Finds market yards that are within district Mahabubabad\n",
    "yards_in_Maha = gpd.sjoin(marketyards_geo_3857, district_Maha, op = 'within')\n",
    "yards_in_Maha.shape # There are 7 schools in district Mahabubabad"
   ]
  },
  {
   "cell_type": "code",
   "execution_count": null,
   "metadata": {},
   "outputs": [],
   "source": [
    "# Distances dictionary that includes the distance from the center of the district to each market yard in the district \n",
    "distances = {}\n",
    "for row in yards_in_Maha.iterrows():\n",
    "    vals = row[1]\n",
    "    key = vals['name']\n",
    "    ctr = vals['center']\n",
    "    distances[key] = vals['geometry'].distance(ctr)\n",
    "pprint.pprint(distances)# NOTE: Use 3857 instead of 4326 (projected instead of geo)\n",
    "boundaries_df_3857['center'] = boundaries_df_3857.geometry.centroid\n",
    "# Create GDF with districts and centers\n",
    "part = ['Dist_Name', 'center']\n",
    "boundaries_df_3857_centers = boundaries_df_3857[part]\n",
    "boundaries_df_3857_centers.head(3)"
   ]
  },
  {
   "cell_type": "code",
   "execution_count": null,
   "metadata": {},
   "outputs": [],
   "source": [
    "\n",
    "# NOTE: Use 3857 instead of 4326 (projected instead of geo)\n",
    "district_Maha = boundaries_df_3857.loc[boundaries_df_3857.Dist_Name == 'Mahabubabad']\n",
    "center_Maha = district_Maha.geometry.centroid\n",
    "\n",
    "# Plot the urban_poly_3857 as ax and add the center point\n",
    "ax = district_Maha.plot(color = 'lightgreen')\n",
    "center_Maha.plot(ax = ax, color = 'black')\n",
    "plt.xticks(rotation = 45)\n",
    "# Show the plot\n",
    "plt.show()"
   ]
  },
  {
   "cell_type": "code",
   "execution_count": null,
   "metadata": {},
   "outputs": [],
   "source": [
    "district_Maha = boundaries_df_3857.loc[boundaries_df_3857.Dist_Name == 'Mahabubabad']\n",
    "center_Maha = district_Maha.geometry.centroid\n",
    "# Finds market yards that are within district Mahabubabad\n",
    "yards_in_Maha = gpd.sjoin(marketyards_geo_3857, district_Maha, op = 'within')\n",
    "# Plot the urban_poly_3857 as ax and add the center point\n",
    "ax = district_Maha.plot(color = 'lightgreen')\n",
    "yards_in_Maha.plot(ax = ax, color = 'black')\n",
    "plt.xticks(rotation = 45)\n",
    "# Show the plot\n",
    "plt.show()"
   ]
  },
  {
   "cell_type": "code",
   "execution_count": null,
   "metadata": {},
   "outputs": [],
   "source": [
    "# Create art_dist_meters using art and the geometry from art\n",
    "district_exercise = boundaries_df.loc[boundaries_df.Dist_Name == 'Mahabubabad']\n",
    "boundaries_exercise = gpd.GeoDataFrame(district_exercise, geometry = district_exercise.geometry, crs = {'init': 'epsg:4326'})\n",
    "print(boundaries_exercise.head(2))\n",
    "#Use 'GeoDataFrame.set_crs(crs, allow_override=True)' to overwrite CRS or 'GeoDataFrame.to_crs(crs)' to reproject geometries.\n",
    "# Set the crs of art_dist_meters to use EPSG:3857\n",
    "boundaries_exercise.geometry = boundaries_exercise.geometry.to_crs(epsg = 3857)\n",
    "print(boundaries_df.head(2))\n",
    "\n",
    "# Add a column to art_meters, center\n",
    "boundaries_exercise['center'] = center_Maha"
   ]
  },
  {
   "cell_type": "code",
   "execution_count": null,
   "metadata": {},
   "outputs": [],
   "source": [
    "# Folium wants coordinates as an array with latitude first\n",
    "boundaries_df.head()\n",
    "district_Maha_fol = boundaries_df.loc[boundaries_df.Dist_Name == 'Mahabubabad']\n",
    "print(district_Maha_fol.head())\n",
    "district_Maha_fol['center'] = district_Maha_fol.geometry.centroid\n",
    "type(district_Maha_fol.center)\n",
    "# Create an array of the center of the district\n",
    "center_Maha = district_Maha_fol['center'].iloc[0]\n",
    "print(center_Maha)\n",
    "print(type(center_Maha))\n",
    "# Reverse the order of the coordinate pair for folium\n",
    "district_center = [center_Maha.y, center_Maha.x]\n",
    "print(district_center)\n",
    "# Create a folium map centered on the Maha district\n",
    "district_map = folium.Map(location = district_center, zoom_start = 12)\n",
    "# Add the outline of the Maha district\n",
    "folium.GeoJson(district_Maha_fol.geometry).add_to(district_map)\n",
    "# Display the resulting map\n",
    "display(district_map)\n"
   ]
  },
  {
   "cell_type": "code",
   "execution_count": null,
   "metadata": {},
   "outputs": [],
   "source": [
    "for row in yards_in_Maha.iterrows():\n",
    "    row_values = row[1]\n",
    "    #print(row_values)\n",
    "    location = [row_values['latitude'], row_values['longitude']]\n",
    "    print(location)\n",
    "    # Create popups inside the loop you built to create the markers\n",
    "    # Here we bould a popup message that includes the name\n",
    "    popup = popup = '<strong>' + row_values['name'] + '</strong>'\n",
    "    marker = folium.Marker(location = location, popup = popup)\n",
    "    marker.add_to(district_map)\n",
    "display(district_map)\n",
    "\n",
    "# Other popup example\n",
    "#popup = (str(row_values['title']) + ': ' + str(row_values['desc'])).replace(\"'\", \"`\")\n",
    "\n",
    "# Two common issues:\n",
    "# missing values and single/double quotes in the data itself\n",
    "\n",
    "# Replace Nan and ' values in description\n",
    "#urban_art.desc.fillna('', inplace = True)\n",
    "#urban_art.desc = urban_art.desc.str.replace(\"'\", \"`\")"
   ]
  },
  {
   "cell_type": "code",
   "execution_count": null,
   "metadata": {},
   "outputs": [],
   "source": [
    "boundaries_df.Dist_Name = boundaries_df.Dist_Name.str.replace(\" \", \"\")\n",
    "marketyards_geo.district = marketyards_geo.district.str.replace(\" \", \"\")\n",
    "marketyards_geo.head()\n",
    "\n",
    "# Count the number of yards within each district\n",
    "yards_counts = marketyards_geo.groupby(['district']).size()\n",
    "yards_counts\n",
    "boundaries_df.head()\n",
    "# Add these counts to the GDF\n",
    "yards_counts_df = yards_counts.to_frame()\n",
    "yards_counts_df = yards_counts_df.reset_index() # .reset_index(inplace=True)\n",
    "yards_counts_df.columns = ['Dist_Name', 'yards_count'] # Assign a name to each column\n",
    "districts_with_counts = pd.merge(boundaries_df, yards_counts_df, on = 'Dist_Name')\n",
    "print(districts_with_counts.head(2))"
   ]
  },
  {
   "cell_type": "code",
   "execution_count": null,
   "metadata": {},
   "outputs": [],
   "source": [
    "# Normalize\n",
    "# Store the area for each district\n",
    "districts_with_counts['area'] = districts_with_counts.geometry.area\n",
    "# Divide the counts by the areas (so we create a density column)\n",
    "districts_with_counts['yards_density'] = districts_with_counts.apply(\n",
    "    lambda row: row.yards_count/row.area, axis = 1)\n",
    "districts_with_counts.head(2)"
   ]
  },
  {
   "cell_type": "code",
   "execution_count": null,
   "metadata": {},
   "outputs": [],
   "source": [
    "# 4326: uses deciaml degrees for distance\n",
    "# 3857: uses meters for distance\n",
    "print(boundaries_df.crs) # Check whether we have crs 3857\n",
    "# If not, use the following: .to_crs(epsg = 3857)\n",
    "print(boundaries_df_3857.crs) # Check whether we have crs 3857\n",
    "sqm_to_sqkm = 10**6 # define a variable for m^2 to km^2\n",
    "boundaries_df_3857['area'] = boundaries_df_3857.geometry.area / sqm_to_sqkm\n",
    "boundaries_df_3857.head(5)\n",
    "# Now also latitude and longitude measures are in meters instead of decimal degrees (traditional)"
   ]
  },
  {
   "cell_type": "code",
   "execution_count": null,
   "metadata": {},
   "outputs": [],
   "source": [
    "# Reconvert crs back to 4326\n",
    "boundaries_df_back_4326 = boundaries_df_3857.to_crs(epsg = 4326)\n",
    "print(boundaries_df_back_4326.crs)\n",
    "# Now, area is in km^2 and geometry in decimal degrees\n",
    "print(boundaries_df_back_4326.head(2))"
   ]
  },
  {
   "cell_type": "code",
   "execution_count": null,
   "metadata": {},
   "outputs": [],
   "source": [
    "marketyards_geo = marketyards_geo.to_crs(epsg = 4326)\n",
    "print(marketyards_geo.crs)\n",
    "# Spatial join to get the districts that contain the yards\n",
    "yards_in_districts = gpd.sjoin(boundaries_df_back_4326, marketyards_geo, op = 'contains')\n",
    "print(yards_in_districts.head(2))\n",
    "#print(boundaries_df_back_4326.head(2))\n",
    "#print(marketyards_geo.head(2))\n"
   ]
  },
  {
   "cell_type": "code",
   "execution_count": null,
   "metadata": {},
   "outputs": [],
   "source": [
    "# Aggregate to get counts\n",
    "yards_counts_choropleths = yards_in_districts.groupby(['district']).size()\n",
    "#print(yards_counts_choropleths)\n",
    "\n",
    "# Convert this to a df\n",
    "yards_counts_choropleths_df = yards_counts_choropleths.to_frame()\n",
    "yards_counts_choropleths_df = yards_counts_choropleths_df.reset_index(level=0)\n",
    "yards_counts_choropleths_df.columns = ['Dist_Name', 'yards_count']\n",
    "yards_counts_choropleths_df.head(2)\n"
   ]
  },
  {
   "cell_type": "code",
   "execution_count": null,
   "metadata": {},
   "outputs": [],
   "source": [
    "# merge\n",
    "# Because we list the GeoDF first, the resulting merged object is also a GeoDF. Otherwise DF.\n",
    "districts_with_counts = pd.merge(boundaries_df_back_4326, yards_counts_choropleths_df, on = 'Dist_Name')\n",
    "districts_with_counts.head()\n",
    "\n",
    "# Create the yards_density\n",
    "districts_with_counts['yards_density'] = districts_with_counts.apply(lambda row: row.yards_count / row.area, axis = 1)\n",
    "districts_with_counts.head()\n"
   ]
  },
  {
   "cell_type": "code",
   "execution_count": null,
   "metadata": {},
   "outputs": [],
   "source": [
    "# Create choropleth plot\n",
    "districts_with_counts.plot(column = 'yards_density', cmap = 'BuGn', edgecolor = 'black', legend = True)\n",
    "plt.title('Market yards per kilometers squared')\n",
    "plt.xlabel('longitude')\n",
    "plt.ylabel('latitude')\n",
    "plt.show()"
   ]
  },
  {
   "cell_type": "markdown",
   "metadata": {},
   "source": [
    "# Arguments of the folium choropleth\n",
    "geo_data: the source data for the polygons (geojson file or a GeoDF)\n",
    "name: the name of hte geometry column (or geojson property) for the polygons\n",
    "data: the source DF or Series for the normalized data\n",
    "columns: a list of columns: one that corresponds to the polygons and one that has the value to plot\n",
    "\n",
    "key_on: a GeoJSON variable to bind the data to (always start with 'feature')\n",
    "fill_color: polygon fill color (default blue)\n",
    "fill_opacity: range between 0 (transparent) and 1 (completely opaque)\n",
    "line_color: color of polygon border lines (defaults to black)\n",
    "line_opacity: range between 0 (transparent) and 1 (completely opaque)"
   ]
  },
  {
   "cell_type": "code",
   "execution_count": null,
   "metadata": {},
   "outputs": [],
   "source": [
    "# Center point and map\n",
    "center = [center_Maha.y, center_Maha.x]\n",
    "m = folium.Map(location = center, zoom_start = 10)\n",
    "print(districts_with_counts.head())\n",
    "cds = ColumnDataSource(districts_with_counts.drop(columns=['geometry']))\n",
    "# Define a choropleth layer for the map\n",
    "m.choropleth(\n",
    "    geo_data = districts_with_counts,\n",
    "    name = 'geometry',\n",
    "    data = districts_with_counts,\n",
    "    columns = ['Dist_Name', 'yards_density'],\n",
    "    key_on = 'feature.properties.Dist_Name',\n",
    "    fill_color = 'YlGn',\n",
    "    fill_opacity = 0.75,\n",
    "    line_opacity = 0.5,\n",
    "    legend_name = 'Yards per km squared by District'\n",
    ")\n",
    "\n",
    "# Add layer control and display\n",
    "folium.LayerControl().add_to(m)\n",
    "display(m)"
   ]
  }
 ],
 "metadata": {
  "interpreter": {
   "hash": "389f56fb389afe778fd9faadd274a55beaedb47079d47dfd97c6eaeca364146f"
  },
  "kernelspec": {
   "display_name": "Python 3.9.12 ('thesis')",
   "language": "python",
   "name": "python3"
  },
  "language_info": {
   "codemirror_mode": {
    "name": "ipython",
    "version": 3
   },
   "file_extension": ".py",
   "mimetype": "text/x-python",
   "name": "python",
   "nbconvert_exporter": "python",
   "pygments_lexer": "ipython3",
   "version": "3.9.12"
  },
  "orig_nbformat": 4
 },
 "nbformat": 4,
 "nbformat_minor": 2
}
