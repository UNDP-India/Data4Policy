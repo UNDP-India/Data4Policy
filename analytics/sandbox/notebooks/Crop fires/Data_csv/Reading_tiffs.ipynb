{
 "cells": [
  {
   "cell_type": "code",
   "execution_count": 1,
   "metadata": {},
   "outputs": [],
   "source": [
    "import warnings\n",
    "warnings.filterwarnings('ignore')"
   ]
  },
  {
   "cell_type": "code",
   "execution_count": 2,
   "metadata": {},
   "outputs": [],
   "source": [
    "import pandas as pd\n",
    "import os\n",
    "import geopandas as gpd\n",
    "import geoplot\n",
    "import geoplot.crs as gcrs\n",
    "import rasterio\n",
    "import matplotlib.pyplot as plt\n",
    "import time\n",
    "from rasterstats import zonal_stats\n",
    "from osgeo import gdal\n",
    "import numpy as np\n",
    "import sys\n",
    "import geopandas as gdp\n",
    "\n",
    "sys.path.append(os.path.abspath(\"../Functions/\"))\n",
    "import Preprocess"
   ]
  },
  {
   "cell_type": "code",
   "execution_count": 3,
   "metadata": {},
   "outputs": [],
   "source": [
    "mandal_boundaries = gpd.read_file('../../../../../src/data_preprocessing/base_geojson/TS_mandal_boundary.json')\n",
    "mandal_boundaries = mandal_boundaries.reset_index()\n",
    "\n",
    "district_boundaries = gpd.read_file('../../../../../src/data_preprocessing/base_geojson/TS_district_boundary.json')\n",
    "district_boundaries = district_boundaries.reset_index()\n",
    "\n",
    "shape_telangana = gpd.read_file('../../../../../src/data_preprocessing/base_geojson/TL_state_shapefile_for_clip.geojson')\n",
    "shape_telangana = shape_telangana.explode()\n",
    "\n",
    "#os.chdir('c:\\\\Users\\\\Jesse\\\\OneDrive\\\\Documenten\\\\Master BAOR\\\\Thesis\\\\GitHub\\\\dicra\\\\analytics\\\\sandbox\\\\notebooks\\\\crop_fires\\\\DPPD_Jesse\\\\Data')\n",
    "#one_km_grid = gpd.read_file('telangana_1km_grid.geojson')\n",
    "#one_km_grid = one_km_grid.reset_index()\n",
    "\n",
    "#os.chdir('c:\\\\Users\\\\Jesse\\\\OneDrive\\\\Documenten\\\\Master BAOR\\\\Thesis\\\\GitHub\\\\dicra\\\\analytics\\\\sandbox\\\\notebooks\\\\crop_fires\\\\DPPD_Jesse\\\\Data')\n",
    "#ten_km_grid = gpd.read_file('telangana_10km_grid.geojson')\n",
    "#ten_km_grid = ten_km_grid.reset_index()"
   ]
  },
  {
   "cell_type": "code",
   "execution_count": 4,
   "metadata": {},
   "outputs": [
    {
     "data": {
      "text/plain": [
       "<module 'Preprocess' from '/home/luckyw0w/dicra/analytics/sandbox/notebooks/crop_fires/Functions/Preprocess.py'>"
      ]
     },
     "execution_count": 4,
     "metadata": {},
     "output_type": "execute_result"
    }
   ],
   "source": [
    "import importlib\n",
    "importlib.reload(Preprocess)"
   ]
  },
  {
   "cell_type": "markdown",
   "metadata": {},
   "source": [
    "## DATA MISSING: Here Data required to Run these functions"
   ]
  },
  {
   "cell_type": "code",
   "execution_count": null,
   "metadata": {},
   "outputs": [],
   "source": [
    "stat_df_PM25 = Preprocess.read_tiffs(mandal_boundaries, 'Mandal', 'PM2.5', 3, 5, 6, 10, True, 'mean')\n",
    "stat_df_NO2 = Preprocess.read_tiffs(mandal_boundaries, 'Mandal',  'NO2', 3, 5, 6, 10, True, 'mean')\n",
    "stat_df_SSM_median = Preprocess.read_tiffs(mandal_boundaries, 'Mandal', 'SSM', 9, 11, 4, 8, True, 'median')\n",
    "stat_df_SSM_mean = Preprocess.read_tiffs(mandal_boundaries, 'Mandal', 'SSM', 9, 11, 4, 8, True, 'mean')\n",
    "stat_df_SSM_max = Preprocess.read_tiffs(mandal_boundaries, 'Mandal', 'SSM', 9, 11, 4, 8, True, 'max')\n",
    "stat_df_SSM_min = Preprocess.read_tiffs(mandal_boundaries, 'Mandal', 'SSM', 9, 11, 4, 8, True, 'min')\n",
    "stat_df_SSM_percentile_90 = Preprocess.read_tiffs(mandal_boundaries, 'Mandal', 'SSM', 9, 11, 4, 8, True, 'percentile_90')\n",
    "stat_df_PRE_sum = Preprocess.read_tiffs(mandal_boundaries, 'Mandal', 'PRE_monthly', 5, 7, 0, 4, True, 'sum')\n",
    "stat_df_PRE_mean = Preprocess.read_tiffs(mandal_boundaries, 'Mandal', 'PRE_monthly', 5, 7, 0, 4, True, 'mean')\n",
    "stat_df_PRE_percentile_90 = Preprocess.read_tiffs(mandal_boundaries, 'Mandal', 'PRE_monthly', 5, 7, 0, 4, True, 'percentile_90')\n",
    "stat_df_PRE_max = Preprocess.read_tiffs(mandal_boundaries, 'Mandal', 'PRE_monthly', 5, 7, 0, 4, True, 'max')\n",
    "stat_df_PRE_min = Preprocess.read_tiffs(mandal_boundaries, 'Mandal', 'PRE_monthly', 5, 7, 0, 4, True, 'min')\n",
    "stat_df_PRE_median = Preprocess.read_tiffs(mandal_boundaries, 'Mandal', 'PRE_monthly', 5, 7, 0, 4, True, 'median')\n",
    "stat_df_ST_mean = Preprocess.read_tiffs(mandal_boundaries, 'Mandal', 'ST', 9, 11, 4, 8, True, 'mean')\n",
    "stat_df_ST_percentile_90 = Preprocess.read_tiffs(mandal_boundaries, 'Mandal', 'ST', 9, 11, 4, 8, True, 'percentile_90')\n",
    "stat_df_ST_max = Preprocess.read_tiffs(mandal_boundaries, 'Mandal', 'ST', 9, 11, 4, 8, True, 'max')\n",
    "stat_df_ST_min = Preprocess.read_tiffs(mandal_boundaries, 'Mandal', 'ST', 9, 11, 4, 8, True, 'min')\n",
    "stat_df_ST_median = Preprocess.read_tiffs(mandal_boundaries, 'Mandal', 'ST', 9, 11, 4, 8, True, 'median')\n",
    "stat_df_BA_sum = Preprocess.read_tiffs(mandal_boundaries, 'Mandal', 'BA_monthly', 5, 7, 0, 4, False, 'sum')\n",
    "stat_df_BA_mean = Preprocess.read_tiffs(mandal_boundaries, 'Mandal', 'BA_monthly', 5, 7, 0, 4, False, 'mean')\n",
    "stat_df_BA_median = Preprocess.read_tiffs(mandal_boundaries, 'Mandal', 'BA_monthly', 5, 7, 0, 4, False, 'median')\n",
    "stat_df_POP_mean = Preprocess.read_tiffs(mandal_boundaries, 'Mandal', 'Population', 3, 5, 6, 10, False, 'mean')\n",
    "stat_df_POP_median = Preprocess.read_tiffs(mandal_boundaries, 'Mandal', 'Population', 3, 5, 6, 10, False, 'median')\n"
   ]
  },
  {
   "cell_type": "markdown",
   "metadata": {},
   "source": [
    "RWI"
   ]
  },
  {
   "cell_type": "code",
   "execution_count": 6,
   "metadata": {},
   "outputs": [],
   "source": [
    "os.chdir('C:\\\\Users\\\\Jesse\\\\OneDrive\\\\Documenten\\\\Data_Thesis\\\\RWI_vector')\n",
    "\n",
    "stat_RWI_df = gpd.read_file('01-01-2021.geojson')\n",
    "stat_RWI_df = stat_RWI_df.reset_index()\n",
    "\n",
    "stat_df_RWI_percentile_90 = Preprocess.read_tiffs(mandal_boundaries, 'Mandal', 'RWI', 3, 5, 6, 10, False, 'percentile_90')\n",
    "stat_df_RWI_percentile_90 = stat_df_RWI_percentile_90.rename(columns = {'Value': 'RWI_percentile_90'})\n",
    "\n",
    "stat_RWI_df['RWI_mean'] = 0\n",
    "stat_RWI_df['RWI_min'] = 0\n",
    "stat_RWI_df['RWI_max'] = 0\n",
    "stat_RWI_df['RWI_median'] = 0\n",
    "\n",
    "for i in range (0, len(stat_RWI_df)):\n",
    "    stat_RWI_df['RWI_mean'].iloc[i] = stat_RWI_df['zonalstat'].iloc[i]['mean']\n",
    "    stat_RWI_df['RWI_min'].iloc[i] = stat_RWI_df['zonalstat'].iloc[i]['min']\n",
    "    stat_RWI_df['RWI_max'].iloc[i] = stat_RWI_df['zonalstat'].iloc[i]['max']\n",
    "    stat_RWI_df['RWI_median'].iloc[i] = stat_RWI_df['zonalstat'].iloc[i]['median']\n",
    " \n",
    "stat_df_RWI = pd.merge(stat_df_RWI_percentile_90, stat_RWI_df[['index', 'RWI_mean', 'RWI_max', 'RWI_min', 'RWI_median']])"
   ]
  },
  {
   "cell_type": "markdown",
   "metadata": {},
   "source": [
    "Soil Type"
   ]
  },
  {
   "cell_type": "code",
   "execution_count": 7,
   "metadata": {},
   "outputs": [],
   "source": [
    "file_path = r'C:\\\\Users\\\\Jesse\\\\OneDrive\\\\Documenten\\\\Data_Thesis\\\\Soil Type\\\\soil_type.tif'\n",
    "param = rasterio.open(file_path, mode = 'r')\n",
    "# Assign raster values to a numpy nd array\n",
    "param_array = param.read(1) # landuse corresponding to each rasterpixel, so we extracted the pixel values from the raster\n",
    "# affine: 1: corresponds to the width of each pixel, 2: row rotation, 3: x-coordinate of the upper left pixel, 4: column rotation, 5: height of each pixel, 6: y-coordinate of the upper left pixel\n",
    "affine = param.transform\n",
    "param.meta\n",
    "# Geographical coordinate reference system is used (4326)\n",
    "# lulc.nodata # value which has been assigned for the nodata\n",
    "mode = zonal_stats(mandal_boundaries.geometry, param_array, affine = param.transform, geojson_out = True, nodata = param.nodata, all_touched = False, stats = ['majority'])\n",
    "# Extracting the landuse statistics from the list\n",
    "mode_soiltype = []\n",
    "i = 0\n",
    "while i < len(mode):\n",
    "    mode_soiltype.append(mode[i]['properties']['majority'])\n",
    "    i = i + 1"
   ]
  },
  {
   "cell_type": "markdown",
   "metadata": {},
   "source": [
    "Rural Areas"
   ]
  },
  {
   "cell_type": "code",
   "execution_count": 8,
   "metadata": {},
   "outputs": [],
   "source": [
    "file_path = r'C:\\\\Users\\\\Jesse\\\\OneDrive\\\\Documenten\\\\Data_Thesis\\\\Rural_areas\\\\urban_rural_catchment_areas.tif'\n",
    "param = rasterio.open(file_path, mode = 'r')\n",
    "# Assign raster values to a numpy nd array\n",
    "param_array = param.read(1) # landuse corresponding to each rasterpixel, so we extracted the pixel values from the raster\n",
    "# affine: 1: corresponds to the width of each pixel, 2: row rotation, 3: x-coordinate of the upper left pixel, 4: column rotation, 5: height of each pixel, 6: y-coordinate of the upper left pixel\n",
    "affine = param.transform\n",
    "param.meta\n",
    "# Geographical coordinate reference system is used (4326)\n",
    "# lulc.nodata # value which has been assigned for the nodata\n",
    "mode = zonal_stats(mandal_boundaries.geometry, param_array, affine = param.transform, geojson_out = True, nodata = param.nodata, all_touched = False, stats = ['median'])\n",
    "# Extracting the landuse statistics from the list\n",
    "mode_rural_median = []\n",
    "i = 0\n",
    "while i < len(mode):\n",
    "    mode_rural_median.append(mode[i]['properties']['median'])\n",
    "    i = i + 1"
   ]
  },
  {
   "cell_type": "markdown",
   "metadata": {},
   "source": [
    "Crop Area"
   ]
  },
  {
   "cell_type": "code",
   "execution_count": 9,
   "metadata": {},
   "outputs": [],
   "source": [
    "os.chdir('c:\\\\Users\\\\Jesse\\\\OneDrive\\\\Documenten\\\\Master BAOR\\\\Thesis\\\\GitHub\\\\dicra\\\\analytics\\\\sandbox\\\\notebooks\\\\crop_fires\\\\Exploration\\\\Landuse_Analysis')\n",
    "\n",
    "years = [2017, 2018, 2019]\n",
    "mandals = mandal_boundaries[['index', 'Mandal_Nam', 'Dist_Name', 'geometry']]\n",
    "\n",
    "for year in years:\n",
    "    tiff = '01-01-'+str(year)+'.tif'\n",
    "    lulc = rasterio.open(tiff, mode = 'r')\n",
    "    lulc_array = lulc.read(1) # landuse corresponding to each rasterpixel, so we extracted the pixel values from the raster\n",
    "    # affine: 1: corresponds to the width of each pixel, 2: row rotation, 3: x-coordinate of the upper left pixel, 4: column rotation, 5: height of each pixel, 6: y-coordinate of the upper left pixel\n",
    "    affine = lulc.transform\n",
    "\n",
    "    cmap = {1: 'Water', 2: 'Trees', 4: 'Flooded Vegetation', 5: 'Crops', 7: 'Built Area', 8: 'Bare Ground', 9: 'Snow/Ice', 10: 'Clouds', 11: 'Rangeland'}\n",
    "\n",
    "    test = zonal_stats(mandals.geometry, lulc_array, affine = affine, geojson_out = True, nodata = lulc.nodata, stats = 'majority', categorical=True, category_map = cmap)\n",
    "\n",
    "    mandals[str(year)+'-01-01 Crops']=0\n",
    "    mandals[str(year)+'-01-01 Flooded Vegetation']=0\n",
    "    mandals[str(year)+'-01-01 Trees']=0\n",
    "    mandals[str(year)+'-01-01 Built Area']=0\n",
    "\n",
    "    for i in range(0, len(test)):\n",
    "        try:\n",
    "            mandals[str(year)+'-01-01 Crops'].iloc[i] = test[i]['properties']['Crops'] \n",
    "        except:\n",
    "            mandals[str(year)+'-01-01 Crops'].iloc[i] = 0\n",
    "        try:\n",
    "            mandals[str(year)+'-01-01 Flooded Vegetation'].iloc[i] = test[i]['properties']['Flooded Vegetation'] \n",
    "        except:\n",
    "            mandals[str(year)+'-01-01 Flooded Vegetation'].iloc[i] = 0\n",
    "        try:\n",
    "            mandals[str(year)+'-01-01 Trees'].iloc[i] = test[i]['properties']['Trees'] \n",
    "        except:\n",
    "            mandals[str(year)+'-01-01 Trees'].iloc[i]=0\n",
    "        try:\n",
    "            mandals[str(year)+'-01-01 Built Area'].iloc[i] = test[i]['properties']['Built Area'] \n",
    "        except:\n",
    "            mandals[str(year)+'-01-01 Built Area'].iloc[i]=0\n",
    "            \n",
    "    mandals[str(year)+ ' Trees'] = mandals[str(year)+'-01-01 Trees'] * 0.0001\n",
    "    mandals[str(year)+ ' Built Area'] = mandals[str(year)+'-01-01 Built Area'] * 0.0001\n",
    "    mandals[str(year) + ' Crops'] = mandals[str(year)+'-01-01 Crops'] + mandals[str(year)+'-01-01 Flooded Vegetation']\n",
    "    mandals[str(year) + ' Crops'] = mandals[str(year) + ' Crops'] * 0.0001"
   ]
  },
  {
   "cell_type": "code",
   "execution_count": 10,
   "metadata": {},
   "outputs": [],
   "source": [
    "mandals['2016 Trees'] = mandals['2017 Trees']\n",
    "mandals['2016 Built Area'] = mandals['2017 Built Area']\n",
    "mandals['2016 Crops'] = mandals['2017 Crops']"
   ]
  },
  {
   "cell_type": "code",
   "execution_count": 11,
   "metadata": {},
   "outputs": [],
   "source": [
    "mandals_crops = mandals[['index', 'Mandal_Nam', 'Dist_Name', '2016 Crops',  '2017 Crops', '2018 Crops', '2019 Crops']]\n",
    "mandals_trees = mandals[['index', 'Mandal_Nam', 'Dist_Name', '2016 Trees', '2017 Trees', '2018 Trees', '2019 Trees']]\n",
    "mandals_built_area = mandals[['index', 'Mandal_Nam', 'Dist_Name', '2016 Built Area', '2017 Built Area', '2018 Built Area', '2019 Built Area']]\n",
    "\n",
    "mandals_crops.columns = ['index', 'Mandal_Nam', 'Dist_Name', '2016', '2017', '2018', '2019']\n",
    "mandals_trees.columns = ['index', 'Mandal_Nam', 'Dist_Name', '2016', '2017', '2018', '2019']\n",
    "mandals_built_area.columns = ['index', 'Mandal_Nam', 'Dist_Name', '2016', '2017', '2018', '2019']"
   ]
  },
  {
   "cell_type": "code",
   "execution_count": 12,
   "metadata": {},
   "outputs": [],
   "source": [
    "crops = pd.melt(mandals_crops, id_vars=['index', 'Mandal_Nam', 'Dist_Name'], value_vars=mandals_crops.columns[3:])\n",
    "crops = crops.rename(columns={\"variable\": 'Year', 'value': 'Crops'})\n",
    "\n",
    "trees = pd.melt(mandals_trees, id_vars=['index', 'Mandal_Nam', 'Dist_Name'], value_vars=mandals_trees.columns[3:])\n",
    "trees = trees.rename(columns={\"variable\": 'Year', 'value': 'Trees'})\n",
    "\n",
    "built_area = pd.melt(mandals_built_area, id_vars=['index', 'Mandal_Nam', 'Dist_Name'], value_vars=mandals_built_area.columns[3:])\n",
    "built_area = built_area.rename(columns={\"variable\": 'Year', 'value': 'Built Area'})"
   ]
  },
  {
   "cell_type": "code",
   "execution_count": 13,
   "metadata": {},
   "outputs": [],
   "source": [
    "Croparea_df_selected = pd.merge(crops, trees, on=['index', 'Year', 'Mandal_Nam', 'Dist_Name'])\n",
    "Croparea_df_selected = pd.merge(Croparea_df_selected, built_area, on=['index', 'Year', 'Mandal_Nam', 'Dist_Name'])\n",
    "\n",
    "Croparea_df_selected['Year'] = Croparea_df_selected['Year'].astype(int)"
   ]
  },
  {
   "cell_type": "code",
   "execution_count": 18,
   "metadata": {},
   "outputs": [],
   "source": [
    "Croparea_df_selected = pd.merge(Croparea_df_selected, mandal_boundaries[['index', 'Area']], on=['index'], how='left')"
   ]
  },
  {
   "cell_type": "code",
   "execution_count": 19,
   "metadata": {},
   "outputs": [],
   "source": [
    "Croparea_df_selected['Crops_Prop'] = round(Croparea_df_selected['Crops']/Croparea_df_selected['Area'], 1)\n",
    "Croparea_df_selected['Trees_Prop'] = round(Croparea_df_selected['Trees']/Croparea_df_selected['Area'], 1)\n",
    "Croparea_df_selected['Built_Area_Prop'] = round(Croparea_df_selected['Built Area']/Croparea_df_selected['Area'],1)"
   ]
  },
  {
   "cell_type": "code",
   "execution_count": 20,
   "metadata": {},
   "outputs": [],
   "source": [
    "os.chdir('c:\\\\Users\\\\Jesse\\\\OneDrive\\\\Documenten\\\\Master BAOR\\\\Thesis\\\\GitHub\\\\dicra\\\\analytics\\\\sandbox\\\\notebooks\\\\crop_fires\\\\Data_csv\\\\results_csv')\n",
    "Croparea_df_selected.to_csv('mandals_cropsarea.csv')"
   ]
  },
  {
   "cell_type": "markdown",
   "metadata": {},
   "source": [
    "Combining Everything"
   ]
  },
  {
   "cell_type": "code",
   "execution_count": 201,
   "metadata": {},
   "outputs": [],
   "source": [
    "units = ['NO2', 'PM2.5', 'BA_mean', 'BA_median', 'BA_sum', 'SSM_mean', 'SSM_median', 'SSM_max', 'SSM_min', 'SSM_percentile_90', 'ST_mean', 'ST_median', 'ST_max', 'ST_min', 'ST_percentile_90', \n",
    "        'PRE_mean', 'PRE_median', 'PRE_max', 'PRE_min','PRE_percentile_90', 'PRE_sum', 'POP_mean', 'POP_median']\n",
    "\n",
    "dataframes = [stat_df_NO2, stat_df_PM25, stat_df_BA_mean, stat_df_BA_median, stat_df_BA_sum, stat_df_SSM_mean, stat_df_SSM_median, stat_df_SSM_max, stat_df_SSM_min, stat_df_SSM_percentile_90, stat_df_ST_mean, stat_df_ST_median, stat_df_ST_max, stat_df_ST_min, stat_df_ST_percentile_90,\n",
    "                stat_df_PRE_mean, stat_df_PRE_median, stat_df_PRE_max, stat_df_PRE_min, stat_df_PRE_percentile_90, stat_df_PRE_sum, stat_df_POP_mean, stat_df_POP_median]\n",
    "\n",
    "\n",
    "for a in range(0, len(units)):\n",
    "    dataframes[a] = dataframes[a].rename(columns={\"Value\": units[a]})"
   ]
  },
  {
   "cell_type": "code",
   "execution_count": 135,
   "metadata": {},
   "outputs": [],
   "source": [
    "df = dataframes[0]\n",
    "\n",
    "for i in range(1, len(units)):\n",
    "    df = pd.merge(df, dataframes[i][['index', 'ModifiedDateTime', units[i]]], on=['ModifiedDateTime', 'index'], how = 'left')"
   ]
  },
  {
   "cell_type": "markdown",
   "metadata": {},
   "source": [
    "Combine RWI, Soil Type, Crops, Trees, and Built Area seperately (Yearly Data)"
   ]
  },
  {
   "cell_type": "code",
   "execution_count": 136,
   "metadata": {},
   "outputs": [],
   "source": [
    "df['Year'] = df['ModifiedDateTime'].dt.year\n",
    "df['Month'] = df['ModifiedDateTime'].dt.month"
   ]
  },
  {
   "cell_type": "code",
   "execution_count": 137,
   "metadata": {},
   "outputs": [],
   "source": [
    "df = pd.merge(df, Croparea_df_selected[['Year', 'index', 'Crops', 'Crops_Prop', 'Trees', 'Trees_Prop', 'Built Area', 'Built_Area_Prop']], on = ['Year', 'index'], how='left')\n",
    "df = pd.merge(df, stat_df_RWI[['index', 'RWI_mean', 'RWI_max', 'RWI_min', 'RWI_percentile_90', 'RWI_median']], on = ['index'], how='left')"
   ]
  },
  {
   "cell_type": "code",
   "execution_count": 138,
   "metadata": {},
   "outputs": [],
   "source": [
    "mandal_boundaries['time_to_rur_median'] = mode_rural_median\n",
    "mandal_boundaries['Soil Type'] = mode_soiltype\n",
    "mandal_boundaries['Soil Type'] = mandal_boundaries['Soil Type'].astype(int)"
   ]
  },
  {
   "cell_type": "code",
   "execution_count": 139,
   "metadata": {},
   "outputs": [],
   "source": [
    "cmap={3: 'Lithosols', 4: 'Pellic Luvisols', 13: 'Plinthic Luvisols', 17: 'Planosols', 27: 'Vertic Cambisols', 33: 'Eutric Nitosols', 37: 'Chromic Vertisols', 43: 'Chromic Luvisols'}\n",
    "\n",
    "for soil in range(0, len(mandal_boundaries['Soil Type'])):\n",
    "    mandal_boundaries['Soil Type'].iloc[soil] = cmap[mandal_boundaries['Soil Type'].iloc[soil]]"
   ]
  },
  {
   "cell_type": "code",
   "execution_count": 140,
   "metadata": {},
   "outputs": [
    {
     "data": {
      "text/plain": [
       "array(['Chromic Luvisols', 'Lithosols', 'Pellic Luvisols',\n",
       "       'Chromic Vertisols', 'Vertic Cambisols', 'Plinthic Luvisols',\n",
       "       'Eutric Nitosols'], dtype=object)"
      ]
     },
     "execution_count": 140,
     "metadata": {},
     "output_type": "execute_result"
    }
   ],
   "source": [
    "mandal_boundaries['Soil Type'].unique()"
   ]
  },
  {
   "cell_type": "code",
   "execution_count": 141,
   "metadata": {},
   "outputs": [],
   "source": [
    "df = pd.merge(df, mandal_boundaries[['index', 'Soil Type']], on = ['index'], how='left')\n",
    "df = pd.merge(df, mandal_boundaries[['index', 'time_to_rur_median']], on = ['index'], how='left')"
   ]
  },
  {
   "cell_type": "markdown",
   "metadata": {},
   "source": [
    "Power Plants"
   ]
  },
  {
   "cell_type": "code",
   "execution_count": 143,
   "metadata": {},
   "outputs": [],
   "source": [
    "os.chdir('C:\\\\Users\\\\Jesse\\\\OneDrive\\\\Documenten\\\\Data_Thesis\\\\PowerPlants')\n",
    "power_plants = pd.read_excel('Coal Power Plants database_INDIA_FINAL.xlsx')\n",
    "power_plants_tel = power_plants[power_plants['State']=='Telangana']"
   ]
  },
  {
   "cell_type": "code",
   "execution_count": 144,
   "metadata": {},
   "outputs": [],
   "source": [
    "power_plants_tel = power_plants_tel[~power_plants_tel[2019].isnull()]"
   ]
  },
  {
   "cell_type": "code",
   "execution_count": 145,
   "metadata": {},
   "outputs": [],
   "source": [
    "power_plants_tel = power_plants_tel[['State','District', 'Location', 'Plant name ', 'Owner', 'Status', 'Capacity (MW)', 'Commissioning year', 'Latitude', 'Longitude', 2016, 2017, 2018, 2019]]"
   ]
  },
  {
   "cell_type": "code",
   "execution_count": 146,
   "metadata": {},
   "outputs": [],
   "source": [
    "for i in range(0, len(power_plants_tel)):\n",
    "    splitted_names = power_plants_tel['Plant name '].iloc[i].split()\n",
    "    if splitted_names[-2] == 'Stage':\n",
    "        power_plants_tel['Plant name '].iloc[i] = ' '.join(map(str, splitted_names[:-2]))"
   ]
  },
  {
   "cell_type": "code",
   "execution_count": 147,
   "metadata": {},
   "outputs": [],
   "source": [
    "plants = []\n",
    "max_capacities = []\n",
    "\n",
    "for plant_name in power_plants_tel['Plant name '].unique():\n",
    "    plant = power_plants_tel[power_plants_tel['Plant name '] == plant_name]\n",
    "    plants.append(plant_name)\n",
    "    max_cap = 0\n",
    "    for capacity in range (0, len(plant)):\n",
    "        if plant['Capacity (MW)'].iloc[capacity] > max_cap:\n",
    "            max_cap = plant['Capacity (MW)'].iloc[capacity]\n",
    "\n",
    "    max_capacities.append(max_cap)\n",
    "\n",
    "\n"
   ]
  },
  {
   "cell_type": "code",
   "execution_count": 148,
   "metadata": {},
   "outputs": [],
   "source": [
    "unique_power_plants = power_plants_tel.groupby(['District', 'Location', 'Plant name ', 'Owner', 'Latitude', 'Longitude'])['State'].count().reset_index()"
   ]
  },
  {
   "cell_type": "code",
   "execution_count": 149,
   "metadata": {},
   "outputs": [
    {
     "data": {
      "text/html": [
       "<div>\n",
       "<style scoped>\n",
       "    .dataframe tbody tr th:only-of-type {\n",
       "        vertical-align: middle;\n",
       "    }\n",
       "\n",
       "    .dataframe tbody tr th {\n",
       "        vertical-align: top;\n",
       "    }\n",
       "\n",
       "    .dataframe thead th {\n",
       "        text-align: right;\n",
       "    }\n",
       "</style>\n",
       "<table border=\"1\" class=\"dataframe\">\n",
       "  <thead>\n",
       "    <tr style=\"text-align: right;\">\n",
       "      <th></th>\n",
       "      <th>District</th>\n",
       "      <th>Location</th>\n",
       "      <th>Plant name</th>\n",
       "      <th>Owner</th>\n",
       "      <th>Latitude</th>\n",
       "      <th>Longitude</th>\n",
       "      <th>State</th>\n",
       "    </tr>\n",
       "  </thead>\n",
       "  <tbody>\n",
       "    <tr>\n",
       "      <th>0</th>\n",
       "      <td>Adilabad</td>\n",
       "      <td>Pegadapalli</td>\n",
       "      <td>Pegadapalli Power Station (Jaipur Mandal Power...</td>\n",
       "      <td>Singareni Collieries Company Limited</td>\n",
       "      <td>18.827000</td>\n",
       "      <td>79.570200</td>\n",
       "      <td>2</td>\n",
       "    </tr>\n",
       "    <tr>\n",
       "      <th>1</th>\n",
       "      <td>Karimnagar</td>\n",
       "      <td>Ramagundem</td>\n",
       "      <td>Ramagundem Thermal Power Station</td>\n",
       "      <td>National Thermal Power Corporation (NTPC)</td>\n",
       "      <td>18.750000</td>\n",
       "      <td>79.450000</td>\n",
       "      <td>7</td>\n",
       "    </tr>\n",
       "    <tr>\n",
       "      <th>2</th>\n",
       "      <td>Karimnagar</td>\n",
       "      <td>Ramagundem</td>\n",
       "      <td>Ramagundem-B Thermal Power Station</td>\n",
       "      <td>Telangana State Power Generation Corporation (...</td>\n",
       "      <td>18.750000</td>\n",
       "      <td>79.450000</td>\n",
       "      <td>1</td>\n",
       "    </tr>\n",
       "    <tr>\n",
       "      <th>3</th>\n",
       "      <td>Khammam</td>\n",
       "      <td>Dondapadu</td>\n",
       "      <td>Sitapuram Power Plant (Vishnu Cement)</td>\n",
       "      <td>KSK Energy Ventures Limited</td>\n",
       "      <td>16.830115</td>\n",
       "      <td>80.040402</td>\n",
       "      <td>1</td>\n",
       "    </tr>\n",
       "    <tr>\n",
       "      <th>4</th>\n",
       "      <td>Khammam</td>\n",
       "      <td>Manuguru</td>\n",
       "      <td>Vhadradri Power Plant</td>\n",
       "      <td>Telangana State Power Generation Corporation (...</td>\n",
       "      <td>17.930000</td>\n",
       "      <td>80.810000</td>\n",
       "      <td>4</td>\n",
       "    </tr>\n",
       "    <tr>\n",
       "      <th>5</th>\n",
       "      <td>Khammam</td>\n",
       "      <td>Paloncha</td>\n",
       "      <td>Kothagudem Thermal Power Plant</td>\n",
       "      <td>Telangana State Power Generation Corporation (...</td>\n",
       "      <td>17.621141</td>\n",
       "      <td>80.690900</td>\n",
       "      <td>11</td>\n",
       "    </tr>\n",
       "    <tr>\n",
       "      <th>6</th>\n",
       "      <td>Nalgonda</td>\n",
       "      <td>Ganeshpahad</td>\n",
       "      <td>Ganeshpahad Power Plant</td>\n",
       "      <td>Penna Cement Industries Limited</td>\n",
       "      <td>16.715183</td>\n",
       "      <td>79.692993</td>\n",
       "      <td>1</td>\n",
       "    </tr>\n",
       "    <tr>\n",
       "      <th>7</th>\n",
       "      <td>Nalgonda</td>\n",
       "      <td>Vadapally</td>\n",
       "      <td>Vishnupuram (ICL)</td>\n",
       "      <td>India Cements Limited</td>\n",
       "      <td>16.697458</td>\n",
       "      <td>79.650046</td>\n",
       "      <td>1</td>\n",
       "    </tr>\n",
       "    <tr>\n",
       "      <th>8</th>\n",
       "      <td>Warangal</td>\n",
       "      <td>Chelpur Village</td>\n",
       "      <td>Kakatiya Power Station</td>\n",
       "      <td>Telangana State Power Generation Corporation (...</td>\n",
       "      <td>18.383193</td>\n",
       "      <td>79.827100</td>\n",
       "      <td>2</td>\n",
       "    </tr>\n",
       "  </tbody>\n",
       "</table>\n",
       "</div>"
      ],
      "text/plain": [
       "     District         Location  \\\n",
       "0    Adilabad     Pegadapalli    \n",
       "1  Karimnagar       Ramagundem   \n",
       "2  Karimnagar       Ramagundem   \n",
       "3     Khammam        Dondapadu   \n",
       "4     Khammam         Manuguru   \n",
       "5     Khammam         Paloncha   \n",
       "6    Nalgonda      Ganeshpahad   \n",
       "7    Nalgonda        Vadapally   \n",
       "8    Warangal  Chelpur Village   \n",
       "\n",
       "                                         Plant name   \\\n",
       "0  Pegadapalli Power Station (Jaipur Mandal Power...   \n",
       "1                   Ramagundem Thermal Power Station   \n",
       "2                 Ramagundem-B Thermal Power Station   \n",
       "3              Sitapuram Power Plant (Vishnu Cement)   \n",
       "4                              Vhadradri Power Plant   \n",
       "5                     Kothagudem Thermal Power Plant   \n",
       "6                            Ganeshpahad Power Plant   \n",
       "7                                  Vishnupuram (ICL)   \n",
       "8                             Kakatiya Power Station   \n",
       "\n",
       "                                               Owner   Latitude  Longitude  \\\n",
       "0               Singareni Collieries Company Limited  18.827000  79.570200   \n",
       "1          National Thermal Power Corporation (NTPC)  18.750000  79.450000   \n",
       "2  Telangana State Power Generation Corporation (...  18.750000  79.450000   \n",
       "3                        KSK Energy Ventures Limited  16.830115  80.040402   \n",
       "4  Telangana State Power Generation Corporation (...  17.930000  80.810000   \n",
       "5  Telangana State Power Generation Corporation (...  17.621141  80.690900   \n",
       "6                    Penna Cement Industries Limited  16.715183  79.692993   \n",
       "7                              India Cements Limited  16.697458  79.650046   \n",
       "8  Telangana State Power Generation Corporation (...  18.383193  79.827100   \n",
       "\n",
       "   State  \n",
       "0      2  \n",
       "1      7  \n",
       "2      1  \n",
       "3      1  \n",
       "4      4  \n",
       "5     11  \n",
       "6      1  \n",
       "7      1  \n",
       "8      2  "
      ]
     },
     "execution_count": 149,
     "metadata": {},
     "output_type": "execute_result"
    }
   ],
   "source": [
    "unique_power_plants"
   ]
  },
  {
   "cell_type": "code",
   "execution_count": 150,
   "metadata": {},
   "outputs": [],
   "source": [
    "unique_power_plants['2016'] = 0\n",
    "unique_power_plants['2017'] = 0\n",
    "unique_power_plants['2018'] = 0\n",
    "unique_power_plants['2019'] = 0 \n",
    "\n",
    "for i in range(0, len(unique_power_plants)):\n",
    "    for index in range(0, len(plants)):\n",
    "        if (unique_power_plants['Plant name '].iloc[i] == plants[index]) & ((plants[index] =='Pegadapalli Power Station (Jaipur Mandal Power Station)')| (plants[index] =='Vhadradri Power Plant')):\n",
    "            unique_power_plants['2016'].iloc[i] = 0\n",
    "            unique_power_plants['2017'].iloc[i] = max_capacities[index]\n",
    "            unique_power_plants['2018'].iloc[i] = max_capacities[index]\n",
    "            unique_power_plants['2019'].iloc[i] = max_capacities[index]\n",
    "        elif unique_power_plants['Plant name '].iloc[i] == plants[index]:\n",
    "            unique_power_plants['2016'].iloc[i] = max_capacities[index]\n",
    "            unique_power_plants['2017'].iloc[i] = max_capacities[index]\n",
    "            unique_power_plants['2018'].iloc[i] = max_capacities[index]\n",
    "            unique_power_plants['2019'].iloc[i] = max_capacities[index]\n"
   ]
  },
  {
   "cell_type": "code",
   "execution_count": 151,
   "metadata": {},
   "outputs": [],
   "source": [
    "del unique_power_plants['State']"
   ]
  },
  {
   "cell_type": "code",
   "execution_count": 152,
   "metadata": {},
   "outputs": [],
   "source": [
    "gdp_power_plants_tel = gdp.GeoDataFrame(unique_power_plants, geometry=gdp.points_from_xy(unique_power_plants.Longitude, unique_power_plants.Latitude, crs='EPSG:4326'))"
   ]
  },
  {
   "cell_type": "code",
   "execution_count": 153,
   "metadata": {},
   "outputs": [],
   "source": [
    "mandal_boundaries['Centroid'] = mandal_boundaries['geometry'].centroid.to_crs('EPSG:5234')\n",
    "gdp_power_plants_tel['geometry_meters'] = gdp_power_plants_tel['geometry'].to_crs('EPSG:5234')"
   ]
  },
  {
   "cell_type": "code",
   "execution_count": 154,
   "metadata": {},
   "outputs": [],
   "source": [
    "for plant in range(0, len(plants)):\n",
    "    plan_split = plants[plant].split()\n",
    "    mandal_boundaries[plants[plant]] = mandal_boundaries['Centroid'].distance(gdp_power_plants_tel['geometry_meters'].iloc[plant])\n"
   ]
  },
  {
   "cell_type": "code",
   "execution_count": 155,
   "metadata": {},
   "outputs": [],
   "source": [
    "power_plants_matched = pd.melt(mandal_boundaries, id_vars=['index', 'Dist_Name', 'Mandal_Nam', 'geometry'], value_vars=mandal_boundaries.columns[-8:])\n",
    "power_plants_matched = power_plants_matched.rename(columns = {'variable': 'Plant name ', 'value': 'Distance'})"
   ]
  },
  {
   "cell_type": "code",
   "execution_count": 156,
   "metadata": {},
   "outputs": [],
   "source": [
    "df_power_plants = pd.merge(power_plants_matched, gdp_power_plants_tel[['Plant name ', '2016', '2017', '2018', '2019']], on = ['Plant name '], how='left')"
   ]
  },
  {
   "cell_type": "code",
   "execution_count": 157,
   "metadata": {},
   "outputs": [],
   "source": [
    "df_power_plants['Distance'] = round(df_power_plants['Distance']/1000, 2)"
   ]
  },
  {
   "cell_type": "code",
   "execution_count": 158,
   "metadata": {},
   "outputs": [],
   "source": [
    "df_power_plants['Score 2016'] = df_power_plants['2016'] / df_power_plants['Distance']\n",
    "df_power_plants['Score 2017'] = df_power_plants['2017'] / df_power_plants['Distance']\n",
    "df_power_plants['Score 2018'] = df_power_plants['2018'] / df_power_plants['Distance']\n",
    "df_power_plants['Score 2019'] = df_power_plants['2019'] / df_power_plants['Distance']"
   ]
  },
  {
   "cell_type": "code",
   "execution_count": 159,
   "metadata": {},
   "outputs": [],
   "source": [
    "power_plant_scores = df_power_plants.groupby(['index', 'Dist_Name', 'Mandal_Nam'])['Score 2016','Score 2017', 'Score 2018', 'Score 2019'].sum().reset_index()"
   ]
  },
  {
   "cell_type": "code",
   "execution_count": 160,
   "metadata": {},
   "outputs": [],
   "source": [
    "power_plant_scores = pd.melt(power_plant_scores,  id_vars=['index', 'Dist_Name', 'Mandal_Nam'], value_vars = ['Score 2016', 'Score 2017', 'Score 2018', 'Score 2019'])\n",
    "power_plant_scores = power_plant_scores.rename(columns = {'variable': 'Year', 'value': 'PowP_score'})"
   ]
  },
  {
   "cell_type": "code",
   "execution_count": 161,
   "metadata": {},
   "outputs": [],
   "source": [
    "for line in range(0, len(power_plant_scores)):\n",
    "    power_plant_scores['Year'].iloc[line] = power_plant_scores['Year'].iloc[line].split()[1]"
   ]
  },
  {
   "cell_type": "code",
   "execution_count": 162,
   "metadata": {},
   "outputs": [],
   "source": [
    "power_plant_scores['Year'] = power_plant_scores['Year'].astype(int)"
   ]
  },
  {
   "cell_type": "code",
   "execution_count": 163,
   "metadata": {},
   "outputs": [
    {
     "data": {
      "image/png": "[encoded data removed]",
      "text/plain": [
       "<Figure size 640x480 with 1 Axes>"
      ]
     },
     "metadata": {},
     "output_type": "display_data"
    }
   ],
   "source": [
    "shape_telangana.plot()\n",
    "plt.scatter(gdp_power_plants_tel.Longitude, gdp_power_plants_tel.Latitude, c='red')\n",
    "plt.show()"
   ]
  },
  {
   "cell_type": "code",
   "execution_count": 164,
   "metadata": {},
   "outputs": [],
   "source": [
    "df = pd.merge(df, power_plant_scores[['index', 'Year', 'PowP_score']], how='left', on=['index', 'Year'])"
   ]
  },
  {
   "cell_type": "code",
   "execution_count": 165,
   "metadata": {},
   "outputs": [
    {
     "data": {
      "text/plain": [
       "Index(['index', 'Mandal_Nam', 'Dist_Name', 'geometry', 'ModifiedDateTime',\n",
       "       'NO2', 'PM2.5', 'BA_mean', 'BA_median', 'BA_sum', 'SSM_mean',\n",
       "       'SSM_median', 'SSM_max', 'SSM_min', 'SSM_percentile_90', 'ST_mean',\n",
       "       'ST_median', 'ST_max', 'ST_min', 'ST_percentile_90', 'PRE_mean',\n",
       "       'PRE_median', 'PRE_max', 'PRE_min', 'PRE_percentile_90', 'PRE_sum',\n",
       "       'POP_mean', 'POP_median', 'Year', 'Month', 'Crops', 'Crops_Prop',\n",
       "       'Trees', 'Trees_Prop', 'Built Area', 'Built_Area_Prop', 'RWI_mean',\n",
       "       'RWI_max', 'RWI_min', 'RWI_percentile_90', 'RWI_median', 'Soil Type',\n",
       "       'time_to_rur_median', 'Season', 'PowP_score'],\n",
       "      dtype='object')"
      ]
     },
     "execution_count": 165,
     "metadata": {},
     "output_type": "execute_result"
    }
   ],
   "source": [
    "df.columns"
   ]
  },
  {
   "cell_type": "code",
   "execution_count": 171,
   "metadata": {},
   "outputs": [],
   "source": [
    "df_selected = df[['index', 'Mandal_Nam', 'Dist_Name', 'geometry', 'ModifiedDateTime', 'Year', 'Month', 'Season', 'NO2', 'PM2.5', 'SSM_mean', 'SSM_median', 'SSM_min', 'SSM_max', 'SSM_percentile_90', 'PRE_mean', 'PRE_median', 'PRE_min', 'PRE_max', 'PRE_percentile_90', 'PRE_sum', \n",
    "    'POP_mean', 'POP_median', 'ST_mean', 'ST_median', 'ST_min', 'ST_max', 'ST_percentile_90', 'RWI_mean', 'RWI_median', 'RWI_min', 'RWI_max', 'RWI_percentile_90',\n",
    "    'BA_mean', 'BA_median', 'BA_sum', 'Crops', 'Crops_Prop', 'Trees', 'Trees_Prop', 'Built Area', 'Built_Area_Prop', 'time_to_rur_median', 'PowP_score', 'Soil Type']]"
   ]
  },
  {
   "cell_type": "code",
   "execution_count": 172,
   "metadata": {},
   "outputs": [],
   "source": [
    "df_selected = pd.merge(df_selected, mandal_boundaries[['index', 'Area']], on=['index'], how = 'left')"
   ]
  },
  {
   "cell_type": "code",
   "execution_count": 173,
   "metadata": {},
   "outputs": [
    {
     "data": {
      "text/plain": [
       "Index(['index', 'Mandal_Nam', 'Dist_Name', 'geometry', 'ModifiedDateTime',\n",
       "       'Year', 'Month', 'Season', 'NO2', 'PM2.5', 'SSM_mean', 'SSM_median',\n",
       "       'SSM_min', 'SSM_max', 'SSM_percentile_90', 'PRE_mean', 'PRE_median',\n",
       "       'PRE_min', 'PRE_max', 'PRE_percentile_90', 'PRE_sum', 'POP_mean',\n",
       "       'POP_median', 'ST_mean', 'ST_median', 'ST_min', 'ST_max',\n",
       "       'ST_percentile_90', 'RWI_mean', 'RWI_median', 'RWI_min', 'RWI_max',\n",
       "       'RWI_percentile_90', 'BA_mean', 'BA_median', 'BA_sum', 'Crops',\n",
       "       'Crops_Prop', 'Trees', 'Trees_Prop', 'Built Area', 'Built_Area_Prop',\n",
       "       'time_to_rur_median', 'PowP_score', 'Soil Type', 'Area'],\n",
       "      dtype='object')"
      ]
     },
     "execution_count": 173,
     "metadata": {},
     "output_type": "execute_result"
    }
   ],
   "source": [
    "df_selected.columns"
   ]
  },
  {
   "cell_type": "code",
   "execution_count": 183,
   "metadata": {},
   "outputs": [],
   "source": [
    "del df_selected['POP_mean']\n",
    "del df_selected['POP_median']"
   ]
  },
  {
   "cell_type": "code",
   "execution_count": 188,
   "metadata": {},
   "outputs": [],
   "source": [
    "stat_df_POP_mean['Year'] = stat_df_POP_mean['ModifiedDateTime'].dt.year\n",
    "stat_df_POP_median['Year'] = stat_df_POP_median['ModifiedDateTime'].dt.year"
   ]
  },
  {
   "cell_type": "code",
   "execution_count": 204,
   "metadata": {},
   "outputs": [],
   "source": [
    "df_selected = pd.merge(df_selected, dataframes[-2][['index', 'Year', 'POP_mean']], on =['index', 'Year'], how='left')\n",
    "df_selected = pd.merge(df_selected, dataframes[-1][['index', 'Year', 'POP_median']], on =['index', 'Year'], how='left')"
   ]
  },
  {
   "cell_type": "code",
   "execution_count": 206,
   "metadata": {},
   "outputs": [],
   "source": [
    "os.chdir('c:\\\\Users\\\\Jesse\\\\OneDrive\\\\Documenten\\\\Master BAOR\\\\Thesis\\\\GitHub\\\\dicra\\\\analytics\\\\sandbox\\\\notebooks\\\\crop_fires\\\\Data_csv\\\\results_csv')\n",
    "df_selected.to_csv('data_tiffs.csv')"
   ]
  },
  {
   "cell_type": "code",
   "execution_count": 5,
   "metadata": {},
   "outputs": [],
   "source": [
    "os.chdir('c:\\\\Users\\\\Jesse\\\\OneDrive\\\\Documenten\\\\Master BAOR\\\\Thesis\\\\GitHub\\\\dicra\\\\analytics\\\\sandbox\\\\notebooks\\\\crop_fires\\\\Data_csv\\\\results_csv')\n",
    "\n",
    "df = pd.read_csv('data_tiffs.csv', index_col = 0)"
   ]
  },
  {
   "cell_type": "code",
   "execution_count": 6,
   "metadata": {},
   "outputs": [
    {
     "data": {
      "text/html": [
       "<div>\n",
       "<style scoped>\n",
       "    .dataframe tbody tr th:only-of-type {\n",
       "        vertical-align: middle;\n",
       "    }\n",
       "\n",
       "    .dataframe tbody tr th {\n",
       "        vertical-align: top;\n",
       "    }\n",
       "\n",
       "    .dataframe thead th {\n",
       "        text-align: right;\n",
       "    }\n",
       "</style>\n",
       "<table border=\"1\" class=\"dataframe\">\n",
       "  <thead>\n",
       "    <tr style=\"text-align: right;\">\n",
       "      <th></th>\n",
       "      <th>index</th>\n",
       "      <th>Mandal_Nam</th>\n",
       "      <th>Dist_Name</th>\n",
       "      <th>geometry</th>\n",
       "      <th>ModifiedDateTime</th>\n",
       "      <th>Year</th>\n",
       "      <th>Month</th>\n",
       "      <th>Season</th>\n",
       "      <th>NO2</th>\n",
       "      <th>PM2.5</th>\n",
       "      <th>...</th>\n",
       "      <th>Trees</th>\n",
       "      <th>Trees_Prop</th>\n",
       "      <th>Built Area</th>\n",
       "      <th>Built_Area_Prop</th>\n",
       "      <th>time_to_rur_median</th>\n",
       "      <th>PowP_score</th>\n",
       "      <th>Soil Type</th>\n",
       "      <th>Area</th>\n",
       "      <th>POP_mean</th>\n",
       "      <th>POP_median</th>\n",
       "    </tr>\n",
       "  </thead>\n",
       "  <tbody>\n",
       "    <tr>\n",
       "      <th>0</th>\n",
       "      <td>0</td>\n",
       "      <td>Abdullapurmet</td>\n",
       "      <td>Rangareddy</td>\n",
       "      <td>POLYGON ((78.59020512800009 17.34506113200013,...</td>\n",
       "      <td>2016-01-01</td>\n",
       "      <td>2016</td>\n",
       "      <td>1</td>\n",
       "      <td>None</td>\n",
       "      <td>238.435040</td>\n",
       "      <td>47.675000</td>\n",
       "      <td>...</td>\n",
       "      <td>5.2694</td>\n",
       "      <td>0.0</td>\n",
       "      <td>45.7679</td>\n",
       "      <td>0.2</td>\n",
       "      <td>8.0</td>\n",
       "      <td>11.022133</td>\n",
       "      <td>Chromic Luvisols</td>\n",
       "      <td>255.0</td>\n",
       "      <td>708.346051</td>\n",
       "      <td>600.070068</td>\n",
       "    </tr>\n",
       "    <tr>\n",
       "      <th>1</th>\n",
       "      <td>1</td>\n",
       "      <td>Achampet</td>\n",
       "      <td>Nagarkurnool</td>\n",
       "      <td>POLYGON ((78.91204436700008 16.54875844100007,...</td>\n",
       "      <td>2016-01-01</td>\n",
       "      <td>2016</td>\n",
       "      <td>1</td>\n",
       "      <td>None</td>\n",
       "      <td>143.419573</td>\n",
       "      <td>32.478572</td>\n",
       "      <td>...</td>\n",
       "      <td>23.0433</td>\n",
       "      <td>0.0</td>\n",
       "      <td>10.2378</td>\n",
       "      <td>0.0</td>\n",
       "      <td>13.0</td>\n",
       "      <td>9.724638</td>\n",
       "      <td>Lithosols</td>\n",
       "      <td>502.0</td>\n",
       "      <td>137.321354</td>\n",
       "      <td>97.347229</td>\n",
       "    </tr>\n",
       "    <tr>\n",
       "      <th>2</th>\n",
       "      <td>2</td>\n",
       "      <td>Adavidevulapally</td>\n",
       "      <td>Nalgonda</td>\n",
       "      <td>POLYGON ((79.52429751700004 16.72522135500003,...</td>\n",
       "      <td>2016-01-01</td>\n",
       "      <td>2016</td>\n",
       "      <td>1</td>\n",
       "      <td>None</td>\n",
       "      <td>289.370079</td>\n",
       "      <td>46.425000</td>\n",
       "      <td>...</td>\n",
       "      <td>0.2498</td>\n",
       "      <td>0.0</td>\n",
       "      <td>1.9839</td>\n",
       "      <td>0.0</td>\n",
       "      <td>12.0</td>\n",
       "      <td>20.370017</td>\n",
       "      <td>Pellic Luvisols</td>\n",
       "      <td>126.0</td>\n",
       "      <td>82.025389</td>\n",
       "      <td>64.107906</td>\n",
       "    </tr>\n",
       "    <tr>\n",
       "      <th>3</th>\n",
       "      <td>3</td>\n",
       "      <td>Addagudur</td>\n",
       "      <td>Yadadri Bhuvanagiri</td>\n",
       "      <td>POLYGON ((79.36516547400004 17.48429223000005,...</td>\n",
       "      <td>2016-01-01</td>\n",
       "      <td>2016</td>\n",
       "      <td>1</td>\n",
       "      <td>None</td>\n",
       "      <td>157.972443</td>\n",
       "      <td>42.300000</td>\n",
       "      <td>...</td>\n",
       "      <td>0.2634</td>\n",
       "      <td>0.0</td>\n",
       "      <td>4.3925</td>\n",
       "      <td>0.0</td>\n",
       "      <td>12.0</td>\n",
       "      <td>15.860505</td>\n",
       "      <td>Chromic Luvisols</td>\n",
       "      <td>142.0</td>\n",
       "      <td>157.084636</td>\n",
       "      <td>143.738419</td>\n",
       "    </tr>\n",
       "    <tr>\n",
       "      <th>4</th>\n",
       "      <td>4</td>\n",
       "      <td>Addakal</td>\n",
       "      <td>Mahabubnagar</td>\n",
       "      <td>POLYGON ((77.92377499000008 16.58074325200005,...</td>\n",
       "      <td>2016-01-01</td>\n",
       "      <td>2016</td>\n",
       "      <td>1</td>\n",
       "      <td>None</td>\n",
       "      <td>166.535431</td>\n",
       "      <td>40.179999</td>\n",
       "      <td>...</td>\n",
       "      <td>1.2012</td>\n",
       "      <td>0.0</td>\n",
       "      <td>5.0373</td>\n",
       "      <td>0.0</td>\n",
       "      <td>12.0</td>\n",
       "      <td>6.998230</td>\n",
       "      <td>Pellic Luvisols</td>\n",
       "      <td>134.0</td>\n",
       "      <td>238.653614</td>\n",
       "      <td>185.930542</td>\n",
       "    </tr>\n",
       "    <tr>\n",
       "      <th>...</th>\n",
       "      <td>...</td>\n",
       "      <td>...</td>\n",
       "      <td>...</td>\n",
       "      <td>...</td>\n",
       "      <td>...</td>\n",
       "      <td>...</td>\n",
       "      <td>...</td>\n",
       "      <td>...</td>\n",
       "      <td>...</td>\n",
       "      <td>...</td>\n",
       "      <td>...</td>\n",
       "      <td>...</td>\n",
       "      <td>...</td>\n",
       "      <td>...</td>\n",
       "      <td>...</td>\n",
       "      <td>...</td>\n",
       "      <td>...</td>\n",
       "      <td>...</td>\n",
       "      <td>...</td>\n",
       "      <td>...</td>\n",
       "      <td>...</td>\n",
       "    </tr>\n",
       "    <tr>\n",
       "      <th>34923</th>\n",
       "      <td>587</td>\n",
       "      <td>Mosra</td>\n",
       "      <td>Nizamabad</td>\n",
       "      <td>POLYGON ((78.03813400200016 18.52915054300013,...</td>\n",
       "      <td>2019-12-01</td>\n",
       "      <td>2019</td>\n",
       "      <td>12</td>\n",
       "      <td>None</td>\n",
       "      <td>210.629918</td>\n",
       "      <td>62.633331</td>\n",
       "      <td>...</td>\n",
       "      <td>5.9346</td>\n",
       "      <td>0.0</td>\n",
       "      <td>1.5342</td>\n",
       "      <td>0.0</td>\n",
       "      <td>11.0</td>\n",
       "      <td>9.926591</td>\n",
       "      <td>Chromic Luvisols</td>\n",
       "      <td>244.0</td>\n",
       "      <td>232.026257</td>\n",
       "      <td>174.902817</td>\n",
       "    </tr>\n",
       "    <tr>\n",
       "      <th>34924</th>\n",
       "      <td>588</td>\n",
       "      <td>Chandur</td>\n",
       "      <td>Nizamabad</td>\n",
       "      <td>POLYGON ((78.04060240200022 18.4965250740002, ...</td>\n",
       "      <td>2019-12-01</td>\n",
       "      <td>2019</td>\n",
       "      <td>12</td>\n",
       "      <td>None</td>\n",
       "      <td>200.787399</td>\n",
       "      <td>60.099998</td>\n",
       "      <td>...</td>\n",
       "      <td>4.5895</td>\n",
       "      <td>0.0</td>\n",
       "      <td>1.3385</td>\n",
       "      <td>0.0</td>\n",
       "      <td>11.0</td>\n",
       "      <td>9.875827</td>\n",
       "      <td>Chromic Luvisols</td>\n",
       "      <td>244.0</td>\n",
       "      <td>209.223037</td>\n",
       "      <td>170.120781</td>\n",
       "    </tr>\n",
       "    <tr>\n",
       "      <th>34925</th>\n",
       "      <td>589</td>\n",
       "      <td>Chowtakur</td>\n",
       "      <td>Sangareddy</td>\n",
       "      <td>POLYGON ((78.06919574500017 17.67324188400011,...</td>\n",
       "      <td>2019-12-01</td>\n",
       "      <td>2019</td>\n",
       "      <td>12</td>\n",
       "      <td>None</td>\n",
       "      <td>187.500000</td>\n",
       "      <td>56.275001</td>\n",
       "      <td>...</td>\n",
       "      <td>0.0013</td>\n",
       "      <td>0.0</td>\n",
       "      <td>3.9377</td>\n",
       "      <td>0.0</td>\n",
       "      <td>8.0</td>\n",
       "      <td>10.046265</td>\n",
       "      <td>Chromic Luvisols</td>\n",
       "      <td>249.0</td>\n",
       "      <td>221.828521</td>\n",
       "      <td>196.083588</td>\n",
       "    </tr>\n",
       "    <tr>\n",
       "      <th>34926</th>\n",
       "      <td>590</td>\n",
       "      <td>Masaipet</td>\n",
       "      <td>Medak</td>\n",
       "      <td>POLYGON ((78.44551160999998 17.94706595500003,...</td>\n",
       "      <td>2019-12-01</td>\n",
       "      <td>2019</td>\n",
       "      <td>12</td>\n",
       "      <td>None</td>\n",
       "      <td>170.078741</td>\n",
       "      <td>54.900001</td>\n",
       "      <td>...</td>\n",
       "      <td>0.0131</td>\n",
       "      <td>0.0</td>\n",
       "      <td>3.1912</td>\n",
       "      <td>0.0</td>\n",
       "      <td>8.0</td>\n",
       "      <td>12.317036</td>\n",
       "      <td>Chromic Luvisols</td>\n",
       "      <td>212.0</td>\n",
       "      <td>283.615465</td>\n",
       "      <td>220.201614</td>\n",
       "    </tr>\n",
       "    <tr>\n",
       "      <th>34927</th>\n",
       "      <td>591</td>\n",
       "      <td>Dhoolumitta</td>\n",
       "      <td>Siddipet</td>\n",
       "      <td>POLYGON ((79.12089267400012 17.94056795, 79.12...</td>\n",
       "      <td>2019-12-01</td>\n",
       "      <td>2019</td>\n",
       "      <td>12</td>\n",
       "      <td>None</td>\n",
       "      <td>187.500004</td>\n",
       "      <td>49.150001</td>\n",
       "      <td>...</td>\n",
       "      <td>0.0000</td>\n",
       "      <td>0.0</td>\n",
       "      <td>2.7123</td>\n",
       "      <td>0.0</td>\n",
       "      <td>12.0</td>\n",
       "      <td>18.501421</td>\n",
       "      <td>Chromic Luvisols</td>\n",
       "      <td>181.0</td>\n",
       "      <td>200.435853</td>\n",
       "      <td>178.466400</td>\n",
       "    </tr>\n",
       "  </tbody>\n",
       "</table>\n",
       "<p>34928 rows × 46 columns</p>\n",
       "</div>"
      ],
      "text/plain": [
       "       index        Mandal_Nam            Dist_Name  \\\n",
       "0          0     Abdullapurmet           Rangareddy   \n",
       "1          1          Achampet         Nagarkurnool   \n",
       "2          2  Adavidevulapally             Nalgonda   \n",
       "3          3         Addagudur  Yadadri Bhuvanagiri   \n",
       "4          4           Addakal         Mahabubnagar   \n",
       "...      ...               ...                  ...   \n",
       "34923    587             Mosra            Nizamabad   \n",
       "34924    588           Chandur            Nizamabad   \n",
       "34925    589         Chowtakur           Sangareddy   \n",
       "34926    590          Masaipet                Medak   \n",
       "34927    591       Dhoolumitta             Siddipet   \n",
       "\n",
       "                                                geometry ModifiedDateTime  \\\n",
       "0      POLYGON ((78.59020512800009 17.34506113200013,...       2016-01-01   \n",
       "1      POLYGON ((78.91204436700008 16.54875844100007,...       2016-01-01   \n",
       "2      POLYGON ((79.52429751700004 16.72522135500003,...       2016-01-01   \n",
       "3      POLYGON ((79.36516547400004 17.48429223000005,...       2016-01-01   \n",
       "4      POLYGON ((77.92377499000008 16.58074325200005,...       2016-01-01   \n",
       "...                                                  ...              ...   \n",
       "34923  POLYGON ((78.03813400200016 18.52915054300013,...       2019-12-01   \n",
       "34924  POLYGON ((78.04060240200022 18.4965250740002, ...       2019-12-01   \n",
       "34925  POLYGON ((78.06919574500017 17.67324188400011,...       2019-12-01   \n",
       "34926  POLYGON ((78.44551160999998 17.94706595500003,...       2019-12-01   \n",
       "34927  POLYGON ((79.12089267400012 17.94056795, 79.12...       2019-12-01   \n",
       "\n",
       "       Year  Month Season         NO2      PM2.5  ...    Trees  Trees_Prop  \\\n",
       "0      2016      1   None  238.435040  47.675000  ...   5.2694         0.0   \n",
       "1      2016      1   None  143.419573  32.478572  ...  23.0433         0.0   \n",
       "2      2016      1   None  289.370079  46.425000  ...   0.2498         0.0   \n",
       "3      2016      1   None  157.972443  42.300000  ...   0.2634         0.0   \n",
       "4      2016      1   None  166.535431  40.179999  ...   1.2012         0.0   \n",
       "...     ...    ...    ...         ...        ...  ...      ...         ...   \n",
       "34923  2019     12   None  210.629918  62.633331  ...   5.9346         0.0   \n",
       "34924  2019     12   None  200.787399  60.099998  ...   4.5895         0.0   \n",
       "34925  2019     12   None  187.500000  56.275001  ...   0.0013         0.0   \n",
       "34926  2019     12   None  170.078741  54.900001  ...   0.0131         0.0   \n",
       "34927  2019     12   None  187.500004  49.150001  ...   0.0000         0.0   \n",
       "\n",
       "       Built Area  Built_Area_Prop  time_to_rur_median  PowP_score  \\\n",
       "0         45.7679              0.2                 8.0   11.022133   \n",
       "1         10.2378              0.0                13.0    9.724638   \n",
       "2          1.9839              0.0                12.0   20.370017   \n",
       "3          4.3925              0.0                12.0   15.860505   \n",
       "4          5.0373              0.0                12.0    6.998230   \n",
       "...           ...              ...                 ...         ...   \n",
       "34923      1.5342              0.0                11.0    9.926591   \n",
       "34924      1.3385              0.0                11.0    9.875827   \n",
       "34925      3.9377              0.0                 8.0   10.046265   \n",
       "34926      3.1912              0.0                 8.0   12.317036   \n",
       "34927      2.7123              0.0                12.0   18.501421   \n",
       "\n",
       "              Soil Type   Area    POP_mean  POP_median  \n",
       "0      Chromic Luvisols  255.0  708.346051  600.070068  \n",
       "1             Lithosols  502.0  137.321354   97.347229  \n",
       "2       Pellic Luvisols  126.0   82.025389   64.107906  \n",
       "3      Chromic Luvisols  142.0  157.084636  143.738419  \n",
       "4       Pellic Luvisols  134.0  238.653614  185.930542  \n",
       "...                 ...    ...         ...         ...  \n",
       "34923  Chromic Luvisols  244.0  232.026257  174.902817  \n",
       "34924  Chromic Luvisols  244.0  209.223037  170.120781  \n",
       "34925  Chromic Luvisols  249.0  221.828521  196.083588  \n",
       "34926  Chromic Luvisols  212.0  283.615465  220.201614  \n",
       "34927  Chromic Luvisols  181.0  200.435853  178.466400  \n",
       "\n",
       "[34928 rows x 46 columns]"
      ]
     },
     "execution_count": 6,
     "metadata": {},
     "output_type": "execute_result"
    }
   ],
   "source": [
    "df"
   ]
  },
  {
   "cell_type": "code",
   "execution_count": 8,
   "metadata": {},
   "outputs": [],
   "source": [
    "df['Season'] = 0\n",
    "\n",
    "for i in range(0, len(df)):\n",
    "    if (df['Month'].iloc[i] == 3) | (df['Month'].iloc[i] == 4) | (df['Month'].iloc[i] == 5):\n",
    "        df['Season'].iloc[i] = 'Rabi'\n",
    "    elif (df['Month'].iloc[i] == 9) | (df['Month'].iloc[i] == 10):\n",
    "        df['Season'].iloc[i] = 'Kharif' \n",
    "    else:\n",
    "        df['Season'].iloc[i] = 'None'\n"
   ]
  },
  {
   "cell_type": "code",
   "execution_count": 10,
   "metadata": {},
   "outputs": [],
   "source": [
    "os.chdir('c:\\\\Users\\\\Jesse\\\\OneDrive\\\\Documenten\\\\Master BAOR\\\\Thesis\\\\GitHub\\\\dicra\\\\analytics\\\\sandbox\\\\notebooks\\\\crop_fires\\\\Data_csv\\\\results_csv')\n",
    "df.to_csv('data_tiffs.csv')"
   ]
  }
 ],
 "metadata": {
  "kernelspec": {
   "display_name": "Python 3.10.6 64-bit",
   "language": "python",
   "name": "python3"
  },
  "language_info": {
   "codemirror_mode": {
    "name": "ipython",
    "version": 3
   },
   "file_extension": ".py",
   "mimetype": "text/x-python",
   "name": "python",
   "nbconvert_exporter": "python",
   "pygments_lexer": "ipython3",
   "version": "3.10.6"
  },
  "orig_nbformat": 4,
  "vscode": {
   "interpreter": {
    "hash": "916dbcbb3f70747c44a77c7bcd40155683ae19c65e1c03b4aa3499c5328201f1"
   }
  }
 },
 "nbformat": 4,
 "nbformat_minor": 2
}
