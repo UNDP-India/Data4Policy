{
 "cells": [
  {
   "cell_type": "code",
   "execution_count": 1,
   "metadata": {},
   "outputs": [
    {
     "name": "stderr",
     "output_type": "stream",
     "text": [
      "c:\\Users\\mieke\\anaconda3\\envs\\thesis_base\\lib\\site-packages\\tqdm\\auto.py:22: TqdmWarning: IProgress not found. Please update jupyter and ipywidgets. See https://ipywidgets.readthedocs.io/en/stable/user_install.html\n",
      "  from .autonotebook import tqdm as notebook_tqdm\n"
     ]
    }
   ],
   "source": [
    "import numpy as np\n",
    "import os\n",
    "import pandas as pd\n",
    "sys.path.append(os.path.abspath(\"C:/Users/mieke/Documents/Msc Thesis/Notebooks Python/Final/\"))\n",
    "import functions_model #import python file containing the functions\n",
    "from sklearn.ensemble import RandomForestRegressor\n",
    "from sklearn.tree import export_graphviz\n",
    "#import pydot\n",
    "import matplotlib.pyplot as plt\n",
    "import datetime\n",
    "from sklearn import preprocessing\n",
    "from sklearn.metrics import mean_absolute_error, accuracy_score, r2_score, mean_squared_error\n",
    "import geopandas as gpd\n",
    "import warnings\n",
    "import shap\n",
    "from sklearn.model_selection import RandomizedSearchCV\n",
    "from sklearn.model_selection import GridSearchCV\n",
    "import random\n",
    "import math\n",
    "\n",
    "random.seed(1234) # Set random seed"
   ]
  },
  {
   "cell_type": "code",
   "execution_count": 2,
   "metadata": {},
   "outputs": [
    {
     "data": {
      "text/plain": [
       "<module 'functions_model' from 'c:\\\\Users\\\\mieke\\\\Documents\\\\Msc Thesis\\\\Notebooks Python\\\\Final\\\\functions_model.py'>"
      ]
     },
     "execution_count": 2,
     "metadata": {},
     "output_type": "execute_result"
    }
   ],
   "source": [
    "# For updates\n",
    "import importlib\n",
    "importlib.reload(functions_model)"
   ]
  },
  {
   "cell_type": "code",
   "execution_count": 3,
   "metadata": {},
   "outputs": [],
   "source": [
    "# Importing the data\n",
    "dataset = gpd.read_file(r'D:\\other_thesis\\rf_params.geojson') "
   ]
  },
  {
   "cell_type": "code",
   "execution_count": 4,
   "metadata": {},
   "outputs": [],
   "source": [
    "data = dataset[dataset['Average Yield(Kg/Ha)'] != 0] # Throw away average yield values of zero"
   ]
  },
  {
   "cell_type": "code",
   "execution_count": 5,
   "metadata": {},
   "outputs": [
    {
     "data": {
      "image/png": "[encoded data removed]",
      "text/plain": [
       "<Figure size 432x288 with 1 Axes>"
      ]
     },
     "metadata": {
      "needs_background": "light"
     },
     "output_type": "display_data"
    }
   ],
   "source": [
    "# Let us start with plotting all datapoints for maize\n",
    "avg_value = np.mean(dataset['Average Yield(Kg/Ha)']) # 3331 kg/ha\n",
    "median_value = np.median(dataset['Average Yield(Kg/Ha)']) # 3208 kg/ha  \n",
    "\n",
    "plt.hist(dataset['Average Yield(Kg/Ha)'], bins = 40)\n",
    "plt.title('Maize yield observations')\n",
    "plt.xlabel('Average Yield(Kg/Ha)')\n",
    "plt.ylabel('Amount')\n",
    "plt.show()"
   ]
  },
  {
   "cell_type": "code",
   "execution_count": 6,
   "metadata": {},
   "outputs": [
    {
     "name": "stderr",
     "output_type": "stream",
     "text": [
      "\n",
      "A value is trying to be set on a copy of a slice from a DataFrame.\n",
      "Try using .loc[row_indexer,col_indexer] = value instead\n",
      "\n",
      "See the caveats in the documentation: https://pandas.pydata.org/pandas-docs/stable/user_guide/indexing.html#returning-a-view-versus-a-copy\n"
     ]
    }
   ],
   "source": [
    "data['Year'] = pd.to_datetime(data['Year'], format = '%Y') # Change Year column to datetime type\n",
    "# NOTE: This dataset is already sorted wrt time, i.e., year 2016-2017-2018 and rabi-summer-kharif"
   ]
  },
  {
   "cell_type": "code",
   "execution_count": 7,
   "metadata": {},
   "outputs": [
    {
     "name": "stdout",
     "output_type": "stream",
     "text": [
      "Length training and test data, respectively: 4412 1918\n"
     ]
    }
   ],
   "source": [
    "train = data[data['Year']<'2018'].reset_index() # For now, we use 2016-2017 as training data\n",
    "test = data[data['Year']>='2018'].reset_index() # For now, we use 2018 as test data\n",
    "print('Length training and test data, respectively:', len(train), len(test))"
   ]
  },
  {
   "cell_type": "code",
   "execution_count": 8,
   "metadata": {},
   "outputs": [],
   "source": [
    "data.columns # Shows all features within my dataframe\n",
    "feature_list = ['NDVI_avg', 'NDVI_max', 'EVI_avg', 'EVI_max', 'FAPAR_avg', 'FAPAR_max', 'LAI_avg', 'LAI_max', 'SIF_avg', 'SIF_max', 'SSM_med', 'SSM_max', 'SUSM_med', 'SUSM_max', 'LST_med', 'LST_max', 'LSTN_med', 'LSTN_max', 'Prec_acc', 'Prec_non', 'Irrigated', 'Kharif', 'Soil_I', 'Soil_Vp', 'Soil_WR', 'Soil_Bv', 'Soil_Ne', 'Soil_Vc', 'Soil_Ap', 'Soil_Lc']"
   ]
  },
  {
   "cell_type": "code",
   "execution_count": 9,
   "metadata": {},
   "outputs": [
    {
     "name": "stdout",
     "output_type": "stream",
     "text": [
      "Fitting 4 folds for each of 1000 candidates, totalling 4000 fits\n"
     ]
    },
    {
     "data": {
      "text/plain": [
       "{'n_estimators': 600,\n",
       " 'min_samples_split': 5,\n",
       " 'min_samples_leaf': 1,\n",
       " 'max_features': 10,\n",
       " 'max_depth': 12,\n",
       " 'bootstrap': True}"
      ]
     },
     "execution_count": 9,
     "metadata": {},
     "output_type": "execute_result"
    }
   ],
   "source": [
    "#Set Random Forest Regression Model\n",
    "rf = RandomForestRegressor()\n",
    "\n",
    "# Number of trees in random forest\n",
    "n_estimators = np.arange(200, 2000, 200).tolist()\n",
    "# Number of features to consider at every split\n",
    "max_features = ['auto', int(len(feature_list)/3)]\n",
    "# Maximum number of levels in tree\n",
    "max_depth = np.arange(10, 40, 2).tolist()\n",
    "max_depth.append(None)\n",
    "# Minimum number of samples required to split a node\n",
    "min_samples_split = [5, 10, 15, 20, 25]\n",
    "# Minimum number of samples required at each leaf node\n",
    "min_samples_leaf = [1, 2, 3, 4]\n",
    "# Method of selecting samples for training each tree\n",
    "bootstrap = [True, False]\n",
    "# Set number of folds\n",
    "k = 4\n",
    "\n",
    "#Time Series Cross Validation \n",
    "btscv = functions_model.BlockingTimeSeriesSplit(n_splits=k)\n",
    "\n",
    "# Create the random grid\n",
    "random_grid = {'n_estimators': n_estimators,\n",
    "               'max_features': max_features,\n",
    "               'max_depth': max_depth,\n",
    "               'min_samples_split': min_samples_split,\n",
    "               'min_samples_leaf': min_samples_leaf,\n",
    "               'bootstrap': bootstrap}\n",
    "\n",
    "\n",
    "rf_random = RandomizedSearchCV(estimator = rf, param_distributions = random_grid, n_iter = 1000, cv = btscv, verbose=2, n_jobs = -1)\n",
    "# Fit the random search model\n",
    "rf_random.fit(train[feature_list], train['Average Yield(Kg/Ha)'])\n",
    "\n",
    "rf_random.best_params_\n",
    "\n",
    "# OUTCOMES\n",
    "# {'n_estimators': 600,\n",
    "#  'min_samples_split': 5,\n",
    "#  'min_samples_leaf': 1,\n",
    "#  'max_features': 10,\n",
    "#  'max_depth': 12,\n",
    "#  'bootstrap': True}"
   ]
  },
  {
   "cell_type": "code",
   "execution_count": 10,
   "metadata": {},
   "outputs": [
    {
     "name": "stdout",
     "output_type": "stream",
     "text": [
      "Fitting 4 folds for each of 1800 candidates, totalling 7200 fits\n"
     ]
    },
    {
     "name": "stderr",
     "output_type": "stream",
     "text": [
      "A worker stopped while some jobs were given to the executor. This can be caused by a too short worker timeout or by a memory leak.\n"
     ]
    },
    {
     "name": "stdout",
     "output_type": "stream",
     "text": [
      "{'bootstrap': True, 'max_depth': 13, 'max_features': 10, 'min_samples_leaf': 1, 'min_samples_split': 5, 'n_estimators': 460}\n"
     ]
    }
   ],
   "source": [
    "# Create the parameter grid based on the results of random search (see last comment)\n",
    "param_grid = {\n",
    "    'n_estimators': np.arange(400, 800, 20).tolist(),\n",
    "    'min_samples_split': [3,4,5,6,7,8],\n",
    "    'min_samples_leaf': [1,2,3],\n",
    "    'max_features': [int(len(feature_list)/3)],\n",
    "    'max_depth': [10, 11, 12, 13, 14], \n",
    "    'bootstrap': [True], \n",
    "}\n",
    "\n",
    "# Create a based model\n",
    "rf = RandomForestRegressor()\n",
    "# Instantiate the grid search model\n",
    "grid_search = GridSearchCV(estimator = rf, param_grid = param_grid, cv = btscv, n_jobs = -1, verbose = 2)\n",
    "\n",
    "# Fit the grid search to the data\n",
    "grid_search.fit(train[feature_list], train['Average Yield(Kg/Ha)'])\n",
    "\n",
    "hyperparameters = grid_search.best_params_\n",
    "\n",
    "print(hyperparameters)\n",
    "# {'bootstrap': True, 'max_depth': 13, 'max_features': 10, 'min_samples_leaf': 1, 'min_samples_split': 5, 'n_estimators': 460}"
   ]
  },
  {
   "cell_type": "code",
   "execution_count": 11,
   "metadata": {},
   "outputs": [],
   "source": [
    "# Set parameters for the Random Forest Regression based on the outcomes from the Grid Search\n",
    "max_depth_ = hyperparameters['max_depth']\n",
    "bootstrap_ = hyperparameters['bootstrap']\n",
    "n_estimators_ = hyperparameters['n_estimators']\n",
    "max_features_ = hyperparameters['max_features']\n",
    "min_samples_leaf_ = hyperparameters['min_samples_leaf']\n",
    "min_samples_split_ = hyperparameters['min_samples_split']\n",
    "k_fold = k"
   ]
  },
  {
   "cell_type": "code",
   "execution_count": 17,
   "metadata": {},
   "outputs": [
    {
     "name": "stdout",
     "output_type": "stream",
     "text": [
      "1\n",
      "2\n",
      "3\n",
      "4\n",
      "5\n",
      "6\n",
      "7\n",
      "8\n",
      "9\n",
      "10\n",
      "11\n",
      "12\n",
      "13\n"
     ]
    }
   ],
   "source": [
    "for md in range(1,max_depth_+1):\n",
    "    print(md)\n",
    "#max_depth_"
   ]
  },
  {
   "cell_type": "code",
   "execution_count": 20,
   "metadata": {},
   "outputs": [
    {
     "name": "stdout",
     "output_type": "stream",
     "text": [
      "1  done.\n",
      "2  done.\n",
      "3  done.\n",
      "4  done.\n",
      "5  done.\n",
      "6  done.\n",
      "7  done.\n",
      "8  done.\n",
      "9  done.\n",
      "10  done.\n",
      "11  done.\n",
      "12  done.\n",
      "13  done.\n",
      "14  done.\n",
      "15  done.\n",
      "16  done.\n"
     ]
    }
   ],
   "source": [
    "#Investigate every subset of explanatory variables\n",
    "parameter_scores = []\n",
    "i=0\n",
    "for features_com in functions_model.subsets(feature_list):\n",
    "    for md in [5,8,9,10,11,12,max_depth_]:\n",
    "        for n_est in [n_estimators_, 1300]:\n",
    "\n",
    "            array_X = np.array(data[features_com])\n",
    "            array_Y = np.array(data['Average Yield(Kg/Ha)'])\n",
    "\n",
    "            cv = functions_model.BlockingTimeSeriesSplit(n_splits = k_fold)\n",
    "\n",
    "            for train_index, test_index in cv.split(array_X):\n",
    "                MAE_folds = []\n",
    "                EF_folds = []\n",
    "                R2_folds = []\n",
    "                RMSE_folds = []\n",
    "                MAPE_folds =[]\n",
    "                accuracy_folds = []\n",
    "                \n",
    "                #print('TRAIN:', train_index, 'TEST', test_index) \n",
    "                x_train, x_test = array_X[train_index], array_X[test_index]\n",
    "                y_train, y_test = array_Y[train_index], array_Y[test_index]\n",
    "\n",
    "                max_features_optimal = int(len(features_com)/3)\n",
    "                if max_features_optimal == 0:\n",
    "                    max_features_optimal = 1\n",
    "\n",
    "                clf = RandomForestRegressor(n_estimators = n_est, max_depth = md, bootstrap = bootstrap_, max_features = max_features_, min_samples_leaf = min_samples_leaf_, min_samples_split = min_samples_split_)\n",
    "\n",
    "                #Fit to the training data\n",
    "                clf.fit(x_train, y_train)\n",
    "\n",
    "                #Make a prediction on the test data\n",
    "                predictions = clf.predict(x_test)\n",
    "\n",
    "                #Calculate mean absolute error\n",
    "                MAE_folds.append(mean_absolute_error(y_test, predictions))\n",
    "            \n",
    "                #MAPE\n",
    "                errors = abs(predictions - y_test)\n",
    "                mape = 100 * (errors / y_test)\n",
    "\n",
    "                # Calculate and display accuracy\n",
    "                accuracy_folds.append(100 - np.mean(mape))\n",
    "\n",
    "                #RMSE\n",
    "                MSE_folds = np.square(np.subtract(y_test, predictions)).mean() # mean_squared_error(y_test, predictions)\n",
    "                RMSE_folds.append(math.sqrt(MSE_folds)) # math.sqrt(mean_squared_error(y_test, predictions))\n",
    "\n",
    "                #R2\n",
    "                R2_folds.append(r2_score(y_test, predictions))\n",
    "\n",
    "                # EF\n",
    "                EF_folds.append(1 - sum(np.square(y_test - predictions)) / sum(np.square(y_test - np.mean(y_test))))\n",
    "            \n",
    "\n",
    "            EF = sum(EF_folds)/len(EF_folds)\n",
    "            MAE = sum(MAE_folds)/len(MAE_folds)\n",
    "            RMSE = sum(RMSE_folds)/len(RMSE_folds)\n",
    "            R2 = sum(R2_folds)/len(R2_folds)\n",
    "            Accuracy = sum(accuracy_folds)/len(accuracy_folds)\n",
    "            parameter_scores.append((MAE, RMSE, EF, R2, Accuracy, md, n_est, features_com))\n",
    "    i += 1        \n",
    "    print(i, ' done.')        "
   ]
  }
 ],
 "metadata": {
  "kernelspec": {
   "display_name": "Python 3.10.4 ('thesis_base')",
   "language": "python",
   "name": "python3"
  },
  "language_info": {
   "codemirror_mode": {
    "name": "ipython",
    "version": 3
   },
   "file_extension": ".py",
   "mimetype": "text/x-python",
   "name": "python",
   "nbconvert_exporter": "python",
   "pygments_lexer": "ipython3",
   "version": "3.10.4"
  },
  "orig_nbformat": 4,
  "vscode": {
   "interpreter": {
    "hash": "734205a0c94b5e97d2e885f269ea6bd400da4ba9a6c87b08a93b97fdaab1acc8"
   }
  }
 },
 "nbformat": 4,
 "nbformat_minor": 2
}
