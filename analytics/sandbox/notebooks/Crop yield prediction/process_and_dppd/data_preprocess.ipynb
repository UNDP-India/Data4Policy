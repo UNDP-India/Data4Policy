{
 "cells": [
  {
   "cell_type": "code",
   "execution_count": 2,
   "metadata": {},
   "outputs": [],
   "source": [
    "# Import packages\n",
    "import sys \n",
    "import os\n",
    "sys.path.append(os.path.abspath(\"C:/Users/mieke/Documents/Msc Thesis/GitHub repositories/dicra/analytics/sandbox/notebooks/crop_yield_prediction/functions\"))\n",
    "import functions_time_series #import python file containing the functions\n",
    "import functions_preprocessing #import python file containing the functions\n",
    "import pandas as pd\n",
    "import geopandas as gpd\n",
    "import matplotlib.pyplot as plt\n",
    "import rasterio\n",
    "from statsmodels.tsa.seasonal import STL\n",
    "import numpy as np\n",
    "from sklearn.linear_model import LinearRegression\n",
    "import datetime as dt\n",
    "from matplotlib.colors import TwoSlopeNorm\n",
    "import time\n",
    "from rasterstats import zonal_stats\n",
    "from scipy.stats import pearsonr\n",
    "import plotly.express as px\n",
    "import rasterio.mask\n",
    "from osgeo import gdal\n",
    "import re"
   ]
  },
  {
   "cell_type": "code",
   "execution_count": 3,
   "metadata": {},
   "outputs": [
    {
     "data": {
      "text/plain": [
       "<module 'functions_preprocessing_adjust' from 'c:\\\\Users\\\\mieke\\\\Documents\\\\Msc Thesis\\\\Notebooks Python\\\\Others\\\\functions_preprocessing_adjust.py'>"
      ]
     },
     "execution_count": 3,
     "metadata": {},
     "output_type": "execute_result"
    }
   ],
   "source": [
    "# For updates\n",
    "import importlib\n",
    "importlib.reload(functions_time_series)\n",
    "importlib.reload(functions_preprocessing)"
   ]
  },
  {
   "cell_type": "code",
   "execution_count": 4,
   "metadata": {},
   "outputs": [],
   "source": [
    "# Import this file to derive the polygon geometry for Telangana\n",
    "bound_Telangana = gpd.read_file(r'C:\\Users\\mieke\\Documents\\Msc Thesis\\GitHub repositories\\dicra\\src\\data_preprocessing\\base_geojson\\TL_state_shapefile_for_clip.geojson')"
   ]
  },
  {
   "cell_type": "code",
   "execution_count": 5,
   "metadata": {},
   "outputs": [],
   "source": [
    "# Import district boundaries\n",
    "district_bounds = gpd.read_file('C:/Users/mieke/Documents/Msc Thesis/GitHub repositories/dicra/src/data_preprocessing/tsdm/District_Boundary.shp')\n",
    "district_bounds = district_bounds.reset_index()\n",
    "# Import mandal boundaries\n",
    "mandal_bounds = gpd.read_file('C:/Users/mieke/Documents/Msc Thesis/GitHub repositories/dicra/src/data_preprocessing/tsdm/Mandal_Boundary.shp')\n",
    "mandal_bounds = mandal_bounds.reset_index()"
   ]
  },
  {
   "cell_type": "markdown",
   "metadata": {},
   "source": [
    "## Rescale Images"
   ]
  },
  {
   "cell_type": "code",
   "execution_count": 6,
   "metadata": {},
   "outputs": [],
   "source": [
    "ndv = -9999"
   ]
  },
  {
   "cell_type": "code",
   "execution_count": 7,
   "metadata": {},
   "outputs": [],
   "source": [
    "# Specified values for rescaling\n",
    "offset = 0\n",
    "scaling = 1 / 30"
   ]
  },
  {
   "cell_type": "code",
   "execution_count": 8,
   "metadata": {},
   "outputs": [],
   "source": [
    "# For each of the LAI images, we crop the Geotiff file to Leaf Area Index in Telangana\n",
    "path = 'C:/Users/mieke/Documents/Data_download/Copernicus/LAI/original/'\n",
    "folder_names = os.listdir(path)\n",
    "for i in folder_names:\n",
    "    file_names = os.listdir(path + i)\n",
    "    for j in file_names:\n",
    "        LAI_data = path + i + \"/\" + j\n",
    "        functions_preprocessing.rescale_unstable(j, LAI_data, ndv, scaling, offset, 'C:/Users/mieke/Documents/Data_download/Copernicus/LAI/Telangana/img_rescaled/', 'LAI_', [0,4,4,6,6,8])"
   ]
  },
  {
   "cell_type": "code",
   "execution_count": 14,
   "metadata": {},
   "outputs": [],
   "source": [
    "# Specified values for rescaling SSM and SUSM\n",
    "offset = 0\n",
    "scaling = 1"
   ]
  },
  {
   "cell_type": "code",
   "execution_count": 11,
   "metadata": {},
   "outputs": [],
   "source": [
    "# For each of the LAI images, we crop the Geotiff file to Leaf Area Index in Telangana\n",
    "path = 'C:/Users/mieke/Documents/Data_download/GEE/SSM/GEE_tifs/'\n",
    "file_names = os.listdir(path)\n",
    "for j in file_names:\n",
    "    file_path = path + j\n",
    "    functions_preprocessing.rescale(j, file_path, ndv, scaling, offset, 'C:/Users/mieke/Documents/Data_download/GEE/SSM/Telangana/img_rescaled/', 'SSM_' + j[17:21] + '-' + j[21:23] + '-' + j[23:25] + '.tif')"
   ]
  },
  {
   "cell_type": "code",
   "execution_count": 15,
   "metadata": {},
   "outputs": [],
   "source": [
    "# For each of the LAI images, we crop the Geotiff file to Leaf Area Index in Telangana\n",
    "path = 'C:/Users/mieke/Documents/Data_download/GEE/SUSM/GEE_tifs/'\n",
    "file_names = os.listdir(path)\n",
    "for j in file_names:\n",
    "    file_path = path + j\n",
    "    functions_preprocessing.rescale(j, file_path, ndv, scaling, offset, 'C:/Users/mieke/Documents/Data_download/GEE/SUSM/Telangana/img_rescaled/', 'SUSM_' + j[17:21] + '-' + j[21:23] + '-' + j[23:25] + '.tif')"
   ]
  },
  {
   "cell_type": "code",
   "execution_count": 16,
   "metadata": {},
   "outputs": [],
   "source": [
    "# Specified values for rescaling NDVI\n",
    "offset = 0\n",
    "scaling = 0.0001"
   ]
  },
  {
   "cell_type": "code",
   "execution_count": 17,
   "metadata": {},
   "outputs": [],
   "source": [
    "# For each of the LAI images, we crop the Geotiff file to Leaf Area Index in Telangana\n",
    "path = 'C:/Users/mieke/Documents/Data_download/GEE/NDVI/GEE_tifs/'\n",
    "file_names = os.listdir(path)\n",
    "for j in file_names:\n",
    "    file_path = path + j\n",
    "    functions_preprocessing.rescale(j, file_path, ndv, scaling, offset, 'C:/Users/mieke/Documents/Data_download/GEE/NDVI/Telangana/img_rescaled/', 'NDVI_' + j[0:4] + '-' + j[5:7] + '-' + j[8:10] + '.tif')"
   ]
  },
  {
   "cell_type": "code",
   "execution_count": 18,
   "metadata": {},
   "outputs": [],
   "source": [
    "# Specified values for rescaling LST\n",
    "offset = -273.15\n",
    "scaling = 0.02"
   ]
  },
  {
   "cell_type": "code",
   "execution_count": 20,
   "metadata": {},
   "outputs": [],
   "source": [
    "# For each of the LAI images, we crop the Geotiff file to Leaf Area Index in Telangana\n",
    "path = 'C:/Users/mieke/Documents/Data_download/GEE/LST/GEE_tifs/'\n",
    "file_names = os.listdir(path)\n",
    "for j in file_names:\n",
    "    file_path = path + j\n",
    "    functions_preprocessing.rescale(j, file_path, ndv, scaling, offset, 'C:/Users/mieke/Documents/Data_download/GEE/LST/Telangana/img_rescaled/', 'LST_' + j[0:4] + '-' + j[5:7] + '-' + j[8:10] + '.tif')"
   ]
  },
  {
   "cell_type": "markdown",
   "metadata": {},
   "source": [
    "## Crop Images"
   ]
  },
  {
   "cell_type": "code",
   "execution_count": 12,
   "metadata": {},
   "outputs": [],
   "source": [
    "# For each of the LAI images, we rescale the Geotiff\n",
    "path = 'C:/Users/mieke/Documents/Data_download/Copernicus/LAI/Telangana/img_rescaled/'\n",
    "file_names = os.listdir(path) # contains all filenames\n",
    "for  j in file_names:\n",
    "    tiff_path = path + j # the selected GeoTIFF path\n",
    "    functions_preprocessing.crop_image(j, tiff_path, bound_Telangana, 'C:/Users/mieke/Documents/Data_download/Copernicus/LAI/Telangana/aoi_rescaled/')"
   ]
  },
  {
   "cell_type": "code",
   "execution_count": 13,
   "metadata": {},
   "outputs": [],
   "source": [
    "# For each of the LAI images, we rescale the Geotiff\n",
    "path = 'C:/Users/mieke/Documents/Data_download/GEE/SSM/Telangana/img_rescaled/'\n",
    "file_names = os.listdir(path) # contains all filenames\n",
    "for j in file_names:\n",
    "    tiff_path = path + j # the selected GeoTIFF path\n",
    "    functions_preprocessing.crop_image(j, tiff_path, bound_Telangana, 'C:/Users/mieke/Documents/Data_download/GEE/SSM/Telangana/aoi_rescaled/')"
   ]
  },
  {
   "cell_type": "code",
   "execution_count": 21,
   "metadata": {},
   "outputs": [],
   "source": [
    "# For each of the LAI images, we rescale the Geotiff\n",
    "path = 'C:/Users/mieke/Documents/Data_download/GEE/SUSM/Telangana/img_rescaled/'\n",
    "file_names = os.listdir(path) # contains all filenames\n",
    "for j in file_names:\n",
    "    tiff_path = path + j # the selected GeoTIFF path\n",
    "    functions_preprocessing.crop_image(j, tiff_path, bound_Telangana, 'C:/Users/mieke/Documents/Data_download/GEE/SUSM/Telangana/aoi_rescaled/')"
   ]
  },
  {
   "cell_type": "code",
   "execution_count": 22,
   "metadata": {},
   "outputs": [],
   "source": [
    "# For each of the LAI images, we rescale the Geotiff\n",
    "path = 'C:/Users/mieke/Documents/Data_download/GEE/NDVI/Telangana/img_rescaled/'\n",
    "file_names = os.listdir(path) # contains all filenames\n",
    "for j in file_names:\n",
    "    tiff_path = path + j # the selected GeoTIFF path\n",
    "    functions_preprocessing.crop_image(j, tiff_path, bound_Telangana, 'C:/Users/mieke/Documents/Data_download/GEE/NDVI/Telangana/aoi_rescaled/')"
   ]
  },
  {
   "cell_type": "code",
   "execution_count": 23,
   "metadata": {},
   "outputs": [],
   "source": [
    "# For each of the LAI images, we rescale the Geotiff\n",
    "path = 'C:/Users/mieke/Documents/Data_download/GEE/LST/Telangana/img_rescaled/'\n",
    "file_names = os.listdir(path) # contains all filenames\n",
    "for j in file_names:\n",
    "    tiff_path = path + j # the selected GeoTIFF path\n",
    "    functions_preprocessing.crop_image(j, tiff_path, bound_Telangana, 'C:/Users/mieke/Documents/Data_download/GEE/LST/Telangana/aoi_rescaled/')"
   ]
  },
  {
   "cell_type": "markdown",
   "metadata": {},
   "source": [
    "## We should run the following in the OSGeo4W Shell for Cloud Optimized GeoTIFs\n",
    "for %N in (C:/Users/mieke/Documents/Data_download/Copernicus/LAI/Telangana/aoi_rescaled/*.tif) DO gdal_translate C:/Users/mieke/Documents/Data_download/Copernicus/LAI/Telangana/aoi_rescaled/%~nN.tif  C:/Users/mieke/Documents/Data_download/Copernicus/LAI/Telangana/cog/%~nN.tif -co COMPRESS=LZW -co TILED=YES\n",
    "\n",
    "for %N in (C:/Users/mieke/Documents/Data_download/GEE/SSM/Telangana/aoi_rescaled/*.tif) DO gdal_translate C:/Users/mieke/Documents/Data_download/GEE/SSM/Telangana/aoi_rescaled/%~nN.tif  C:/Users/mieke/Documents/Data_download/GEE/SSM/Telangana/cog/%~nN.tif -co COMPRESS=LZW -co TILED=YES\n",
    "\n",
    "for %N in (C:/Users/mieke/Documents/Data_download/GEE/SUSM/Telangana/aoi_rescaled/*.tif) DO gdal_translate C:/Users/mieke/Documents/Data_download/GEE/SUSM/Telangana/aoi_rescaled/%~nN.tif  C:/Users/mieke/Documents/Data_download/GEE/SUSM/Telangana/cog/%~nN.tif -co COMPRESS=LZW -co TILED=YES\n",
    "\n",
    "for %N in (C:/Users/mieke/Documents/Data_download/GEE/NDVI/Telangana/aoi_rescaled/*.tif) DO gdal_translate C:/Users/mieke/Documents/Data_download/GEE/NDVI/Telangana/aoi_rescaled/%~nN.tif  C:/Users/mieke/Documents/Data_download/GEE/NDVI/Telangana/cog/%~nN.tif -co COMPRESS=LZW -co TILED=YES\n",
    "\n",
    "for %N in (C:/Users/mieke/Documents/Data_download/GEE/LST/Telangana/aoi_rescaled/*.tif) DO gdal_translate C:/Users/mieke/Documents/Data_download/GEE/LST/Telangana/aoi_rescaled/%~nN.tif  C:/Users/mieke/Documents/Data_download/GEE/LST/Telangana/cog/%~nN.tif -co COMPRESS=LZW -co TILED=YES"
   ]
  },
  {
   "cell_type": "code",
   "execution_count": null,
   "metadata": {},
   "outputs": [],
   "source": [
    "# Ambarish wants the layers in the format dd-mm-yyyy\n",
    "# We do this for every parameter. Note: Change the numbers as shown below such that we derive the correct format\n",
    "path = 'C:/Users/mieke/Documents/Ambarish/LST_cog/'\n",
    "file_names = os.listdir(path)\n",
    "for i in file_names:\n",
    "    os.rename(path + i, path + i[12:14] + '-' + i[9:11] + '-' + i[4:8] + '.tif')\n",
    "\n",
    "# i[12:14] + '-' + i[9:11] + '-' + i[4:8] LAI, SSM, LST\n",
    "# i[13:15] + '-' + i[10:12] + '-' + i[5:9] SUSM, NDVI"
   ]
  },
  {
   "cell_type": "markdown",
   "metadata": {},
   "source": [
    "## Below, we can check whether the nodatavalue is changed correctly"
   ]
  },
  {
   "cell_type": "code",
   "execution_count": null,
   "metadata": {},
   "outputs": [],
   "source": [
    "#data = r'C:\\Users\\mieke\\Documents\\Data_download\\Copernicus\\LAI\\Telangana\\aoi_rescaled\\LAI_2014-01-31.tif'\n",
    "#data = r'C:\\Users\\mieke\\Documents\\Data_download\\GEE\\SSM\\Telangana\\aoi_rescaled\\SSM_2015-04-14.tif'\n",
    "#data = r'C:\\Users\\mieke\\Documents\\Data_download\\GEE\\SUSM\\Telangana\\aoi_rescaled\\SUSM_2015-04-14.tif'\n",
    "#data = r'C:\\Users\\mieke\\Documents\\Data_download\\GEE\\NDVI\\Telangana\\aoi_rescaled\\NDVI_2000-03-05.tif'\n",
    "#data = r'C:\\Users\\mieke\\Documents\\Data_download\\GEE\\LST\\Telangana\\aoi_rescaled\\LST_2000-02-28.tif'\n",
    "parameter = rasterio.open(data, mode = 'r')\n",
    "\n",
    "# Assign raster values to a numpy nd array\n",
    "param_array = parameter.read(1) # landuse corresponding to each rasterpixel, so we extracted the pixel values from the raster\n",
    "# affine: 1: corresponds to the width of each pixel, 2: row rotation, 3: x-coordinate of the upper left pixel, 4: column rotation, 5: height of each pixel, 6: y-coordinate of the upper left pixel\n",
    "#affine = parameter.transform\n",
    "#print(parameter.meta)\n",
    "# Geographical coordinate reference system is used (4326)\n",
    "print(parameter.nodata) # value which has been assigned for the nodata"
   ]
  },
  {
   "cell_type": "code",
   "execution_count": 6,
   "metadata": {},
   "outputs": [
    {
     "name": "stdout",
     "output_type": "stream",
     "text": [
      "-9999.0\n"
     ]
    }
   ],
   "source": [
    "#data = r'C:\\Users\\mieke\\Documents\\Data_download\\Copernicus\\LAI\\Telangana\\aoi_rescaled\\LAI_2014-01-31.tif'\n",
    "#data = r'C:\\Users\\mieke\\Documents\\Data_download\\GEE\\SSM\\Telangana\\aoi_rescaled\\SSM_2015-04-14.tif'\n",
    "#data = r'C:\\Users\\mieke\\Documents\\Data_download\\GEE\\SUSM\\Telangana\\aoi_rescaled\\SUSM_2015-04-14.tif'\n",
    "#data = r'C:\\Users\\mieke\\Documents\\Data_download\\GEE\\NDVI\\Telangana\\aoi_rescaled\\NDVI_2000-03-05.tif'\n",
    "#data = r'C:\\Users\\mieke\\Documents\\Data_download\\GEE\\LST\\Telangana\\aoi_rescaled\\LST_2000-02-28.tif'\n",
    "\n",
    "tiff_open = gdal.Open(data) # open the GeoTIFF we want to rescale\n",
    "band = tiff_open.GetRasterBand(1) # Select the band\n",
    "tiff_array = tiff_open.ReadAsArray() # Assign raster values to a numpy nd array\n",
    "#tiff_open.GetRasterBand(1).SetNoDataValue(-9999)\n",
    "nodata_value = tiff_open.GetRasterBand(1).GetNoDataValue() # value which has been assigned for the nodata\n",
    "print(nodata_value)"
   ]
  }
 ],
 "metadata": {
  "kernelspec": {
   "display_name": "Python 3.10.4 ('thesis_base')",
   "language": "python",
   "name": "python3"
  },
  "language_info": {
   "codemirror_mode": {
    "name": "ipython",
    "version": 3
   },
   "file_extension": ".py",
   "mimetype": "text/x-python",
   "name": "python",
   "nbconvert_exporter": "python",
   "pygments_lexer": "ipython3",
   "version": "3.10.4"
  },
  "orig_nbformat": 4,
  "vscode": {
   "interpreter": {
    "hash": "734205a0c94b5e97d2e885f269ea6bd400da4ba9a6c87b08a93b97fdaab1acc8"
   }
  }
 },
 "nbformat": 4,
 "nbformat_minor": 2
}
