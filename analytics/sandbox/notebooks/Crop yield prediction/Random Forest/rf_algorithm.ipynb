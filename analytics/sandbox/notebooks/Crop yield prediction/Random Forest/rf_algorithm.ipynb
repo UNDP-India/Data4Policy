{
 "cells": [
  {
   "cell_type": "code",
   "execution_count": 1,
   "metadata": {},
   "outputs": [],
   "source": [
    "# Importing the libraries\n",
    "import numpy as np # for array operations\n",
    "import pandas as pd # for working with DataFrames\n",
    "import geopandas as gpd\n",
    "import requests, io # for HTTP requests and I/O commands\n",
    "import matplotlib.pyplot as plt # for data visualization\n",
    "%matplotlib inline\n",
    "\n",
    "# scikit-learn modules\n",
    "from sklearn.model_selection import train_test_split # for splitting the data\n",
    "from sklearn.metrics import mean_squared_error # for calculating the cost function\n",
    "from sklearn.ensemble import RandomForestRegressor # for building the model"
   ]
  },
  {
   "cell_type": "code",
   "execution_count": 2,
   "metadata": {},
   "outputs": [
    {
     "data": {
      "text/html": [
       "<div>\n",
       "<style scoped>\n",
       "    .dataframe tbody tr th:only-of-type {\n",
       "        vertical-align: middle;\n",
       "    }\n",
       "\n",
       "    .dataframe tbody tr th {\n",
       "        vertical-align: top;\n",
       "    }\n",
       "\n",
       "    .dataframe thead th {\n",
       "        text-align: right;\n",
       "    }\n",
       "</style>\n",
       "<table border=\"1\" class=\"dataframe\">\n",
       "  <thead>\n",
       "    <tr style=\"text-align: right;\">\n",
       "      <th></th>\n",
       "      <th>Year</th>\n",
       "      <th>Season</th>\n",
       "      <th>Insurance Unit</th>\n",
       "      <th>Gram Panchayat/Hobli</th>\n",
       "      <th>District</th>\n",
       "      <th>Taluk</th>\n",
       "      <th>Crop</th>\n",
       "      <th>IRR_RF</th>\n",
       "      <th>Average Yield(Kg/Ha)</th>\n",
       "      <th>Previous Average Yield(Kg/Ha)</th>\n",
       "      <th>...</th>\n",
       "      <th>SSM_sow</th>\n",
       "      <th>SSM_between</th>\n",
       "      <th>SSM_harvest</th>\n",
       "      <th>LST_sow</th>\n",
       "      <th>LST_between</th>\n",
       "      <th>LST_harvest</th>\n",
       "      <th>max_LST_sow</th>\n",
       "      <th>max_LST_between</th>\n",
       "      <th>max_LST_harvest</th>\n",
       "      <th>geometry</th>\n",
       "    </tr>\n",
       "  </thead>\n",
       "  <tbody>\n",
       "    <tr>\n",
       "      <th>0</th>\n",
       "      <td>2017</td>\n",
       "      <td>Kharif</td>\n",
       "      <td>114. danapura</td>\n",
       "      <td>gp</td>\n",
       "      <td>ballari</td>\n",
       "      <td>hosapete</td>\n",
       "      <td>paddy</td>\n",
       "      <td>irr</td>\n",
       "      <td>5545.670</td>\n",
       "      <td>NaN</td>\n",
       "      <td>...</td>\n",
       "      <td>3.586822</td>\n",
       "      <td>6.009483</td>\n",
       "      <td>14.166774</td>\n",
       "      <td>42.298838</td>\n",
       "      <td>NaN</td>\n",
       "      <td>30.052126</td>\n",
       "      <td>45.416668</td>\n",
       "      <td>NaN</td>\n",
       "      <td>32.234375</td>\n",
       "      <td>POLYGON ((76.71971 15.44185, 76.71971 15.44178...</td>\n",
       "    </tr>\n",
       "    <tr>\n",
       "      <th>1</th>\n",
       "      <td>2018</td>\n",
       "      <td>Kharif</td>\n",
       "      <td>114. danapura</td>\n",
       "      <td>gp</td>\n",
       "      <td>ballari</td>\n",
       "      <td>hosapete</td>\n",
       "      <td>paddy</td>\n",
       "      <td>irr</td>\n",
       "      <td>6568.498</td>\n",
       "      <td>5545.67</td>\n",
       "      <td>...</td>\n",
       "      <td>4.271417</td>\n",
       "      <td>11.246229</td>\n",
       "      <td>12.388197</td>\n",
       "      <td>34.745437</td>\n",
       "      <td>26.941840</td>\n",
       "      <td>28.703179</td>\n",
       "      <td>37.708332</td>\n",
       "      <td>28.56250</td>\n",
       "      <td>30.614286</td>\n",
       "      <td>POLYGON ((76.71971 15.44185, 76.71971 15.44178...</td>\n",
       "    </tr>\n",
       "    <tr>\n",
       "      <th>2</th>\n",
       "      <td>2016</td>\n",
       "      <td>Kharif</td>\n",
       "      <td>34 nekkilady</td>\n",
       "      <td>gp</td>\n",
       "      <td>dakshina_kannada</td>\n",
       "      <td>puttur</td>\n",
       "      <td>paddy</td>\n",
       "      <td>rf</td>\n",
       "      <td>4571.730</td>\n",
       "      <td>NaN</td>\n",
       "      <td>...</td>\n",
       "      <td>24.618298</td>\n",
       "      <td>25.066746</td>\n",
       "      <td>22.127859</td>\n",
       "      <td>29.937500</td>\n",
       "      <td>NaN</td>\n",
       "      <td>30.073175</td>\n",
       "      <td>30.062500</td>\n",
       "      <td>NaN</td>\n",
       "      <td>30.184896</td>\n",
       "      <td>POLYGON ((75.22906 12.83831, 75.22912 12.83833...</td>\n",
       "    </tr>\n",
       "    <tr>\n",
       "      <th>3</th>\n",
       "      <td>2016</td>\n",
       "      <td>Kharif</td>\n",
       "      <td>38 kalathur</td>\n",
       "      <td>gp</td>\n",
       "      <td>udupi</td>\n",
       "      <td>udupi</td>\n",
       "      <td>paddy</td>\n",
       "      <td>rf</td>\n",
       "      <td>3855.780</td>\n",
       "      <td>NaN</td>\n",
       "      <td>...</td>\n",
       "      <td>23.172031</td>\n",
       "      <td>24.921982</td>\n",
       "      <td>21.779053</td>\n",
       "      <td>30.214286</td>\n",
       "      <td>25.130208</td>\n",
       "      <td>30.162149</td>\n",
       "      <td>30.562500</td>\n",
       "      <td>27.90625</td>\n",
       "      <td>31.114584</td>\n",
       "      <td>POLYGON ((74.95270 13.45764, 74.95274 13.45742...</td>\n",
       "    </tr>\n",
       "    <tr>\n",
       "      <th>4</th>\n",
       "      <td>2017</td>\n",
       "      <td>Kharif</td>\n",
       "      <td>38 kalathur</td>\n",
       "      <td>gp</td>\n",
       "      <td>udupi</td>\n",
       "      <td>udupi</td>\n",
       "      <td>paddy</td>\n",
       "      <td>rf</td>\n",
       "      <td>3912.760</td>\n",
       "      <td>3855.78</td>\n",
       "      <td>...</td>\n",
       "      <td>24.008156</td>\n",
       "      <td>24.914917</td>\n",
       "      <td>23.961044</td>\n",
       "      <td>26.990809</td>\n",
       "      <td>NaN</td>\n",
       "      <td>30.206761</td>\n",
       "      <td>27.750000</td>\n",
       "      <td>NaN</td>\n",
       "      <td>31.427084</td>\n",
       "      <td>POLYGON ((74.95270 13.45764, 74.95274 13.45742...</td>\n",
       "    </tr>\n",
       "  </tbody>\n",
       "</table>\n",
       "<p>5 rows × 26 columns</p>\n",
       "</div>"
      ],
      "text/plain": [
       "   Year  Season Insurance Unit Gram Panchayat/Hobli          District  \\\n",
       "0  2017  Kharif  114. danapura                   gp           ballari   \n",
       "1  2018  Kharif  114. danapura                   gp           ballari   \n",
       "2  2016  Kharif   34 nekkilady                   gp  dakshina_kannada   \n",
       "3  2016  Kharif    38 kalathur                   gp             udupi   \n",
       "4  2017  Kharif    38 kalathur                   gp             udupi   \n",
       "\n",
       "      Taluk   Crop IRR_RF  Average Yield(Kg/Ha)  \\\n",
       "0  hosapete  paddy    irr              5545.670   \n",
       "1  hosapete  paddy    irr              6568.498   \n",
       "2    puttur  paddy     rf              4571.730   \n",
       "3     udupi  paddy     rf              3855.780   \n",
       "4     udupi  paddy     rf              3912.760   \n",
       "\n",
       "   Previous Average Yield(Kg/Ha)  ...    SSM_sow  SSM_between  SSM_harvest  \\\n",
       "0                            NaN  ...   3.586822     6.009483    14.166774   \n",
       "1                        5545.67  ...   4.271417    11.246229    12.388197   \n",
       "2                            NaN  ...  24.618298    25.066746    22.127859   \n",
       "3                            NaN  ...  23.172031    24.921982    21.779053   \n",
       "4                        3855.78  ...  24.008156    24.914917    23.961044   \n",
       "\n",
       "     LST_sow  LST_between  LST_harvest  max_LST_sow  max_LST_between  \\\n",
       "0  42.298838          NaN    30.052126    45.416668              NaN   \n",
       "1  34.745437    26.941840    28.703179    37.708332         28.56250   \n",
       "2  29.937500          NaN    30.073175    30.062500              NaN   \n",
       "3  30.214286    25.130208    30.162149    30.562500         27.90625   \n",
       "4  26.990809          NaN    30.206761    27.750000              NaN   \n",
       "\n",
       "   max_LST_harvest                                           geometry  \n",
       "0        32.234375  POLYGON ((76.71971 15.44185, 76.71971 15.44178...  \n",
       "1        30.614286  POLYGON ((76.71971 15.44185, 76.71971 15.44178...  \n",
       "2        30.184896  POLYGON ((75.22906 12.83831, 75.22912 12.83833...  \n",
       "3        31.114584  POLYGON ((74.95270 13.45764, 74.95274 13.45742...  \n",
       "4        31.427084  POLYGON ((74.95270 13.45764, 74.95274 13.45742...  \n",
       "\n",
       "[5 rows x 26 columns]"
      ]
     },
     "execution_count": 2,
     "metadata": {},
     "output_type": "execute_result"
    }
   ],
   "source": [
    "# Importing the data\n",
    "dataset = gpd.read_file(r'C:\\Users\\mieke\\Documents\\Msc Thesis\\Datasets\\Yield Data\\Karnataka\\rf_geodataframe1.geojson') \n",
    "dataset.head()"
   ]
  },
  {
   "cell_type": "code",
   "execution_count": 11,
   "metadata": {},
   "outputs": [],
   "source": [
    "#dataset['Previous Average Yield(Kg/Ha)'] = dataset['Previous Average Yield(Kg/Ha)'].fillna(dataset['Average Yield(Kg/Ha)'])\n",
    "dataset_copy = dataset.copy()\n",
    "dataset_copy.loc[(dataset_copy['Season'] == 'Summer'), 'Season'] = 0\n",
    "dataset_copy.loc[(dataset_copy['Season'] == 'Kharif'), 'Season'] = 1\n",
    "dataset_copy.loc[(dataset_copy['Season'] == 'Rabi'), 'Season'] = 2\n",
    "\n",
    "\n",
    "dataset_copy.loc[(dataset_copy['IRR_RF'] == 'irr'), 'IRR_RF'] = 0\n",
    "dataset_copy.loc[(dataset_copy['IRR_RF'] == 'rf'), 'IRR_RF'] = 1"
   ]
  },
  {
   "cell_type": "code",
   "execution_count": 12,
   "metadata": {},
   "outputs": [
    {
     "data": {
      "text/plain": [
       "Crop\n",
       "paddy                                                8939\n",
       "maize (makka)                                        7817\n",
       "sorghum (jowar/great millet)                         5657\n",
       "ragi                                                 4114\n",
       "bengal gram                                          3869\n",
       "pigeon pea (red gram/arhar/tur)                      3592\n",
       "groundnut                                            2948\n",
       "horse gram (kulthi/kultha)                           1733\n",
       "green gram (moong bean/ moong)                       1411\n",
       "wheat                                                1321\n",
       "pearl millet (bajra/bulrush millet/spiked millet)    1245\n",
       "sunflower                                            1193\n",
       "soybean (bhat)                                        999\n",
       "cotton                                                663\n",
       "onion                                                 654\n",
       "tomato                                                493\n",
       "sesame (gingelly/til)/sesamum                         421\n",
       "black gram (urd bean)                                 321\n",
       "sugarcane                                             217\n",
       "safflower                                             199\n",
       "potato                                                186\n",
       "cowpea/alasande                                       146\n",
       "navane                                                136\n",
       "red chillies                                          128\n",
       "avare/field bean                                      113\n",
       "turmeric                                               96\n",
       "save                                                   63\n",
       "tobacco                                                52\n",
       "french bean                                            47\n",
       "castor (rehri, rendi, arandi)                          42\n",
       "brinjal                                                37\n",
       "cabbage                                                26\n",
       "linseed                                                 8\n",
       "dtype: int64"
      ]
     },
     "execution_count": 12,
     "metadata": {},
     "output_type": "execute_result"
    }
   ],
   "source": [
    "unique_crop = sorted(dataset_copy['Crop'].unique()) # All possible crop types\n",
    "dataset_copy.groupby('Crop').size().sort_values(ascending=False) # Sort values based on group size"
   ]
  },
  {
   "cell_type": "code",
   "execution_count": 13,
   "metadata": {},
   "outputs": [
    {
     "data": {
      "text/plain": [
       "Index(['Year', 'Season', 'Insurance Unit', 'Gram Panchayat/Hobli', 'District',\n",
       "       'Taluk', 'Crop', 'IRR_RF', 'Average Yield(Kg/Ha)', 'LAI_sow',\n",
       "       'LAI_harvest', 'NDVI_sow', 'NDVI_harvest', 'SSM_sow', 'SSM_harvest',\n",
       "       'LST_sow', 'LST_harvest', 'max_LST_sow', 'max_LST_harvest', 'geometry',\n",
       "       'Area'],\n",
       "      dtype='object')"
      ]
     },
     "execution_count": 13,
     "metadata": {},
     "output_type": "execute_result"
    }
   ],
   "source": [
    "dataset_subset.columns"
   ]
  },
  {
   "cell_type": "code",
   "execution_count": 32,
   "metadata": {},
   "outputs": [
    {
     "name": "stdout",
     "output_type": "stream",
     "text": [
      "8939\n",
      "8100\n"
     ]
    }
   ],
   "source": [
    "# Select a subset of the dataframe related to the crop of interest\n",
    "dataset_subset = dataset_copy[dataset_copy['Crop'] == 'paddy'] # For now, we select paddy as this has most occurences\n",
    "print(len(dataset_subset))\n",
    "#dataset_subset = dataset_subset[dataset_subset['Average Yield(Kg/Ha)'] != 0] # drop data with an average yield of 0 (as this does not sound plausible)\n",
    "dataset_subset = dataset_subset.drop(['Previous Average Yield(Kg/Ha)', 'LAI_between', 'NDVI_between', 'SSM_between', 'LST_between', 'max_LST_between'], axis = 1)\n",
    "dataset_subset = dataset_subset.dropna(axis=0) # drop data with missing values in certain columns (RandomForestRegressor can not handle them)\n",
    "print(len(dataset_subset))\n",
    "# Use dataset.columns to check which columns to drop in order to select the correct features\n",
    "sqm_to_sqkm = 10**6\n",
    "dataset_subset['Area'] = dataset_subset.to_crs(epsg = 3857).geometry.area / sqm_to_sqkm\n",
    "x = dataset_subset.drop(['Insurance Unit', 'Gram Panchayat/Hobli', 'District', 'Taluk', 'Crop', 'geometry', 'Average Yield(Kg/Ha)'], axis = 1) # Features\n",
    "## OR\n",
    "#x = dataset_subset.drop(['Year', 'Insurance Unit', 'Gram Panchayat/Hobli', 'District', 'Taluk', 'Crop', 'geometry', 'Average Yield(Kg/Ha)'], axis = 1) # Features\n",
    "y = dataset_subset['Average Yield(Kg/Ha)']  # Target"
   ]
  },
  {
   "cell_type": "code",
   "execution_count": 38,
   "metadata": {},
   "outputs": [
    {
     "name": "stdout",
     "output_type": "stream",
     "text": [
      "8939\n",
      "8100\n"
     ]
    }
   ],
   "source": [
    "## FEATURE IMPORTANCE SELECTION\n",
    "# Select a subset of the dataframe related to the crop of interest\n",
    "dataset_subset = dataset_copy[dataset_copy['Crop'] == 'paddy'] # For now, we select paddy as this has most occurences\n",
    "print(len(dataset_subset))\n",
    "#dataset_subset = dataset_subset[dataset_subset['Average Yield(Kg/Ha)'] != 0] # drop data with an average yield of 0 (as this does not sound plausible)\n",
    "dataset_subset = dataset_subset.drop(['Previous Average Yield(Kg/Ha)', 'LAI_between', 'NDVI_between', 'SSM_between', 'LST_between', 'max_LST_between'], axis = 1)\n",
    "dataset_subset = dataset_subset.dropna(axis=0) # drop data with missing values in certain columns (RandomForestRegressor can not handle them)\n",
    "print(len(dataset_subset))\n",
    "# Use dataset.columns to check which columns to drop in order to select the correct features\n",
    "sqm_to_sqkm = 10**6\n",
    "dataset_subset['Area'] = dataset_subset.to_crs(epsg = 3857).geometry.area / sqm_to_sqkm\n",
    "x = dataset_subset.drop(['Insurance Unit', 'Gram Panchayat/Hobli', 'District', 'Taluk', 'Crop', 'geometry', 'Average Yield(Kg/Ha)', 'Season'], axis = 1) # Features\n",
    "## OR\n",
    "#x = dataset_subset.drop(['Year', 'Insurance Unit', 'Gram Panchayat/Hobli', 'District', 'Taluk', 'Crop', 'geometry', 'Average Yield(Kg/Ha)'], axis = 1) # Features\n",
    "y = dataset_subset['Average Yield(Kg/Ha)']  # Target"
   ]
  },
  {
   "cell_type": "code",
   "execution_count": 39,
   "metadata": {},
   "outputs": [],
   "source": [
    "# Splitting the dataset into training and testing set (80/20)\n",
    "# NOTE: random_state is set to an integer such that we use the same random seed each time we run this code\n",
    "x_train, x_test, y_train, y_test = train_test_split(x, y, test_size = 0.2, random_state = 0)"
   ]
  },
  {
   "cell_type": "code",
   "execution_count": 40,
   "metadata": {},
   "outputs": [
    {
     "data": {
      "text/html": [
       "<style>#sk-container-id-4 {color: black;background-color: white;}#sk-container-id-4 pre{padding: 0;}#sk-container-id-4 div.sk-toggleable {background-color: white;}#sk-container-id-4 label.sk-toggleable__label {cursor: pointer;display: block;width: 100%;margin-bottom: 0;padding: 0.3em;box-sizing: border-box;text-align: center;}#sk-container-id-4 label.sk-toggleable__label-arrow:before {content: \"▸\";float: left;margin-right: 0.25em;color: #696969;}#sk-container-id-4 label.sk-toggleable__label-arrow:hover:before {color: black;}#sk-container-id-4 div.sk-estimator:hover label.sk-toggleable__label-arrow:before {color: black;}#sk-container-id-4 div.sk-toggleable__content {max-height: 0;max-width: 0;overflow: hidden;text-align: left;background-color: #f0f8ff;}#sk-container-id-4 div.sk-toggleable__content pre {margin: 0.2em;color: black;border-radius: 0.25em;background-color: #f0f8ff;}#sk-container-id-4 input.sk-toggleable__control:checked~div.sk-toggleable__content {max-height: 200px;max-width: 100%;overflow: auto;}#sk-container-id-4 input.sk-toggleable__control:checked~label.sk-toggleable__label-arrow:before {content: \"▾\";}#sk-container-id-4 div.sk-estimator input.sk-toggleable__control:checked~label.sk-toggleable__label {background-color: #d4ebff;}#sk-container-id-4 div.sk-label input.sk-toggleable__control:checked~label.sk-toggleable__label {background-color: #d4ebff;}#sk-container-id-4 input.sk-hidden--visually {border: 0;clip: rect(1px 1px 1px 1px);clip: rect(1px, 1px, 1px, 1px);height: 1px;margin: -1px;overflow: hidden;padding: 0;position: absolute;width: 1px;}#sk-container-id-4 div.sk-estimator {font-family: monospace;background-color: #f0f8ff;border: 1px dotted black;border-radius: 0.25em;box-sizing: border-box;margin-bottom: 0.5em;}#sk-container-id-4 div.sk-estimator:hover {background-color: #d4ebff;}#sk-container-id-4 div.sk-parallel-item::after {content: \"\";width: 100%;border-bottom: 1px solid gray;flex-grow: 1;}#sk-container-id-4 div.sk-label:hover label.sk-toggleable__label {background-color: #d4ebff;}#sk-container-id-4 div.sk-serial::before {content: \"\";position: absolute;border-left: 1px solid gray;box-sizing: border-box;top: 0;bottom: 0;left: 50%;z-index: 0;}#sk-container-id-4 div.sk-serial {display: flex;flex-direction: column;align-items: center;background-color: white;padding-right: 0.2em;padding-left: 0.2em;position: relative;}#sk-container-id-4 div.sk-item {position: relative;z-index: 1;}#sk-container-id-4 div.sk-parallel {display: flex;align-items: stretch;justify-content: center;background-color: white;position: relative;}#sk-container-id-4 div.sk-item::before, #sk-container-id-4 div.sk-parallel-item::before {content: \"\";position: absolute;border-left: 1px solid gray;box-sizing: border-box;top: 0;bottom: 0;left: 50%;z-index: -1;}#sk-container-id-4 div.sk-parallel-item {display: flex;flex-direction: column;z-index: 1;position: relative;background-color: white;}#sk-container-id-4 div.sk-parallel-item:first-child::after {align-self: flex-end;width: 50%;}#sk-container-id-4 div.sk-parallel-item:last-child::after {align-self: flex-start;width: 50%;}#sk-container-id-4 div.sk-parallel-item:only-child::after {width: 0;}#sk-container-id-4 div.sk-dashed-wrapped {border: 1px dashed gray;margin: 0 0.4em 0.5em 0.4em;box-sizing: border-box;padding-bottom: 0.4em;background-color: white;}#sk-container-id-4 div.sk-label label {font-family: monospace;font-weight: bold;display: inline-block;line-height: 1.2em;}#sk-container-id-4 div.sk-label-container {text-align: center;}#sk-container-id-4 div.sk-container {/* jupyter's `normalize.less` sets `[hidden] { display: none; }` but bootstrap.min.css set `[hidden] { display: none !important; }` so we also need the `!important` here to be able to override the default hidden behavior on the sphinx rendered scikit-learn.org. See: https://github.com/scikit-learn/scikit-learn/issues/21755 */display: inline-block !important;position: relative;}#sk-container-id-4 div.sk-text-repr-fallback {display: none;}</style><div id=\"sk-container-id-4\" class=\"sk-top-container\"><div class=\"sk-text-repr-fallback\"><pre>RandomForestRegressor(n_estimators=1000, random_state=1)</pre><b>In a Jupyter environment, please rerun this cell to show the HTML representation or trust the notebook. <br />On GitHub, the HTML representation is unable to render, please try loading this page with nbviewer.org.</b></div><div class=\"sk-container\" hidden><div class=\"sk-item\"><div class=\"sk-estimator sk-toggleable\"><input class=\"sk-toggleable__control sk-hidden--visually\" id=\"sk-estimator-id-4\" type=\"checkbox\" checked><label for=\"sk-estimator-id-4\" class=\"sk-toggleable__label sk-toggleable__label-arrow\">RandomForestRegressor</label><div class=\"sk-toggleable__content\"><pre>RandomForestRegressor(n_estimators=1000, random_state=1)</pre></div></div></div></div></div>"
      ],
      "text/plain": [
       "RandomForestRegressor(n_estimators=1000, random_state=1)"
      ]
     },
     "execution_count": 40,
     "metadata": {},
     "output_type": "execute_result"
    }
   ],
   "source": [
    "# Initializing the Random Forest Regression model with n_estimators decision trees\n",
    "model = RandomForestRegressor(n_estimators = 1000, random_state = 1)\n",
    "\n",
    "# Fitting the Random Forest Regression model to the data\n",
    "model.fit(x_train, y_train)"
   ]
  },
  {
   "cell_type": "code",
   "execution_count": 41,
   "metadata": {},
   "outputs": [
    {
     "name": "stdout",
     "output_type": "stream",
     "text": [
      "Feature: 0, Score: 0.01236\n",
      "Feature: 1, Score: 0.03816\n",
      "Feature: 2, Score: 0.15926\n",
      "Feature: 3, Score: 0.08092\n",
      "Feature: 4, Score: 0.07027\n",
      "Feature: 5, Score: 0.07200\n",
      "Feature: 6, Score: 0.12817\n",
      "Feature: 7, Score: 0.08405\n",
      "Feature: 8, Score: 0.06220\n",
      "Feature: 9, Score: 0.06532\n",
      "Feature: 10, Score: 0.06590\n",
      "Feature: 11, Score: 0.07590\n",
      "Feature: 12, Score: 0.08547\n"
     ]
    }
   ],
   "source": [
    "from matplotlib import pyplot\n",
    "importance = model.feature_importances_ # feature importance\n",
    "# summarize feature importance\n",
    "for i,v in enumerate(importance):\n",
    "    print('Feature: %0d, Score: %.5f' % (i,v))\n"
   ]
  },
  {
   "cell_type": "code",
   "execution_count": 42,
   "metadata": {},
   "outputs": [
    {
     "data": {
      "text/plain": [
       "Index(['Year', 'IRR_RF', 'LAI_sow', 'LAI_harvest', 'NDVI_sow', 'NDVI_harvest',\n",
       "       'SSM_sow', 'SSM_harvest', 'LST_sow', 'LST_harvest', 'max_LST_sow',\n",
       "       'max_LST_harvest', 'Area'],\n",
       "      dtype='object')"
      ]
     },
     "execution_count": 42,
     "metadata": {},
     "output_type": "execute_result"
    }
   ],
   "source": [
    "x.columns\n",
    "#LAI_sow, SSM_sow, Area, SSM_harvest, max_LST_harvest\n",
    "#LAI_sow, SSM_sow, Area, SSM_harvest, max_LST_harvest "
   ]
  },
  {
   "cell_type": "code",
   "execution_count": 21,
   "metadata": {},
   "outputs": [
    {
     "data": {
      "image/png": "[encoded data removed]",
      "text/plain": [
       "<Figure size 432x288 with 1 Axes>"
      ]
     },
     "metadata": {
      "needs_background": "light"
     },
     "output_type": "display_data"
    }
   ],
   "source": [
    "# plot feature importance\n",
    "pyplot.bar([x for x in range(len(importance))], importance)\n",
    "pyplot.show()"
   ]
  },
  {
   "cell_type": "code",
   "execution_count": 24,
   "metadata": {},
   "outputs": [
    {
     "data": {
      "text/plain": [
       "array([0.01224872, 0.0014941 , 0.03816087, 0.15901606, 0.0809521 ,\n",
       "       0.07031797, 0.07198473, 0.12778483, 0.08399021, 0.06192581,\n",
       "       0.06518862, 0.0658829 , 0.07579776, 0.0852553 ])"
      ]
     },
     "execution_count": 24,
     "metadata": {},
     "output_type": "execute_result"
    }
   ],
   "source": [
    "len(x.columns) # LAI_sow, # SSM_sow, # SSM_harvest, # Area\n",
    "importance"
   ]
  },
  {
   "cell_type": "code",
   "execution_count": 53,
   "metadata": {},
   "outputs": [
    {
     "data": {
      "image/png": "[encoded data removed]",
      "text/plain": [
       "<Figure size 432x288 with 1 Axes>"
      ]
     },
     "metadata": {
      "needs_background": "light"
     },
     "output_type": "display_data"
    }
   ],
   "source": [
    "# Creating plot\n",
    "plt.boxplot(dataset_subset['Average Yield(Kg/Ha)'])\n",
    " \n",
    "# show plot\n",
    "plt.show()"
   ]
  },
  {
   "cell_type": "code",
   "execution_count": 62,
   "metadata": {},
   "outputs": [
    {
     "data": {
      "image/png": "[encoded data removed]",
      "text/plain": [
       "<Figure size 432x288 with 1 Axes>"
      ]
     },
     "metadata": {
      "needs_background": "light"
     },
     "output_type": "display_data"
    }
   ],
   "source": [
    "fifth_perc = np.percentile(dataset_subset['Average Yield(Kg/Ha)'], 5)\n",
    "nintyfifth_perc = np.percentile(dataset_subset['Average Yield(Kg/Ha)'], 95)\n",
    "outliers = [i for i in dataset_subset['Average Yield(Kg/Ha)'] if i > nintyfifth_perc or i < fifth_perc]\n",
    "no_outliers = [i for i in dataset_subset['Average Yield(Kg/Ha)'] if i not in outliers]\n",
    "# Creating plot\n",
    "plt.boxplot(no_outliers)\n",
    " \n",
    "# show plot\n",
    "plt.show()"
   ]
  },
  {
   "cell_type": "code",
   "execution_count": 56,
   "metadata": {},
   "outputs": [],
   "source": [
    "fifth_perc = np.percentile(dataset_subset['Average Yield(Kg/Ha)'], 5)\n",
    "nintyfifth_perc = np.percentile(dataset_subset['Average Yield(Kg/Ha)'], 95)\n",
    "#outliers = np.where(np.array(dataset_subset['Average Yield(Kg/Ha)']) > nintyfifth_perc or np.array(dataset_subset['Average Yield(Kg/Ha)']) < fifth_perc)\n",
    "#no_outliers = [i for i in dataset_subset['Average Yield(Kg/Ha)'] if i not in outliers]\n",
    "# Creating plot\n",
    "#plt.boxplot(no_outliers)\n",
    " \n",
    "# show plot\n",
    "#plt.show()\n",
    "import itertools\n",
    "outliers_tf = (dataset_subset['Average Yield(Kg/Ha)'] < nintyfifth_perc) & (dataset_subset['Average Yield(Kg/Ha)'] > fifth_perc)\n",
    "outliers = list(itertools.compress(dataset_subset['Average Yield(Kg/Ha)'], outliers_tf))"
   ]
  },
  {
   "cell_type": "code",
   "execution_count": 59,
   "metadata": {},
   "outputs": [
    {
     "data": {
      "text/plain": [
       "0       5545.670\n",
       "1       6568.498\n",
       "2       4571.730\n",
       "3       3855.780\n",
       "4       3912.760\n",
       "5       4070.883\n",
       "6       4895.740\n",
       "7       5223.190\n",
       "8       4756.020\n",
       "9       4540.920\n",
       "10      5058.368\n",
       "37      1946.760\n",
       "38      4518.690\n",
       "39      4518.690\n",
       "49      4653.850\n",
       "50      5011.640\n",
       "51      5372.665\n",
       "52     12708.360\n",
       "53      7065.950\n",
       "105     4239.360\n",
       "Name: Average Yield(Kg/Ha), dtype: float64"
      ]
     },
     "execution_count": 59,
     "metadata": {},
     "output_type": "execute_result"
    }
   ],
   "source": [
    "dataset_subset['Average Yield(Kg/Ha)'].head(20)"
   ]
  },
  {
   "cell_type": "code",
   "execution_count": 35,
   "metadata": {},
   "outputs": [
    {
     "name": "stdout",
     "output_type": "stream",
     "text": [
      "\n",
      "RMSE:  1333.534\n"
     ]
    }
   ],
   "source": [
    "# Predicting the target values of the test set\n",
    "y_pred = model.predict(x_test)\n",
    "\n",
    "# RMSE (Root Mean Square Error)\n",
    "rmse = float(format(np.sqrt(mean_squared_error(y_test, y_pred)), '.3f'))\n",
    "print(\"\\nRMSE: \", rmse)\n",
    "# 1333.534\n",
    "# 1334.37"
   ]
  },
  {
   "cell_type": "code",
   "execution_count": 61,
   "metadata": {},
   "outputs": [
    {
     "data": {
      "text/plain": [
       "0.31247795298884673"
      ]
     },
     "execution_count": 61,
     "metadata": {},
     "output_type": "execute_result"
    }
   ],
   "source": [
    "EF = 1 - sum(np.square(y_test - y_pred)) / sum(np.square(y_test - np.mean(y_test)))\n",
    "EF"
   ]
  },
  {
   "cell_type": "code",
   "execution_count": 60,
   "metadata": {},
   "outputs": [
    {
     "data": {
      "image/png": "[encoded data removed]",
      "text/plain": [
       "<Figure size 432x288 with 1 Axes>"
      ]
     },
     "metadata": {
      "needs_background": "light"
     },
     "output_type": "display_data"
    }
   ],
   "source": [
    "plt.scatter(y_test, y_pred)\n",
    "plt.title('True values vs predicted values')\n",
    "plt.xlabel('y_test')\n",
    "plt.ylabel('y_pred')\n",
    "plt.show()"
   ]
  },
  {
   "cell_type": "markdown",
   "metadata": {},
   "source": [
    "New Model"
   ]
  },
  {
   "cell_type": "code",
   "execution_count": null,
   "metadata": {},
   "outputs": [],
   "source": [
    "from sklearn.ensemble import HistGradientBoostingRegressor\n",
    "# Initializing the Random Forest Regression model with n_estimators decision trees\n",
    "model = HistGradientBoostingRegressor(max_iter = 1000, max_leaf_nodes=None)#n_estimators = 1000, random_state = 1)\n",
    "\n",
    "# Fitting the Random Forest Regression model to the data\n",
    "model.fit(x_train, y_train)"
   ]
  },
  {
   "cell_type": "code",
   "execution_count": null,
   "metadata": {},
   "outputs": [],
   "source": [
    "# Predicting the target values of the test set\n",
    "y_pred = model.predict(x_test)\n",
    "\n",
    "# RMSE (Root Mean Square Error)\n",
    "rmse = float(format(np.sqrt(mean_squared_error(y_test, y_pred)), '.3f'))\n",
    "print(\"\\nRMSE: \", rmse)"
   ]
  },
  {
   "cell_type": "code",
   "execution_count": null,
   "metadata": {},
   "outputs": [],
   "source": [
    "from sklearn.preprocessing import OneHotEncoder\n",
    "enc = OneHotEncoder(handle_unknown='ignore')\n",
    "enc.fit(np.array(dataset['Season']).reshape(-1, 1))"
   ]
  },
  {
   "cell_type": "code",
   "execution_count": null,
   "metadata": {},
   "outputs": [],
   "source": [
    "enc.categories_\n",
    "drop_enc = OneHotEncoder(drop='first').fit(np.array(dataset['Season']).reshape(-1, 1))\n",
    "drop_enc.categories_"
   ]
  },
  {
   "cell_type": "code",
   "execution_count": 53,
   "metadata": {},
   "outputs": [
    {
     "data": {
      "text/plain": [
       "Year                                                                          2018\n",
       "Season                                                                           1\n",
       "Insurance Unit                                                       114. danapura\n",
       "Gram Panchayat/Hobli                                                            gp\n",
       "District                                                                   ballari\n",
       "Taluk                                                                     hosapete\n",
       "Crop                                                                         paddy\n",
       "IRR_RF                                                                           0\n",
       "Average Yield(Kg/Ha)                                                      6568.498\n",
       "Previous Average Yield(Kg/Ha)                                              5545.67\n",
       "LAI_sow                                                                    0.62028\n",
       "LAI_between                                                               2.683362\n",
       "LAI_harvest                                                               3.263182\n",
       "NDVI_sow                                                                  0.600195\n",
       "NDVI_between                                                              0.814516\n",
       "NDVI_harvest                                                              0.759016\n",
       "SSM_sow                                                                   4.271417\n",
       "SSM_between                                                              11.246229\n",
       "SSM_harvest                                                              12.388197\n",
       "LST_sow                                                                  34.745437\n",
       "LST_between                                                               26.94184\n",
       "LST_harvest                                                              28.703179\n",
       "max_LST_sow                                                              37.708332\n",
       "max_LST_between                                                            28.5625\n",
       "max_LST_harvest                                                          30.614286\n",
       "geometry                         POLYGON ((76.71971396871895 15.441849169669132...\n",
       "Name: 1, dtype: object"
      ]
     },
     "execution_count": 53,
     "metadata": {},
     "output_type": "execute_result"
    }
   ],
   "source": [
    "dataset_subset.iloc[0,:]"
   ]
  }
 ],
 "metadata": {
  "kernelspec": {
   "display_name": "Python 3.10.4 ('thesis_base')",
   "language": "python",
   "name": "python3"
  },
  "language_info": {
   "codemirror_mode": {
    "name": "ipython",
    "version": 3
   },
   "file_extension": ".py",
   "mimetype": "text/x-python",
   "name": "python",
   "nbconvert_exporter": "python",
   "pygments_lexer": "ipython3",
   "version": "3.10.4"
  },
  "orig_nbformat": 4,
  "vscode": {
   "interpreter": {
    "hash": "734205a0c94b5e97d2e885f269ea6bd400da4ba9a6c87b08a93b97fdaab1acc8"
   }
  }
 },
 "nbformat": 4,
 "nbformat_minor": 2
}
