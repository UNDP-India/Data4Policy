{
 "cells": [
  {
   "cell_type": "markdown",
   "metadata": {},
   "source": [
    "# Relative Wealth Index\n",
    "\n",
    "The Relative Wealth Index (RWI) is a measure that aims to predict the relative standard of living within an area using privacy-protecting connectivity data, satellite imagery, and other novel data sources. It is important to note that the accuracy and reliability of any measure, including the RWI, depends on the quality and completeness of the data it is based on. It is also important to consider the limitations of any measure and to use it in conjunction with other information and data sources in order to get a more comprehensive understanding of a given situation or issue. "
   ]
  },
  {
   "cell_type": "markdown",
   "metadata": {},
   "source": [
    "### Importing required libraries"
   ]
  },
  {
   "cell_type": "code",
   "execution_count": 59,
   "metadata": {},
   "outputs": [
    {
     "name": "stdout",
     "output_type": "stream",
     "text": [
      "Requirement already satisfied: geopandas in c:\\users\\007sh\\desktop\\undp\\lib\\site-packages (0.11.1)"
     ]
    },
    {
     "name": "stderr",
     "output_type": "stream",
     "text": [
      "\n",
      "[notice] A new release of pip available: 22.3 -> 22.3.1\n",
      "[notice] To update, run: python.exe -m pip install --upgrade pip\n"
     ]
    },
    {
     "name": "stdout",
     "output_type": "stream",
     "text": [
      "\n",
      "Requirement already satisfied: pandas in c:\\users\\007sh\\desktop\\undp\\lib\\site-packages (1.4.3)\n",
      "Requirement already satisfied: rasterio in c:\\users\\007sh\\desktop\\undp\\lib\\site-packages (1.3.0)\n",
      "Requirement already satisfied: shapely in c:\\users\\007sh\\desktop\\undp\\lib\\site-packages (1.8.2)\n",
      "Requirement already satisfied: numpy in c:\\users\\007sh\\desktop\\undp\\lib\\site-packages (1.22.4)\n",
      "Collecting configparser\n",
      "  Using cached configparser-5.3.0-py3-none-any.whl (19 kB)\n",
      "Requirement already satisfied: rasterstats in c:\\users\\007sh\\desktop\\undp\\lib\\site-packages (0.17.0)\n",
      "Collecting openpyxl\n",
      "  Downloading openpyxl-3.0.10-py2.py3-none-any.whl (242 kB)\n",
      "     -------------------------------------- 242.1/242.1 kB 3.0 MB/s eta 0:00:00\n",
      "Requirement already satisfied: pyproj>=2.6.1.post1 in c:\\users\\007sh\\desktop\\undp\\lib\\site-packages (from geopandas) (3.3.1)\n",
      "Requirement already satisfied: packaging in c:\\users\\007sh\\desktop\\undp\\lib\\site-packages (from geopandas) (21.3)\n",
      "Requirement already satisfied: fiona>=1.8 in c:\\users\\007sh\\desktop\\undp\\lib\\site-packages (from geopandas) (1.8.21)\n",
      "Requirement already satisfied: python-dateutil>=2.8.1 in c:\\users\\007sh\\desktop\\undp\\lib\\site-packages (from pandas) (2.8.2)\n",
      "Requirement already satisfied: pytz>=2020.1 in c:\\users\\007sh\\desktop\\undp\\lib\\site-packages (from pandas) (2022.1)\n",
      "Requirement already satisfied: cligj>=0.5 in c:\\users\\007sh\\desktop\\undp\\lib\\site-packages (from rasterio) (0.7.2)\n",
      "Requirement already satisfied: snuggs>=1.4.1 in c:\\users\\007sh\\desktop\\undp\\lib\\site-packages (from rasterio) (1.4.7)\n",
      "Requirement already satisfied: setuptools in c:\\users\\007sh\\desktop\\undp\\lib\\site-packages (from rasterio) (65.5.0)\n",
      "Requirement already satisfied: affine in c:\\users\\007sh\\desktop\\undp\\lib\\site-packages (from rasterio) (2.3.1)\n",
      "Requirement already satisfied: attrs in c:\\users\\007sh\\desktop\\undp\\lib\\site-packages (from rasterio) (21.4.0)\n",
      "Requirement already satisfied: certifi in c:\\users\\007sh\\desktop\\undp\\lib\\site-packages (from rasterio) (2022.6.15)\n",
      "Requirement already satisfied: click>=4.0 in c:\\users\\007sh\\desktop\\undp\\lib\\site-packages (from rasterio) (8.1.3)\n",
      "Requirement already satisfied: click-plugins in c:\\users\\007sh\\desktop\\undp\\lib\\site-packages (from rasterio) (1.1.1)\n",
      "Requirement already satisfied: simplejson in c:\\users\\007sh\\desktop\\undp\\lib\\site-packages (from rasterstats) (3.17.6)\n",
      "Collecting et-xmlfile\n",
      "  Downloading et_xmlfile-1.1.0-py3-none-any.whl (4.7 kB)\n",
      "Requirement already satisfied: colorama in c:\\users\\007sh\\desktop\\undp\\lib\\site-packages (from click>=4.0->rasterio) (0.4.5)\n",
      "Requirement already satisfied: gdal~=3.4.3 in c:\\users\\007sh\\desktop\\undp\\lib\\site-packages (from fiona>=1.8->geopandas) (3.4.3)\n",
      "Requirement already satisfied: six>=1.7 in c:\\users\\007sh\\desktop\\undp\\lib\\site-packages (from fiona>=1.8->geopandas) (1.16.0)\n",
      "Requirement already satisfied: munch in c:\\users\\007sh\\desktop\\undp\\lib\\site-packages (from fiona>=1.8->geopandas) (2.5.0)\n",
      "Requirement already satisfied: pyparsing>=2.1.6 in c:\\users\\007sh\\desktop\\undp\\lib\\site-packages (from snuggs>=1.4.1->rasterio) (3.0.9)\n",
      "Installing collected packages: et-xmlfile, configparser, openpyxl\n",
      "Successfully installed configparser-5.3.0 et-xmlfile-1.1.0 openpyxl-3.0.10\n"
     ]
    }
   ],
   "source": [
    "import warnings\n",
    "warnings.filterwarnings('ignore')\n",
    "\n",
    "!pip install geopandas pandas rasterio shapely numpy configparser rasterstats openpyxl"
   ]
  },
  {
   "cell_type": "code",
   "execution_count": 60,
   "metadata": {},
   "outputs": [],
   "source": [
    "import geopandas as gpd\n",
    "import pandas as pd\n",
    "#import rasterio\n",
    "from rasterio import mask\n",
    "#import shapely\n",
    "from shapely.geometry import Polygon, Point, shape\n",
    "from shapely.ops import cascaded_union\n",
    "import shapely.speedups\n",
    "import numpy as np\n",
    "import json\n",
    "import configparser\n",
    "from pprint import pprint\n",
    "from rasterstats import zonal_stats,point_query\n",
    "\n",
    "shapely.speedups.enable()"
   ]
  },
  {
   "cell_type": "markdown",
   "metadata": {},
   "source": [
    "### Reading the data\n",
    "\n",
    "We read district boundaries of the state from district_boundary.json file, ind_pak_relative_wealth_index.csv contains relative wealth index data of the countries, and ind_ppp_2020_1km_Aggregated contains estimates of spatial distribution of population with 1km resolution.  \n",
    "\n",
    "**Source:** <br>\n",
    "Population estimates: https://data.humdata.org/dataset/eafac897-aa94-479d-9cc1-c7105f5d0aad/resource/581830b1-4989-47ab-ba6f-aadbef810575 <br>\n",
    "RWI: https://data.humdata.org/dataset/relative-wealth-index/resource/977923ab-c65a-4203-b216-e4b7483d56a5 "
   ]
  },
  {
   "cell_type": "code",
   "execution_count": 61,
   "metadata": {},
   "outputs": [
    {
     "data": {
      "text/plain": [
       "33"
      ]
     },
     "execution_count": 61,
     "metadata": {},
     "output_type": "execute_result"
    }
   ],
   "source": [
    "df_district_boundaries = gpd.read_file('../../../../src/data_preprocessing/base_geojson/TS_district_boundary.json')\n",
    "relative_wealth_data = pd.read_csv('data/ind_pak_relative_wealth_index.csv')\n",
    "df_district_boundaries['Dist_Name'].nunique()"
   ]
  },
  {
   "cell_type": "code",
   "execution_count": 62,
   "metadata": {},
   "outputs": [
    {
     "name": "stdout",
     "output_type": "stream",
     "text": [
      "No. of bands: 1\n",
      "Total population - Telangana (2020):  1.38 billion\n"
     ]
    }
   ],
   "source": [
    "india_worldpop_raster_2020 = rasterio.open('data/ind_ppp_2020_1km_Aggregated_UNadj.tif')\n",
    "print('No. of bands:',(india_worldpop_raster_2020.count))\n",
    "# Reading the first band, filtering negative raster values and visualise data with matplotlib\n",
    "india_worldpop_raster_2020_tot = india_worldpop_raster_2020.read(1)\n",
    "india_worldpop_raster_2020_tot[india_worldpop_raster_2020_tot<0] = None\n",
    "\n",
    "india_worldpop_raster_2020_nonzero = india_worldpop_raster_2020_tot[india_worldpop_raster_2020_tot>0]\n",
    "population_worldpop = india_worldpop_raster_2020_nonzero[india_worldpop_raster_2020_nonzero > 0].sum()\n",
    "print('Total population - Telangana (2020): ',round(population_worldpop/1000000000,2),'billion')"
   ]
  },
  {
   "cell_type": "markdown",
   "metadata": {},
   "source": [
    "#### Get Population function\n",
    "Function to get district wise population estimates using a mask layer to mask a district and taking it's aggregated sum."
   ]
  },
  {
   "cell_type": "code",
   "execution_count": 63,
   "metadata": {},
   "outputs": [],
   "source": [
    "def get_population_count(vector_polygon,raster_layer):\n",
    "    gtraster, bound = rasterio.mask.mask(raster_layer, [vector_polygon], crop=True)\n",
    "    pop_estimate = gtraster[0][gtraster[0]>0].sum()\n",
    "    return (pop_estimate.round(2))"
   ]
  },
  {
   "cell_type": "code",
   "execution_count": 64,
   "metadata": {},
   "outputs": [
    {
     "name": "stdout",
     "output_type": "stream",
     "text": [
      "CPU times: total: 46.9 ms\n",
      "Wall time: 98.1 ms\n"
     ]
    }
   ],
   "source": [
    "%%time\n",
    "# Calling the get_population_count function to get district wise populations. \n",
    "df_district_boundaries['population_count_wp'] = df_district_boundaries['geometry'].apply(get_population_count,raster_layer=india_worldpop_raster_2020)\n",
    "# Preparing the data by rounding off the values to make sure they are integers and then sorting the data frame by population\n",
    "district_population = df_district_boundaries.groupby(['Dist_Name'])['population_count_wp'].sum().round().reset_index().sort_values(by='population_count_wp')"
   ]
  },
  {
   "cell_type": "code",
   "execution_count": 65,
   "metadata": {},
   "outputs": [
    {
     "name": "stdout",
     "output_type": "stream",
     "text": [
      "CPU times: total: 17.8 s\n",
      "Wall time: 22.1 s\n"
     ]
    },
    {
     "data": {
      "text/html": [
       "<div>\n",
       "<style scoped>\n",
       "    .dataframe tbody tr th:only-of-type {\n",
       "        vertical-align: middle;\n",
       "    }\n",
       "\n",
       "    .dataframe tbody tr th {\n",
       "        vertical-align: top;\n",
       "    }\n",
       "\n",
       "    .dataframe thead th {\n",
       "        text-align: right;\n",
       "    }\n",
       "</style>\n",
       "<table border=\"1\" class=\"dataframe\">\n",
       "  <thead>\n",
       "    <tr style=\"text-align: right;\">\n",
       "      <th></th>\n",
       "      <th>latitude</th>\n",
       "      <th>longitude</th>\n",
       "      <th>rwi</th>\n",
       "      <th>error</th>\n",
       "      <th>geometry</th>\n",
       "    </tr>\n",
       "  </thead>\n",
       "  <tbody>\n",
       "    <tr>\n",
       "      <th>0</th>\n",
       "      <td>33.897776</td>\n",
       "      <td>70.037842</td>\n",
       "      <td>-0.074</td>\n",
       "      <td>0.624</td>\n",
       "      <td>POINT (70.03784 33.89778)</td>\n",
       "    </tr>\n",
       "    <tr>\n",
       "      <th>1</th>\n",
       "      <td>31.118794</td>\n",
       "      <td>66.807861</td>\n",
       "      <td>-0.569</td>\n",
       "      <td>0.368</td>\n",
       "      <td>POINT (66.80786 31.11879)</td>\n",
       "    </tr>\n",
       "  </tbody>\n",
       "</table>\n",
       "</div>"
      ],
      "text/plain": [
       "    latitude  longitude    rwi  error                   geometry\n",
       "0  33.897776  70.037842 -0.074  0.624  POINT (70.03784 33.89778)\n",
       "1  31.118794  66.807861 -0.569  0.368  POINT (66.80786 31.11879)"
      ]
     },
     "execution_count": 65,
     "metadata": {},
     "output_type": "execute_result"
    }
   ],
   "source": [
    "%%time\n",
    "# Function to convert dataframe into points\n",
    "def convert_Point(facebook_relative_wealth):\n",
    "    return Point(facebook_relative_wealth['longitude'],facebook_relative_wealth['latitude'])\n",
    "\n",
    "relative_wealth_data['geometry'] = relative_wealth_data[['latitude','longitude']].apply(convert_Point,axis=1)\n",
    "relative_wealth_data = gpd.GeoDataFrame(relative_wealth_data)\n",
    "relative_wealth_data.head(2)"
   ]
  },
  {
   "cell_type": "code",
   "execution_count": 66,
   "metadata": {},
   "outputs": [],
   "source": [
    "#Function to get mean values of RWI in a region.\n",
    "def get_rwi_mean(vector_polygon,vector_layer):\n",
    "    pip_mask = vector_layer.within(vector_polygon)\n",
    "    pip_data = vector_layer.loc[pip_mask]\n",
    "    mean_val = round(pip_data['rwi'].mean(),2)\n",
    "    return(mean_val)"
   ]
  },
  {
   "cell_type": "code",
   "execution_count": 67,
   "metadata": {},
   "outputs": [],
   "source": [
    "#Function to get median values of RWI in a region.\n",
    "def get_rwi_median(vector_polygon,vector_layer):\n",
    "    pip_mask = vector_layer.within(vector_polygon)\n",
    "    pip_data = vector_layer.loc[pip_mask]\n",
    "    mean_val = round(pip_data['rwi'].median(),2)\n",
    "    return(mean_val)"
   ]
  },
  {
   "cell_type": "code",
   "execution_count": 68,
   "metadata": {},
   "outputs": [],
   "source": [
    "#Add RWI mean of a district in the datframe.\n",
    "df_district_boundaries['rwi_mean'] = df_district_boundaries['geometry'].apply(get_rwi_mean,vector_layer=relative_wealth_data) \n",
    "district_average_rwi = df_district_boundaries.groupby(['Dist_Name'])['rwi_mean'].mean().reset_index().sort_values(by='rwi_mean')"
   ]
  },
  {
   "cell_type": "code",
   "execution_count": 70,
   "metadata": {},
   "outputs": [],
   "source": [
    "# Merge 2 data frames district_average_rwi containing mean RWI values of the district and district population containing population of that district\n",
    "df_combined = pd.merge(district_average_rwi,district_population,on=['Dist_Name'])\n",
    "#get weighted values of population and mean RWI\n",
    "df_combined['weighted'] = df_combined['population_count_wp']*df_combined['rwi_mean']\n",
    "#Sort the dataframe with highest weighted value\n",
    "df_combined.sort_values(by='weighted').to_excel('result/rwi_average.xlsx')"
   ]
  },
  {
   "cell_type": "code",
   "execution_count": 20,
   "metadata": {},
   "outputs": [],
   "source": [
    "df_district_boundaries['rwi_median'] = df_district_boundaries['geometry'].apply(get_rwi_median,vector_layer=relative_wealth_data)"
   ]
  },
  {
   "cell_type": "code",
   "execution_count": 21,
   "metadata": {},
   "outputs": [],
   "source": [
    "district_median_rwi = df_district_boundaries.groupby(['Dist_Name'])['rwi_median'].mean().reset_index().sort_values(by='rwi_median')\n",
    "\n"
   ]
  },
  {
   "cell_type": "code",
   "execution_count": 22,
   "metadata": {},
   "outputs": [],
   "source": [
    "df_combined = pd.merge(district_median_rwi,district_population,on=['Dist_Name'])"
   ]
  },
  {
   "cell_type": "code",
   "execution_count": 23,
   "metadata": {},
   "outputs": [],
   "source": [
    "df_combined['weighted'] = df_combined['population_count_wp']*df_combined['rwi_median']"
   ]
  },
  {
   "cell_type": "code",
   "execution_count": 24,
   "metadata": {},
   "outputs": [],
   "source": [
    "df_combined.sort_values(by='weighted').to_excel('result/rwi_median.xlsx')"
   ]
  },
  {
   "cell_type": "code",
   "execution_count": 25,
   "metadata": {},
   "outputs": [],
   "source": [
    "adm_name = gpd.read_file('../../../../src/data_preprocessing/base_geojson/TS_district_boundary.json')  #Mandal (an administrative boundary) Shapefile\n",
    "\n",
    "relative_wealth_data = pd.read_csv('data/ind_pak_relative_wealth_index.csv')\n",
    "relative_wealth_data = gpd.GeoDataFrame(relative_wealth_data,                        #Converting fire points into dataframe\n",
    "                         geometry=gpd.points_from_xy(\n",
    "                             relative_wealth_data.longitude,\n",
    "                             relative_wealth_data.latitude),\n",
    "                         crs=4326)\n",
    "\n",
    "rwi_telangna = relative_wealth_data.clip(adm_name)                   #Clipping fire points with Telangana boundaries"
   ]
  },
  {
   "cell_type": "code",
   "execution_count": 26,
   "metadata": {},
   "outputs": [],
   "source": [
    "import rioxarray\n",
    "from affine import Affine\n",
    "\n",
    "df2 = rwi_telangna[['latitude','longitude']]                     #create a dataframe with lat lon values of rwi dataframe\n",
    "df2['rwi'] = list(rwi_telangna['rwi'])                           #add column of rwi values\n",
    "da = df2.set_index(['latitude', 'longitude']).to_xarray()        #convert new dataframe to xarray\n",
    "da = da.set_coords(['latitude', 'longitude'])                    #set lat and lon as coordinates\n",
    "\n",
    "da.fillna(-9999.0)                                               #fill None values\n",
    "da = da.rename({'longitude': 'x','latitude': 'y'})               # change lon lat to x  y for exporting xarray to tif\n",
    "\n",
    "new_tif_array = np.array(da['rwi'])\n",
    "new_tif_array = np.fliplr(np.flip(new_tif_array))\n",
    "#da['rwi'] = new_tif_array\n",
    "\n",
    "import rasterio\n",
    "da.rio.to_raster('result/RWI.tif', tiled=True)                                #dump xarray to \n",
    "\n",
    "crs = rasterio.crs.CRS({\"init\": \"epsg:4326\"})    # or whatever CRS you know the image is in    \n",
    "\n",
    "\n",
    "# flip to fix Affine in correct order otherwise zonal_stats gives error\n",
    "def flipud(raster, affine):\n",
    "    raster = np.flipud(raster)\n",
    "    affine = Affine(\n",
    "        affine.a,\n",
    "        affine.b,\n",
    "        affine.c,\n",
    "        affine.d,\n",
    "        -1 * affine.e,\n",
    "        affine.f + (affine.e * (raster.shape[0] - 1)),\n",
    "    )\n",
    "    return raster, affine\n",
    "\n",
    "with rasterio.open('result/RWI.tif', mode='r+') as src:     \n",
    "    #src.transform = transform\n",
    "    affine = src.transform\n",
    "    raster = src.read(1)\n",
    "\n",
    "    raster, affine = flipud(raster, affine)\n",
    "    \n",
    "    src.write(raster, 1)\n",
    "    src.transform = affine\n",
    "    src.crs = \"epsg:4326\"\n",
    "    src.close()\n"
   ]
  },
  {
   "cell_type": "code",
   "execution_count": 27,
   "metadata": {},
   "outputs": [],
   "source": []
  },
  {
   "cell_type": "code",
   "execution_count": 40,
   "metadata": {},
   "outputs": [],
   "source": [
    "def meanvalues(geojson, tif, variable_name):\n",
    "    \n",
    "    data = gpd.read_file(geojson)  #Mandal (an administrative boundary) Shapefile\n",
    "    #data = data.sort_values(by=['Mandal_Nam'])\n",
    "    data['index'] = data.index\n",
    "    \n",
    "    mean_list = []\n",
    "    for j in range(len(data)):                #iterating all rows of dataframe to get point info\n",
    "\n",
    "        stats = zonal_stats(data.iloc[j].geometry, tif, stats=\"*\", categorical=True)         #getting statistics from the raster point \n",
    "        i = stats[0]                                                                          #storing statsistical dictionary in a value\n",
    "        mean = i['median']\n",
    "        mean_list.append(mean)\n",
    "    \n",
    "    data[variable_name] = mean_list\n",
    "    return data"
   ]
  },
  {
   "cell_type": "code",
   "execution_count": 41,
   "metadata": {},
   "outputs": [],
   "source": [
    "mandal_geojson = \"../../../../src/data_preprocessing/base_geojson/TS_mandal_boundary.json\"\n",
    "dist_geojson = \"../../../../src/data_preprocessing/base_geojson/TS_district_boundary.json\"\n",
    "mandal_geojson = meanvalues(mandal_geojson, 'result/RWI.tif', 'rwi')\n",
    "mandal_geojson.to_file('result/RWI_mandal.json')\n",
    "dist_geojson = meanvalues(dist_geojson, 'result/RWI.tif', 'rwi')\n",
    "dist_geojson.to_file('result/RWI_district.json')"
   ]
  }
 ],
 "metadata": {
  "kernelspec": {
   "display_name": "Python 3 (ipykernel)",
   "language": "python",
   "name": "python3"
  },
  "language_info": {
   "codemirror_mode": {
    "name": "ipython",
    "version": 3
   },
   "file_extension": ".py",
   "mimetype": "text/x-python",
   "name": "python",
   "nbconvert_exporter": "python",
   "pygments_lexer": "ipython3",
   "version": "3.9.13"
  },
  "vscode": {
   "interpreter": {
    "hash": "916dbcbb3f70747c44a77c7bcd40155683ae19c65e1c03b4aa3499c5328201f1"
   }
  }
 },
 "nbformat": 4,
 "nbformat_minor": 4
}
