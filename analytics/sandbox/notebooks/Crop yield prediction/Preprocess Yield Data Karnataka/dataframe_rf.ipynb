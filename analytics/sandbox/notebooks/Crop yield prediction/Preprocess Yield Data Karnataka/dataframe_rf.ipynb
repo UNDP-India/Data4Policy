{
 "cells": [
  {
   "cell_type": "code",
   "execution_count": 1,
   "metadata": {},
   "outputs": [],
   "source": [
    "# Import packages\n",
    "import geopandas as gpd\n",
    "import numpy as np\n",
    "import pandas as pd\n",
    "import os\n",
    "import re\n",
    "from shapely.geometry import Polygon, MultiPolygon\n",
    "import rasterio\n",
    "import rasterstats"
   ]
  },
  {
   "cell_type": "code",
   "execution_count": 2,
   "metadata": {},
   "outputs": [],
   "source": [
    "# Import files related to crop yields and the crop boundaries\n",
    "geometries = gpd.read_file(r'C:\\Users\\mieke\\Documents\\Msc Thesis\\Datasets\\Yield Data\\Karnataka\\geometry.geojson') \n",
    "yields = gpd.read_file(r'C:\\Users\\mieke\\Documents\\Msc Thesis\\Datasets\\Yield Data\\Karnataka\\yields_geometry.geojson') "
   ]
  },
  {
   "cell_type": "code",
   "execution_count": 3,
   "metadata": {},
   "outputs": [],
   "source": [
    "# This cell adds the previous average yield for a particular insurance unit if available\n",
    "yields_extend = yields.copy()\n",
    "yields_extend['Previous Average Yield(Kg/Ha)'] =  np.nan\n",
    "\n",
    "for i in range(len(yields_extend)):\n",
    "    df_temp = yields_extend[(yields_extend['Year'] == yields_extend.loc[i, 'Year'] - 1) & (yields_extend['Insurance Unit'] == yields_extend.loc[i, 'Insurance Unit']) & (yields_extend['IRR_RF'] == yields_extend.loc[i, 'IRR_RF']) & (yields_extend['Gram Panchayat/Hobli'] == yields_extend.loc[i, 'Gram Panchayat/Hobli']) & (yields_extend['District'] == yields_extend.loc[i, 'District']) & (yields_extend['Taluk'] == yields_extend.loc[i, 'Taluk']) & (yields_extend['Crop'] == yields_extend.loc[i, 'Crop'])].copy()\n",
    "    if df_temp.empty == False:\n",
    "        df_temp = df_temp.reset_index()\n",
    "        yields_extend.loc[i, 'Previous Average Yield(Kg/Ha)'] = df_temp['Average Yield(Kg/Ha)'][0]"
   ]
  },
  {
   "cell_type": "code",
   "execution_count": 4,
   "metadata": {},
   "outputs": [
    {
     "name": "stderr",
     "output_type": "stream",
     "text": [
      "c:\\Users\\mieke\\anaconda3\\envs\\thesis_base\\lib\\site-packages\\geopandas\\io\\file.py:362: FutureWarning: pandas.Int64Index is deprecated and will be removed from pandas in a future version. Use pandas.Index with the appropriate dtype instead.\n",
      "  pd.Int64Index,\n"
     ]
    }
   ],
   "source": [
    "# Save the extended yields dataframe\n",
    "yields_extend.to_file(r'C:\\Users\\mieke\\Documents\\Msc Thesis\\Datasets\\Yield Data\\Karnataka\\yields_temp.geojson', driver=\"GeoJSON\") "
   ]
  },
  {
   "cell_type": "code",
   "execution_count": null,
   "metadata": {},
   "outputs": [],
   "source": [
    "# This cell calculates the zonal statistics for each of the parameter images\n",
    "geometries_adj = geometries.copy()\n",
    "periods = ['sow', 'harvest', 'between']\n",
    "path = 'C:/Users/mieke/Documents/Msc Thesis/random_forest/preprocess/'\n",
    "folder_names = os.listdir(path) # Contains all parameter names\n",
    "\n",
    "for i in folder_names:\n",
    "    file_names = os.listdir(path + i + '/sow_harvest') # Contains all files related to parameter i\n",
    "    \n",
    "    # The loop calculates the average parameter value for each village boundary. We loop over each image. \n",
    "    for j in file_names:\n",
    "        param = rasterio.open(path + i + '/sow_harvest/' + j, mode='r') \n",
    "        param_array = param.read(1)\n",
    "\n",
    "        if i == 'SSM':\n",
    "            zonal_param = rasterstats.zonal_stats(geometries_adj, param_array, affine = param.transform, stats = ['mean'], geojson_out = True, nodata = param.nodata, all_touched=True)\n",
    "        else:\n",
    "            zonal_param = rasterstats.zonal_stats(geometries_adj, param_array, affine = param.transform, stats = ['mean'], geojson_out = True, nodata = param.nodata)\n",
    "        \n",
    "        # The output is added to the geometries_adj dataframe as a column\n",
    "        geometries_adj[j[:-5]] = np.nan\n",
    "        for k in range(len(geometries_adj)):\n",
    "            geometries_adj.loc[k, j[:-5]] = zonal_param[k]['properties']['mean']\n",
    "            \n",
    "        # For Land Surface Temperature, we are also interested in the maximum value\n",
    "        if i == 'LST':\n",
    "            zonal_param = rasterstats.zonal_stats(geometries_adj, param_array, affine = param.transform, stats = ['max'], geojson_out = True, nodata = param.nodata)\n",
    "            # The output is added to the geometries_adj dataframe as a column\n",
    "            max_name = 'max_' + j[:-5]\n",
    "            geometries_adj[max_name] = np.nan\n",
    "            for k in range(len(geometries_adj)):\n",
    "                geometries_adj.loc[k, max_name] = zonal_param[k]['properties']['max']\n",
    "\n",
    "    # Print statements to check the progress         \n",
    "        print('File ' + str(file_names.index(j)) + ' done.')\n",
    "    print('Folder ' + i + ' done.') "
   ]
  },
  {
   "cell_type": "code",
   "execution_count": null,
   "metadata": {},
   "outputs": [],
   "source": [
    "# Save the extended yields dataframe\n",
    "geometries_adj.to_file(r'C:\\Users\\mieke\\Documents\\Msc Thesis\\Datasets\\Yield Data\\Karnataka\\geometries_adj.geojson', driver=\"GeoJSON\") "
   ]
  },
  {
   "cell_type": "code",
   "execution_count": null,
   "metadata": {},
   "outputs": [],
   "source": [
    "merge_temp_adj = yields_extend.merge(geometries_adj, on=['Insurance Unit', 'District', 'Gram Panchayat/Hobli', 'geometry'])"
   ]
  },
  {
   "cell_type": "code",
   "execution_count": null,
   "metadata": {},
   "outputs": [],
   "source": [
    "# This cell makes sure that we take the average parameter value for the correct year and season for each datapoint within the yield dataframe\n",
    "periods = ['sow', 'harvest', 'between']\n",
    "seasons = ['Kharif', 'Rabi', 'Summer']\n",
    "path = 'C:/Users/mieke/Documents/Msc Thesis/random_forest/preprocess/'\n",
    "folder_names = os.listdir(path) # Contains all parameter names\n",
    "\n",
    "for i in folder_names:\n",
    "    for p in periods:\n",
    "        col_name = i + '_' + p \n",
    "        merge_temp_adj[col_name] = np.nan # Create a column for each parameter within each period\n",
    "        \n",
    "        for s in seasons:\n",
    "            for year in range(2016,2019):\n",
    "                column = i + '_' + str(year) + '_' + s.lower() + '_' + p # column name corresponding to season and year of datapoint\n",
    "                merge_temp_adj.loc[(merge_temp_adj['Year'] == year) & (merge_temp_adj['Season'] == s), col_name] = merge_temp_adj[column]\n",
    "    \n",
    "        if i == 'LST':\n",
    "            col_name = 'max_' + i + '_' + p \n",
    "            merge_temp_adj[col_name] = np.nan # Create a column for each parameter within each period\n",
    "            for s in seasons:\n",
    "                for year in range(2016,2019):\n",
    "                    column = 'max_' + i + '_' + str(year) + '_' + s.lower() + '_' + p # column name corresponding to season and year of datapoint\n",
    "                    merge_temp_adj.loc[(merge_temp_adj['Year'] == year) & (merge_temp_adj['Season'] == s), col_name] = merge_temp_adj[column]"
   ]
  },
  {
   "cell_type": "code",
   "execution_count": null,
   "metadata": {},
   "outputs": [],
   "source": [
    "# Select the columns of interest to obtain the final geodataframe\n",
    "rf_geodataframe_adj = merge_temp_adj[['Year', 'Season', 'Insurance Unit', 'Gram Panchayat/Hobli', 'District', 'Taluk', 'Crop', 'IRR_RF', 'Average Yield(Kg/Ha)', 'Previous Average Yield(Kg/Ha)', 'LAI_sow', 'LAI_between', 'LAI_harvest', 'NDVI_sow', 'NDVI_between', 'NDVI_harvest', 'SSM_sow', 'SSM_between', 'SSM_harvest', 'LST_sow', 'LST_between', 'LST_harvest', 'max_LST_sow', 'max_LST_between', 'max_LST_harvest', 'geometry']].copy()"
   ]
  },
  {
   "cell_type": "code",
   "execution_count": null,
   "metadata": {},
   "outputs": [],
   "source": [
    "rf_geodataframe_adj.crs # This dataframe is already an geodataframe with crs 4326\n",
    "# Save the extended yields geodataframe ready to be used for the model\n",
    "rf_geodataframe_adj.to_file(r'C:\\Users\\mieke\\Documents\\Msc Thesis\\Datasets\\Yield Data\\Karnataka\\rf_geodataframe1.geojson', driver=\"GeoJSON\") "
   ]
  },
  {
   "cell_type": "code",
   "execution_count": 3,
   "metadata": {},
   "outputs": [],
   "source": [
    "# Example on how to open a file\n",
    "#yields_extend = gpd.read_file(r'C:\\Users\\mieke\\Documents\\Msc Thesis\\Datasets\\Yield Data\\Karnataka\\yields_temp.geojson') "
   ]
  }
 ],
 "metadata": {
  "kernelspec": {
   "display_name": "Python 3.10.4 ('thesis_base')",
   "language": "python",
   "name": "python3"
  },
  "language_info": {
   "codemirror_mode": {
    "name": "ipython",
    "version": 3
   },
   "file_extension": ".py",
   "mimetype": "text/x-python",
   "name": "python",
   "nbconvert_exporter": "python",
   "pygments_lexer": "ipython3",
   "version": "3.10.4"
  },
  "orig_nbformat": 4,
  "vscode": {
   "interpreter": {
    "hash": "734205a0c94b5e97d2e885f269ea6bd400da4ba9a6c87b08a93b97fdaab1acc8"
   }
  }
 },
 "nbformat": 4,
 "nbformat_minor": 2
}
