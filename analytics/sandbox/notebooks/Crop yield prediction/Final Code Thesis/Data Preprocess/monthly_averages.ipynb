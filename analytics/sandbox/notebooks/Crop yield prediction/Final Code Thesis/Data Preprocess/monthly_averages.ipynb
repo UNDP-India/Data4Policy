{
 "cells": [
  {
   "cell_type": "code",
   "execution_count": 2,
   "metadata": {},
   "outputs": [
    {
     "name": "stderr",
     "output_type": "stream",
     "text": [
      "c:\\Users\\mieke\\anaconda3\\envs\\thesis_base\\lib\\site-packages\\tqdm\\auto.py:22: TqdmWarning: IProgress not found. Please update jupyter and ipywidgets. See https://ipywidgets.readthedocs.io/en/stable/user_install.html\n",
      "  from .autonotebook import tqdm as notebook_tqdm\n"
     ]
    }
   ],
   "source": [
    "# Import packages\n",
    "import geopandas as gpd\n",
    "import numpy as np\n",
    "import pandas as pd\n",
    "import os\n",
    "import re\n",
    "from shapely.geometry import Polygon, MultiPolygon\n",
    "from fuzzywuzzy import process\n",
    "from fuzzywuzzy import fuzz\n",
    "from rasterstats import zonal_stats\n",
    "from osgeo import gdal\n",
    "import rasterio\n",
    "import rasterstats\n",
    "import time\n",
    "sys.path.append(os.path.abspath(\"D:/other_thesis/clean_sheet/codes/functions\"))\n",
    "import functions_model #import python file containing the functions"
   ]
  },
  {
   "cell_type": "code",
   "execution_count": 2,
   "metadata": {},
   "outputs": [
    {
     "data": {
      "text/plain": [
       "<module 'functions_model' from 'D:\\\\other_thesis\\\\clean_sheet\\\\codes\\\\functions\\\\functions_model.py'>"
      ]
     },
     "execution_count": 2,
     "metadata": {},
     "output_type": "execute_result"
    }
   ],
   "source": [
    "# For updates\n",
    "import importlib\n",
    "importlib.reload(functions_model)"
   ]
  },
  {
   "cell_type": "code",
   "execution_count": 3,
   "metadata": {},
   "outputs": [],
   "source": [
    "# This cell creates monthly averages for each parameter of interest and stores them in folder init_path\n",
    "beginyear = 2016\n",
    "endyear = 2019\n",
    "paths = ['D:/other_thesis/clean_sheet/Data/NDVI/img_rescaled/', 'D:/other_thesis/clean_sheet/Data/EVI/img_rescaled/', 'D:/other_thesis/clean_sheet/Data/FAPAR/img_rescaled/', 'D:/other_thesis/clean_sheet/Data/LAI/img_rescaled/', 'D:/other_thesis/clean_sheet/Data/SIF/img_rescaled/', 'D:/other_thesis/clean_sheet/Data/SSM/img_rescaled/', 'D:/other_thesis/clean_sheet/Data/SUSM/img_rescaled/', 'D:/other_thesis/clean_sheet/Data/LSTd/img_rescaled/', 'D:/other_thesis/clean_sheet/Data/LSTn/img_rescaled/', 'D:/other_thesis/clean_sheet/Data/PCPN/img_rescaled/']\n",
    "init_path = 'D:/other_thesis/clean_sheet/Data/monthly_images2/'\n",
    "parameters = ['NDVI', 'EVI', 'FAPAR', 'LAI', 'SIF', 'SSM', 'SUSM', 'LSTd', 'LSTn', 'PCPN']\n",
    "for i in range(len(parameters)):\n",
    "    dest_path = init_path + parameters[i] + '/'\n",
    "    functions_model.monthly_averages(paths[i], dest_path, beginyear, endyear)"
   ]
  },
  {
   "cell_type": "code",
   "execution_count": 4,
   "metadata": {},
   "outputs": [],
   "source": [
    "# # This cell creates monthly averages for each parameter of interest and stores them in folder init_path\n",
    "# beginyear = 2016\n",
    "# endyear = 2019\n",
    "# paths = ['D:/Data_download/GEE/NDVI/Karnataka/paddymask/', 'D:/Data_download/GEE/EVI/Karnataka/paddymask/', 'D:/Data_download/Copernicus/FAPAR/Karnataka/paddymask/', 'D:/Data_download/Copernicus/LAI/Karnataka/paddymask/', 'D:/Data_download/Other/SIF/Karnataka/paddymask/', 'D:/Data_download/GEE/SSM/Karnataka/paddymask/', 'D:/Data_download/GEE/SUSM/Karnataka/paddymask/', 'D:/Data_download/GEE/LST_day/Karnataka/paddymask/', 'D:/Data_download/GEE/LST_night/Karnataka/paddymask/', 'D:/Data_download/GEE/Precipitation/Karnataka/paddymask/']\n",
    "# init_path = 'D:/monthly_images/paddy/'\n",
    "# parameters = ['NDVI', 'EVI', 'FAPAR', 'LAI', 'SIF', 'SSM', 'SUSM', 'LST_day', 'LST_night', 'Precipitation']\n",
    "# for i in range(len(parameters)):\n",
    "#     dest_path = init_path + parameters[i] + '/'\n",
    "#     functions_model.monthly_averages(paths[i], dest_path, beginyear, endyear)"
   ]
  },
  {
   "cell_type": "code",
   "execution_count": 5,
   "metadata": {},
   "outputs": [],
   "source": [
    "# # This cell creates monthly averages for each parameter of interest and stores them in folder init_path\n",
    "# beginyear = 2016\n",
    "# endyear = 2019\n",
    "# paths = ['D:/Data_download/GEE/NDVI/Karnataka/cropmask/', 'D:/Data_download/GEE/EVI/Karnataka/cropmask/', 'D:/Data_download/Copernicus/FAPAR/Karnataka/cropmask/', 'D:/Data_download/Copernicus/LAI/Karnataka/cropmask/', 'D:/Data_download/Other/SIF/Karnataka/cropmask/', 'D:/Data_download/GEE/SSM/Karnataka/cropmask/', 'D:/Data_download/GEE/SUSM/Karnataka/cropmask/', 'D:/Data_download/GEE/LST/Karnataka/cropmask/', 'D:/Data_download/GEE/LSTN/Karnataka/cropmask/', 'D:/Data_download/GEE/Precipitation/Karnataka/cropmask/']\n",
    "# init_path = 'D:/monthly_images/crop/'\n",
    "# parameters = ['NDVI', 'EVI', 'FAPAR', 'LAI', 'SIF', 'SSM', 'SUSM', 'LST_day', 'LST_night', 'Precipitation']\n",
    "# for i in range(len(parameters)):\n",
    "#     dest_path = init_path + parameters[i] + '/'\n",
    "#     functions_model.monthly_averages(paths[i], dest_path, beginyear, endyear)"
   ]
  }
 ],
 "metadata": {
  "kernelspec": {
   "display_name": "Python 3.10.4 ('thesis_base')",
   "language": "python",
   "name": "python3"
  },
  "language_info": {
   "codemirror_mode": {
    "name": "ipython",
    "version": 3
   },
   "file_extension": ".py",
   "mimetype": "text/x-python",
   "name": "python",
   "nbconvert_exporter": "python",
   "pygments_lexer": "ipython3",
   "version": "3.10.4"
  },
  "orig_nbformat": 4,
  "vscode": {
   "interpreter": {
    "hash": "734205a0c94b5e97d2e885f269ea6bd400da4ba9a6c87b08a93b97fdaab1acc8"
   }
  }
 },
 "nbformat": 4,
 "nbformat_minor": 2
}
