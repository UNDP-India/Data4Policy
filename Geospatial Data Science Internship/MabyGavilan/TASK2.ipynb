{
 "cells": [
  {
   "cell_type": "code",
   "execution_count": 4,
   "metadata": {},
   "outputs": [],
   "source": [
    "import pandas as pd\n",
    "import geopandas as gpd\n",
    "import numpy as np\n",
    "import matplotlib.pyplot as plt\n",
    "import geemap\n",
    "import ee"
   ]
  },
  {
   "cell_type": "code",
   "execution_count": null,
   "metadata": {},
   "outputs": [],
   "source": [
    "ee.Initialize()\n",
    "# ! earthengine authenticate"
   ]
  },
  {
   "cell_type": "code",
   "execution_count": null,
   "metadata": {},
   "outputs": [],
   "source": [
    "datasets = \"/home/sherwood/learning/Data4Policy/Geospatial Data Science Internship/Datasets/\"\n",
    "\n",
    "\n",
    "telangana_fires = gpd.read_file(datasets + 'telangana_fires.csv')\n",
    "\n",
    "telangana_fires = gpd.GeoDataFrame(telangana_fires,\n",
    "                                   geometry = gpd.points_from_xy(\n",
    "                                       telangana_fires.longitude,\n",
    "                                       telangana_fires.latitude),\n",
    "                                    crs = 'EPSG:4326'\n",
    "                                   )\n",
    "\n",
    "telangana_fires"
   ]
  },
  {
   "cell_type": "code",
   "execution_count": 31,
   "metadata": {},
   "outputs": [],
   "source": [
    "# Defining the map\n",
    "Map = geemap.Map()\n",
    "# Map"
   ]
  },
  {
   "cell_type": "code",
   "execution_count": null,
   "metadata": {},
   "outputs": [],
   "source": [
    "# Getting the path from the Telengana shapefile from GADM\n",
    "telangana_path = '/mnt/c/Users/amoam/Downloads/gadm40_IND_shp/telangana_shape.shp'\n",
    "telangana_shp = geemap.shp_to_ee(telangana_path)\n",
    "center = telangana_shp.centroid().getInfo()['coordinates']\n",
    "center.reverse()"
   ]
  },
  {
   "cell_type": "code",
   "execution_count": null,
   "metadata": {},
   "outputs": [],
   "source": [
    "# ee.Geometry accepts Geojson\n",
    "geometry = ee.Geometry.Polygon('/mnt/c/Users/amoam/Downloads/telangana_shapefile.geojson')\n",
    "# no funka"
   ]
  },
  {
   "cell_type": "code",
   "execution_count": 28,
   "metadata": {},
   "outputs": [],
   "source": [
    "esri_lulc10 = ee.ImageCollection(\"projects/sat-io/open-datasets/landcover/ESRI_Global-LULC_10m\")\\\n",
    "                            .map( lambda image: image.clip(telangana_shp))\n",
    "                    "
   ]
  },
  {
   "cell_type": "code",
   "execution_count": 52,
   "metadata": {},
   "outputs": [],
   "source": [
    "# Export the image, specifying scale and region.\n",
    "task = ee.batch.Export.image.toDrive(**{\n",
    "    'image': esri_lulc10,\n",
    "    'description': 'imageToDriveExample',\n",
    "    'folder':'Example_folder',\n",
    "    'region': telangana_shp\n",
    "})\n",
    "task.start()"
   ]
  },
  {
   "cell_type": "code",
   "execution_count": 53,
   "metadata": {},
   "outputs": [
    {
     "name": "stdout",
     "output_type": "stream",
     "text": [
      "Polling for task (id: FQC37447QNH5AZIJCLSMKRVB).\n",
      "Polling for task (id: FQC37447QNH5AZIJCLSMKRVB).\n",
      "Polling for task (id: FQC37447QNH5AZIJCLSMKRVB).\n",
      "Polling for task (id: FQC37447QNH5AZIJCLSMKRVB).\n",
      "Polling for task (id: FQC37447QNH5AZIJCLSMKRVB).\n",
      "Polling for task (id: FQC37447QNH5AZIJCLSMKRVB).\n",
      "Polling for task (id: FQC37447QNH5AZIJCLSMKRVB).\n",
      "Polling for task (id: FQC37447QNH5AZIJCLSMKRVB).\n",
      "Polling for task (id: FQC37447QNH5AZIJCLSMKRVB).\n",
      "Polling for task (id: FQC37447QNH5AZIJCLSMKRVB).\n"
     ]
    }
   ],
   "source": [
    "import time \n",
    "while task.active():\n",
    "  print('Polling for task (id: {}).'.format(task.id))\n",
    "  time.sleep(5)"
   ]
  },
  {
   "cell_type": "code",
   "execution_count": 41,
   "metadata": {},
   "outputs": [],
   "source": [
    "image_viz_params = {\n",
    "    \"names\": [\n",
    "        \"Water\",\n",
    "        \"Trees\",\n",
    "        \"Grass\",\n",
    "        \"Flooded Vegetation\",\n",
    "        \"Crops\",\n",
    "        \"Scrub/Shrub\",\n",
    "        \"Built Area\",\n",
    "        \"Bare Ground\",\n",
    "        \"Snow/Ice\",\n",
    "        \"Clouds\"\n",
    "    ],\n",
    "    \"colors\": [\n",
    "        \"#1A5BAB\",\n",
    "        \"#358221\",\n",
    "        \"#A7D282\",\n",
    "        \"#87D19E\",\n",
    "        \"#FFDB5C\",\n",
    "        \"#EECFA8\",\n",
    "        \"#ED022A\",\n",
    "        \"#EDE9E4\",\n",
    "        \"#F2FAFF\",\n",
    "        \"#C8C8C8\"\n",
    "    ]\n",
    "}\n"
   ]
  },
  {
   "cell_type": "code",
   "execution_count": 42,
   "metadata": {},
   "outputs": [
    {
     "data": {
      "application/vnd.jupyter.widget-view+json": {
       "model_id": "f99ff3312bd04cf799b46ed1000556a8",
       "version_major": 2,
       "version_minor": 0
      },
      "text/plain": [
       "Map(bottom=15038.0, center=[17.792484085556335, 79.05826443037053], controls=(WidgetControl(options=['position…"
      ]
     },
     "metadata": {},
     "output_type": "display_data"
    }
   ],
   "source": [
    "Map.addLayer(telangana_shp, {}, \"Telangana\")\n",
    "Map.addLayer(esri_lulc10, { 'min':1, 'max':10, 'palette':image_viz_params['colors'] }, \"ESRI-LULC-MAP\")\n",
    "Map.centerObject(telangana_shp, 7)\n",
    "Map"
   ]
  },
  {
   "cell_type": "markdown",
   "metadata": {},
   "source": [
    "## Visualization"
   ]
  },
  {
   "cell_type": "code",
   "execution_count": null,
   "metadata": {},
   "outputs": [],
   "source": [
    "Map = geemap.Map(center=[17.123184, 79.208824], zoom=7)\n",
    "Map"
   ]
  },
  {
   "cell_type": "code",
   "execution_count": null,
   "metadata": {},
   "outputs": [],
   "source": [
    "file_path= os.path.abspath('telangana_shapefile.geojson')\n",
    "\n",
    "with open(file_path) as f:\n",
    "    json_data = json.load(f)\n",
    "\n"
   ]
  },
  {
   "cell_type": "code",
   "execution_count": null,
   "metadata": {},
   "outputs": [],
   "source": [
    "json_layer = GeoJSON(\n",
    "    data=json_data,\n",
    "    name='Telangana',\n",
    "    hover_style={'fillColor':'blue','fillOpacity':0.4},\n",
    ")\n",
    "\n",
    "Map.add_layer(json_layer)\n",
    "\n",
    "\n",
    "ee_data = geojson_to_ee(json_data)\n",
    "Map.addLayer(ee_data,{})\n",
    "\n",
    "\n",
    "js_data_2 = ee_to_geojson(ee_data)\n",
    "js_layer_2 = GeoJSON(\n",
    "    data = js_data_2,\n",
    "    name = 'Telengana EE JSON',\n",
    "    hover_style = {'fillColor':'red','fillOpacity':0.5},\n",
    ")\n",
    "Map.add_layer(js_layer_2)"
   ]
  },
  {
   "cell_type": "code",
   "execution_count": null,
   "metadata": {},
   "outputs": [],
   "source": [
    "esri_lulc10 = ee.ImageCollection(\"projects/sat-io/open-datasets/landcover/ESRI_Global-LULC_10m\")#\\\n",
    "                            #.map( lambda image: image.clip(js_layer_2))\n",
    "\n",
    "# Define a dictionary which will be used to make visualize image on map\n",
    "dict = {\n",
    "  \"names\": [\n",
    "    \"Water\",\n",
    "    \"Trees\",\n",
    "    \"Grass\",\n",
    "    \"Flooded Vegetation\",\n",
    "    \"Crops\",\n",
    "    \"Scrub/Shrub\",\n",
    "    \"Built Area\",\n",
    "    \"Bare Ground\",\n",
    "    \"Snow/Ice\",\n",
    "    \"Clouds\"\n",
    "  ],\n",
    "  \"colors\": [\n",
    "    \"#1A5BAB\",\n",
    "    \"#358221\",\n",
    "    \"#A7D282\",\n",
    "    \"#87D19E\",\n",
    "    \"#FFDB5C\",\n",
    "    \"#EECFA8\",\n",
    "    \"#ED022A\",\n",
    "    \"#EDE9E4\",\n",
    "    \"#F2FAFF\",\n",
    "    \"#C8C8C8\"\n",
    "  ]}\n",
    "\n",
    "\n",
    "Map.addLayer(esri_lulc10.mosaic(), {min:1, max:10, palette:dict['colors']})"
   ]
  }
 ],
 "metadata": {
  "interpreter": {
   "hash": "496c7a843d78fd649c322299191632b00098973ae5c65093b4c005b1ef3478f9"
  },
  "kernelspec": {
   "display_name": "Python 3.8.12 ('geopy')",
   "language": "python",
   "name": "python3"
  },
  "language_info": {
   "codemirror_mode": {
    "name": "ipython",
    "version": 3
   },
   "file_extension": ".py",
   "mimetype": "text/x-python",
   "name": "python",
   "nbconvert_exporter": "python",
   "pygments_lexer": "ipython3",
   "version": "3.10.2"
  },
  "orig_nbformat": 4
 },
 "nbformat": 4,
 "nbformat_minor": 2
}
